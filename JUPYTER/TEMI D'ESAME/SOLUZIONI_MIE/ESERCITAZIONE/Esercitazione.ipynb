{
 "cells": [
  {
   "cell_type": "markdown",
   "id": "9ce2669a-8ba8-414b-8874-5ab6ae8cdafa",
   "metadata": {},
   "source": [
    "# ESERCIZIO 1"
   ]
  },
  {
   "cell_type": "markdown",
   "id": "892659cd-a3da-46e3-a3b0-539794f20498",
   "metadata": {},
   "source": [
    "## PUNTO 1\n",
    "Sia X una variabile aleatoria di Poisson, e sia λ il numero medio di eventi che accadono in un intervallo di ampiezza prefissata."
   ]
  },
  {
   "cell_type": "markdown",
   "id": "959f1403-cded-4642-8cc0-acea23a49829",
   "metadata": {},
   "source": [
    "1) Quanti valori può assumere X?\n",
    "  - Tutti i valori di N compreso lo zero\n",
    "  - Funzione FMDP della VA poissoniana\n",
    "  - E(X)= λ\n",
    "  - Var(X)= λ"
   ]
  },
  {
   "cell_type": "markdown",
   "id": "d7dbdd17-493f-4f23-9a4b-8864bf8d26d8",
   "metadata": {},
   "source": [
    "## PUNTO 2"
   ]
  },
  {
   "cell_type": "markdown",
   "id": "535777f2-a6a7-4ec4-b769-0826fd399185",
   "metadata": {},
   "source": [
    "Fissiamo  λ = 5 e definiamo:"
   ]
  },
  {
   "cell_type": "markdown",
   "id": "fa54e63e-aaaf-486c-8174-01d5bbf60099",
   "metadata": {},
   "source": [
    "1) il grafico di FMDP"
   ]
  },
  {
   "cell_type": "code",
   "execution_count": 1,
   "id": "b1b3099f-7007-4745-aff2-2ae61ab7ee80",
   "metadata": {},
   "outputs": [
    {
     "data": {
      "image/png": "[encoded data removed]",
      "text/plain": [
       "<Figure size 640x480 with 1 Axes>"
      ]
     },
     "metadata": {},
     "output_type": "display_data"
    }
   ],
   "source": [
    "import numpy as np\n",
    "import scipy.stats as sp\n",
    "import matplotlib.pyplot as plt\n",
    "\n",
    "p = sp.poisson(5)\n",
    "x = np.arange(0, 14+ 1, 1)\n",
    "plt.xticks(x)\n",
    "plt.vlines(x,0,p.pmf(x),linestyle='dashed')\n",
    "plt.plot(x, p.pmf(x), 'o')\n",
    "plt.show()"
   ]
  },
  {
   "cell_type": "markdown",
   "id": "07ce12d2-7d62-43e8-94f5-c65b1e699067",
   "metadata": {},
   "source": [
    "2) probabilita' che X sia maggiore di 6."
   ]
  },
  {
   "cell_type": "code",
   "execution_count": 2,
   "id": "310fe581-e384-4767-af49-8848a3d48fcf",
   "metadata": {},
   "outputs": [
    {
     "data": {
      "text/plain": [
       "0.23781653702706118"
      ]
     },
     "execution_count": 2,
     "metadata": {},
     "output_type": "execute_result"
    }
   ],
   "source": [
    "import math as m\n",
    "def PFR(l,x):\n",
    "    res=0.0\n",
    "    for i in range (x+1):\n",
    "        res+=((m.pow(l,i)*m.pow((m.e),(-1*l)))/(m.factorial(i)))\n",
    "    return res\n",
    "\n",
    "1-PFR(5,6)"
   ]
  },
  {
   "cell_type": "markdown",
   "id": "2bdfea44-cc37-4d4b-bed6-9aabff4cc694",
   "metadata": {},
   "source": [
    "3. Trovare X minima tale che PFR(l,X) sia >= 0.8"
   ]
  },
  {
   "cell_type": "code",
   "execution_count": 3,
   "id": "76abccfd-aeac-43be-96c7-5554e2bbb6ba",
   "metadata": {},
   "outputs": [
    {
     "name": "stdout",
     "output_type": "stream",
     "text": [
      "7\n"
     ]
    }
   ],
   "source": [
    "l=5\n",
    "x=0\n",
    "while PFR(l,x)<0.8:\n",
    "    x+=1\n",
    "print(x)"
   ]
  },
  {
   "cell_type": "markdown",
   "id": "9b256d63-3086-469b-bb24-dea3402fc8c2",
   "metadata": {},
   "source": [
    "## PUNTO 3"
   ]
  },
  {
   "cell_type": "markdown",
   "id": "d1698a15-476b-4786-b2ce-c997e290df34",
   "metadata": {},
   "source": [
    "Avendo la Variabile Aleatoria X e avendo la variabile aleatoria Y = aX + B ho una trasformazione affine.\n",
    "il valore atteso con le trasformazioni equivale al valore atteso trasformato coerentemente con la trasformazione.\n",
    "la varianza equivale al valore di a^2 * Var(X). Quindi:\n",
    "\n",
    "- E(X) = Lambda * A + B\n",
    "- Var(X) = A^2*Lambda"
   ]
  },
  {
   "cell_type": "markdown",
   "id": "7fd57d57-00f1-4305-855b-db4a2504cb32",
   "metadata": {},
   "source": [
    "# ESERCIZIO 2"
   ]
  },
  {
   "cell_type": "markdown",
   "id": "940c72f4-03dc-4077-8fe2-8905a86bd968",
   "metadata": {},
   "source": [
    "Un'azienda è proprietaria di alcune sorgenti di alta montagna. L'azienda ha da poco acquistato un dispositivo per il filtraggio dell'acqua, che filtra 5 litri di acqua per volta e, per ogni operazione, registra su un file alcune informazioni tra cui il nome della sorgente dalla quale è stata prelevata l'acqua, la durezza dell'acqua analizzata, il numero di particelle riscontrate di alcuni elementi (per esempio magnesio, sodio, oro, argento, ferro, piombo, iodio). Dalle prime prove di utilizzo si è notato con sorpresa che, nel file prodotto dal dispositivo, la colonna corrispondente all'oro non contiene sempre il valore zero, quindi nell'acqua si possono trovare tracce di oro."
   ]
  },
  {
   "cell_type": "code",
   "execution_count": 4,
   "id": "343e6b67-c3b4-46be-a38a-092866cd7d90",
   "metadata": {},
   "outputs": [
    {
     "data": {
      "text/html": [
       "<div>\n",
       "<style scoped>\n",
       "    .dataframe tbody tr th:only-of-type {\n",
       "        vertical-align: middle;\n",
       "    }\n",
       "\n",
       "    .dataframe tbody tr th {\n",
       "        vertical-align: top;\n",
       "    }\n",
       "\n",
       "    .dataframe thead th {\n",
       "        text-align: right;\n",
       "    }\n",
       "</style>\n",
       "<table border=\"1\" class=\"dataframe\">\n",
       "  <thead>\n",
       "    <tr style=\"text-align: right;\">\n",
       "      <th></th>\n",
       "      <th>NomeSorgente</th>\n",
       "      <th>Oro</th>\n",
       "      <th>DurezzaAcqua</th>\n",
       "    </tr>\n",
       "  </thead>\n",
       "  <tbody>\n",
       "    <tr>\n",
       "      <th>0</th>\n",
       "      <td>Sorgente1</td>\n",
       "      <td>0</td>\n",
       "      <td>21.201381</td>\n",
       "    </tr>\n",
       "    <tr>\n",
       "      <th>1</th>\n",
       "      <td>Sorgente1</td>\n",
       "      <td>0</td>\n",
       "      <td>25.294662</td>\n",
       "    </tr>\n",
       "    <tr>\n",
       "      <th>2</th>\n",
       "      <td>Sorgente1</td>\n",
       "      <td>4</td>\n",
       "      <td>12.435279</td>\n",
       "    </tr>\n",
       "    <tr>\n",
       "      <th>3</th>\n",
       "      <td>Sorgente1</td>\n",
       "      <td>3</td>\n",
       "      <td>16.146828</td>\n",
       "    </tr>\n",
       "    <tr>\n",
       "      <th>4</th>\n",
       "      <td>Sorgente1</td>\n",
       "      <td>0</td>\n",
       "      <td>21.091517</td>\n",
       "    </tr>\n",
       "    <tr>\n",
       "      <th>...</th>\n",
       "      <td>...</td>\n",
       "      <td>...</td>\n",
       "      <td>...</td>\n",
       "    </tr>\n",
       "    <tr>\n",
       "      <th>1645</th>\n",
       "      <td>Sorgente5</td>\n",
       "      <td>4</td>\n",
       "      <td>5.601863</td>\n",
       "    </tr>\n",
       "    <tr>\n",
       "      <th>1646</th>\n",
       "      <td>Sorgente5</td>\n",
       "      <td>4</td>\n",
       "      <td>6.642368</td>\n",
       "    </tr>\n",
       "    <tr>\n",
       "      <th>1647</th>\n",
       "      <td>Sorgente5</td>\n",
       "      <td>6</td>\n",
       "      <td>3.134170</td>\n",
       "    </tr>\n",
       "    <tr>\n",
       "      <th>1648</th>\n",
       "      <td>Sorgente5</td>\n",
       "      <td>2</td>\n",
       "      <td>12.190175</td>\n",
       "    </tr>\n",
       "    <tr>\n",
       "      <th>1649</th>\n",
       "      <td>Sorgente5</td>\n",
       "      <td>5</td>\n",
       "      <td>7.275056</td>\n",
       "    </tr>\n",
       "  </tbody>\n",
       "</table>\n",
       "<p>1650 rows × 3 columns</p>\n",
       "</div>"
      ],
      "text/plain": [
       "     NomeSorgente  Oro  DurezzaAcqua\n",
       "0       Sorgente1    0     21.201381\n",
       "1       Sorgente1    0     25.294662\n",
       "2       Sorgente1    4     12.435279\n",
       "3       Sorgente1    3     16.146828\n",
       "4       Sorgente1    0     21.091517\n",
       "...           ...  ...           ...\n",
       "1645    Sorgente5    4      5.601863\n",
       "1646    Sorgente5    4      6.642368\n",
       "1647    Sorgente5    6      3.134170\n",
       "1648    Sorgente5    2     12.190175\n",
       "1649    Sorgente5    5      7.275056\n",
       "\n",
       "[1650 rows x 3 columns]"
      ]
     },
     "execution_count": 4,
     "metadata": {},
     "output_type": "execute_result"
    }
   ],
   "source": [
    "import pandas as pd\n",
    "df = pd.read_csv('./ComposizioneAcqua.csv',sep=',')\n",
    "df"
   ]
  },
  {
   "cell_type": "markdown",
   "id": "c250b9ae-4524-416d-9172-74275a2e656d",
   "metadata": {},
   "source": [
    "### Domanda 1\n",
    "Quanti casi sono presenti nel file?"
   ]
  },
  {
   "cell_type": "code",
   "execution_count": 5,
   "id": "29e5bb39-c7c6-40e0-8174-3024817ac782",
   "metadata": {},
   "outputs": [
    {
     "data": {
      "text/plain": [
       "1650"
      ]
     },
     "execution_count": 5,
     "metadata": {},
     "output_type": "execute_result"
    }
   ],
   "source": [
    "len(df)"
   ]
  },
  {
   "cell_type": "markdown",
   "id": "19533458-1bda-4107-8369-d539ddf634cb",
   "metadata": {},
   "source": [
    "### Domanda 2\n",
    "Quanti litri sono stati analizzati?"
   ]
  },
  {
   "cell_type": "code",
   "execution_count": 6,
   "id": "6822e3a3-7d89-4b2d-99bd-e003fd63e335",
   "metadata": {},
   "outputs": [
    {
     "data": {
      "text/plain": [
       "8250"
      ]
     },
     "execution_count": 6,
     "metadata": {},
     "output_type": "execute_result"
    }
   ],
   "source": [
    "len(df['Oro'])*5"
   ]
  },
  {
   "cell_type": "markdown",
   "id": "e94c848c-d7d6-49f7-8730-ad8014073442",
   "metadata": {},
   "source": [
    "### Domanda 3\n",
    "Quante sono le sorgenti dalle quali sono stati prelevati i campioni di acqua?"
   ]
  },
  {
   "cell_type": "code",
   "execution_count": 7,
   "id": "a5fb96d0-ff29-4a37-815b-702192202f02",
   "metadata": {},
   "outputs": [
    {
     "data": {
      "text/plain": [
       "5"
      ]
     },
     "execution_count": 7,
     "metadata": {},
     "output_type": "execute_result"
    }
   ],
   "source": [
    "#Con i SET\n",
    "len(set(df['NomeSorgente']))\n",
    "\n",
    "#Con Unique\n",
    "len(df['NomeSorgente'].unique())"
   ]
  },
  {
   "cell_type": "markdown",
   "id": "528e504d-6fc1-4d17-a2c8-8025539371ef",
   "metadata": {},
   "source": [
    "### Domanda 4\n",
    "Le diverse sorgenti sono rappresentate in modo uniforme nel dataset?"
   ]
  },
  {
   "cell_type": "code",
   "execution_count": 9,
   "id": "57ac5c40-5da0-40ca-a07b-e790fba9a217",
   "metadata": {},
   "outputs": [
    {
     "name": "stdout",
     "output_type": "stream",
     "text": [
      "Normalized GINI:  0.980257116620753\n",
      "Normalized ENTROPY:  0.3145005552445871\n"
     ]
    }
   ],
   "source": [
    "import math\n",
    "from scipy.stats import entropy\n",
    "\n",
    "def gini(series):\n",
    "    return 1-sum(series.value_counts(normalize=True).map(lambda f: math.pow(f,2)))\n",
    "\n",
    "def my_entropy(series):\n",
    "    return 0-sum(series.value_counts(normalize=True).map(lambda f: f*math.log(f,math.e)))\n",
    "\n",
    "def normalized_entropy(series):\n",
    "    leng=len(series.value_counts(normalize=True))\n",
    "    return my_entropy(series)*1/leng\n",
    "\n",
    "def normalized_gini(series):\n",
    "    leng=len(series.value_counts(normalize=True))\n",
    "    return gini(series)*leng/(leng-1)\n",
    " \n",
    "print(\"Normalized GINI: \",normalized_gini(df['NomeSorgente']))\n",
    "print(\"Normalized ENTROPY: \",normalized_entropy(df['NomeSorgente']))"
   ]
  },
  {
   "cell_type": "markdown",
   "id": "e689882d-1eac-4848-bcdd-09385388cce6",
   "metadata": {},
   "source": [
    "### Domanda 5 - 6\n",
    "Si calcoli la tabella delle frequenze delle particelle di oro su 5 litri di acqua.\n",
    "_Si tracci un grafico opportuno per la visualizzazione di tali frequenze._"
   ]
  },
  {
   "cell_type": "code",
   "execution_count": 10,
   "id": "a5dafc41-8b54-4fc4-9b9c-edb57c0d9e83",
   "metadata": {},
   "outputs": [
    {
     "data": {
      "text/html": [
       "<div>\n",
       "<style scoped>\n",
       "    .dataframe tbody tr th:only-of-type {\n",
       "        vertical-align: middle;\n",
       "    }\n",
       "\n",
       "    .dataframe tbody tr th {\n",
       "        vertical-align: top;\n",
       "    }\n",
       "\n",
       "    .dataframe thead th {\n",
       "        text-align: right;\n",
       "    }\n",
       "</style>\n",
       "<table border=\"1\" class=\"dataframe\">\n",
       "  <thead>\n",
       "    <tr style=\"text-align: right;\">\n",
       "      <th></th>\n",
       "      <th>FR</th>\n",
       "    </tr>\n",
       "    <tr>\n",
       "      <th>Oro</th>\n",
       "      <th></th>\n",
       "    </tr>\n",
       "  </thead>\n",
       "  <tbody>\n",
       "    <tr>\n",
       "      <th>0</th>\n",
       "      <td>0.276364</td>\n",
       "    </tr>\n",
       "    <tr>\n",
       "      <th>1</th>\n",
       "      <td>0.296364</td>\n",
       "    </tr>\n",
       "    <tr>\n",
       "      <th>2</th>\n",
       "      <td>0.198788</td>\n",
       "    </tr>\n",
       "    <tr>\n",
       "      <th>3</th>\n",
       "      <td>0.086667</td>\n",
       "    </tr>\n",
       "    <tr>\n",
       "      <th>4</th>\n",
       "      <td>0.048485</td>\n",
       "    </tr>\n",
       "    <tr>\n",
       "      <th>5</th>\n",
       "      <td>0.038182</td>\n",
       "    </tr>\n",
       "    <tr>\n",
       "      <th>6</th>\n",
       "      <td>0.029091</td>\n",
       "    </tr>\n",
       "    <tr>\n",
       "      <th>7</th>\n",
       "      <td>0.012121</td>\n",
       "    </tr>\n",
       "    <tr>\n",
       "      <th>8</th>\n",
       "      <td>0.007273</td>\n",
       "    </tr>\n",
       "    <tr>\n",
       "      <th>9</th>\n",
       "      <td>0.002424</td>\n",
       "    </tr>\n",
       "    <tr>\n",
       "      <th>10</th>\n",
       "      <td>0.002424</td>\n",
       "    </tr>\n",
       "    <tr>\n",
       "      <th>11</th>\n",
       "      <td>0.001818</td>\n",
       "    </tr>\n",
       "  </tbody>\n",
       "</table>\n",
       "</div>"
      ],
      "text/plain": [
       "           FR\n",
       "Oro          \n",
       "0    0.276364\n",
       "1    0.296364\n",
       "2    0.198788\n",
       "3    0.086667\n",
       "4    0.048485\n",
       "5    0.038182\n",
       "6    0.029091\n",
       "7    0.012121\n",
       "8    0.007273\n",
       "9    0.002424\n",
       "10   0.002424\n",
       "11   0.001818"
      ]
     },
     "execution_count": 10,
     "metadata": {},
     "output_type": "execute_result"
    }
   ],
   "source": [
    "ct_oro_rel = pd.crosstab(index=df['Oro'],columns=['FR'],colnames=[''],normalize=True)\n",
    "ct_oro_abs = pd.crosstab(index=df['Oro'],columns=['FR'],colnames=[''],normalize=False)\n",
    "ct_oro_rel"
   ]
  },
  {
   "cell_type": "code",
   "execution_count": 11,
   "id": "1b635ee5-a33c-4bbc-8518-0803225bcc7a",
   "metadata": {},
   "outputs": [
    {
     "data": {
      "image/png": "[encoded data removed]",
      "text/plain": [
       "<Figure size 640x480 with 1 Axes>"
      ]
     },
     "metadata": {},
     "output_type": "display_data"
    }
   ],
   "source": [
    "ct_oro_rel.plot.bar()\n",
    "plt.show()"
   ]
  },
  {
   "cell_type": "code",
   "execution_count": 12,
   "id": "c54348de-e55f-4358-8889-1608663c89e8",
   "metadata": {},
   "outputs": [
    {
     "data": {
      "image/png": "[encoded data removed]",
      "text/plain": [
       "<Figure size 640x480 with 1 Axes>"
      ]
     },
     "metadata": {},
     "output_type": "display_data"
    }
   ],
   "source": [
    "x = np.arange(0, max(ct_oro_rel.index) + 1, 1)\n",
    "plt.vlines(ct_oro_rel.index,0,ct_oro_rel.values)\n",
    "plt.plot(ct_oro_rel.index,ct_oro_rel.values,'x')\n",
    "plt.xticks(x)\n",
    "plt.show()"
   ]
  },
  {
   "cell_type": "markdown",
   "id": "1ff5ced1-328e-413b-88da-c1ad9302bf59",
   "metadata": {},
   "source": [
    "### Domanda 7\n",
    "_La distribuzione delle frequenze osservata è compatibile con un modello di Poisson?_"
   ]
  },
  {
   "cell_type": "code",
   "execution_count": 13,
   "id": "58d88e2f-6f52-401e-a6ce-3ff21fcd540d",
   "metadata": {},
   "outputs": [
    {
     "data": {
      "text/plain": [
       "1.7224242424242424"
      ]
     },
     "execution_count": 13,
     "metadata": {},
     "output_type": "execute_result"
    }
   ],
   "source": [
    "df['Oro'].mean()"
   ]
  },
  {
   "cell_type": "code",
   "execution_count": 14,
   "id": "9f3e6b36-6b46-40b4-a246-dea42dfc4523",
   "metadata": {},
   "outputs": [
    {
     "data": {
      "text/plain": [
       "3.4025896319164968"
      ]
     },
     "execution_count": 14,
     "metadata": {},
     "output_type": "execute_result"
    }
   ],
   "source": [
    "df['Oro'].var()"
   ]
  },
  {
   "cell_type": "markdown",
   "id": "5f35b1bd-e296-43a7-97e1-5778ff29de1c",
   "metadata": {},
   "source": [
    "Nel modello di Poisson abbiamo che Valore atteso e varianza sono uguali.  Nonostante il grafico ricordi una distribuzione di Poisson, il fatto che questi due dati siano diversi sono un indicatore che probabilmente non si tratta di tale distribuzione."
   ]
  },
  {
   "cell_type": "markdown",
   "id": "a56ba12e-a0a0-463a-af9f-414484f1e8d4",
   "metadata": {},
   "source": [
    "### Domanda 8\n",
    "_Si stimi il numero atteso di particelle di oro riscontrate in 5 litri di acqua._"
   ]
  },
  {
   "cell_type": "markdown",
   "id": "c0e73979-6fa7-435a-9dae-a80caf40f7b2",
   "metadata": {},
   "source": [
    "Considerando che E(X) = media ponderata delle frequenze. Possiamo definire che il valore atteso in questo caso è uguale a 1.72. Nel caso fossimo davanti ad una poissoniana questo valore corrisponderebbe anche al parametro lambda."
   ]
  },
  {
   "cell_type": "markdown",
   "id": "5a334607-4d54-422e-a72a-36e1bdde4e09",
   "metadata": {},
   "source": [
    "# Esercizio 3"
   ]
  },
  {
   "cell_type": "markdown",
   "id": "8db40de9-d2d5-45d0-a08d-9c61fadd531a",
   "metadata": {},
   "source": [
    "### Domanda 1"
   ]
  },
  {
   "cell_type": "markdown",
   "id": "87ae7f27-4f69-4e32-943b-6cf78672f2f0",
   "metadata": {},
   "source": [
    "Si tracci un grafico opportuno per visualizzare la distribuzione della durezza dell'acqua."
   ]
  },
  {
   "cell_type": "code",
   "execution_count": 25,
   "id": "1714e57f-406b-436a-ad8d-60845b43d6e5",
   "metadata": {},
   "outputs": [
    {
     "data": {
      "image/png": "[encoded data removed]",
      "text/plain": [
       "<Figure size 640x480 with 1 Axes>"
      ]
     },
     "metadata": {},
     "output_type": "display_data"
    }
   ],
   "source": [
    "ct_acqua = pd.crosstab(index=df['DurezzaAcqua'],columns='FR',colnames=[''],normalize=False)\n",
    "df['DurezzaAcqua'].plot.hist()\n",
    "plt.show()"
   ]
  },
  {
   "cell_type": "markdown",
   "id": "56e8a593-6e1c-4628-9566-d172dc036dc0",
   "metadata": {},
   "source": [
    "### Domanda 4"
   ]
  }
 ],
 "metadata": {
  "kernelspec": {
   "display_name": "Python 3 (ipykernel)",
   "language": "python",
   "name": "python3"
  },
  "language_info": {
   "codemirror_mode": {
    "name": "ipython",
    "version": 3
   },
   "file_extension": ".py",
   "mimetype": "text/x-python",
   "name": "python",
   "nbconvert_exporter": "python",
   "pygments_lexer": "ipython3",
   "version": "3.12.3"
  }
 },
 "nbformat": 4,
 "nbformat_minor": 5
}
