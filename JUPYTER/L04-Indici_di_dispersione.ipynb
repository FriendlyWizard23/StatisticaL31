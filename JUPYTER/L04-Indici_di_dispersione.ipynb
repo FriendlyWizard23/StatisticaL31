{
 "cells": [
  {
   "cell_type": "markdown",
   "metadata": {
    "toc": true
   },
   "source": [
    "<h1>Table of Contents<span class=\"tocSkip\"></span></h1>\n",
    "<div class=\"toc\"><ul class=\"toc-item\"><li><span><a href=\"#Calcolo-della-dispersione-in-pandas\" data-toc-modified-id=\"Calcolo-della-dispersione-in-pandas-1\"><span class=\"toc-item-num\">1&nbsp;&nbsp;</span>Calcolo della dispersione in pandas</a></span><ul class=\"toc-item\"><li><span><a href=\"#Indici-di-dispersione\" data-toc-modified-id=\"Indici-di-dispersione-1.1\"><span class=\"toc-item-num\">1.1&nbsp;&nbsp;</span>Indici di dispersione</a></span></li><li><span><a href=\"#Box-plot\" data-toc-modified-id=\"Box-plot-1.2\"><span class=\"toc-item-num\">1.2&nbsp;&nbsp;</span>Box plot</a></span></li><li><span><a href=\"#Diagrammi-Q-Q\" data-toc-modified-id=\"Diagrammi-Q-Q-1.3\"><span class=\"toc-item-num\">1.3&nbsp;&nbsp;</span>Diagrammi Q-Q</a></span></li><li><span><a href=\"#Simmetria,-distribuzioni-approssimativamente-normali-e-regola-empirica\" data-toc-modified-id=\"Simmetria,-distribuzioni-approssimativamente-normali-e-regola-empirica-1.4\"><span class=\"toc-item-num\">1.4&nbsp;&nbsp;</span>Simmetria, distribuzioni approssimativamente normali e regola empirica</a></span></li><li><span><a href=\"#Una-nota-sulla-produzione-dei-grafici-*\" data-toc-modified-id=\"Una-nota-sulla-produzione-dei-grafici-*-1.5\"><span class=\"toc-item-num\">1.5&nbsp;&nbsp;</span>Una nota sulla produzione dei grafici <sup>*</sup></a></span></li></ul></li></ul></div>"
   ]
  },
  {
   "cell_type": "markdown",
   "metadata": {
    "header": true
   },
   "source": [
    "<div class=\"header\">\n",
    "D. Malchiodi, Superhero data science. Vol 1: probabilità e statistica: Indici di dispersione.\n",
    "</div>\n",
    "<hr style=\"width: 90%;\" align=\"left\" />"
   ]
  },
  {
   "cell_type": "markdown",
   "metadata": {},
   "source": [
    "<div id=\"h-0\"></div>\n",
    "\n",
    "# Calcolo della dispersione in pandas\n",
    "\n",
    "<div id=\"h-1\"></div>\n",
    "\n",
    "## Indici di dispersione\n",
    "\n",
    "Gli oggetti di tipo serie messi a disposizione da pandas permettono di calcolare facilmente i principali indici di dispersione. Importiamo, come al solito, il nostro dataset e impostiamo lo stile per i grafici."
   ]
  },
  {
   "cell_type": "code",
   "execution_count": 1,
   "metadata": {},
   "outputs": [],
   "source": [
    "import numpy as np\n",
    "import pandas as pd\n",
    "import matplotlib.pyplot as plt\n",
    "from scipy.constants import golden\n",
    "\n",
    "plt.style.use('fivethirtyeight')\n",
    "plt.rc('figure', figsize=(5.0, 5.0/golden))\n",
    "\n",
    "\n",
    "heroes = pd.read_csv('data/heroes.csv', sep=';', index_col=0)"
   ]
  },
  {
   "cell_type": "markdown",
   "metadata": {},
   "source": [
    "Gli indici di dispersione di un oggetto di tipo serie si calcolano invocando su quest'ultimo degli appositi metodi. In particolare:\n",
    "\n",
    "- `var` restituisce la varianza campionaria;"
   ]
  },
  {
   "cell_type": "code",
   "execution_count": 8,
   "metadata": {},
   "outputs": [
    {
     "data": {
      "text/plain": [
       "388.76870505203914"
      ]
     },
     "execution_count": 8,
     "metadata": {},
     "output_type": "execute_result"
    }
   ],
   "source": [
    "year = heroes['First appearance']\n",
    "year.var()"
   ]
  },
  {
   "cell_type": "markdown",
   "metadata": {},
   "source": [
    "- `std` restituisce la deviazione standard campionaria;"
   ]
  },
  {
   "cell_type": "code",
   "execution_count": 3,
   "metadata": {},
   "outputs": [
    {
     "data": {
      "text/plain": [
       "19.717218491766"
      ]
     },
     "execution_count": 3,
     "metadata": {},
     "output_type": "execute_result"
    }
   ],
   "source": [
    "year.std()"
   ]
  },
  {
   "cell_type": "markdown",
   "metadata": {},
   "source": [
    "- `describe` calcola i principali indici descrittivi di centralità e dispersione (quelli relativi a media, deviazione standard, minimo, primo quartile, mediana, terzo quartile e massimo), unitamente al numero di osservazioni nella serie, che utilizza per popolare un nuovo oggetto di tipo serie;"
   ]
  },
  {
   "cell_type": "code",
   "execution_count": 4,
   "metadata": {},
   "outputs": [
    {
     "data": {
      "text/plain": [
       "count     367.000000\n",
       "mean     1979.855586\n",
       "std        19.717218\n",
       "min      1933.000000\n",
       "25%      1965.000000\n",
       "50%      1979.000000\n",
       "75%      1994.000000\n",
       "max      2099.000000\n",
       "Name: First appearance, dtype: float64"
      ]
     },
     "execution_count": 4,
     "metadata": {},
     "output_type": "execute_result"
    }
   ],
   "source": [
    "year.describe()"
   ]
  },
  {
   "cell_type": "markdown",
   "metadata": {},
   "source": [
    "- `quantile` restituisce il quantile corrispondente al livello specificato come argomento."
   ]
  },
  {
   "cell_type": "code",
   "execution_count": 5,
   "metadata": {},
   "outputs": [
    {
     "data": {
      "text/plain": [
       "1963.0"
      ]
     },
     "execution_count": 5,
     "metadata": {},
     "output_type": "execute_result"
    }
   ],
   "source": [
    "year.quantile(.15)"
   ]
  },
  {
   "cell_type": "markdown",
   "metadata": {},
   "source": [
    "Va sottolineato come l'eventuale calcolo di percentili, quartili o decili campionari deve essere fatto utilizzando opportunamente il metodo `quantile`, tenendo conto delle ovvie relazioni tra l'indice che si vuole calcolare e il corrispondente quantile. Per esempio, il $35$-esimo percentile si otterrà invocando `quantile(.35)`, così come il terzo quartile verrà restituito invocando `quantile(.75)` (sebbene in quest'ultimo caso si possa utilizzare anche il metodo `describe` introdotto nel punto precedente.\n",
    "\n",
    "<div id=\"h-2\"></div>\n",
    "\n",
    "## Box plot\n",
    "\n",
    "Un _box plot_ (o _box and whiskers plot_, o ancora un _diagramma a scatola_) è una rappresentazione grafica che riassume le principali caratteristiche di un campione di dati. Tale rappresentazione contiene due componenti principali:\n",
    "\n",
    "- una _scatola_, intesa come un rettangolo che evidenzia il primo e il terzo quartile campionario dei dati, che corrispondono alle due basi, e la mediana, indicata tramite un segmento parallelo alle basi stesse;\n",
    "- due _baffi_, che si estendono dagli estremi della scatola fino a raggiungere il minimo e il massimo valore osservato.\n",
    "\n",
    "A titolo di esempio la cella seguente visualizza il box plot relativo all'anno di prima apparizione."
   ]
  },
  {
   "cell_type": "code",
   "execution_count": 9,
   "metadata": {},
   "outputs": [
    {
     "data": {
      "image/png": "[encoded data removed]",
      "text/plain": [
       "<Figure size 500x309.017 with 1 Axes>"
      ]
     },
     "metadata": {},
     "output_type": "display_data"
    }
   ],
   "source": [
    "year.plot.box()\n",
    "plt.show()"
   ]
  },
  {
   "cell_type": "markdown",
   "metadata": {},
   "source": [
    "Si verifica visualmente come questo grafico metta in evidenza:\n",
    "\n",
    "- la centralità delle osservazioni, tramite il segmento che individua la mediana campionaria;\n",
    "- la loro dispersione, sia in termini di range interquartile (l'altezza della scatola) e di intervallo di variazione dei dati (la distanza tra gli estremi dei baffi).\n",
    "\n",
    "Vale la pena sottolineare che la presenza di eventuali valori mancanti non influisce sulla generazione del grafico. È inoltre stato necessario specificare l'argomento opzionale `whis` (abbreviazione di _whiskers_). In caso contrario viene visualizzata una versione leggermente diversa di box plot, in cui le osservazioni vengono preliminarmente analizzate in modo da evidenziare eventuali _outlier_ marcandoli con dei cerchi."
   ]
  },
  {
   "cell_type": "code",
   "execution_count": null,
   "metadata": {},
   "outputs": [],
   "source": [
    "year.plot.box()\n",
    "plt.show()"
   ]
  },
  {
   "cell_type": "markdown",
   "metadata": {},
   "source": [
    "Sebbene i box plot che abbiamo ottenuto fossero visualizzati in un sistema di riferimento bidimensionale, le informazioni salienti venivano tutte reperite leggendo l'asse delle ordinate. Specificando l'argomento opzionale `vert` è possibile ottenere un diagramma equivalente visualizzando le informazioni sull'asse delle ascisse. In questo caso i valori per i quartili si leggeranno ovviamente in corrispondenza di segmenti paralleli alle altezze della scatola."
   ]
  },
  {
   "cell_type": "code",
   "execution_count": null,
   "metadata": {},
   "outputs": [],
   "source": [
    "year.plot.box(vert=False, whis='range')\n",
    "plt.show()"
   ]
  },
  {
   "cell_type": "markdown",
   "metadata": {},
   "source": [
    "<div id=\"h-3\"></div>\n",
    "\n",
    "## Diagrammi Q-Q\n",
    "\n",
    "Un _diagramma Q-Q_ (o _diagramma quantile-quantile_) è una rappresentazione grafica che considera due campioni al fine di valutare la validità dell'ipotesi che i campioni stessi seguano una medesima distribuzione. Questi diagrammi si basano sul fatto (che non dimostreremo) che i quantili campionari rappresentano l'approssimazione di quantili teorici che, considerati tutti insieme, individuano univocamente la distribuzione dei dati.\n",
    "\n",
    "Pertanto, se due campioni hanno un'uguale distribuzione, allora estraendo da entrambi il quantile di un livello fissato si dovranno ottenere due numeri molto vicini (in quanto essi rappresentano approssimazioni diverse di uno stesso valore).\n",
    "\n",
    "Se consideriamo per esempio le altezze di due campioni di supereroi Marvel e DC, escludendo eventuali _outlier_ (limitando per la precisione la scelta a valori compresi tra 150 e 200 centimetri), i corrispondenti quantili di livello $0.2$ assumeranno i seguenti valori."
   ]
  },
  {
   "cell_type": "code",
   "execution_count": null,
   "metadata": {},
   "outputs": [],
   "source": [
    "marvel = heroes.loc[(heroes['Publisher']=='Marvel Comics') & \\\n",
    "                    (heroes['Height'].between(150, 200))]\n",
    "\n",
    "dc = heroes.loc[(heroes['Publisher']=='DC Comics') & \\\n",
    "                (heroes['Height'].between(150, 200))]\n",
    "\n",
    "marvel_sample = marvel['Height'].sample(120)\n",
    "dc_sample = dc['Height'].sample(120)\n",
    "\n",
    "(marvel_sample.quantile(.2), dc_sample.quantile(.2))"
   ]
  },
  {
   "cell_type": "markdown",
   "metadata": {},
   "source": [
    "Per ottenere il diagramma Q-Q ripetiamo ora questa operazione facendo variare i livelli in una discretizzazione che copra ragionevolmente l'intervallo $[0, 1]$ e visualizziamo sul piano cartesiano un punto per ogni coppia di quantili campionari che si riferiscono a uno stesso livello."
   ]
  },
  {
   "cell_type": "code",
   "execution_count": null,
   "metadata": {},
   "outputs": [],
   "source": [
    "levels = np.linspace(0, 1, 100)\n",
    "plt.plot(marvel_sample.quantile(levels),\n",
    "         dc_sample.quantile(levels),\n",
    "         'o')\n",
    "plt.show()"
   ]
  },
  {
   "cell_type": "markdown",
   "metadata": {},
   "source": [
    "Il fatto che in ogni coppia considerata i due quantili fossero molto simili tra loro fa sì che i punti ottenuti si allineino approssimativamente sulla bisettrice del primo e del terzo quadrante. Possiamo evidenziare tale fatto sovrapponendo al diagramma il grafico della retta."
   ]
  },
  {
   "cell_type": "code",
   "execution_count": null,
   "metadata": {},
   "outputs": [],
   "source": [
    "plt.plot([min(dc_sample), max(dc_sample)],\n",
    "         [min(dc_sample), max(dc_sample)])\n",
    "plt.plot(dc_sample.quantile(levels),\n",
    "         marvel_sample.quantile(levels),\n",
    "         'o')\n",
    "plt.show()"
   ]
  },
  {
   "cell_type": "markdown",
   "metadata": {},
   "source": [
    "In realtà non è necessario costruire \"a mano\" i diagrammi Q-Q: il package `statmodels` mette a disposizione un oggetto `api` su cui invocare il metodo `qqplot_2samples` a cui passare direttamente i due campioni, aggiungendo l'argomento opzionale `line='45'` nel caso in cui si vuole tracciare anche il riferimento della bisettrice. "
   ]
  },
  {
   "cell_type": "code",
   "execution_count": null,
   "metadata": {},
   "outputs": [],
   "source": [
    "import statsmodels.api as sm\n",
    "\n",
    "sm.qqplot_2samples(marvel_sample, dc_sample, line='45')\n",
    "plt.show()"
   ]
  },
  {
   "cell_type": "markdown",
   "metadata": {},
   "source": [
    "<div class=\"bs-callout bs-callout-primary\">\n",
    "Il diagramma prodotto da `qqplot_2samples` scambia il ruolo degli assi rispetto al diagramma precedente: è per questo motivo che i due campioni sono stati passati come argomenti considerandoli in ordine inverso rispetto a quanto fatto finora.\n",
    "</div>\n",
    "\n",
    "In sintesi, il diagramma ottenuto ci permette di avvalorare l'ipotesi che l'altezza dei supereroi non segua una distribuzione diversa nei fumetti editi da DC e Marvel.\n",
    "\n",
    "Chiaramente, non è detto che due campioni seguano necessariamente una medesima distribuzione. In tal caso, i punti ottenuti non si disporranno vicino alla bisettrice. È questo il caso della distribuzione del peso tra supereroine e supereroi."
   ]
  },
  {
   "cell_type": "code",
   "execution_count": null,
   "metadata": {},
   "outputs": [],
   "source": [
    "female = heroes.loc[(heroes['Gender']=='F') & \\\n",
    "                    (heroes['Weight'].between(50, 100))]\n",
    "\n",
    "male = heroes.loc[(heroes['Gender']=='M') & \\\n",
    "                (heroes['Weight'].between(50, 100))]\n",
    "\n",
    "female_sample = female['Weight'].sample(100)\n",
    "male_sample = male['Weight'].sample(100)\n",
    "sm.qqplot_2samples(female_sample, male_sample, line='45')\n",
    "plt.show()"
   ]
  },
  {
   "cell_type": "markdown",
   "metadata": {},
   "source": [
    "La tecnica del Q-Q plot permette quindi in casi come questo di confutare l'ipotesi di partenza.\n",
    "\n",
    "Si nota infine che una standardizzazione dei dati permette di confinare il grafico ottenuto in prossimità dell'origine. In tal modo diventa più facile accorgersi di eventuali valori fuori scala."
   ]
  },
  {
   "cell_type": "code",
   "execution_count": null,
   "metadata": {},
   "outputs": [],
   "source": [
    "sm.qqplot_2samples((marvel_sample-marvel_sample.mean())/marvel_sample.std(),\n",
    "                   (dc_sample-dc_sample.mean())/dc_sample.std(),\n",
    "                   line='s',\n",
    "                   xlabel='DC', ylabel='Marvel')\n",
    "plt.show()"
   ]
  },
  {
   "cell_type": "code",
   "execution_count": null,
   "metadata": {},
   "outputs": [],
   "source": [
    "sm.qqplot_2samples((female_sample-female_sample.mean())/female_sample.std(),\n",
    "                   (male_sample-male_sample.mean())/male_sample.std(),\n",
    "                   line='45',\n",
    "                   xlabel='Male', ylabel='Female')\n",
    "plt.show()"
   ]
  },
  {
   "cell_type": "markdown",
   "metadata": {},
   "source": [
    "<div id=\"h-4\"></div>\n",
    "\n",
    "## Simmetria, distribuzioni approssimativamente normali e regola empirica\n",
    "\n",
    "Alcuni dei grafici finora visti possono essere utili per mettere in evidenza una proprietà interessante di un campione di dati legata alla simmetria delle corrispondenti frequenze. Quando le frequenze, visualizzate a seconda dei casi tramite un grafico a barre o un istogramma, tendono a distribuirsi in modo simmetrico rispetto al valore della media campionaria si dice che il campione segue una distribuzione _approssimativamente simmetrica_. Il grafico qui sotto affianca l'istogramma e il box plot di un siffatto campione. La simmetria è visibile in entrambe le rappresentazioni: l'istogramma è approssimativamente simmetrico rispetto alla sua parte centrale e nel box plot i baffi hanno all'incirca la stessa lunghezza, così come la mediana si posiziona verso il centro della scatola."
   ]
  },
  {
   "cell_type": "code",
   "execution_count": null,
   "metadata": {
    "hide_input": true
   },
   "outputs": [],
   "source": [
    "from scipy.stats import norm\n",
    "sample = pd.Series(norm.rvs(24, 2, size=1000), name='')\n",
    "f, (h, b) = plt.subplots(2, 1, gridspec_kw = {'height_ratios':[4, 3]})\n",
    "f.set_figheight(6)\n",
    "\n",
    "h.yaxis.label.set_visible(False)\n",
    "\n",
    "sample.plot.hist(bins=20, ax=h)\n",
    "sample.plot.box(vert=False, whis='range', ax=b, widths=.4, label=None)\n",
    "plt.show()"
   ]
  },
  {
   "cell_type": "markdown",
   "metadata": {},
   "source": [
    "L'asimmetria in una distribuzione si può invece presentare in due diverse modalità:\n",
    "\n",
    "- tende a essere presente una \"coda\" nella parte destra della distribuzione delle frequenze, evidenziata da valori più bassi delle frequenze nella parte destra dell'istogramma e da un baffo destro sensibilmente più lungo nel box plot, come esemplificato nella coppia di diagrammi qui sotto; in questo caso si parla quindi di distribuzione asimmetrica a destra (utilizzando a volte la terminologia inglese e dicendo che è presente uno _skew_ a destra);"
   ]
  },
  {
   "cell_type": "code",
   "execution_count": null,
   "metadata": {
    "hide_input": true
   },
   "outputs": [],
   "source": [
    "from scipy.stats import gamma\n",
    "sample = pd.Series(gamma.rvs(2, size=1000), name='')\n",
    "f, (h, b) = plt.subplots(2, 1, gridspec_kw = {'height_ratios':[4, 3]})\n",
    "f.set_figheight(6)\n",
    "\n",
    "h.yaxis.label.set_visible(False)\n",
    "\n",
    "sample.plot.hist(bins=20, ax=h)\n",
    "sample.plot.box(vert=False, whis='range', ax=b, widths=.4)\n",
    "plt.show()"
   ]
  },
  {
   "cell_type": "markdown",
   "metadata": {},
   "source": [
    "- viceversa, è possibile che la coda della distribuzione sia a sinistra, come nel grafico sottostante, e quindi si parla di asimmetria (o _skew_) a sinistra."
   ]
  },
  {
   "cell_type": "code",
   "execution_count": null,
   "metadata": {
    "hide_input": true
   },
   "outputs": [],
   "source": [
    "from scipy.stats import beta\n",
    "sample = pd.Series(beta.rvs(20, 2, size=1000), name='')\n",
    "f, (h, b) = plt.subplots(2, 1, gridspec_kw = {'height_ratios':[4, 3]})\n",
    "f.set_figheight(6)\n",
    "\n",
    "h.yaxis.label.set_visible(False)\n",
    "\n",
    "sample.plot.hist(bins=20, ax=h)\n",
    "sample.plot.box(vert=False, whis='range', ax=b, widths=.4)\n",
    "plt.show()"
   ]
  },
  {
   "cell_type": "markdown",
   "metadata": {},
   "source": [
    "Consideriamo per esempio il BMI dei supereroi nei soli casi in cui il relativo valore è inferiore a $100$, e visualizziamo separatamente i corrispondenti istogramma e box plot."
   ]
  },
  {
   "cell_type": "code",
   "execution_count": null,
   "metadata": {},
   "outputs": [],
   "source": [
    "sample = heroes['Weight'] / (heroes['Height']/100) **2\n",
    "sample = sample[sample < 100]\n",
    "\n",
    "sample.name = 'BMI'"
   ]
  },
  {
   "cell_type": "code",
   "execution_count": null,
   "metadata": {},
   "outputs": [],
   "source": [
    "sample.plot.hist(bins=20)\n",
    "plt.ylabel('')\n",
    "plt.show()"
   ]
  },
  {
   "cell_type": "code",
   "execution_count": null,
   "metadata": {},
   "outputs": [],
   "source": [
    "sample.plot.box(vert=False, whis='range', widths=.4)\n",
    "plt.show()"
   ]
  },
  {
   "cell_type": "markdown",
   "metadata": {},
   "source": [
    "Si vede chiaramente la presenza di un'asimmetria a destra. Se invece consideriamo l'altezza, restringendosi ai casi in cui il corrispondente valore è compreso tra $150$ e $220$, otteniamo una distribuzione approssimativamente simmetrica."
   ]
  },
  {
   "cell_type": "code",
   "execution_count": null,
   "metadata": {},
   "outputs": [],
   "source": [
    "sample = heroes[(heroes['Height'].between(150, 220))]['Height']\n",
    "sample.plot.hist(bins=20)\n",
    "plt.ylabel('')\n",
    "plt.show()"
   ]
  },
  {
   "cell_type": "code",
   "execution_count": null,
   "metadata": {},
   "outputs": [],
   "source": [
    "sample.plot.box(vert=False, whis='range', widths=.4)\n",
    "plt.show()"
   ]
  },
  {
   "cell_type": "markdown",
   "metadata": {},
   "source": [
    "Tra le distribuzioni approssimativamente simmetriche, un ruolo particolare spetta alle cosiddette distribuzioni _approssimativamente normali_, in cui la simmetria è accompagnata da una forma \"a campana\" del grafico delle frequenze. In questo tipo di distribuzioni i dati si concentrano attorno alla media campionaria secondo la seguente _regola empirica_:\n",
    "\n",
    "- approssimativamente il 68% delle osservazioni dista dalla media campionaria non più di una deviazione standard campionaria;\n",
    "- approssimativamente il 95% delle osservazioni dista dalla media campionaria non più di due deviazioni standard campionarie;\n",
    "- approssimativamente il 99.7% delle osservazioni dista dalla media campionaria non più di tre deviazioni standard campionarie.\n",
    "\n",
    "Siccome il grafico delle frequenze dell'altezza ha approssimativamente un andamento a campana, possiamo controllare numericamente se questa regola empirica risulti verificata."
   ]
  },
  {
   "cell_type": "code",
   "execution_count": null,
   "metadata": {},
   "outputs": [],
   "source": [
    "def check_empirical_rule(n):\n",
    "    within = len(sample[np.abs(sample - sample.mean()) < n*sample.std()])\n",
    "    return  within / len(sample)\n",
    "\n",
    "pd.DataFrame([check_empirical_rule(n) for n in range(1, 4)], columns=['%'],\n",
    "             index=range(1, 4))"
   ]
  },
  {
   "cell_type": "markdown",
   "metadata": {},
   "source": [
    "I risultati ottenuti sono altamente in accordo con le percentuali sopra indicate, e quindi l'ipotesi iniziale che le altezze considerate fossero distribuite in modo approssimativamente normale risulta validata.\n",
    "\n",
    "<div id=\"h-5\"></div>\n",
    "\n",
    "## Una nota sulla produzione dei grafici <sup>*</sup>\n",
    "\n",
    "I lettori più curiosi si saranno probabilmente chiesti come mai gli esempi riportati all'inizio del paragrafo precedente affiancassero istogrammi e box plot, mentre quando è stato mostrato come analizzare lo stato di simmetria della distribuzione di un campione questi due grafici sono stati costruiti separatamente. Ciò è dovuto al fatto che l'utilizzo di `subplot` permette di creare più grafici in una stessa figura, con il vincolo che le loro dimensioni devono essere uguali. Questo avrebbe avuto come effetto quello di ottenere un istogramma con delle barre molto basse, o in alternativa un box plot con un'altezza troppo elevata. In entrambi i casi si sarebbe quindi generato un grafico non particolarmente agevole da leggere. Una soluzione a questo problema, non introdotta prima per non complicare inutilmente la spiegazione, consiste nell'utilizzare come nella cella seguente il metodo `plt.subplots`."
   ]
  },
  {
   "cell_type": "code",
   "execution_count": null,
   "metadata": {},
   "outputs": [],
   "source": [
    "f, (h, b) = plt.subplots(2, 1, gridspec_kw = {'height_ratios':[4, 3]})\n",
    "f.set_figheight(6)\n",
    "\n",
    "h.yaxis.label.set_visible(False)\n",
    "\n",
    "sample.plot.hist(bins=20, ax=h)\n",
    "sample.plot.box(vert=False, whis='range', ax=b, widths=.4)\n",
    "plt.show()"
   ]
  },
  {
   "cell_type": "markdown",
   "metadata": {},
   "source": [
    "Vediamo nell'ordine quali sono i punti interessanti nel codice che ha prodotto questo grafico:\n",
    "\n",
    "1. il metodo `plt.subplots` accetta due argomenti il cui significato è lo stesso di quelli di `plt.subplot`: pertanto nella prima riga si genera una figura con due righe, ognuna contenente un asse;\n",
    "2. lo stesso metodo restituisce dei riferimenti alla figura e ai due assi;\n",
    "3. l'argomento opzionale `gridspec_kw` permette di specificare un dizionario con informazioni addizionali: nel nostro caso le altezze relative dei due assi;\n",
    "4. usando il riferimento alla figura è possibile invocare il metodo `set_figheight` al fine di impostare l'altezza globale della figura;\n",
    "5. analogamente, tramite il riferimento agli assi è possibile disattivare la visualizzazione dell'etichetta sull'asse delle ascisse dell'istogramma (tale etichetta conterrebbe il testo `'Frequency'`, dunque non sarebbe particolarmente informativa);\n",
    "6. l'invocazione dei metodi `hist` e `box` viene fatta specificando per l'argomento opzionale `ax` i riferimenti agli assi restituiti da `plt.subplots`;\n",
    "7. infine, nella creazione del box plot viene specificato un valore per l'argomento opzionale `width` che permette di ottenere un grafico in cui la scatola ha un'altezza più alta di quella predefinita, al fine di migliorare la leggibilità del risultato."
   ]
  },
  {
   "cell_type": "markdown",
   "metadata": {
    "footer": true
   },
   "source": [
    "<hr style=\"width: 90%;\" align=\"left\" />\n",
    "<span style=\"font-size: 0.8rem;\">D. Malchiodi, Superhero data science. Vol 1: probabilità e statistica: Indici di dispersione, 2017.</span>\n",
    "<br>\n",
    "<span style=\"font-size: 0.8rem;\">Powered by <img src=\"img/jupyter-logo.png\" style=\"height: 1rem; display: inline; margin-left: 0.5ex; margin-top: 0;\" alt=\"Jupyter Notebook\"></span>\n",
    "<div style=\"float: left; margin-top: 1ex;\">\n",
    "<img src=\"http://mirrors.creativecommons.org/presskit/icons/cc.large.png\" style=\"width: 1.5em; float: left; margin-right: 0.6ex; margin-top: 0;\">\n",
    "<img src=\"http://mirrors.creativecommons.org/presskit/icons/by.large.png\" style=\"width: 1.5em; float: left; margin-right: 0.6ex; margin-top: 0;\">\n",
    "<img src=\"http://mirrors.creativecommons.org/presskit/icons/nc.large.png\" style=\"width: 1.5em; float: left; margin-right: 0.6ex; margin-top: 0;\">\n",
    "<img src=\"http://mirrors.creativecommons.org/presskit/icons/nd.large.png\" style=\"width: 1.5em; float: left; margin-right: 0.6ex; margin-top: 0;\">\n",
    "<span style=\"font-size: 0.7rem; line-height: 0.7rem; vertical-align: middle;\">Quest'opera è distribuita con Licenza <a rel=\"license\" href=\"http://creativecommons.org/licenses/by-nc-nd/4.0/\">Creative Commons Attribuzione - Non commerciale - Non opere derivate 4.0 Internazionale</a></span>.\n",
    "</div>"
   ]
  }
 ],
 "metadata": {
  "kernelspec": {
   "display_name": "Python 3 (ipykernel)",
   "language": "python",
   "name": "python3"
  },
  "language_info": {
   "codemirror_mode": {
    "name": "ipython",
    "version": 3
   },
   "file_extension": ".py",
   "mimetype": "text/x-python",
   "name": "python",
   "nbconvert_exporter": "python",
   "pygments_lexer": "ipython3",
   "version": "3.11.4"
  },
  "latex_envs": {
   "LaTeX_envs_menu_present": true,
   "autoclose": true,
   "autocomplete": true,
   "bibliofile": "biblio.bib",
   "cite_by": "apalike",
   "current_citInitial": 1,
   "eqLabelWithNumbers": true,
   "eqNumInitial": 1,
   "hotkeys": {
    "equation": "Ctrl-E",
    "itemize": "Ctrl-I"
   },
   "labels_anchors": false,
   "latex_user_defs": false,
   "report_style_numbering": false,
   "user_envs_cfg": false
  },
  "toc": {
   "base_numbering": 1,
   "nav_menu": {},
   "number_sections": true,
   "sideBar": false,
   "skip_h1_title": false,
   "title_cell": "Table of Contents",
   "title_sidebar": "Contents",
   "toc_cell": true,
   "toc_position": {},
   "toc_section_display": true,
   "toc_window_display": false
  }
 },
 "nbformat": 4,
 "nbformat_minor": 4
}
