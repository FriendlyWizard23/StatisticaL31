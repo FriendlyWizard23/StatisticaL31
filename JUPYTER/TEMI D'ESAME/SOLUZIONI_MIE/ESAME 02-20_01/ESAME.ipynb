{
 "cells": [
  {
   "cell_type": "code",
   "execution_count": 34,
   "id": "eb68a5a6-c948-4a83-9af0-9864d5f36f8c",
   "metadata": {},
   "outputs": [],
   "source": [
    "import numpy as np\n",
    "import pandas as pd\n",
    "import scipy.stats as sp\n",
    "import statsmodels.api as sm\n",
    "import matplotlib.pyplot as plt\n",
    "import math\n",
    "import csv"
   ]
  },
  {
   "cell_type": "markdown",
   "id": "8e3f4c5a-ec8f-4d66-ab02-adfa8c09c102",
   "metadata": {},
   "source": [
    "# Esercizio 0"
   ]
  },
  {
   "cell_type": "markdown",
   "id": "12345706-3a17-4665-87d4-2253d745156e",
   "metadata": {},
   "source": [
    "Possiamo rispondere alla domanda utilizzando il teorema delle probabilità totali che dice:\n",
    "\n",
    "Date delle partizioni $F_i$, di $\\omega$ tali che $A_i \\cap ... \\cap A_n=\\omega$ e disgiunte e dato un evento $C \\in \\omega$\n",
    "allora $$\\mathbb{P}(C) = \\sum_{i=1}^{n}(\\mathbb{P}(C | A_i)*\\mathbb{P}(A_i))$$"
   ]
  },
  {
   "cell_type": "markdown",
   "id": "068a972d-bb11-4839-bb98-fc3d9fece804",
   "metadata": {},
   "source": [
    "# Esercizio 1"
   ]
  },
  {
   "cell_type": "markdown",
   "id": "0dc2e379-6bb6-4788-a405-8056e00d6799",
   "metadata": {},
   "source": [
    "$\\mu = \\mathbb{E}(X)$ e $\\sigma^2 = Var(X)$\n",
    "\n",
    "Consideriamo\n",
    "\n",
    "$X\\sim S(\\mu,\\sigma^2)$\n",
    "\n",
    "$X^* = \\frac{X-\\mu}{\\sigma}\\sim N(0,1)$"
   ]
  },
  {
   "cell_type": "markdown",
   "id": "24050b0e-97fe-4159-84eb-be81d1704196",
   "metadata": {},
   "source": [
    "Sappiamo che la variabile aleatoria subisce una trasformazione e sappiamo che il valore atteso viene traformato di conseguenza. Quindi:\n",
    "\n",
    "$$X* = (X-\\mu)*\\frac{1}{\\sigma} \\implies \\mathbb{E}(X^*)=(\\mathbb{E}(X)-\\mu)*\\frac{1}{\\sigma} = \\frac{0}{\\sigma} = 0 $$"
   ]
  },
  {
   "cell_type": "markdown",
   "id": "26d8fb2e-fc3d-4a1f-925c-6a85d7fa45d4",
   "metadata": {},
   "source": [
    "Stesso ragionamento applicato alla varianza, che viene trasformata solo per le traslazioni:\n",
    "\n",
    "$$X* = (X-\\mu)*\\frac{1}{\\sigma} \\implies \\mathbb{Var}(X^*)=(\\sigma^2)*(\\frac{1}{\\sigma})^2 = 1 $$"
   ]
  },
  {
   "cell_type": "markdown",
   "id": "aacf190d-5a3b-4c7b-a2c6-a075406ca6b8",
   "metadata": {},
   "source": [
    "Supponiamo ora che \n",
    "$$X\\sim U(n)$$\n",
    "\n",
    "con $D_X={1,2}$"
   ]
  },
  {
   "cell_type": "code",
   "execution_count": 13,
   "id": "f79dde28-5608-4a91-a625-f0092715780e",
   "metadata": {},
   "outputs": [
    {
     "data": {
      "image/png": "[encoded data removed]",
      "text/plain": [
       "<Figure size 640x480 with 1 Axes>"
      ]
     },
     "metadata": {},
     "output_type": "display_data"
    }
   ],
   "source": [
    "dist = sp.randint(1,3)\n",
    "x = np . arange (1 , 3 , 1)\n",
    "plt.vlines(x , 0, dist . pmf ( x) , linestyles ='dotted')\n",
    "plt.plot (x , dist . pmf (x) , 'o')\n",
    "plt.xticks (x)\n",
    "plt.show ()"
   ]
  },
  {
   "cell_type": "code",
   "execution_count": null,
   "id": "254f4de6-5bde-4ef7-b665-e719505d060b",
   "metadata": {},
   "outputs": [],
   "source": [
    "$X^*$ può assumere valori tra"
   ]
  },
  {
   "cell_type": "code",
   "execution_count": 28,
   "id": "3334a73d-e3a1-44ad-8202-8c4240e975fd",
   "metadata": {},
   "outputs": [
    {
     "name": "stdout",
     "output_type": "stream",
     "text": [
      "Range: (-1.0,1.0)\n"
     ]
    }
   ],
   "source": [
    "n=2\n",
    "E=(n+1)/2\n",
    "var = (n^2-1)/12\n",
    "dst=math.sqrt(var)\n",
    "min = (1-E)/dst\n",
    "max = (2-E)/dst\n",
    "print(\"Range: (\"+str(min)+\",\"+str(max)+\")\")"
   ]
  },
  {
   "cell_type": "code",
   "execution_count": 31,
   "id": "5b88762a-b336-4316-981e-1cb88fad44f3",
   "metadata": {},
   "outputs": [
    {
     "data": {
      "image/png": "[encoded data removed]",
      "text/plain": [
       "<Figure size 640x480 with 1 Axes>"
      ]
     },
     "metadata": {},
     "output_type": "display_data"
    }
   ],
   "source": [
    "dist = sp.randint(-1,2)\n",
    "x = np . arange (-1 , 2 , 1)\n",
    "plt.vlines(x , 0, dist . pmf ( x) , linestyles ='dotted')\n",
    "plt.plot (x , dist . pmf (x) , 'o')\n",
    "plt.xticks (x)\n",
    "plt.xlabel(\"X\")\n",
    "plt.ylabel(\"PMF(xi)\")\n",
    "plt.show ()"
   ]
  },
  {
   "cell_type": "markdown",
   "id": "3a36e627-b757-425c-a3bd-82837eddcdc3",
   "metadata": {},
   "source": [
    "# Esercizio 2"
   ]
  },
  {
   "cell_type": "markdown",
   "id": "632478ea-9908-437c-92a8-44614db708fb",
   "metadata": {},
   "source": [
    "$X\\sim N(\\mu,\\sigma^2)$ e $k>0$"
   ]
  },
  {
   "cell_type": "markdown",
   "id": "c81a4f67-d246-46fc-8307-f8715f2f6063",
   "metadata": {},
   "source": [
    "$$F_X(x) = P((\\mu-k)<X<(\\mu+k))$$\n",
    "$$F_X(x) = F_X(\\mu+k) - F_X(\\mu-k)$$"
   ]
  },
  {
   "cell_type": "markdown",
   "id": "737c2682-4a64-4d1a-9b9e-76a9acec6a1d",
   "metadata": {},
   "source": [
    "$X^* = \\frac{X-\\mu}{\\sigma}$"
   ]
  },
  {
   "cell_type": "markdown",
   "id": "736f1146-f8cd-40e2-bf7f-839d84efdbd0",
   "metadata": {},
   "source": [
    "$$F_X(x) = P((\\mu-k)<X<(\\mu+k))$$\n",
    "$$F_X(x) = P((-k)<X-\\mu<(k))$$\n",
    "$$F_X(x) = P(\\frac{(-k)}{\\sigma}<\\frac{X-\\mu}{\\sigma}<\\frac{(k)}{\\sigma})$$\n",
    "$$F_X(x) = F_X(\\frac{k}{\\sigma}) - F_X(\\frac{-k}{\\sigma})$$\n",
    "$$ F_X(x)=P(|X^*|\\leq \\frac{k}{\\sigma})$$"
   ]
  },
  {
   "cell_type": "markdown",
   "id": "d8b2152f-c461-4b5e-aa6a-d90b9186c801",
   "metadata": {},
   "source": [
    "Troppo lungo da fare"
   ]
  },
  {
   "cell_type": "markdown",
   "id": "9b3a0fdc-582b-4b5c-a7fa-b4b893b1738c",
   "metadata": {},
   "source": [
    "# Esercizio 3"
   ]
  },
  {
   "cell_type": "markdown",
   "id": "d1199668-e0b2-435b-ac0f-c6291bb0b640",
   "metadata": {},
   "source": [
    "sia $\\overline X$ la media del campione $X$ (normale) con $\\mathbb{E}(X)=\\mu$ e di cui abbiamo una stima della varianza paria a $\\sigma^2 = 3$\n",
    "\n",
    "Fissati $\\epsilon = 0.25$ e $\\alpha = 0.9$\n",
    "\n",
    "Lungo da scrivere in Latex ma la risposta sta nel capitolo sulla taglia del campione."
   ]
  },
  {
   "cell_type": "markdown",
   "id": "0a3be561-fe2e-40cb-a531-9bb68daa9b3c",
   "metadata": {},
   "source": [
    "Un valido stimatore non distorto per questo campione potrebbe essere la media campionaria."
   ]
  },
  {
   "cell_type": "markdown",
   "id": "424c15f1-b0b2-41c7-a361-9edc87460b18",
   "metadata": {},
   "source": [
    "# Esercizio 4"
   ]
  },
  {
   "cell_type": "code",
   "execution_count": 202,
   "id": "34848786-814f-4d0a-9716-fafc2879632e",
   "metadata": {},
   "outputs": [],
   "source": [
    "df=pd.read_csv('mtcars.txt',sep=\"\\t\", decimal=',')"
   ]
  },
  {
   "cell_type": "code",
   "execution_count": 203,
   "id": "13a23607-c7e7-44f1-bbca-1a77dc6ae052",
   "metadata": {},
   "outputs": [
    {
     "data": {
      "text/html": [
       "<div>\n",
       "<style scoped>\n",
       "    .dataframe tbody tr th:only-of-type {\n",
       "        vertical-align: middle;\n",
       "    }\n",
       "\n",
       "    .dataframe tbody tr th {\n",
       "        vertical-align: top;\n",
       "    }\n",
       "\n",
       "    .dataframe thead th {\n",
       "        text-align: right;\n",
       "    }\n",
       "</style>\n",
       "<table border=\"1\" class=\"dataframe\">\n",
       "  <thead>\n",
       "    <tr style=\"text-align: right;\">\n",
       "      <th></th>\n",
       "      <th>modello</th>\n",
       "      <th>consumo</th>\n",
       "      <th>cilindrata</th>\n",
       "      <th>peso</th>\n",
       "      <th>test400metri</th>\n",
       "      <th>trasmissione</th>\n",
       "      <th>marce</th>\n",
       "    </tr>\n",
       "  </thead>\n",
       "  <tbody>\n",
       "    <tr>\n",
       "      <th>0</th>\n",
       "      <td>Mazda RX4</td>\n",
       "      <td>21.00</td>\n",
       "      <td>110</td>\n",
       "      <td>2.620</td>\n",
       "      <td>16.46</td>\n",
       "      <td>1</td>\n",
       "      <td>4</td>\n",
       "    </tr>\n",
       "    <tr>\n",
       "      <th>1</th>\n",
       "      <td>Mazda RX4 Wag</td>\n",
       "      <td>21.00</td>\n",
       "      <td>110</td>\n",
       "      <td>2.875</td>\n",
       "      <td>17.02</td>\n",
       "      <td>1</td>\n",
       "      <td>4</td>\n",
       "    </tr>\n",
       "    <tr>\n",
       "      <th>2</th>\n",
       "      <td>Datsun 710</td>\n",
       "      <td>22.80</td>\n",
       "      <td>93</td>\n",
       "      <td>2.320</td>\n",
       "      <td>18.61</td>\n",
       "      <td>1</td>\n",
       "      <td>4</td>\n",
       "    </tr>\n",
       "    <tr>\n",
       "      <th>3</th>\n",
       "      <td>Hornet 4 Drive</td>\n",
       "      <td>21.40</td>\n",
       "      <td>110</td>\n",
       "      <td>3.215</td>\n",
       "      <td>19.44</td>\n",
       "      <td>0</td>\n",
       "      <td>3</td>\n",
       "    </tr>\n",
       "    <tr>\n",
       "      <th>4</th>\n",
       "      <td>Hornet Sportabout</td>\n",
       "      <td>18.70</td>\n",
       "      <td>175</td>\n",
       "      <td>3.440</td>\n",
       "      <td>17.02</td>\n",
       "      <td>0</td>\n",
       "      <td>3</td>\n",
       "    </tr>\n",
       "    <tr>\n",
       "      <th>5</th>\n",
       "      <td>Valiant</td>\n",
       "      <td>18.01</td>\n",
       "      <td>105</td>\n",
       "      <td>3.460</td>\n",
       "      <td>20.22</td>\n",
       "      <td>0</td>\n",
       "      <td>3</td>\n",
       "    </tr>\n",
       "    <tr>\n",
       "      <th>6</th>\n",
       "      <td>Duster 360</td>\n",
       "      <td>14.30</td>\n",
       "      <td>245</td>\n",
       "      <td>3.570</td>\n",
       "      <td>15.84</td>\n",
       "      <td>0</td>\n",
       "      <td>3</td>\n",
       "    </tr>\n",
       "    <tr>\n",
       "      <th>7</th>\n",
       "      <td>Merc 240D</td>\n",
       "      <td>24.40</td>\n",
       "      <td>62</td>\n",
       "      <td>3.190</td>\n",
       "      <td>20.00</td>\n",
       "      <td>0</td>\n",
       "      <td>4</td>\n",
       "    </tr>\n",
       "    <tr>\n",
       "      <th>8</th>\n",
       "      <td>Merc 230</td>\n",
       "      <td>22.80</td>\n",
       "      <td>95</td>\n",
       "      <td>3.150</td>\n",
       "      <td>22.90</td>\n",
       "      <td>0</td>\n",
       "      <td>4</td>\n",
       "    </tr>\n",
       "    <tr>\n",
       "      <th>9</th>\n",
       "      <td>Merc 280</td>\n",
       "      <td>19.20</td>\n",
       "      <td>123</td>\n",
       "      <td>3.440</td>\n",
       "      <td>18.30</td>\n",
       "      <td>0</td>\n",
       "      <td>4</td>\n",
       "    </tr>\n",
       "    <tr>\n",
       "      <th>10</th>\n",
       "      <td>Merc 280C</td>\n",
       "      <td>17.80</td>\n",
       "      <td>123</td>\n",
       "      <td>3.440</td>\n",
       "      <td>18.90</td>\n",
       "      <td>0</td>\n",
       "      <td>4</td>\n",
       "    </tr>\n",
       "    <tr>\n",
       "      <th>11</th>\n",
       "      <td>Merc 450SE</td>\n",
       "      <td>16.40</td>\n",
       "      <td>180</td>\n",
       "      <td>4.070</td>\n",
       "      <td>17.40</td>\n",
       "      <td>0</td>\n",
       "      <td>3</td>\n",
       "    </tr>\n",
       "    <tr>\n",
       "      <th>12</th>\n",
       "      <td>Merc 450SL</td>\n",
       "      <td>17.30</td>\n",
       "      <td>180</td>\n",
       "      <td>3.730</td>\n",
       "      <td>17.60</td>\n",
       "      <td>0</td>\n",
       "      <td>3</td>\n",
       "    </tr>\n",
       "    <tr>\n",
       "      <th>13</th>\n",
       "      <td>Merc 450SLC</td>\n",
       "      <td>15.20</td>\n",
       "      <td>180</td>\n",
       "      <td>3.780</td>\n",
       "      <td>18.00</td>\n",
       "      <td>0</td>\n",
       "      <td>3</td>\n",
       "    </tr>\n",
       "    <tr>\n",
       "      <th>14</th>\n",
       "      <td>Cadillac Fleetwood</td>\n",
       "      <td>10.40</td>\n",
       "      <td>205</td>\n",
       "      <td>5.250</td>\n",
       "      <td>17.98</td>\n",
       "      <td>0</td>\n",
       "      <td>3</td>\n",
       "    </tr>\n",
       "    <tr>\n",
       "      <th>15</th>\n",
       "      <td>Lincoln Continental</td>\n",
       "      <td>10.40</td>\n",
       "      <td>215</td>\n",
       "      <td>5.424</td>\n",
       "      <td>17.82</td>\n",
       "      <td>0</td>\n",
       "      <td>3</td>\n",
       "    </tr>\n",
       "    <tr>\n",
       "      <th>16</th>\n",
       "      <td>Chrysler Imperial</td>\n",
       "      <td>14.70</td>\n",
       "      <td>230</td>\n",
       "      <td>5.345</td>\n",
       "      <td>17.42</td>\n",
       "      <td>0</td>\n",
       "      <td>3</td>\n",
       "    </tr>\n",
       "    <tr>\n",
       "      <th>17</th>\n",
       "      <td>Fiat 128</td>\n",
       "      <td>32.40</td>\n",
       "      <td>66</td>\n",
       "      <td>2.200</td>\n",
       "      <td>19.47</td>\n",
       "      <td>1</td>\n",
       "      <td>4</td>\n",
       "    </tr>\n",
       "    <tr>\n",
       "      <th>18</th>\n",
       "      <td>Honda Civic</td>\n",
       "      <td>30.40</td>\n",
       "      <td>52</td>\n",
       "      <td>1.615</td>\n",
       "      <td>18.52</td>\n",
       "      <td>1</td>\n",
       "      <td>4</td>\n",
       "    </tr>\n",
       "    <tr>\n",
       "      <th>19</th>\n",
       "      <td>Toyota Corolla</td>\n",
       "      <td>33.90</td>\n",
       "      <td>65</td>\n",
       "      <td>1.835</td>\n",
       "      <td>19.90</td>\n",
       "      <td>1</td>\n",
       "      <td>4</td>\n",
       "    </tr>\n",
       "    <tr>\n",
       "      <th>20</th>\n",
       "      <td>Toyota Corona</td>\n",
       "      <td>21.50</td>\n",
       "      <td>97</td>\n",
       "      <td>2.465</td>\n",
       "      <td>20.01</td>\n",
       "      <td>0</td>\n",
       "      <td>3</td>\n",
       "    </tr>\n",
       "    <tr>\n",
       "      <th>21</th>\n",
       "      <td>Dodge Challenger</td>\n",
       "      <td>15.50</td>\n",
       "      <td>150</td>\n",
       "      <td>3.520</td>\n",
       "      <td>16.87</td>\n",
       "      <td>0</td>\n",
       "      <td>3</td>\n",
       "    </tr>\n",
       "    <tr>\n",
       "      <th>22</th>\n",
       "      <td>AMC Javelin</td>\n",
       "      <td>15.20</td>\n",
       "      <td>150</td>\n",
       "      <td>3.435</td>\n",
       "      <td>17.30</td>\n",
       "      <td>0</td>\n",
       "      <td>3</td>\n",
       "    </tr>\n",
       "    <tr>\n",
       "      <th>23</th>\n",
       "      <td>Camaro Z28</td>\n",
       "      <td>13.30</td>\n",
       "      <td>245</td>\n",
       "      <td>3.840</td>\n",
       "      <td>15.41</td>\n",
       "      <td>0</td>\n",
       "      <td>3</td>\n",
       "    </tr>\n",
       "    <tr>\n",
       "      <th>24</th>\n",
       "      <td>Pontiac Firebird</td>\n",
       "      <td>19.20</td>\n",
       "      <td>175</td>\n",
       "      <td>3.845</td>\n",
       "      <td>17.05</td>\n",
       "      <td>0</td>\n",
       "      <td>3</td>\n",
       "    </tr>\n",
       "    <tr>\n",
       "      <th>25</th>\n",
       "      <td>Fiat X1-9</td>\n",
       "      <td>27.30</td>\n",
       "      <td>66</td>\n",
       "      <td>1.935</td>\n",
       "      <td>18.90</td>\n",
       "      <td>1</td>\n",
       "      <td>4</td>\n",
       "    </tr>\n",
       "    <tr>\n",
       "      <th>26</th>\n",
       "      <td>Porsche 914-2</td>\n",
       "      <td>26.00</td>\n",
       "      <td>91</td>\n",
       "      <td>2.140</td>\n",
       "      <td>16.70</td>\n",
       "      <td>1</td>\n",
       "      <td>5</td>\n",
       "    </tr>\n",
       "    <tr>\n",
       "      <th>27</th>\n",
       "      <td>Lotus Europa</td>\n",
       "      <td>30.40</td>\n",
       "      <td>113</td>\n",
       "      <td>1.513</td>\n",
       "      <td>16.90</td>\n",
       "      <td>1</td>\n",
       "      <td>5</td>\n",
       "    </tr>\n",
       "    <tr>\n",
       "      <th>28</th>\n",
       "      <td>Ford Pantera L</td>\n",
       "      <td>15.80</td>\n",
       "      <td>264</td>\n",
       "      <td>3.170</td>\n",
       "      <td>14.50</td>\n",
       "      <td>1</td>\n",
       "      <td>5</td>\n",
       "    </tr>\n",
       "    <tr>\n",
       "      <th>29</th>\n",
       "      <td>Ferrari Dino</td>\n",
       "      <td>19.70</td>\n",
       "      <td>175</td>\n",
       "      <td>2.770</td>\n",
       "      <td>15.50</td>\n",
       "      <td>1</td>\n",
       "      <td>5</td>\n",
       "    </tr>\n",
       "    <tr>\n",
       "      <th>30</th>\n",
       "      <td>Maserati Bora</td>\n",
       "      <td>15.00</td>\n",
       "      <td>335</td>\n",
       "      <td>3.570</td>\n",
       "      <td>14.60</td>\n",
       "      <td>1</td>\n",
       "      <td>5</td>\n",
       "    </tr>\n",
       "    <tr>\n",
       "      <th>31</th>\n",
       "      <td>Volvo 142E</td>\n",
       "      <td>21.40</td>\n",
       "      <td>109</td>\n",
       "      <td>2.780</td>\n",
       "      <td>18.60</td>\n",
       "      <td>1</td>\n",
       "      <td>4</td>\n",
       "    </tr>\n",
       "  </tbody>\n",
       "</table>\n",
       "</div>"
      ],
      "text/plain": [
       "                modello  consumo  cilindrata   peso  test400metri  \\\n",
       "0             Mazda RX4    21.00         110  2.620         16.46   \n",
       "1         Mazda RX4 Wag    21.00         110  2.875         17.02   \n",
       "2            Datsun 710    22.80          93  2.320         18.61   \n",
       "3        Hornet 4 Drive    21.40         110  3.215         19.44   \n",
       "4     Hornet Sportabout    18.70         175  3.440         17.02   \n",
       "5               Valiant    18.01         105  3.460         20.22   \n",
       "6            Duster 360    14.30         245  3.570         15.84   \n",
       "7             Merc 240D    24.40          62  3.190         20.00   \n",
       "8              Merc 230    22.80          95  3.150         22.90   \n",
       "9              Merc 280    19.20         123  3.440         18.30   \n",
       "10            Merc 280C    17.80         123  3.440         18.90   \n",
       "11           Merc 450SE    16.40         180  4.070         17.40   \n",
       "12           Merc 450SL    17.30         180  3.730         17.60   \n",
       "13          Merc 450SLC    15.20         180  3.780         18.00   \n",
       "14   Cadillac Fleetwood    10.40         205  5.250         17.98   \n",
       "15  Lincoln Continental    10.40         215  5.424         17.82   \n",
       "16    Chrysler Imperial    14.70         230  5.345         17.42   \n",
       "17             Fiat 128    32.40          66  2.200         19.47   \n",
       "18          Honda Civic    30.40          52  1.615         18.52   \n",
       "19       Toyota Corolla    33.90          65  1.835         19.90   \n",
       "20        Toyota Corona    21.50          97  2.465         20.01   \n",
       "21     Dodge Challenger    15.50         150  3.520         16.87   \n",
       "22          AMC Javelin    15.20         150  3.435         17.30   \n",
       "23           Camaro Z28    13.30         245  3.840         15.41   \n",
       "24     Pontiac Firebird    19.20         175  3.845         17.05   \n",
       "25            Fiat X1-9    27.30          66  1.935         18.90   \n",
       "26        Porsche 914-2    26.00          91  2.140         16.70   \n",
       "27         Lotus Europa    30.40         113  1.513         16.90   \n",
       "28       Ford Pantera L    15.80         264  3.170         14.50   \n",
       "29         Ferrari Dino    19.70         175  2.770         15.50   \n",
       "30        Maserati Bora    15.00         335  3.570         14.60   \n",
       "31           Volvo 142E    21.40         109  2.780         18.60   \n",
       "\n",
       "    trasmissione  marce  \n",
       "0              1      4  \n",
       "1              1      4  \n",
       "2              1      4  \n",
       "3              0      3  \n",
       "4              0      3  \n",
       "5              0      3  \n",
       "6              0      3  \n",
       "7              0      4  \n",
       "8              0      4  \n",
       "9              0      4  \n",
       "10             0      4  \n",
       "11             0      3  \n",
       "12             0      3  \n",
       "13             0      3  \n",
       "14             0      3  \n",
       "15             0      3  \n",
       "16             0      3  \n",
       "17             1      4  \n",
       "18             1      4  \n",
       "19             1      4  \n",
       "20             0      3  \n",
       "21             0      3  \n",
       "22             0      3  \n",
       "23             0      3  \n",
       "24             0      3  \n",
       "25             1      4  \n",
       "26             1      5  \n",
       "27             1      5  \n",
       "28             1      5  \n",
       "29             1      5  \n",
       "30             1      5  \n",
       "31             1      4  "
      ]
     },
     "execution_count": 203,
     "metadata": {},
     "output_type": "execute_result"
    }
   ],
   "source": [
    "df"
   ]
  },
  {
   "cell_type": "code",
   "execution_count": 114,
   "id": "9195953a-f5ae-4f82-9491-9eccd5824031",
   "metadata": {},
   "outputs": [
    {
     "name": "stdout",
     "output_type": "stream",
     "text": [
      "1) I valori scalari sono Consumo, Cilindrata, Peso, test400metri e marce\n",
      "2) DataSet contiene 32 osservazioni\n",
      "3) la moda di peso è 344 \n",
      "15    4) Modello piu pesante: Lincoln Continental\n",
      "Name: modello, dtype: object\n",
      "5) Valori possibil per Marce: [4 3 5]\n"
     ]
    }
   ],
   "source": [
    "\n",
    "print(\"1) I valori scalari sono Consumo, Cilindrata, Peso, test400metri e marce\")\n",
    "print(\"2) DataSet contiene \"+str(len(df))+\" osservazioni\")\n",
    "peso=pd.crosstab(index=df['peso'],columns=['Fa'],colnames=[''])\n",
    "print(\"3) la moda di peso è 344 \")\n",
    "print(\"4) Modello piu pesante: \"+(df[df['peso']==df['peso'].max()]['modello']))\n",
    "print(\"5) Valori possibil per Marce: \"+str(df['marce'].unique()))\n"
   ]
  },
  {
   "cell_type": "code",
   "execution_count": 87,
   "id": "d4fcf68c-10f8-43d9-923c-e006bd4063de",
   "metadata": {},
   "outputs": [
    {
     "data": {
      "text/html": [
       "<div>\n",
       "<style scoped>\n",
       "    .dataframe tbody tr th:only-of-type {\n",
       "        vertical-align: middle;\n",
       "    }\n",
       "\n",
       "    .dataframe tbody tr th {\n",
       "        vertical-align: top;\n",
       "    }\n",
       "\n",
       "    .dataframe thead th {\n",
       "        text-align: right;\n",
       "    }\n",
       "</style>\n",
       "<table border=\"1\" class=\"dataframe\">\n",
       "  <thead>\n",
       "    <tr style=\"text-align: right;\">\n",
       "      <th>trasmissione</th>\n",
       "      <th>0</th>\n",
       "      <th>1</th>\n",
       "    </tr>\n",
       "    <tr>\n",
       "      <th>marce</th>\n",
       "      <th></th>\n",
       "      <th></th>\n",
       "    </tr>\n",
       "  </thead>\n",
       "  <tbody>\n",
       "    <tr>\n",
       "      <th>3</th>\n",
       "      <td>15</td>\n",
       "      <td>0</td>\n",
       "    </tr>\n",
       "    <tr>\n",
       "      <th>4</th>\n",
       "      <td>4</td>\n",
       "      <td>8</td>\n",
       "    </tr>\n",
       "    <tr>\n",
       "      <th>5</th>\n",
       "      <td>0</td>\n",
       "      <td>5</td>\n",
       "    </tr>\n",
       "  </tbody>\n",
       "</table>\n",
       "</div>"
      ],
      "text/plain": [
       "trasmissione   0  1\n",
       "marce              \n",
       "3             15  0\n",
       "4              4  8\n",
       "5              0  5"
      ]
     },
     "execution_count": 87,
     "metadata": {},
     "output_type": "execute_result"
    }
   ],
   "source": [
    "# 6.1) Tabelle congiunte assolute:\n",
    "abs=pd.crosstab(index=df['marce'],columns=df['trasmissione'])\n",
    "abs"
   ]
  },
  {
   "cell_type": "code",
   "execution_count": 88,
   "id": "437f745c-c658-4d2d-a1d9-f5be0a7798b8",
   "metadata": {},
   "outputs": [
    {
     "data": {
      "text/html": [
       "<div>\n",
       "<style scoped>\n",
       "    .dataframe tbody tr th:only-of-type {\n",
       "        vertical-align: middle;\n",
       "    }\n",
       "\n",
       "    .dataframe tbody tr th {\n",
       "        vertical-align: top;\n",
       "    }\n",
       "\n",
       "    .dataframe thead th {\n",
       "        text-align: right;\n",
       "    }\n",
       "</style>\n",
       "<table border=\"1\" class=\"dataframe\">\n",
       "  <thead>\n",
       "    <tr style=\"text-align: right;\">\n",
       "      <th>trasmissione</th>\n",
       "      <th>0</th>\n",
       "      <th>1</th>\n",
       "    </tr>\n",
       "    <tr>\n",
       "      <th>marce</th>\n",
       "      <th></th>\n",
       "      <th></th>\n",
       "    </tr>\n",
       "  </thead>\n",
       "  <tbody>\n",
       "    <tr>\n",
       "      <th>3</th>\n",
       "      <td>0.46875</td>\n",
       "      <td>0.00000</td>\n",
       "    </tr>\n",
       "    <tr>\n",
       "      <th>4</th>\n",
       "      <td>0.12500</td>\n",
       "      <td>0.25000</td>\n",
       "    </tr>\n",
       "    <tr>\n",
       "      <th>5</th>\n",
       "      <td>0.00000</td>\n",
       "      <td>0.15625</td>\n",
       "    </tr>\n",
       "  </tbody>\n",
       "</table>\n",
       "</div>"
      ],
      "text/plain": [
       "trasmissione        0        1\n",
       "marce                         \n",
       "3             0.46875  0.00000\n",
       "4             0.12500  0.25000\n",
       "5             0.00000  0.15625"
      ]
     },
     "execution_count": 88,
     "metadata": {},
     "output_type": "execute_result"
    }
   ],
   "source": [
    "# 6.2) Tabelle congiunte assolute:\n",
    "abs=pd.crosstab(index=df['marce'],columns=df['trasmissione'],normalize=True)\n",
    "abs"
   ]
  },
  {
   "cell_type": "markdown",
   "id": "f97cbccb-9bcf-4216-8a6c-ce933ed88d4d",
   "metadata": {},
   "source": [
    "0 automatica, 1 manuale\n",
    "1) 0 macchine hanno 5 marce e trasm automatica\n",
    "2) 5macchine hanno 5 marce e trasm manuale\n",
    "3) 0%\n",
    "4) 15%\n",
    "5) 12.5% + 25% = 37,5%\n",
    "6) 8/13 = 61.5%"
   ]
  },
  {
   "cell_type": "code",
   "execution_count": 277,
   "id": "f74d27b5-1b36-47a7-bdfd-0f6f3d4267a4",
   "metadata": {},
   "outputs": [
    {
     "data": {
      "text/plain": [
       "RangeIndex(start=0, stop=32, step=1)"
      ]
     },
     "execution_count": 277,
     "metadata": {},
     "output_type": "execute_result"
    }
   ],
   "source": [
    "df.index"
   ]
  },
  {
   "cell_type": "markdown",
   "id": "6c0bf981-901b-4775-a587-858d9471db83",
   "metadata": {},
   "source": [
    "# Esercizio 5"
   ]
  },
  {
   "cell_type": "code",
   "execution_count": 91,
   "id": "3c184d64-4106-43cd-b495-fe097187454b",
   "metadata": {},
   "outputs": [
    {
     "data": {
      "text/html": [
       "<div>\n",
       "<style scoped>\n",
       "    .dataframe tbody tr th:only-of-type {\n",
       "        vertical-align: middle;\n",
       "    }\n",
       "\n",
       "    .dataframe tbody tr th {\n",
       "        vertical-align: top;\n",
       "    }\n",
       "\n",
       "    .dataframe thead th {\n",
       "        text-align: right;\n",
       "    }\n",
       "</style>\n",
       "<table border=\"1\" class=\"dataframe\">\n",
       "  <thead>\n",
       "    <tr style=\"text-align: right;\">\n",
       "      <th>col_0</th>\n",
       "      <th>fr</th>\n",
       "    </tr>\n",
       "    <tr>\n",
       "      <th>marce</th>\n",
       "      <th></th>\n",
       "    </tr>\n",
       "  </thead>\n",
       "  <tbody>\n",
       "    <tr>\n",
       "      <th>3</th>\n",
       "      <td>0.46875</td>\n",
       "    </tr>\n",
       "    <tr>\n",
       "      <th>4</th>\n",
       "      <td>0.37500</td>\n",
       "    </tr>\n",
       "    <tr>\n",
       "      <th>5</th>\n",
       "      <td>0.15625</td>\n",
       "    </tr>\n",
       "  </tbody>\n",
       "</table>\n",
       "</div>"
      ],
      "text/plain": [
       "col_0       fr\n",
       "marce         \n",
       "3      0.46875\n",
       "4      0.37500\n",
       "5      0.15625"
      ]
     },
     "execution_count": 91,
     "metadata": {},
     "output_type": "execute_result"
    }
   ],
   "source": [
    "marce=pd.crosstab(index=df['marce'],columns=['fr'],normalize=True)\n",
    "marce"
   ]
  },
  {
   "cell_type": "markdown",
   "id": "32c842b2-edea-4f35-bc6e-16a09f141d0a",
   "metadata": {},
   "source": [
    "5.2) 37,5%\n",
    "5.3) 0.8 * 0.46 + 0.37 * 0.17 + 0.15 * 0.6 = 52.09%"
   ]
  },
  {
   "cell_type": "markdown",
   "id": "ab6f24eb-4f3f-4539-9e2b-799a2aeda068",
   "metadata": {},
   "source": [
    "# Esercizio 6\n"
   ]
  },
  {
   "cell_type": "code",
   "execution_count": 122,
   "id": "48ab5b48-dadb-4eea-b08f-6417c4c49310",
   "metadata": {},
   "outputs": [
    {
     "data": {
      "image/png": "[encoded data removed]",
      "text/plain": [
       "<Figure size 640x480 with 1 Axes>"
      ]
     },
     "metadata": {},
     "output_type": "display_data"
    }
   ],
   "source": [
    "x=np.arange(0,25,1)\n",
    "df['test400metri'].plot.hist(bins=10)\n",
    "plt.xticks(x)\n",
    "plt.show()"
   ]
  },
  {
   "cell_type": "code",
   "execution_count": 125,
   "id": "f62e559c-c0f6-480c-ad89-0183d1e1ac6f",
   "metadata": {},
   "outputs": [],
   "source": [
    "metri=df['test400metri']"
   ]
  },
  {
   "cell_type": "code",
   "execution_count": 126,
   "id": "87726075-5f60-462b-ac01-2f13e7309f25",
   "metadata": {},
   "outputs": [
    {
     "data": {
      "text/plain": [
       "17.71"
      ]
     },
     "execution_count": 126,
     "metadata": {},
     "output_type": "execute_result"
    }
   ],
   "source": [
    "metri.median()"
   ]
  },
  {
   "cell_type": "code",
   "execution_count": 127,
   "id": "2ddff7e9-9f85-4059-ae33-4ae19667fa62",
   "metadata": {},
   "outputs": [
    {
     "data": {
      "text/plain": [
       "17.848750000000003"
      ]
     },
     "execution_count": 127,
     "metadata": {},
     "output_type": "execute_result"
    }
   ],
   "source": [
    "metri.mean()"
   ]
  },
  {
   "cell_type": "code",
   "execution_count": 135,
   "id": "407785f9-f679-4bc0-9196-b715fac5b01c",
   "metadata": {},
   "outputs": [
    {
     "data": {
      "image/png": "[encoded data removed]",
      "text/plain": [
       "<Figure size 640x480 with 1 Axes>"
      ]
     },
     "metadata": {},
     "output_type": "display_data"
    }
   ],
   "source": [
    "x=np.arange(15,25,1)\n",
    "metri.plot.box(vert=False)\n",
    "plt.xticks(x)\n",
    "plt.show()"
   ]
  },
  {
   "cell_type": "code",
   "execution_count": 136,
   "id": "e24150b8-7186-4b5d-9092-6f6cfa567f75",
   "metadata": {},
   "outputs": [
    {
     "data": {
      "text/plain": [
       "3.193166129032258"
      ]
     },
     "execution_count": 136,
     "metadata": {},
     "output_type": "execute_result"
    }
   ],
   "source": [
    "metri.var()"
   ]
  },
  {
   "cell_type": "code",
   "execution_count": 137,
   "id": "40a2e9cc-666c-41f1-982a-6ee5bff0b4af",
   "metadata": {},
   "outputs": [
    {
     "data": {
      "text/plain": [
       "1.7869432360968431"
      ]
     },
     "execution_count": 137,
     "metadata": {},
     "output_type": "execute_result"
    }
   ],
   "source": [
    "math.sqrt(metri.var())"
   ]
  },
  {
   "cell_type": "code",
   "execution_count": 148,
   "id": "161341d4-7204-4b5c-bda8-f304243eb12c",
   "metadata": {},
   "outputs": [
    {
     "data": {
      "image/png": "[encoded data removed]",
      "text/plain": [
       "<Figure size 640x480 with 1 Axes>"
      ]
     },
     "metadata": {},
     "output_type": "display_data"
    }
   ],
   "source": [
    "sm.qqplot(metri,line='45',dist=sp.norm(metri.mean(),math.sqrt(metri.var())))\n",
    "plt.show()"
   ]
  },
  {
   "cell_type": "code",
   "execution_count": 162,
   "id": "b089b218-4f8f-4052-8916-1a0b78043fca",
   "metadata": {},
   "outputs": [
    {
     "data": {
      "image/png": "[encoded data removed]",
      "text/plain": [
       "<Figure size 640x480 with 1 Axes>"
      ]
     },
     "metadata": {},
     "output_type": "display_data"
    }
   ],
   "source": [
    "x=np.arange(metri.min(),metri.max(),0.01)\n",
    "n=sp.norm(metri.mean(),metri.var())\n",
    "plt.plot(x,n.pdf(x))\n",
    "plt.show()"
   ]
  },
  {
   "cell_type": "markdown",
   "id": "628ddc73-fc89-4487-8326-f519fe8225c8",
   "metadata": {},
   "source": [
    "# Esercizio 7"
   ]
  },
  {
   "cell_type": "code",
   "execution_count": 281,
   "id": "597ca2fe-848d-4b15-9ceb-2a870d83a71a",
   "metadata": {},
   "outputs": [
    {
     "data": {
      "text/html": [
       "<div>\n",
       "<style scoped>\n",
       "    .dataframe tbody tr th:only-of-type {\n",
       "        vertical-align: middle;\n",
       "    }\n",
       "\n",
       "    .dataframe tbody tr th {\n",
       "        vertical-align: top;\n",
       "    }\n",
       "\n",
       "    .dataframe thead th {\n",
       "        text-align: right;\n",
       "    }\n",
       "</style>\n",
       "<table border=\"1\" class=\"dataframe\">\n",
       "  <thead>\n",
       "    <tr style=\"text-align: right;\">\n",
       "      <th></th>\n",
       "      <th>modello</th>\n",
       "      <th>consumo</th>\n",
       "      <th>cilindrata</th>\n",
       "    </tr>\n",
       "  </thead>\n",
       "  <tbody>\n",
       "    <tr>\n",
       "      <th>0</th>\n",
       "      <td>Duster 360</td>\n",
       "      <td>14.3</td>\n",
       "      <td>245</td>\n",
       "    </tr>\n",
       "    <tr>\n",
       "      <th>1</th>\n",
       "      <td>Cadillac Fleetwood</td>\n",
       "      <td>10.4</td>\n",
       "      <td>205</td>\n",
       "    </tr>\n",
       "    <tr>\n",
       "      <th>2</th>\n",
       "      <td>Lincoln Continental</td>\n",
       "      <td>10.4</td>\n",
       "      <td>215</td>\n",
       "    </tr>\n",
       "    <tr>\n",
       "      <th>3</th>\n",
       "      <td>Chrysler Imperial</td>\n",
       "      <td>14.7</td>\n",
       "      <td>230</td>\n",
       "    </tr>\n",
       "    <tr>\n",
       "      <th>4</th>\n",
       "      <td>Camaro Z28</td>\n",
       "      <td>13.3</td>\n",
       "      <td>245</td>\n",
       "    </tr>\n",
       "    <tr>\n",
       "      <th>5</th>\n",
       "      <td>Ford Pantera L</td>\n",
       "      <td>15.8</td>\n",
       "      <td>264</td>\n",
       "    </tr>\n",
       "    <tr>\n",
       "      <th>6</th>\n",
       "      <td>Maserati Bora</td>\n",
       "      <td>15.0</td>\n",
       "      <td>335</td>\n",
       "    </tr>\n",
       "  </tbody>\n",
       "</table>\n",
       "</div>"
      ],
      "text/plain": [
       "               modello  consumo  cilindrata\n",
       "0           Duster 360     14.3         245\n",
       "1   Cadillac Fleetwood     10.4         205\n",
       "2  Lincoln Continental     10.4         215\n",
       "3    Chrysler Imperial     14.7         230\n",
       "4           Camaro Z28     13.3         245\n",
       "5       Ford Pantera L     15.8         264\n",
       "6        Maserati Bora     15.0         335"
      ]
     },
     "execution_count": 281,
     "metadata": {},
     "output_type": "execute_result"
    }
   ],
   "source": [
    "bolidi = df[df['cilindrata']>180][['modello', 'consumo']].reset_index(drop=True)\n",
    "nobolidi = df[df['cilindrata']<=180][['modello', 'consumo']].reset_index(drop=True)\n",
    "bolidi"
   ]
  },
  {
   "cell_type": "code",
   "execution_count": 226,
   "id": "a1e8a485-1470-4faf-a5ec-584c94675327",
   "metadata": {},
   "outputs": [
    {
     "data": {
      "text/plain": [
       "7"
      ]
     },
     "execution_count": 226,
     "metadata": {},
     "output_type": "execute_result"
    }
   ],
   "source": [
    "len(bolidi)"
   ]
  },
  {
   "cell_type": "code",
   "execution_count": 260,
   "id": "96d18664-c22d-40de-b868-2d1e85553656",
   "metadata": {},
   "outputs": [
    {
     "data": {
      "text/html": [
       "<div>\n",
       "<style scoped>\n",
       "    .dataframe tbody tr th:only-of-type {\n",
       "        vertical-align: middle;\n",
       "    }\n",
       "\n",
       "    .dataframe tbody tr th {\n",
       "        vertical-align: top;\n",
       "    }\n",
       "\n",
       "    .dataframe thead th {\n",
       "        text-align: right;\n",
       "    }\n",
       "</style>\n",
       "<table border=\"1\" class=\"dataframe\">\n",
       "  <thead>\n",
       "    <tr style=\"text-align: right;\">\n",
       "      <th></th>\n",
       "      <th>consumo</th>\n",
       "    </tr>\n",
       "  </thead>\n",
       "  <tbody>\n",
       "    <tr>\n",
       "      <th>count</th>\n",
       "      <td>7.000000</td>\n",
       "    </tr>\n",
       "    <tr>\n",
       "      <th>mean</th>\n",
       "      <td>13.414286</td>\n",
       "    </tr>\n",
       "    <tr>\n",
       "      <th>std</th>\n",
       "      <td>2.191977</td>\n",
       "    </tr>\n",
       "    <tr>\n",
       "      <th>min</th>\n",
       "      <td>10.400000</td>\n",
       "    </tr>\n",
       "    <tr>\n",
       "      <th>25%</th>\n",
       "      <td>11.850000</td>\n",
       "    </tr>\n",
       "    <tr>\n",
       "      <th>50%</th>\n",
       "      <td>14.300000</td>\n",
       "    </tr>\n",
       "    <tr>\n",
       "      <th>75%</th>\n",
       "      <td>14.850000</td>\n",
       "    </tr>\n",
       "    <tr>\n",
       "      <th>max</th>\n",
       "      <td>15.800000</td>\n",
       "    </tr>\n",
       "  </tbody>\n",
       "</table>\n",
       "</div>"
      ],
      "text/plain": [
       "         consumo\n",
       "count   7.000000\n",
       "mean   13.414286\n",
       "std     2.191977\n",
       "min    10.400000\n",
       "25%    11.850000\n",
       "50%    14.300000\n",
       "75%    14.850000\n",
       "max    15.800000"
      ]
     },
     "execution_count": 260,
     "metadata": {},
     "output_type": "execute_result"
    }
   ],
   "source": [
    "bolidi.describe()"
   ]
  },
  {
   "cell_type": "code",
   "execution_count": 264,
   "id": "c0195a6d-848f-4ff7-8eaf-f4092e147566",
   "metadata": {},
   "outputs": [
    {
     "data": {
      "text/plain": [
       "11.850000000000001"
      ]
     },
     "execution_count": 264,
     "metadata": {},
     "output_type": "execute_result"
    }
   ],
   "source": [
    "bolidi['consumo'].quantile(.25)"
   ]
  },
  {
   "cell_type": "code",
   "execution_count": 265,
   "id": "1c9fffee-16b2-4952-aa6b-ae22d7fe867d",
   "metadata": {},
   "outputs": [
    {
     "data": {
      "text/plain": [
       "11.850000000000001"
      ]
     },
     "execution_count": 265,
     "metadata": {},
     "output_type": "execute_result"
    }
   ],
   "source": [
    "np.percentile(bolidi['consumo'],25)"
   ]
  },
  {
   "cell_type": "markdown",
   "id": "4071c88d-3a82-449e-9daf-f289fc45a534",
   "metadata": {},
   "source": [
    "Primo quartile: 14.50\n",
    "\n",
    "Terzo quartile: 25.50"
   ]
  },
  {
   "cell_type": "code",
   "execution_count": 236,
   "id": "30796e3c-6871-4f60-9a0a-68eba075b928",
   "metadata": {},
   "outputs": [
    {
     "data": {
      "image/png": "[encoded data removed]",
      "text/plain": [
       "<Figure size 640x480 with 1 Axes>"
      ]
     },
     "metadata": {},
     "output_type": "display_data"
    }
   ],
   "source": [
    "plt.bar(bolidi['modello'], bolidi['consumo'], color='skyblue')\n",
    "plt.axhline(bolidi['consumo'].mean(), color='red', linestyle='dashed', linewidth=1)\n",
    "plt.axhline(df['consumo'].mean(), color='orange', linestyle='dashed', linewidth=1)\n",
    "plt.axhline(nobolidi['consumo'].mean(), color='green', linestyle='dashed', linewidth=1)\n",
    "plt.xticks(rotation=45)\n",
    "plt.show()"
   ]
  },
  {
   "cell_type": "code",
   "execution_count": 205,
   "id": "3ae598c5-a157-4043-9136-a294c623d71c",
   "metadata": {},
   "outputs": [
    {
     "data": {
      "text/plain": [
       "13.414285714285713"
      ]
     },
     "execution_count": 205,
     "metadata": {},
     "output_type": "execute_result"
    }
   ],
   "source": [
    "bolidi['consumo'].mean()"
   ]
  },
  {
   "cell_type": "code",
   "execution_count": 237,
   "id": "633722ae-9d61-4ff0-99fb-39476171cec0",
   "metadata": {},
   "outputs": [
    {
     "data": {
      "text/plain": [
       "21.9564"
      ]
     },
     "execution_count": 237,
     "metadata": {},
     "output_type": "execute_result"
    }
   ],
   "source": [
    "nobolidi['consumo'].mean()"
   ]
  },
  {
   "cell_type": "code",
   "execution_count": 270,
   "id": "9e9ad7cd-e931-4faf-8c42-a2905b7a8068",
   "metadata": {},
   "outputs": [
    {
     "data": {
      "text/plain": [
       "20.0878125"
      ]
     },
     "execution_count": 270,
     "metadata": {},
     "output_type": "execute_result"
    }
   ],
   "source": [
    "df['consumo'].mean()"
   ]
  },
  {
   "cell_type": "markdown",
   "id": "fc12cd88-1213-4620-b031-52d6e4fe1f77",
   "metadata": {},
   "source": [
    "Notiamo che i bolidi non hanno poi un consumo cosi elevato. La loro media è nettamente inferiore ai veicoli con cilindrata inferiore a 180"
   ]
  },
  {
   "cell_type": "markdown",
   "id": "32e549ba-2526-4696-a927-ce8a7ea78b02",
   "metadata": {},
   "source": [
    "# Esercizio 8"
   ]
  },
  {
   "cell_type": "code",
   "execution_count": 244,
   "id": "6f89f46c-0ed8-41e2-b667-14cd628d7b74",
   "metadata": {},
   "outputs": [
    {
     "data": {
      "image/png": "[encoded data removed]",
      "text/plain": [
       "<Figure size 640x480 with 1 Axes>"
      ]
     },
     "metadata": {},
     "output_type": "display_data"
    }
   ],
   "source": [
    "cilindrata=df['cilindrata']\n",
    "metri=df['test400metri']\n",
    "x=np.arange(40,350,25)\n",
    "y=np.arange(5,30,2)\n",
    "plt.scatter(cilindrata,metri)\n",
    "plt.xticks(x)\n",
    "plt.yticks(y)\n",
    "plt.xlabel('cilindrata')\n",
    "plt.ylabel('test 400 metri')\n",
    "plt.show()"
   ]
  },
  {
   "cell_type": "markdown",
   "id": "e805b4ea-92e7-4449-a407-c78e19186175",
   "metadata": {},
   "source": [
    "All'aumentare della cilindrata il tempo pare diminuire"
   ]
  },
  {
   "cell_type": "markdown",
   "id": "26ee6e6a-d053-4371-a1eb-11fc6249037c",
   "metadata": {},
   "source": [
    "possiamo utilizzare l'indice di correlazione lineare per verificare se è presente una correlazione tra i due caratteri"
   ]
  },
  {
   "cell_type": "code",
   "execution_count": 245,
   "id": "e6b8def4-c275-42f8-b5da-37aa36114bd9",
   "metadata": {},
   "outputs": [
    {
     "data": {
      "text/plain": [
       "-0.7082233888619532"
      ]
     },
     "execution_count": 245,
     "metadata": {},
     "output_type": "execute_result"
    }
   ],
   "source": [
    "cilindrata.corr(metri)"
   ]
  },
  {
   "cell_type": "markdown",
   "id": "fb687c40-b0a5-49be-8f01-9246047b14df",
   "metadata": {},
   "source": [
    "vi è una notevole correlazione negativa, il che spiega che all'aumentare del valore di un carattere, diminuisce il valore del secondo"
   ]
  },
  {
   "cell_type": "markdown",
   "id": "b933138a-9b75-4b0e-9a16-cbb6e41d865b",
   "metadata": {},
   "source": [
    "# Esercizio 9"
   ]
  },
  {
   "cell_type": "markdown",
   "id": "6be3ac28-6d80-423f-9061-00ffe5b1a03c",
   "metadata": {},
   "source": [
    "Come stima del valore atteso posso utilizzare la media campionaria"
   ]
  },
  {
   "cell_type": "code",
   "execution_count": 249,
   "id": "d5816e0e-07ef-4647-8f7d-baf1a37b43de",
   "metadata": {},
   "outputs": [
    {
     "data": {
      "text/plain": [
       "17.848750000000003"
      ]
     },
     "execution_count": 249,
     "metadata": {},
     "output_type": "execute_result"
    }
   ],
   "source": [
    "stima_e = (metri.dropna()).mean()\n",
    "stima_e"
   ]
  },
  {
   "cell_type": "code",
   "execution_count": 250,
   "id": "1f40ab5d-c7eb-4c5a-a7a9-455e21adcb68",
   "metadata": {},
   "outputs": [
    {
     "data": {
      "text/plain": [
       "32"
      ]
     },
     "execution_count": 250,
     "metadata": {},
     "output_type": "execute_result"
    }
   ],
   "source": [
    "len(metri.dropna())"
   ]
  },
  {
   "cell_type": "markdown",
   "id": "b1ae4012-5836-4d74-b68d-9aa5294a277f",
   "metadata": {},
   "source": [
    "La media campionaria è uno stimatore che non è mai distorto per il valore atteso"
   ]
  },
  {
   "cell_type": "code",
   "execution_count": 251,
   "id": "f0de237c-1a20-49a2-85e5-d9ac851f2a7e",
   "metadata": {},
   "outputs": [
    {
     "data": {
      "text/plain": [
       "1.7869432360968431"
      ]
     },
     "execution_count": 251,
     "metadata": {},
     "output_type": "execute_result"
    }
   ],
   "source": [
    "metri.std()"
   ]
  },
  {
   "cell_type": "code",
   "execution_count": 253,
   "id": "fbe75c00-f702-4c03-b9ba-74a78794b6d2",
   "metadata": {},
   "outputs": [
    {
     "data": {
      "text/plain": [
       "0.5712981015960152"
      ]
     },
     "execution_count": 253,
     "metadata": {},
     "output_type": "execute_result"
    }
   ],
   "source": [
    "sigma = metri.std()\n",
    "epsilon = 0.25\n",
    "n = len(metri.dropna())\n",
    "Z = sp.norm()\n",
    "2*Z.cdf(0.25*math.sqrt(n)/sigma)-1"
   ]
  }
 ],
 "metadata": {
  "kernelspec": {
   "display_name": "Python 3 (ipykernel)",
   "language": "python",
   "name": "python3"
  },
  "language_info": {
   "codemirror_mode": {
    "name": "ipython",
    "version": 3
   },
   "file_extension": ".py",
   "mimetype": "text/x-python",
   "name": "python",
   "nbconvert_exporter": "python",
   "pygments_lexer": "ipython3",
   "version": "3.11.4"
  }
 },
 "nbformat": 4,
 "nbformat_minor": 5
}
