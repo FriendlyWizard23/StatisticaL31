{
 "cells": [
  {
   "cell_type": "markdown",
   "id": "f35a5336-10da-41cc-80b5-c790380711d4",
   "metadata": {},
   "source": [
    "# IMPORT VARI"
   ]
  },
  {
   "cell_type": "code",
   "execution_count": 1,
   "id": "4eaac4d3-0011-4fd5-8844-76f88d390244",
   "metadata": {},
   "outputs": [],
   "source": [
    "import csv\n",
    "import numpy as np\n",
    "import matplotlib.pyplot as plt\n",
    "import pandas as pd\n",
    "\n",
    "plt.style.use('fivethirtyeight')\n",
    "plt.rc('figure', figsize=(5.0, 2.0))\n",
    "\n",
    "with open('data/heroes.csv', 'r') as heroes_file:\n",
    "  heroes_reader = csv.reader(heroes_file, delimiter=';', quotechar='\"')\n",
    "  heroes = list(heroes_reader)[1:]"
   ]
  },
  {
   "cell_type": "markdown",
   "id": "c6875999-4aca-490c-af29-70d6db8b4893",
   "metadata": {},
   "source": [
    "# LEZIONE 1: ROBACCIA DI PYTHON VARIA"
   ]
  },
  {
   "cell_type": "markdown",
   "id": "bd67683b-f97b-406f-aaca-4fd615a08c58",
   "metadata": {},
   "source": [
    "### Slicing e accesso posizionale\n",
    "- \"Gli slicing basati su indice comprenderanno il primo e l'ultimo valore specificato mentre gli slice basati su posizione escluderanno l'ultimo elemento.\n",
    "    - ```first_appearance['Wonder Girl':'Wonder Woman']```\n",
    "    - ```first_appearance[60:63]```\n",
    "- L'accesso posizionale può anche fare riferimento a numeri negativi, contando in analogia a liste e tuple a partire dall'ultimo elemento\n",
    "    - ```first_appearance[-5:]```\n",
    "- L'accesso alle liste può anche essere fatto specificando una lista (ma non una tupla) di posizioni al posto di una sola posizione, con l'effetto di ottenere i corrispondenti elementi.\n",
    "    - ```first_appearance[[1, 42, 709]]```\n",
    "- vi sono anche funzioni come .head() e .tail()\n",
    "si può utilizzare una lista di valori booleani in cui True indica gli elementi da estrarre e False quelli da filtrare:\n",
    "    - ```first_appearance[[1970 <= y <1975 for y in first_appearance]]```\n",
    "- Infine, è possibile effettuare delle query su una serie specificando tra parentesi quadre un'espressione logica che indica quali elementi visualizzare, utilizzando la serie come simbolo che ne indica un suo generico elemento:\n",
    "    - ```first_appearance[first_appearance > 2010]```\n",
    "    - Se voglio fare altre condizioni, devo per forza utilizzare l'and bitwise:\n",
    "    - ```first_appearance[(first_appearance>2010)and(first_appearance%2==1)]``` NON VA BENE\n",
    "    - ```first_appearance[(first_appearance>2010)&(first_appearance%2==1)]```"
   ]
  },
  {
   "cell_type": "markdown",
   "id": "95c703d0-0bf3-4010-86bd-42e9473a8ee5",
   "metadata": {},
   "source": [
    "# LEZIONE 2 PANDAS"
   ]
  },
  {
   "cell_type": "markdown",
   "id": "7b9f4f32-8296-48fb-8973-ef4b73bdfc85",
   "metadata": {},
   "source": [
    "### Series\n",
    "- Una delle classi principali implementate in pandas è Series."
   ]
  },
  {
   "cell_type": "code",
   "execution_count": 2,
   "id": "9e0f33f6-0acd-4129-8215-31780d727c92",
   "metadata": {},
   "outputs": [],
   "source": [
    "years = [int(h[7]) if h[7] else None for h in heroes]\n",
    "names = [h[0] for h in heroes]\n",
    "first_appearance = pd.Series(years, index = names)"
   ]
  },
  {
   "cell_type": "markdown",
   "id": "1fa0c5a8-bdcc-4208-a3f2-6cb2f2a6c013",
   "metadata": {},
   "source": [
    "- possiamo filtrare roba come visto negli appunti sopra su python\n",
    "- value_counts() restituisce un'altra serie in cui gli indici sono i valori osservati e i valori le corrispondenti frequenze assolute, ordinate in senso non crescente:"
   ]
  },
  {
   "cell_type": "code",
   "execution_count": 3,
   "id": "68408c2a-31ec-453c-99d7-3a668edb71a7",
   "metadata": {},
   "outputs": [
    {
     "data": {
      "text/plain": [
       "1964.0    18\n",
       "1963.0    18\n",
       "1965.0    14\n",
       "2004.0    11\n",
       "1975.0    10\n",
       "          ..\n",
       "2013.0     1\n",
       "1983.0     1\n",
       "1933.0     1\n",
       "1948.0     1\n",
       "1988.0     1\n",
       "Name: count, Length: 71, dtype: int64"
      ]
     },
     "execution_count": 3,
     "metadata": {},
     "output_type": "execute_result"
    }
   ],
   "source": [
    "absolutes=first_appearance.value_counts()\n",
    "absolutes"
   ]
  },
  {
   "cell_type": "markdown",
   "id": "4ebeae40-7f81-4e76-9364-24e40291d31e",
   "metadata": {},
   "source": [
    "### Visualizzazione Grafia Serie"
   ]
  },
  {
   "cell_type": "markdown",
   "id": "e5f13ed7-ece9-42c9-a3f6-eac35d333e92",
   "metadata": {},
   "source": [
    "- ```.plot()``` permette di visualizzare graficamente i contenuti di una serie, utilizzando matplotlib dietro le quinte; in particolare, il metodo bar visualizza un grafico a barre\n",
    "- ```.show()``` permette di mostrarlo poi a video\n",
    "- fare solamente cosi molte volte fa schifo, il grafico viene illeggibile. Lavorare con i valori assoluti molte volte e' meglio\n",
    "- Cosi ancora non è il massimo. Son necessarie piu informazioni:"
   ]
  },
  {
   "cell_type": "code",
   "execution_count": 4,
   "id": "b06e5ee1-64be-44a7-be32-12efa78d378e",
   "metadata": {},
   "outputs": [
    {
     "data": {
      "image/png": "[encoded data removed]",
      "text/plain": [
       "<Figure size 500x200 with 1 Axes>"
      ]
     },
     "metadata": {},
     "output_type": "display_data"
    }
   ],
   "source": [
    "years = np.arange(1945, 2010, 10)\n",
    "index_pos = [absolutes.index.get_loc(y) for y in years]\n",
    "absolutes.plot.bar()\n",
    "plt.xticks(index_pos, years)\n",
    "plt.ylim((0, 18.5))\n",
    "plt.show()"
   ]
  },
  {
   "cell_type": "markdown",
   "id": "8f3c12ae-2a2c-4d10-973a-959918eaa52c",
   "metadata": {},
   "source": [
    "- Per generare il grafico precedente è necessario utilizzare alcune funzionalità avanzate delle librerie considerate: \n",
    "  - `np.arange` permette di costruire un array i cui valori vanno di dieci in dieci partendo da 1945 e arrivando a 2005; la proprietà \n",
    "  - `index` di una serie permette di estrarne l'indice e il metodo \n",
    "  - `get_loc` di quest'ultimo restituisce la posizione corrispondente a un dato valore dell'indice. \n",
    "  - Infine, il metodo `xticks` di matplotlib permette di specificare quali valori evidenziare sull'asse delle ascisse e quali etichette utilizzare."
   ]
  },
  {
   "cell_type": "markdown",
   "id": "b1eb6021-15da-4969-9cc1-36b9a8c596d1",
   "metadata": {},
   "source": [
    "# LEZIONE 3 DATAFRAME"
   ]
  },
  {
   "cell_type": "markdown",
   "id": "347c160e-dd80-4564-8c0d-55b3ce5ad9e1",
   "metadata": {},
   "source": [
    "# LEZIONE 4"
   ]
  },
  {
   "cell_type": "markdown",
   "id": "b9ab9a72-93b4-485c-b9bb-f33770151242",
   "metadata": {},
   "source": [
    "- Ripartizione Empirica -> Diagramma a scalini (Funzione costante a tratti)\n",
    "- **CAMPIONE** = insieme di dati su cui mi baso per le mie analisi statistiche\n",
    "    - Ripartizione Empirica ci permette di generare un grafico a scaletta.\n",
    "    - Prende anche il nome di **Funzione di distribuzione cumulativa empirica**\n",
    "\n",
    "- scegliere un campione in modo rappresentativo significa non fare \"favoritismi\": Non posso estrarre chi mi fa comodo, tutti devono avere la stessa chance di finire nel mio campione."
   ]
  },
  {
   "cell_type": "markdown",
   "id": "9e89aa47-6c9e-4605-9971-8e0ffec8d4a6",
   "metadata": {},
   "source": [
    "## POSIZIONE E CENTRALITA"
   ]
  },
  {
   "cell_type": "markdown",
   "id": "9836ea97-44dc-48af-85e6-e96c0bc2cc4c",
   "metadata": {},
   "source": [
    "### MEDIA CAMPIONARIA"
   ]
  },
  {
   "cell_type": "markdown",
   "id": "033131a8-bed6-4e7b-a258-6d52e90cab4c",
   "metadata": {},
   "source": [
    "- calcolabile solamente per i dati **quantitativi**\n",
    "- mi permette di rappresentare qualcosa con un solo valore."
   ]
  },
  {
   "cell_type": "markdown",
   "id": "5deab7ab-7c97-4fc2-b03b-b17b0a4a7109",
   "metadata": {},
   "source": [
    "#### Caratteristiche Media Campionaria\n",
    "- la media campionaria SOFFRE parecchio gli outlier ( ovvero valori o troppo alti o troppo bassi rispetto al campione )\n",
    "- Spesso e volentieri non corrisponde ad alcun valore del campione"
   ]
  },
  {
   "cell_type": "markdown",
   "id": "f13a404c-5a97-4ccd-9c79-4f5534e44cc1",
   "metadata": {},
   "source": [
    "##### Traslazione\n",
    "- Se ho una media calcolata (m) di un campionario C={x1,...,xn} e traslo gli elementi di un valore +n allora anche la media viene traslata di +n"
   ]
  },
  {
   "cell_type": "markdown",
   "id": "39b64e7d-c2e7-4a42-b301-0bb164b1a2cf",
   "metadata": {},
   "source": [
    "##### Scalabilità\n",
    "- Se ho una media calcolata (m) di un campionario C={x1,...,xn} e scalo gli elementi di un valore n allora anche la media viene scalata di n"
   ]
  },
  {
   "cell_type": "markdown",
   "id": "2c2bb4a1-2668-409d-817f-a17ca812776b",
   "metadata": {},
   "source": [
    "##### Trasformazioni Afffini\n",
    "- stesso discorso vale per le trasformazioni affini "
   ]
  },
  {
   "cell_type": "markdown",
   "id": "39b9409c-de4b-4b81-b13f-d7d15ce7f6a1",
   "metadata": {},
   "source": [
    "#### Esempio"
   ]
  },
  {
   "cell_type": "code",
   "execution_count": 5,
   "id": "a2ea11b5-1fc8-40f0-b3d5-b163a95122f9",
   "metadata": {},
   "outputs": [
    {
     "name": "stdout",
     "output_type": "stream",
     "text": [
      "MEAN VALUE IS 1.6\n",
      "\n"
     ]
    },
    {
     "data": {
      "image/png": "[encoded data removed]",
      "text/plain": [
       "<Figure size 500x200 with 1 Axes>"
      ]
     },
     "metadata": {},
     "output_type": "display_data"
    }
   ],
   "source": [
    "absolutes=first_appearance[(first_appearance>2011)].value_counts().sort_index()\n",
    "print(\"MEAN VALUE IS \"+str(absolutes.mean()))\n",
    "print()\n",
    "absolutes.plot.bar()\n",
    "plt.show()"
   ]
  },
  {
   "cell_type": "markdown",
   "id": "283567bd-6e5f-44be-b686-a61210f79839",
   "metadata": {},
   "source": [
    "### MEDIANA CAMPIONARIA\n",
    "- non è influenzata dagli outlier\n",
    "- la mediana è il valore precisamente al centro del mio campione **ordinato**\n",
    "- se il valore è pari non ho un valore centrale bensi due quindi in quel caso bisogna **calcolare la media dei due valori**. Questa procedura va bene per i dati di tipo **quantitativi e qualitativi**"
   ]
  },
  {
   "cell_type": "markdown",
   "id": "2d5129d0-1b71-4586-8230-5a312eaa8b13",
   "metadata": {},
   "source": [
    "#### ESEMPIO"
   ]
  },
  {
   "cell_type": "code",
   "execution_count": 6,
   "id": "cfc0a4c1-5b6a-44b8-a71a-d3a981478385",
   "metadata": {},
   "outputs": [
    {
     "name": "stdout",
     "output_type": "stream",
     "text": [
      "MEDIAN VALUE IS 2.0\n",
      "\n"
     ]
    },
    {
     "data": {
      "text/plain": [
       "2012.0    2\n",
       "2013.0    1\n",
       "2015.0    2\n",
       "2016.0    2\n",
       "2099.0    1\n",
       "Name: count, dtype: int64"
      ]
     },
     "execution_count": 6,
     "metadata": {},
     "output_type": "execute_result"
    }
   ],
   "source": [
    "print(\"MEDIAN VALUE IS \"+str(absolutes.median()))\n",
    "print()\n",
    "absolutes"
   ]
  },
  {
   "cell_type": "markdown",
   "id": "cac8da15-3cc0-4827-8637-120e8fff46b6",
   "metadata": {},
   "source": [
    "### MODA CAMPIONARIA\n",
    "- non è altro che il valore che si presenta con maggior frequenza"
   ]
  },
  {
   "cell_type": "code",
   "execution_count": 7,
   "id": "58d0be9a-8fd1-425a-a094-6de4f0116094",
   "metadata": {},
   "outputs": [
    {
     "name": "stdout",
     "output_type": "stream",
     "text": [
      "MODA VALUE IS 2\n",
      "\n"
     ]
    },
    {
     "data": {
      "text/plain": [
       "2012.0    2\n",
       "2013.0    1\n",
       "2015.0    2\n",
       "2016.0    2\n",
       "2099.0    1\n",
       "Name: count, dtype: int64"
      ]
     },
     "execution_count": 7,
     "metadata": {},
     "output_type": "execute_result"
    }
   ],
   "source": [
    "print(\"MODA VALUE IS \"+str(absolutes.max()))\n",
    "print()\n",
    "absolutes"
   ]
  },
  {
   "cell_type": "markdown",
   "id": "be9ed2d9-5393-4bfe-82e2-194099fb5e67",
   "metadata": {},
   "source": [
    "## DISPERSIONE"
   ]
  },
  {
   "cell_type": "markdown",
   "id": "8c6a4ed0-bb68-48d0-97a5-3f1eba76a700",
   "metadata": {},
   "source": [
    "### VARIAZIONE CAMPIONARIA\n",
    "- Consideriamo:\n",
    "    - Campione A = {1,2,5,6,6}\n",
    "    - Campione B = {-40,0,5,20,35}\n",
    "- otteniamo facilmente che\n",
    "    - media campionaria A = 4\n",
    "    - media campionaria B = 4\n",
    "- Entrambi i valori si concentrano su 4 ma si disperdono in modo completamente diverso\n",
    "- per calcolare la dispersione utilizziamo la formula della **varianza campionaria**\n",
    "- Di seguito la funzione riportata\n",
    "\n",
    "\\begin{equation}\n",
    "\\hat F(x) = \\frac{\\# \\{ x_i \\leq x \\}}{n}\n",
    "= \\frac{1}{n} \\sum_{i=1}^n \\mathrm I_{(-\\infty, x]}(x_i) ,\n",
    "\\end{equation}\n",
    "\n",
    "- $\\mathrm I_A: \\mathbb R \\mapsto \\{0, 1\\}$ indica la _funzione indicatrice_ dell'insieme $A$, che assume valore nullo in corrispondenza di tutti gli argomenti che non appartengono ad $A$ e valore unitario altrimenti, e $(-\\infty, x]$ indica l'intervallo semiaperto identificato da tutti i valori reali minori o uguali a $x$. Per un generico argomento $x$, la funzione cumulativa empirica assumerà pertanto come valore la frequenza relativa cumulata del più grande tra i valori osservati $x_i \\leq x$.\n",
    "- Dunque il suo grafico sarà quello di una funzione costante a tratti. In python è presente un'implementazione della funzione cumulativa empirica nel modulo `statmodels.api`: la funzione `distributions.ECDF` accetta come input un insieme di osservazioni e restituisce la corrispondente funzione cumulativa empirica. Possiamo quindi elaborare in tal senso gli anni di prima apparizione e visualizzare il grafico corrispondente agli anni tra il 1980 e il 1990, così da poter effettuare un confronto con l'analogo grafico precedentemente generato:"
   ]
  },
  {
   "cell_type": "markdown",
   "id": "a5ca3837-9f04-4408-9f5d-0f2136cb9be5",
   "metadata": {},
   "source": [
    "#### TRASLAZIONE\n",
    "- rimange invariata, la traslazione di valori del campione non comporta alcuna modifica con la varianza.\n",
    "- questa varianza, viene identificata con \"s\" e il suo valore ha come unita di misura quella base al quadrato. \n",
    "- se voglio ottenere una vairanza con unita di misura uguale all'originale, calcolo la radice quadrata. Cosi facendo ottengo la **deviazione standard**\n",
    "- Esempio"
   ]
  },
  {
   "cell_type": "code",
   "execution_count": 8,
   "id": "05d3a202-5346-459a-967e-91411df8eaae",
   "metadata": {},
   "outputs": [
    {
     "name": "stdout",
     "output_type": "stream",
     "text": [
      "varianza: 0.3\n",
      "varianza: traslata: 0.3\n"
     ]
    }
   ],
   "source": [
    "print(\"varianza: \"+str(absolutes.var()))\n",
    "traslate=absolutes+3\n",
    "print(\"varianza: traslata: \"+str(traslate.var()))"
   ]
  },
  {
   "cell_type": "markdown",
   "id": "a6a7e06a-b875-4464-a8eb-a6c1d0be5a04",
   "metadata": {},
   "source": [
    "#### SCALABILITA\n",
    "- Se voglio verificare la scalablità per un valore b, ottengo che la varianza campionaria cambia (non ricordo la formula per calcolare quanto viene traslata )\n",
    "- Esempio:"
   ]
  },
  {
   "cell_type": "code",
   "execution_count": 9,
   "id": "99198767-a559-4896-b8a9-a218582700d9",
   "metadata": {},
   "outputs": [
    {
     "name": "stdout",
     "output_type": "stream",
     "text": [
      "varianza: 0.3\n",
      "varianza scalata: 2.7\n"
     ]
    }
   ],
   "source": [
    "print(\"varianza: \"+str(absolutes.var()))\n",
    "traslate=absolutes*3\n",
    "print(\"varianza scalata: \"+str(traslate.var()))"
   ]
  },
  {
   "cell_type": "markdown",
   "id": "3372f47f-0f47-427d-97b4-7da900e32e4d",
   "metadata": {},
   "source": [
    "## DEVIAZIONE STANDARD\n",
    "- detta in parole molto brutte, non è altro che la radice quadrata della varianza\n",
    "- infatti:"
   ]
  },
  {
   "cell_type": "code",
   "execution_count": 10,
   "id": "41c276ea-0271-4a97-be5d-ee0f33e73a86",
   "metadata": {},
   "outputs": [
    {
     "name": "stdout",
     "output_type": "stream",
     "text": [
      "varianza: 0.3\n",
      "varianza: 0.5477225575051661\n"
     ]
    }
   ],
   "source": [
    "print(\"varianza: \"+str(absolutes.var()))\n",
    "print(\"varianza: \"+str(absolutes.std()))"
   ]
  },
  {
   "cell_type": "markdown",
   "id": "a73662dd-4368-49fe-848c-a31e80519649",
   "metadata": {},
   "source": [
    "#### TRASLAZIONE\n",
    "- come per la varianza, rimane invariata chiaramente:\n",
    "- Esempio:"
   ]
  },
  {
   "cell_type": "code",
   "execution_count": 11,
   "id": "4402cd32-d5eb-417d-9adb-5b842f26d85f",
   "metadata": {},
   "outputs": [
    {
     "name": "stdout",
     "output_type": "stream",
     "text": [
      "STD: 0.5477225575051661\n",
      "STD traslata: 0.5477225575051661\n"
     ]
    }
   ],
   "source": [
    "print(\"STD: \"+str(absolutes.std()))\n",
    "traslate=absolutes+3\n",
    "print(\"STD traslata: \"+str(traslate.std()))"
   ]
  },
  {
   "cell_type": "markdown",
   "id": "ba481770-e84c-472e-b6e6-066f32f11e60",
   "metadata": {},
   "source": [
    "#### SCALABILITA\n",
    "- come per la varianza, varia:\n",
    "- Esempio:"
   ]
  },
  {
   "cell_type": "code",
   "execution_count": 12,
   "id": "8b535180-dc73-44c0-bdba-8611306c58b8",
   "metadata": {},
   "outputs": [
    {
     "name": "stdout",
     "output_type": "stream",
     "text": [
      "STD: 0.5477225575051661\n",
      "STD SCALATA: 1.6431676725154984\n"
     ]
    }
   ],
   "source": [
    "print(\"STD: \"+str(absolutes.std()))\n",
    "traslate=absolutes*3\n",
    "print(\"STD SCALATA: \"+str(traslate.std()))"
   ]
  },
  {
   "cell_type": "markdown",
   "id": "91b5bd7b-6518-4f6c-8cbc-684665899ff3",
   "metadata": {},
   "source": [
    "### COEFF. DI VARIAZIONE\n",
    "- Il coefficiente di variazione (CV) è una misura di statistica descrittiva che aiuta a quantificare in modo oggettivo quanto sia grande il valore di una deviazione standard rispetto alla sua media.\n",
    "- si calcola nel seguente modo:\n",
    "\\begin{equation}\n",
    "\\frac{std}{media}\n",
    "\\end{equation}\n",
    "- Esempio:"
   ]
  },
  {
   "cell_type": "code",
   "execution_count": 13,
   "id": "526d3306-286c-4047-8db6-9697e1037b14",
   "metadata": {},
   "outputs": [
    {
     "name": "stdout",
     "output_type": "stream",
     "text": [
      "STD: 0.5477225575051661\n",
      "COEFF VARIAZIONE: 0.34232659844072877\n"
     ]
    }
   ],
   "source": [
    "print(\"STD: \"+str(absolutes.std()))\n",
    "print(\"COEFF VARIAZIONE: \"+str(absolutes.std()/absolutes.mean()))"
   ]
  },
  {
   "cell_type": "markdown",
   "id": "04bf1e70-4413-4c38-b205-84dac55c7b0d",
   "metadata": {},
   "source": [
    "### PERCENTILE CAMPIONARIO\n",
    "- dipende dal \"livello\" p dove questo p è un numero che esprime una percentuale.\n",
    "- se al posto di percentuale, il livello lo esprimo in\n",
    "    - 0, ... ,1  -> parlo di **quantili**\n",
    "    - 0, ... ,4 ->  parlo di **quartili**\n",
    "    - 0, ... ,10 -> parlo di **decili**\n",
    "- posso vedere informazioni su percentili e altro con il metodo .describe"
   ]
  },
  {
   "cell_type": "code",
   "execution_count": 14,
   "id": "f7c2760c-ee62-4270-8ddb-f11b070bc156",
   "metadata": {},
   "outputs": [
    {
     "data": {
      "text/plain": [
       "count     367.000000\n",
       "mean     1979.855586\n",
       "std        19.717218\n",
       "min      1933.000000\n",
       "25%      1965.000000\n",
       "50%      1979.000000\n",
       "75%      1994.000000\n",
       "max      2099.000000\n",
       "Name: First appearance, dtype: float64"
      ]
     },
     "execution_count": 14,
     "metadata": {},
     "output_type": "execute_result"
    }
   ],
   "source": [
    "heroes = pd.read_csv('data/heroes.csv', sep=';', index_col=0)\n",
    "year = heroes['First appearance']\n",
    "year.describe() "
   ]
  },
  {
   "cell_type": "markdown",
   "id": "5bb7f3ac-f2d0-4f98-871b-268bc78e46e9",
   "metadata": {},
   "source": [
    "- se voglio accedere ad un particolare livello di quantile posso fare in questo modo"
   ]
  },
  {
   "cell_type": "code",
   "execution_count": 15,
   "id": "47b1d403-baff-4254-923c-1a89965bde01",
   "metadata": {},
   "outputs": [
    {
     "name": "stdout",
     "output_type": "stream",
     "text": [
      "1963.0\n",
      "1994.0\n"
     ]
    }
   ],
   "source": [
    "print(year.quantile(.15))\n",
    "print(year.quantile(.75))"
   ]
  },
  {
   "cell_type": "markdown",
   "id": "e108b3c1-f323-44ad-9b3b-3b5f208efaa8",
   "metadata": {},
   "source": [
    "### BOX PLOT\n",
    "- è una rappresentazione grafica che riassume le principali caratteristiche di un campione di dati.\n",
    "- Tale rappresentazione contiene due componenti principali:\n",
    "    - una _scatola_, intesa come un rettangolo che evidenzia il primo e il terzo quartile campionario dei dati, che corrispondono alle due basi, e la mediana, indicata tramite un segmento parallelo alle basi stesse;\n",
    "    - due _baffi_, che si estendono dagli estremi della scatola fino a raggiungere il minimo e il massimo valore osservato.\n",
    "\n",
    "- A titolo di esempio la cella seguente visualizza il box plot relativo all'anno di prima apparizione."
   ]
  },
  {
   "cell_type": "code",
   "execution_count": 16,
   "id": "5b6bf529-8d4b-44da-88b2-e5f3053ecd53",
   "metadata": {},
   "outputs": [
    {
     "data": {
      "image/png": "[encoded data removed]",
      "text/plain": [
       "<Figure size 500x200 with 1 Axes>"
      ]
     },
     "metadata": {},
     "output_type": "display_data"
    }
   ],
   "source": [
    "year.plot.box()\n",
    "plt.show()"
   ]
  },
  {
   "cell_type": "markdown",
   "id": "f365888c-6870-4e3c-ad28-8b805eca7f8e",
   "metadata": {},
   "source": [
    "- Questo grafico mette in evidenza:\n",
    "    - la centralità delle osservazioni, tramite il segmento che individua la mediana campionaria;\n",
    "    - la dispersione delle osservazioni:\n",
    "        - sia in termini di range interquartile (l'altezza della scatola)\n",
    "        - che di intervallo di variazione dei dati (la distanza tra gli estremi dei baffi).\n",
    "- Vale la pena sottolineare che la presenza di eventuali valori mancanti non influisce sulla generazione del grafico.\n",
    "- necessario specificare \"whis\" ( whiskers, baffi ) per non mostrare gli outliers ( i cerchietti ). ( da me non funziona, chiedere al prof )\n",
    "- Il BOX PLOT si puo anche generare verticalmente:"
   ]
  },
  {
   "cell_type": "code",
   "execution_count": 17,
   "id": "2c06cdb9-56bb-4624-8f4b-aabc76aedc5e",
   "metadata": {},
   "outputs": [
    {
     "data": {
      "image/png": "[encoded data removed]",
      "text/plain": [
       "<Figure size 500x200 with 1 Axes>"
      ]
     },
     "metadata": {},
     "output_type": "display_data"
    }
   ],
   "source": [
    "year.plot.box(vert=False,whis=10) # mettendo un valore numerico funziona, forse il range viene specificato con un valore ora? idk\n",
    "plt.show()"
   ]
  },
  {
   "cell_type": "code",
   "execution_count": null,
   "id": "b68fdae9-c239-4ea9-86c2-c54f36af46e5",
   "metadata": {},
   "outputs": [],
   "source": []
  },
  {
   "cell_type": "code",
   "execution_count": null,
   "id": "8416886a-9258-4f92-a682-fba8d7853eb5",
   "metadata": {},
   "outputs": [],
   "source": []
  }
 ],
 "metadata": {
  "kernelspec": {
   "display_name": "Python 3 (ipykernel)",
   "language": "python",
   "name": "python3"
  },
  "language_info": {
   "codemirror_mode": {
    "name": "ipython",
    "version": 3
   },
   "file_extension": ".py",
   "mimetype": "text/x-python",
   "name": "python",
   "nbconvert_exporter": "python",
   "pygments_lexer": "ipython3",
   "version": "3.11.4"
  }
 },
 "nbformat": 4,
 "nbformat_minor": 5
}
