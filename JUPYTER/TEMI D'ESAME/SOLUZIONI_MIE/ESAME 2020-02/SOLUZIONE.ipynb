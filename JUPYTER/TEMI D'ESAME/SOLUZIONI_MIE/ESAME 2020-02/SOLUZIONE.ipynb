{
 "cells": [
  {
   "cell_type": "code",
   "execution_count": 130,
   "id": "3b62cac1-f6be-4f9c-90f9-3b1e11f23a6f",
   "metadata": {},
   "outputs": [],
   "source": [
    "import numpy as np\n",
    "import pandas as pd\n",
    "import matplotlib.pyplot as plt\n",
    "import scipy.stats as st\n",
    "import statsmodels.api as sm"
   ]
  },
  {
   "cell_type": "code",
   "execution_count": 14,
   "id": "81fb9a50-7f0f-45b2-beb9-cc197d15879e",
   "metadata": {},
   "outputs": [
    {
     "data": {
      "text/html": [
       "<div>\n",
       "<style scoped>\n",
       "    .dataframe tbody tr th:only-of-type {\n",
       "        vertical-align: middle;\n",
       "    }\n",
       "\n",
       "    .dataframe tbody tr th {\n",
       "        vertical-align: top;\n",
       "    }\n",
       "\n",
       "    .dataframe thead th {\n",
       "        text-align: right;\n",
       "    }\n",
       "</style>\n",
       "<table border=\"1\" class=\"dataframe\">\n",
       "  <thead>\n",
       "    <tr style=\"text-align: right;\">\n",
       "      <th></th>\n",
       "      <th>modello</th>\n",
       "      <th>consumo</th>\n",
       "      <th>cilindrata</th>\n",
       "      <th>peso</th>\n",
       "      <th>test400metri</th>\n",
       "      <th>trasmissione</th>\n",
       "      <th>marce</th>\n",
       "      <th>cilindri</th>\n",
       "    </tr>\n",
       "  </thead>\n",
       "  <tbody>\n",
       "    <tr>\n",
       "      <th>0</th>\n",
       "      <td>Mazda RX4</td>\n",
       "      <td>21.0</td>\n",
       "      <td>110</td>\n",
       "      <td>2.620</td>\n",
       "      <td>16.46</td>\n",
       "      <td>1</td>\n",
       "      <td>4</td>\n",
       "      <td>6</td>\n",
       "    </tr>\n",
       "    <tr>\n",
       "      <th>1</th>\n",
       "      <td>Mazda RX4 Wag</td>\n",
       "      <td>21.0</td>\n",
       "      <td>110</td>\n",
       "      <td>2.875</td>\n",
       "      <td>17.02</td>\n",
       "      <td>1</td>\n",
       "      <td>4</td>\n",
       "      <td>6</td>\n",
       "    </tr>\n",
       "    <tr>\n",
       "      <th>2</th>\n",
       "      <td>Datsun 710</td>\n",
       "      <td>22.8</td>\n",
       "      <td>93</td>\n",
       "      <td>2.320</td>\n",
       "      <td>18.61</td>\n",
       "      <td>1</td>\n",
       "      <td>4</td>\n",
       "      <td>4</td>\n",
       "    </tr>\n",
       "    <tr>\n",
       "      <th>3</th>\n",
       "      <td>Hornet 4 Drive</td>\n",
       "      <td>21.4</td>\n",
       "      <td>110</td>\n",
       "      <td>3.215</td>\n",
       "      <td>19.44</td>\n",
       "      <td>0</td>\n",
       "      <td>3</td>\n",
       "      <td>6</td>\n",
       "    </tr>\n",
       "    <tr>\n",
       "      <th>4</th>\n",
       "      <td>Hornet Sportabout</td>\n",
       "      <td>18.7</td>\n",
       "      <td>175</td>\n",
       "      <td>3.440</td>\n",
       "      <td>17.02</td>\n",
       "      <td>0</td>\n",
       "      <td>3</td>\n",
       "      <td>8</td>\n",
       "    </tr>\n",
       "    <tr>\n",
       "      <th>5</th>\n",
       "      <td>Valiant</td>\n",
       "      <td>18.1</td>\n",
       "      <td>105</td>\n",
       "      <td>3.460</td>\n",
       "      <td>20.22</td>\n",
       "      <td>0</td>\n",
       "      <td>3</td>\n",
       "      <td>6</td>\n",
       "    </tr>\n",
       "    <tr>\n",
       "      <th>6</th>\n",
       "      <td>Duster 360</td>\n",
       "      <td>14.3</td>\n",
       "      <td>245</td>\n",
       "      <td>3.570</td>\n",
       "      <td>15.84</td>\n",
       "      <td>0</td>\n",
       "      <td>3</td>\n",
       "      <td>8</td>\n",
       "    </tr>\n",
       "    <tr>\n",
       "      <th>7</th>\n",
       "      <td>Merc 240D</td>\n",
       "      <td>24.4</td>\n",
       "      <td>62</td>\n",
       "      <td>3.190</td>\n",
       "      <td>20.00</td>\n",
       "      <td>0</td>\n",
       "      <td>4</td>\n",
       "      <td>4</td>\n",
       "    </tr>\n",
       "    <tr>\n",
       "      <th>8</th>\n",
       "      <td>Merc 230</td>\n",
       "      <td>22.8</td>\n",
       "      <td>95</td>\n",
       "      <td>3.150</td>\n",
       "      <td>22.90</td>\n",
       "      <td>0</td>\n",
       "      <td>4</td>\n",
       "      <td>4</td>\n",
       "    </tr>\n",
       "    <tr>\n",
       "      <th>9</th>\n",
       "      <td>Merc 280</td>\n",
       "      <td>19.2</td>\n",
       "      <td>123</td>\n",
       "      <td>3.440</td>\n",
       "      <td>18.30</td>\n",
       "      <td>0</td>\n",
       "      <td>4</td>\n",
       "      <td>6</td>\n",
       "    </tr>\n",
       "    <tr>\n",
       "      <th>10</th>\n",
       "      <td>Merc 280C</td>\n",
       "      <td>17.8</td>\n",
       "      <td>123</td>\n",
       "      <td>3.440</td>\n",
       "      <td>18.90</td>\n",
       "      <td>0</td>\n",
       "      <td>4</td>\n",
       "      <td>6</td>\n",
       "    </tr>\n",
       "    <tr>\n",
       "      <th>11</th>\n",
       "      <td>Merc 450SE</td>\n",
       "      <td>16.4</td>\n",
       "      <td>180</td>\n",
       "      <td>4.070</td>\n",
       "      <td>17.40</td>\n",
       "      <td>0</td>\n",
       "      <td>3</td>\n",
       "      <td>8</td>\n",
       "    </tr>\n",
       "    <tr>\n",
       "      <th>12</th>\n",
       "      <td>Merc 450SL</td>\n",
       "      <td>17.3</td>\n",
       "      <td>180</td>\n",
       "      <td>3.730</td>\n",
       "      <td>17.60</td>\n",
       "      <td>0</td>\n",
       "      <td>3</td>\n",
       "      <td>8</td>\n",
       "    </tr>\n",
       "    <tr>\n",
       "      <th>13</th>\n",
       "      <td>Merc 450SLC</td>\n",
       "      <td>15.2</td>\n",
       "      <td>180</td>\n",
       "      <td>3.780</td>\n",
       "      <td>18.00</td>\n",
       "      <td>0</td>\n",
       "      <td>3</td>\n",
       "      <td>8</td>\n",
       "    </tr>\n",
       "    <tr>\n",
       "      <th>14</th>\n",
       "      <td>Cadillac Fleetwood</td>\n",
       "      <td>10.4</td>\n",
       "      <td>205</td>\n",
       "      <td>5.250</td>\n",
       "      <td>17.98</td>\n",
       "      <td>0</td>\n",
       "      <td>3</td>\n",
       "      <td>8</td>\n",
       "    </tr>\n",
       "    <tr>\n",
       "      <th>15</th>\n",
       "      <td>Lincoln Continental</td>\n",
       "      <td>10.4</td>\n",
       "      <td>215</td>\n",
       "      <td>5.424</td>\n",
       "      <td>17.82</td>\n",
       "      <td>0</td>\n",
       "      <td>3</td>\n",
       "      <td>8</td>\n",
       "    </tr>\n",
       "    <tr>\n",
       "      <th>16</th>\n",
       "      <td>Chrysler Imperial</td>\n",
       "      <td>14.7</td>\n",
       "      <td>230</td>\n",
       "      <td>5.345</td>\n",
       "      <td>17.42</td>\n",
       "      <td>0</td>\n",
       "      <td>3</td>\n",
       "      <td>8</td>\n",
       "    </tr>\n",
       "    <tr>\n",
       "      <th>17</th>\n",
       "      <td>Fiat 128</td>\n",
       "      <td>32.4</td>\n",
       "      <td>66</td>\n",
       "      <td>2.200</td>\n",
       "      <td>19.47</td>\n",
       "      <td>1</td>\n",
       "      <td>4</td>\n",
       "      <td>4</td>\n",
       "    </tr>\n",
       "    <tr>\n",
       "      <th>18</th>\n",
       "      <td>Honda Civic</td>\n",
       "      <td>30.4</td>\n",
       "      <td>52</td>\n",
       "      <td>1.615</td>\n",
       "      <td>18.52</td>\n",
       "      <td>1</td>\n",
       "      <td>4</td>\n",
       "      <td>4</td>\n",
       "    </tr>\n",
       "    <tr>\n",
       "      <th>19</th>\n",
       "      <td>Toyota Corolla</td>\n",
       "      <td>33.9</td>\n",
       "      <td>65</td>\n",
       "      <td>1.835</td>\n",
       "      <td>19.90</td>\n",
       "      <td>1</td>\n",
       "      <td>4</td>\n",
       "      <td>4</td>\n",
       "    </tr>\n",
       "    <tr>\n",
       "      <th>20</th>\n",
       "      <td>Toyota Corona</td>\n",
       "      <td>21.5</td>\n",
       "      <td>97</td>\n",
       "      <td>2.465</td>\n",
       "      <td>20.01</td>\n",
       "      <td>0</td>\n",
       "      <td>3</td>\n",
       "      <td>4</td>\n",
       "    </tr>\n",
       "    <tr>\n",
       "      <th>21</th>\n",
       "      <td>Dodge Challenger</td>\n",
       "      <td>15.5</td>\n",
       "      <td>150</td>\n",
       "      <td>3.520</td>\n",
       "      <td>16.87</td>\n",
       "      <td>0</td>\n",
       "      <td>3</td>\n",
       "      <td>8</td>\n",
       "    </tr>\n",
       "    <tr>\n",
       "      <th>22</th>\n",
       "      <td>AMC Javelin</td>\n",
       "      <td>15.2</td>\n",
       "      <td>150</td>\n",
       "      <td>3.435</td>\n",
       "      <td>17.30</td>\n",
       "      <td>0</td>\n",
       "      <td>3</td>\n",
       "      <td>8</td>\n",
       "    </tr>\n",
       "    <tr>\n",
       "      <th>23</th>\n",
       "      <td>Camaro Z28</td>\n",
       "      <td>13.3</td>\n",
       "      <td>245</td>\n",
       "      <td>3.840</td>\n",
       "      <td>15.41</td>\n",
       "      <td>0</td>\n",
       "      <td>3</td>\n",
       "      <td>8</td>\n",
       "    </tr>\n",
       "    <tr>\n",
       "      <th>24</th>\n",
       "      <td>Pontiac Firebird</td>\n",
       "      <td>19.2</td>\n",
       "      <td>175</td>\n",
       "      <td>3.845</td>\n",
       "      <td>17.05</td>\n",
       "      <td>0</td>\n",
       "      <td>3</td>\n",
       "      <td>8</td>\n",
       "    </tr>\n",
       "    <tr>\n",
       "      <th>25</th>\n",
       "      <td>Fiat X1-9</td>\n",
       "      <td>27.3</td>\n",
       "      <td>66</td>\n",
       "      <td>1.935</td>\n",
       "      <td>18.90</td>\n",
       "      <td>1</td>\n",
       "      <td>4</td>\n",
       "      <td>4</td>\n",
       "    </tr>\n",
       "    <tr>\n",
       "      <th>26</th>\n",
       "      <td>Porsche 914-2</td>\n",
       "      <td>26.0</td>\n",
       "      <td>91</td>\n",
       "      <td>2.140</td>\n",
       "      <td>16.70</td>\n",
       "      <td>1</td>\n",
       "      <td>5</td>\n",
       "      <td>4</td>\n",
       "    </tr>\n",
       "    <tr>\n",
       "      <th>27</th>\n",
       "      <td>Lotus Europa</td>\n",
       "      <td>30.4</td>\n",
       "      <td>113</td>\n",
       "      <td>1.513</td>\n",
       "      <td>16.90</td>\n",
       "      <td>1</td>\n",
       "      <td>5</td>\n",
       "      <td>4</td>\n",
       "    </tr>\n",
       "    <tr>\n",
       "      <th>28</th>\n",
       "      <td>Ford Pantera L</td>\n",
       "      <td>15.8</td>\n",
       "      <td>264</td>\n",
       "      <td>3.170</td>\n",
       "      <td>14.50</td>\n",
       "      <td>1</td>\n",
       "      <td>5</td>\n",
       "      <td>8</td>\n",
       "    </tr>\n",
       "    <tr>\n",
       "      <th>29</th>\n",
       "      <td>Ferrari Dino</td>\n",
       "      <td>19.7</td>\n",
       "      <td>175</td>\n",
       "      <td>2.770</td>\n",
       "      <td>15.50</td>\n",
       "      <td>1</td>\n",
       "      <td>5</td>\n",
       "      <td>6</td>\n",
       "    </tr>\n",
       "    <tr>\n",
       "      <th>30</th>\n",
       "      <td>Maserati Bora</td>\n",
       "      <td>15.0</td>\n",
       "      <td>335</td>\n",
       "      <td>3.570</td>\n",
       "      <td>14.60</td>\n",
       "      <td>1</td>\n",
       "      <td>5</td>\n",
       "      <td>8</td>\n",
       "    </tr>\n",
       "    <tr>\n",
       "      <th>31</th>\n",
       "      <td>Volvo 142E</td>\n",
       "      <td>21.4</td>\n",
       "      <td>109</td>\n",
       "      <td>2.780</td>\n",
       "      <td>18.60</td>\n",
       "      <td>1</td>\n",
       "      <td>4</td>\n",
       "      <td>4</td>\n",
       "    </tr>\n",
       "  </tbody>\n",
       "</table>\n",
       "</div>"
      ],
      "text/plain": [
       "                modello  consumo  cilindrata   peso  test400metri  \\\n",
       "0             Mazda RX4     21.0         110  2.620         16.46   \n",
       "1         Mazda RX4 Wag     21.0         110  2.875         17.02   \n",
       "2            Datsun 710     22.8          93  2.320         18.61   \n",
       "3        Hornet 4 Drive     21.4         110  3.215         19.44   \n",
       "4     Hornet Sportabout     18.7         175  3.440         17.02   \n",
       "5               Valiant     18.1         105  3.460         20.22   \n",
       "6            Duster 360     14.3         245  3.570         15.84   \n",
       "7             Merc 240D     24.4          62  3.190         20.00   \n",
       "8              Merc 230     22.8          95  3.150         22.90   \n",
       "9              Merc 280     19.2         123  3.440         18.30   \n",
       "10            Merc 280C     17.8         123  3.440         18.90   \n",
       "11           Merc 450SE     16.4         180  4.070         17.40   \n",
       "12           Merc 450SL     17.3         180  3.730         17.60   \n",
       "13          Merc 450SLC     15.2         180  3.780         18.00   \n",
       "14   Cadillac Fleetwood     10.4         205  5.250         17.98   \n",
       "15  Lincoln Continental     10.4         215  5.424         17.82   \n",
       "16    Chrysler Imperial     14.7         230  5.345         17.42   \n",
       "17             Fiat 128     32.4          66  2.200         19.47   \n",
       "18          Honda Civic     30.4          52  1.615         18.52   \n",
       "19       Toyota Corolla     33.9          65  1.835         19.90   \n",
       "20        Toyota Corona     21.5          97  2.465         20.01   \n",
       "21     Dodge Challenger     15.5         150  3.520         16.87   \n",
       "22          AMC Javelin     15.2         150  3.435         17.30   \n",
       "23           Camaro Z28     13.3         245  3.840         15.41   \n",
       "24     Pontiac Firebird     19.2         175  3.845         17.05   \n",
       "25            Fiat X1-9     27.3          66  1.935         18.90   \n",
       "26        Porsche 914-2     26.0          91  2.140         16.70   \n",
       "27         Lotus Europa     30.4         113  1.513         16.90   \n",
       "28       Ford Pantera L     15.8         264  3.170         14.50   \n",
       "29         Ferrari Dino     19.7         175  2.770         15.50   \n",
       "30        Maserati Bora     15.0         335  3.570         14.60   \n",
       "31           Volvo 142E     21.4         109  2.780         18.60   \n",
       "\n",
       "    trasmissione  marce  cilindri  \n",
       "0              1      4         6  \n",
       "1              1      4         6  \n",
       "2              1      4         4  \n",
       "3              0      3         6  \n",
       "4              0      3         8  \n",
       "5              0      3         6  \n",
       "6              0      3         8  \n",
       "7              0      4         4  \n",
       "8              0      4         4  \n",
       "9              0      4         6  \n",
       "10             0      4         6  \n",
       "11             0      3         8  \n",
       "12             0      3         8  \n",
       "13             0      3         8  \n",
       "14             0      3         8  \n",
       "15             0      3         8  \n",
       "16             0      3         8  \n",
       "17             1      4         4  \n",
       "18             1      4         4  \n",
       "19             1      4         4  \n",
       "20             0      3         4  \n",
       "21             0      3         8  \n",
       "22             0      3         8  \n",
       "23             0      3         8  \n",
       "24             0      3         8  \n",
       "25             1      4         4  \n",
       "26             1      5         4  \n",
       "27             1      5         4  \n",
       "28             1      5         8  \n",
       "29             1      5         6  \n",
       "30             1      5         8  \n",
       "31             1      4         4  "
      ]
     },
     "execution_count": 14,
     "metadata": {},
     "output_type": "execute_result"
    }
   ],
   "source": [
    "df=pd.read_csv('mtcars2.txt',sep='\\t', decimal=',')\n",
    "df"
   ]
  },
  {
   "cell_type": "code",
   "execution_count": 15,
   "id": "ac4b4d57-7eee-4def-b148-63bd3944b1aa",
   "metadata": {},
   "outputs": [
    {
     "data": {
      "text/plain": [
       "32"
      ]
     },
     "execution_count": 15,
     "metadata": {},
     "output_type": "execute_result"
    }
   ],
   "source": [
    "len(df)"
   ]
  },
  {
   "cell_type": "code",
   "execution_count": 17,
   "id": "2f1561aa-a2e7-400b-acb2-58146522c11f",
   "metadata": {},
   "outputs": [
    {
     "data": {
      "image/png": "[encoded data removed]",
      "text/plain": [
       "<Figure size 640x480 with 1 Axes>"
      ]
     },
     "metadata": {},
     "output_type": "display_data"
    }
   ],
   "source": [
    "cilindrata=df['cilindrata']\n",
    "cilindrata.plot.box()\n",
    "plt.show()"
   ]
  },
  {
   "cell_type": "code",
   "execution_count": 18,
   "id": "069c9421-e638-47e6-b77c-386e3cf54b30",
   "metadata": {},
   "outputs": [
    {
     "data": {
      "text/plain": [
       "count     32.000000\n",
       "mean     146.687500\n",
       "std       68.562868\n",
       "min       52.000000\n",
       "25%       96.500000\n",
       "50%      123.000000\n",
       "75%      180.000000\n",
       "max      335.000000\n",
       "Name: cilindrata, dtype: float64"
      ]
     },
     "execution_count": 18,
     "metadata": {},
     "output_type": "execute_result"
    }
   ],
   "source": [
    "cilindrata.describe()"
   ]
  },
  {
   "cell_type": "code",
   "execution_count": 23,
   "id": "51b7337f-2524-45cb-a0dc-3effb2374671",
   "metadata": {},
   "outputs": [
    {
     "data": {
      "text/plain": [
       "83.5"
      ]
     },
     "execution_count": 23,
     "metadata": {},
     "output_type": "execute_result"
    }
   ],
   "source": [
    "cilindrata.quantile(.75)-cilindrata.quantile(.25)"
   ]
  },
  {
   "cell_type": "code",
   "execution_count": 32,
   "id": "05e493a0-6493-4d4b-8d28-65ee7ba783be",
   "metadata": {},
   "outputs": [
    {
     "data": {
      "image/png": "[encoded data removed]",
      "text/plain": [
       "<Figure size 640x480 with 1 Axes>"
      ]
     },
     "metadata": {},
     "output_type": "display_data"
    }
   ],
   "source": [
    "cilindrata.value_counts().plot.bar()\n",
    "plt.show()"
   ]
  },
  {
   "cell_type": "code",
   "execution_count": 41,
   "id": "e6c204c7-9cd3-4be3-ba1a-47bacf11337e",
   "metadata": {},
   "outputs": [
    {
     "data": {
      "image/png": "[encoded data removed]",
      "text/plain": [
       "<Figure size 640x480 with 1 Axes>"
      ]
     },
     "metadata": {},
     "output_type": "display_data"
    }
   ],
   "source": [
    "cilindri=df['cilindri'].dropna()\n",
    "cilindrata=df['cilindrata'].dropna()\n",
    "x=np.arange(4,12,2)\n",
    "plt.scatter(cilindri,cilindrata)\n",
    "plt.xticks(x)\n",
    "plt.show()"
   ]
  },
  {
   "cell_type": "code",
   "execution_count": 42,
   "id": "ccb19029-a3c4-4f93-aff6-13c3a09a58a0",
   "metadata": {},
   "outputs": [
    {
     "data": {
      "text/plain": [
       "0.8324474527218194"
      ]
     },
     "execution_count": 42,
     "metadata": {},
     "output_type": "execute_result"
    }
   ],
   "source": [
    "cilindri.corr(cilindrata)"
   ]
  },
  {
   "cell_type": "code",
   "execution_count": 43,
   "id": "28d2b611-06ef-413d-8c13-46ff843e7b77",
   "metadata": {},
   "outputs": [
    {
     "data": {
      "text/plain": [
       "146.6875"
      ]
     },
     "execution_count": 43,
     "metadata": {},
     "output_type": "execute_result"
    }
   ],
   "source": [
    "cilindrata.mean()"
   ]
  },
  {
   "cell_type": "code",
   "execution_count": 44,
   "id": "ee4941c0-0179-42d1-b29b-5e0cf76778d7",
   "metadata": {},
   "outputs": [
    {
     "data": {
      "text/plain": [
       "68.56286848932059"
      ]
     },
     "execution_count": 44,
     "metadata": {},
     "output_type": "execute_result"
    }
   ],
   "source": [
    "cilindrata.std()"
   ]
  },
  {
   "cell_type": "code",
   "execution_count": 183,
   "id": "054516bf-f8a2-4bae-b894-73fe895df3c7",
   "metadata": {},
   "outputs": [],
   "source": [
    "valoriSimulati=[]\n",
    "for i in range(32):\n",
    "    valoriSimulati.append(st.norm.rvs(loc=cilindrata.mean(),scale=cilindrata.std()))\n",
    "valoriSimulati.sort()\n",
    "valoriSimulatiSorted=(pd.Series(valoriSimulati))"
   ]
  },
  {
   "cell_type": "code",
   "execution_count": 184,
   "id": "f3722226-c5fb-42fb-b908-ffb45c970f36",
   "metadata": {},
   "outputs": [
    {
     "data": {
      "image/png": "[encoded data removed]",
      "text/plain": [
       "<Figure size 640x480 with 1 Axes>"
      ]
     },
     "metadata": {},
     "output_type": "display_data"
    }
   ],
   "source": [
    "plt.scatter(cilindrata,valoriSimulati)\n",
    "plt.show()"
   ]
  },
  {
   "cell_type": "code",
   "execution_count": 185,
   "id": "eaa2d8e6-cbac-4179-96a1-e5027f8c45ca",
   "metadata": {},
   "outputs": [],
   "source": [
    "cilindrataSorted=pd.Series(cilindrata.sort_values()).reset_index()['cilindrata']"
   ]
  },
  {
   "cell_type": "code",
   "execution_count": 186,
   "id": "c1e887e7-23b0-481a-8097-16b5bbeb91d2",
   "metadata": {},
   "outputs": [
    {
     "data": {
      "image/png": "[encoded data removed]",
      "text/plain": [
       "<Figure size 640x480 with 1 Axes>"
      ]
     },
     "metadata": {},
     "output_type": "display_data"
    }
   ],
   "source": [
    "plt.scatter(cilindrataSorted,valoriSimulatiSorted)\n",
    "plt.show()"
   ]
  },
  {
   "cell_type": "code",
   "execution_count": 187,
   "id": "8e283f12-7bb9-4ceb-8e03-2f1b296cdc92",
   "metadata": {},
   "outputs": [
    {
     "data": {
      "text/plain": [
       "0.9563237919513906"
      ]
     },
     "execution_count": 187,
     "metadata": {},
     "output_type": "execute_result"
    }
   ],
   "source": [
    "cilindrataSorted.corr(valoriSimulatiSorted)"
   ]
  },
  {
   "cell_type": "code",
   "execution_count": 194,
   "id": "0f2f1398-8fe6-457c-a866-bee523f7c1ab",
   "metadata": {},
   "outputs": [
    {
     "data": {
      "image/png": "[encoded data removed]",
      "text/plain": [
       "<Figure size 640x480 with 1 Axes>"
      ]
     },
     "metadata": {},
     "output_type": "display_data"
    }
   ],
   "source": [
    "sm.qqplot(cilindrata,dist=st.norm())\n",
    "plt.show()"
   ]
  },
  {
   "cell_type": "code",
   "execution_count": 188,
   "id": "a905e705-ecef-4a48-8706-4a62d787c2cf",
   "metadata": {},
   "outputs": [
    {
     "data": {
      "image/png": "[encoded data removed]",
      "text/plain": [
       "<Figure size 640x480 with 1 Axes>"
      ]
     },
     "metadata": {},
     "output_type": "display_data"
    }
   ],
   "source": [
    "trasmissione=df['trasmissione'].value_counts()\n",
    "trasmissione.plot.pie()\n",
    "plt.show()"
   ]
  },
  {
   "cell_type": "code",
   "execution_count": 197,
   "id": "3d8d0212-088c-43c8-b72f-4bc4057069b1",
   "metadata": {},
   "outputs": [
    {
     "data": {
      "text/plain": [
       "0.40625"
      ]
     },
     "execution_count": 197,
     "metadata": {},
     "output_type": "execute_result"
    }
   ],
   "source": [
    "tr=df['trasmissione']\n",
    "tr.mean()"
   ]
  },
  {
   "cell_type": "code",
   "execution_count": 198,
   "id": "e2c0cbf1-8fb4-48cd-a9ce-b91bf63e3caa",
   "metadata": {},
   "outputs": [
    {
     "data": {
      "text/plain": [
       "32"
      ]
     },
     "execution_count": 198,
     "metadata": {},
     "output_type": "execute_result"
    }
   ],
   "source": [
    "len(tr)"
   ]
  },
  {
   "cell_type": "code",
   "execution_count": 199,
   "id": "877d2172-8a16-49a0-a770-41627873230e",
   "metadata": {},
   "outputs": [
    {
     "data": {
      "text/plain": [
       "trasmissione\n",
       "0    19\n",
       "1    13\n",
       "Name: count, dtype: int64"
      ]
     },
     "execution_count": 199,
     "metadata": {},
     "output_type": "execute_result"
    }
   ],
   "source": [
    "trasmissione"
   ]
  },
  {
   "cell_type": "code",
   "execution_count": 204,
   "id": "85b469eb-7dea-48a0-a8ff-3fd3a94b4406",
   "metadata": {},
   "outputs": [
    {
     "data": {
      "text/plain": [
       "0.59375"
      ]
     },
     "execution_count": 204,
     "metadata": {},
     "output_type": "execute_result"
    }
   ],
   "source": [
    "19/(13+19)"
   ]
  },
  {
   "cell_type": "code",
   "execution_count": 208,
   "id": "3b306fb2-8285-4559-8d31-9945e58c688b",
   "metadata": {},
   "outputs": [
    {
     "data": {
      "text/plain": [
       "0.12698102114579055"
      ]
     },
     "execution_count": 208,
     "metadata": {},
     "output_type": "execute_result"
    }
   ],
   "source": [
    "import math\n",
    "dist=st.norm()\n",
    "(tr.std()/math.sqrt(32))*dist.ppf((0.85+1)/2)"
   ]
  },
  {
   "cell_type": "code",
   "execution_count": null,
   "id": "cd136bdc-d847-4717-906f-350c38caf781",
   "metadata": {},
   "outputs": [],
   "source": []
  }
 ],
 "metadata": {
  "kernelspec": {
   "display_name": "Python 3 (ipykernel)",
   "language": "python",
   "name": "python3"
  },
  "language_info": {
   "codemirror_mode": {
    "name": "ipython",
    "version": 3
   },
   "file_extension": ".py",
   "mimetype": "text/x-python",
   "name": "python",
   "nbconvert_exporter": "python",
   "pygments_lexer": "ipython3",
   "version": "3.11.4"
  }
 },
 "nbformat": 4,
 "nbformat_minor": 5
}
