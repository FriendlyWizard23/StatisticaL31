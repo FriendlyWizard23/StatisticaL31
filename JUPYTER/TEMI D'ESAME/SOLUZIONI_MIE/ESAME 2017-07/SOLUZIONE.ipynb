{
 "cells": [
  {
   "cell_type": "code",
   "execution_count": 2,
   "id": "2c78b695-0f72-4c77-9828-0eb32307ee48",
   "metadata": {},
   "outputs": [],
   "source": [
    "import matplotlib.pyplot as plt\n",
    "import pandas as pd\n",
    "import numpy as np\n",
    "import scipy.stats as st\n",
    "import statsmodels.api as sm\n",
    "import math"
   ]
  },
  {
   "cell_type": "code",
   "execution_count": 55,
   "id": "693f522c-8e91-470d-b5c6-6eb8d46f9f81",
   "metadata": {},
   "outputs": [
    {
     "data": {
      "text/html": [
       "<div>\n",
       "<style scoped>\n",
       "    .dataframe tbody tr th:only-of-type {\n",
       "        vertical-align: middle;\n",
       "    }\n",
       "\n",
       "    .dataframe tbody tr th {\n",
       "        vertical-align: top;\n",
       "    }\n",
       "\n",
       "    .dataframe thead th {\n",
       "        text-align: right;\n",
       "    }\n",
       "</style>\n",
       "<table border=\"1\" class=\"dataframe\">\n",
       "  <thead>\n",
       "    <tr style=\"text-align: right;\">\n",
       "      <th></th>\n",
       "      <th>Anno</th>\n",
       "      <th>Biblioteca</th>\n",
       "      <th>Adulti Iscritti</th>\n",
       "      <th>Ragazzi Iscritti</th>\n",
       "      <th>Totale Iscritti</th>\n",
       "      <th>Libri Acquistati</th>\n",
       "    </tr>\n",
       "  </thead>\n",
       "  <tbody>\n",
       "    <tr>\n",
       "      <th>0</th>\n",
       "      <td>1996</td>\n",
       "      <td>Accursio</td>\n",
       "      <td>4763.0</td>\n",
       "      <td>760.0</td>\n",
       "      <td>5523.0</td>\n",
       "      <td>28257.0</td>\n",
       "    </tr>\n",
       "    <tr>\n",
       "      <th>1</th>\n",
       "      <td>1996</td>\n",
       "      <td>Affori</td>\n",
       "      <td>625.0</td>\n",
       "      <td>1682.0</td>\n",
       "      <td>7932.0</td>\n",
       "      <td>3235.0</td>\n",
       "    </tr>\n",
       "    <tr>\n",
       "      <th>2</th>\n",
       "      <td>1996</td>\n",
       "      <td>Baggio</td>\n",
       "      <td>316.0</td>\n",
       "      <td>1245.0</td>\n",
       "      <td>4405.0</td>\n",
       "      <td>20956.0</td>\n",
       "    </tr>\n",
       "    <tr>\n",
       "      <th>3</th>\n",
       "      <td>1996</td>\n",
       "      <td>Bergamini</td>\n",
       "      <td>698.0</td>\n",
       "      <td>49.0</td>\n",
       "      <td>747.0</td>\n",
       "      <td>4008.0</td>\n",
       "    </tr>\n",
       "    <tr>\n",
       "      <th>4</th>\n",
       "      <td>1996</td>\n",
       "      <td>Bibliobus</td>\n",
       "      <td>1117.0</td>\n",
       "      <td>NaN</td>\n",
       "      <td>1117.0</td>\n",
       "      <td>18584.0</td>\n",
       "    </tr>\n",
       "    <tr>\n",
       "      <th>...</th>\n",
       "      <td>...</td>\n",
       "      <td>...</td>\n",
       "      <td>...</td>\n",
       "      <td>...</td>\n",
       "      <td>...</td>\n",
       "      <td>...</td>\n",
       "    </tr>\n",
       "    <tr>\n",
       "      <th>397</th>\n",
       "      <td>2010</td>\n",
       "      <td>Valvassori Peroni</td>\n",
       "      <td>592.0</td>\n",
       "      <td>15.0</td>\n",
       "      <td>742.0</td>\n",
       "      <td>60049.0</td>\n",
       "    </tr>\n",
       "    <tr>\n",
       "      <th>398</th>\n",
       "      <td>2010</td>\n",
       "      <td>Venezia</td>\n",
       "      <td>4506.0</td>\n",
       "      <td>557.0</td>\n",
       "      <td>5063.0</td>\n",
       "      <td>41648.0</td>\n",
       "    </tr>\n",
       "    <tr>\n",
       "      <th>399</th>\n",
       "      <td>2010</td>\n",
       "      <td>Vigentina</td>\n",
       "      <td>1636.0</td>\n",
       "      <td>365.0</td>\n",
       "      <td>2001.0</td>\n",
       "      <td>17439.0</td>\n",
       "    </tr>\n",
       "    <tr>\n",
       "      <th>400</th>\n",
       "      <td>2010</td>\n",
       "      <td>Villapizzone</td>\n",
       "      <td>906.0</td>\n",
       "      <td>401.0</td>\n",
       "      <td>1307.0</td>\n",
       "      <td>13251.0</td>\n",
       "    </tr>\n",
       "    <tr>\n",
       "      <th>401</th>\n",
       "      <td>2010</td>\n",
       "      <td>Zara</td>\n",
       "      <td>2309.0</td>\n",
       "      <td>393.0</td>\n",
       "      <td>2702.0</td>\n",
       "      <td>23017.0</td>\n",
       "    </tr>\n",
       "  </tbody>\n",
       "</table>\n",
       "<p>402 rows × 6 columns</p>\n",
       "</div>"
      ],
      "text/plain": [
       "     Anno         Biblioteca  Adulti Iscritti  Ragazzi Iscritti  \\\n",
       "0    1996           Accursio           4763.0             760.0   \n",
       "1    1996             Affori            625.0            1682.0   \n",
       "2    1996             Baggio            316.0            1245.0   \n",
       "3    1996          Bergamini            698.0              49.0   \n",
       "4    1996          Bibliobus           1117.0               NaN   \n",
       "..    ...                ...              ...               ...   \n",
       "397  2010  Valvassori Peroni            592.0              15.0   \n",
       "398  2010            Venezia           4506.0             557.0   \n",
       "399  2010          Vigentina           1636.0             365.0   \n",
       "400  2010       Villapizzone            906.0             401.0   \n",
       "401  2010               Zara           2309.0             393.0   \n",
       "\n",
       "     Totale Iscritti  Libri Acquistati  \n",
       "0             5523.0           28257.0  \n",
       "1             7932.0            3235.0  \n",
       "2             4405.0           20956.0  \n",
       "3              747.0            4008.0  \n",
       "4             1117.0           18584.0  \n",
       "..               ...               ...  \n",
       "397            742.0           60049.0  \n",
       "398           5063.0           41648.0  \n",
       "399           2001.0           17439.0  \n",
       "400           1307.0           13251.0  \n",
       "401           2702.0           23017.0  \n",
       "\n",
       "[402 rows x 6 columns]"
      ]
     },
     "execution_count": 55,
     "metadata": {},
     "output_type": "execute_result"
    }
   ],
   "source": [
    "df=pd.read_csv('BibliotecheQuartiere.csv',sep=';',thousands=',')\n",
    "df"
   ]
  },
  {
   "cell_type": "code",
   "execution_count": 56,
   "id": "7d1ac1ac-6a8c-4fbd-896f-f5d4d74875e7",
   "metadata": {},
   "outputs": [
    {
     "data": {
      "text/plain": [
       "count     402.000000\n",
       "mean     2002.937811\n",
       "std         4.359598\n",
       "min      1996.000000\n",
       "25%      1999.000000\n",
       "50%      2003.000000\n",
       "75%      2007.000000\n",
       "max      2010.000000\n",
       "Name: Anno, dtype: float64"
      ]
     },
     "execution_count": 56,
     "metadata": {},
     "output_type": "execute_result"
    }
   ],
   "source": [
    "df['Anno'].describe()"
   ]
  },
  {
   "cell_type": "code",
   "execution_count": 57,
   "id": "88c4a0b3-c8b3-4cd3-8526-190a3741f9ed",
   "metadata": {},
   "outputs": [
    {
     "data": {
      "text/plain": [
       "array(['Accursio', 'Affori', 'Baggio', 'Bergamini', 'Bibliobus',\n",
       "       'Biblioteca Centrale Sormani', 'Calvairate', 'Cassina Anna',\n",
       "       'Chiesa Rossa', 'Crescenzago', 'Dergano - Bovisa',\n",
       "       \"Fra' Cristoforo\", 'Gallaratese', 'Genova', 'Gratosoglio', 'Harar',\n",
       "       'Lorenteggio', 'Montemartini**', 'Niguarda', 'Oglio',\n",
       "       'Parco Sempione', 'Pianell', 'Quarto Oggiaro', 'S. Ambrogio',\n",
       "       'Sicilia', 'Tibaldi', 'Venezia', 'Vigentina', 'Villapizzone',\n",
       "       'Venezia**', 'Pianell**', 'Accursio *', 'Genova**', 'Sicilia**',\n",
       "       'Zara**', 'Tibaldi *', 'Vigentina *', 'Zara', 'Accursio*',\n",
       "       'Chiesa Rossa*', \"Fra' Cristoforo*\", 'Oglio*', 'Quarto Oggiaro*',\n",
       "       'S. Ambrogio*', 'Tibaldi*', 'Vigentina*', 'Baggio*', 'Calvairate*',\n",
       "       'Dergano*', 'Gallaratese*', 'Niguarda*', \"Sant' Ambrogio\",\n",
       "       'Baggio *', 'Calvairate *', 'Chiesa Rossa *', 'Crescenzago*',\n",
       "       'Dergano', 'Gallaratese *', 'Gratosoglio**', 'Harar *',\n",
       "       'Lorenteggio*', 'Sicilia *', 'Villapizzone *', 'Affori *',\n",
       "       'Bergamini**', 'Cassina Anna *', 'Crescenzago *', 'Deposito',\n",
       "       'Parco Sempione *', 'Venezia*', 'Zara *', 'Valvassori Peroni **',\n",
       "       'Valvassori Peroni'], dtype=object)"
      ]
     },
     "execution_count": 57,
     "metadata": {},
     "output_type": "execute_result"
    }
   ],
   "source": [
    "df['Biblioteca'].unique()"
   ]
  },
  {
   "cell_type": "code",
   "execution_count": 58,
   "id": "47f5160d-6bb7-4766-b7a6-4e4838aa570b",
   "metadata": {},
   "outputs": [
    {
     "data": {
      "image/png": "[encoded data removed]",
      "text/plain": [
       "<Figure size 640x480 with 1 Axes>"
      ]
     },
     "metadata": {},
     "output_type": "display_data"
    }
   ],
   "source": [
    "ragazzi=df.groupby('Anno')['Ragazzi Iscritti'].sum()\n",
    "ragazzi.plot.bar()\n",
    "plt.ylabel(\"numero iscrizioni annuali per biblioteca\")\n",
    "plt.title(\"RAGAZZI ISCRITTI\")\n",
    "plt.show()"
   ]
  },
  {
   "cell_type": "code",
   "execution_count": 59,
   "id": "5099d947-46e3-4a49-b181-19968ebcebc7",
   "metadata": {},
   "outputs": [
    {
     "data": {
      "image/png": "[encoded data removed]",
      "text/plain": [
       "<Figure size 640x480 with 1 Axes>"
      ]
     },
     "metadata": {},
     "output_type": "display_data"
    }
   ],
   "source": [
    "adulti=df.groupby('Anno')['Adulti Iscritti'].sum()\n",
    "adulti.plot.bar()\n",
    "plt.ylabel(\"numero iscrizioni annuali per biblioteca\")\n",
    "plt.title(\"ADULTI ISCRITTI\")\n",
    "plt.show()"
   ]
  },
  {
   "cell_type": "code",
   "execution_count": 66,
   "id": "5e347e65-c07c-4f52-8bdd-a427841fca3b",
   "metadata": {},
   "outputs": [
    {
     "name": "stdout",
     "output_type": "stream",
     "text": [
      "13206.2\n",
      "1310.5213902434841\n",
      "0.09923531297750178\n"
     ]
    }
   ],
   "source": [
    "mean_r=ragazzi.mean()\n",
    "print(mean_r)\n",
    "std_r=ragazzi.std()\n",
    "print(std_r)\n",
    "coeff_r=std_r/mean_r\n",
    "print(coeff_r)"
   ]
  },
  {
   "cell_type": "code",
   "execution_count": 61,
   "id": "d91701e0-ddfa-4a0f-a635-1b27d6d92da3",
   "metadata": {},
   "outputs": [
    {
     "name": "stdout",
     "output_type": "stream",
     "text": [
      "47777.53333333333\n",
      "8375.92176476857\n",
      "0.17531088736481237\n"
     ]
    }
   ],
   "source": [
    "mean_a=adulti.mean()\n",
    "print(mean_a)\n",
    "std_a=adulti.std()\n",
    "print(std_a)\n",
    "coeff_a=std_a/mean_a\n",
    "print(coeff_a)"
   ]
  },
  {
   "cell_type": "code",
   "execution_count": 64,
   "id": "08327c53-a8c2-4974-b3df-9ca7a191cb5f",
   "metadata": {},
   "outputs": [
    {
     "data": {
      "image/png": "[encoded data removed]",
      "text/plain": [
       "<Figure size 640x480 with 1 Axes>"
      ]
     },
     "metadata": {},
     "output_type": "display_data"
    }
   ],
   "source": [
    "annofiltro=df[df['Anno']==2000]\n",
    "iscrizioni=annofiltro[['Adulti Iscritti','Ragazzi Iscritti']]\n",
    "iscrizioni.plot.box()\n",
    "plt.show()"
   ]
  },
  {
   "cell_type": "code",
   "execution_count": 70,
   "id": "b8680267-3011-4cff-ae95-b247f31a352b",
   "metadata": {},
   "outputs": [
    {
     "data": {
      "text/plain": [
       "0.4444444444444444"
      ]
     },
     "execution_count": 70,
     "metadata": {},
     "output_type": "execute_result"
    }
   ],
   "source": [
    "len(annofiltro[annofiltro['Ragazzi Iscritti']>300])/len(annofiltro)"
   ]
  },
  {
   "cell_type": "code",
   "execution_count": 72,
   "id": "7195e65a-1d44-42d6-817a-2eb41c2e7aa1",
   "metadata": {},
   "outputs": [
    {
     "data": {
      "text/plain": [
       "0.5555555555555556"
      ]
     },
     "execution_count": 72,
     "metadata": {},
     "output_type": "execute_result"
    }
   ],
   "source": [
    "len(annofiltro[annofiltro['Totale Iscritti']>950])/len(annofiltro)"
   ]
  },
  {
   "cell_type": "markdown",
   "id": "b54d120c-e261-483c-83b1-f05cc34357a7",
   "metadata": {},
   "source": [
    "# Esercizio 3"
   ]
  },
  {
   "cell_type": "code",
   "execution_count": 75,
   "id": "afffc0f3-34be-4dab-a988-2dc9669fc652",
   "metadata": {},
   "outputs": [
    {
     "data": {
      "text/html": [
       "<div>\n",
       "<style scoped>\n",
       "    .dataframe tbody tr th:only-of-type {\n",
       "        vertical-align: middle;\n",
       "    }\n",
       "\n",
       "    .dataframe tbody tr th {\n",
       "        vertical-align: top;\n",
       "    }\n",
       "\n",
       "    .dataframe thead th {\n",
       "        text-align: right;\n",
       "    }\n",
       "</style>\n",
       "<table border=\"1\" class=\"dataframe\">\n",
       "  <thead>\n",
       "    <tr style=\"text-align: right;\">\n",
       "      <th></th>\n",
       "      <th>Anno</th>\n",
       "      <th>Biblioteca</th>\n",
       "      <th>Adulti Iscritti</th>\n",
       "      <th>Ragazzi Iscritti</th>\n",
       "      <th>Totale Iscritti</th>\n",
       "      <th>Libri Acquistati</th>\n",
       "    </tr>\n",
       "  </thead>\n",
       "  <tbody>\n",
       "    <tr>\n",
       "      <th>4</th>\n",
       "      <td>1996</td>\n",
       "      <td>Bibliobus</td>\n",
       "      <td>1117.0</td>\n",
       "      <td>NaN</td>\n",
       "      <td>1117.0</td>\n",
       "      <td>18584.0</td>\n",
       "    </tr>\n",
       "    <tr>\n",
       "      <th>33</th>\n",
       "      <td>1997</td>\n",
       "      <td>Bibliobus</td>\n",
       "      <td>964.0</td>\n",
       "      <td>NaN</td>\n",
       "      <td>964.0</td>\n",
       "      <td>13868.0</td>\n",
       "    </tr>\n",
       "    <tr>\n",
       "      <th>61</th>\n",
       "      <td>1998</td>\n",
       "      <td>Bibliobus</td>\n",
       "      <td>113.0</td>\n",
       "      <td>NaN</td>\n",
       "      <td>113.0</td>\n",
       "      <td>10592.0</td>\n",
       "    </tr>\n",
       "    <tr>\n",
       "      <th>88</th>\n",
       "      <td>1999</td>\n",
       "      <td>Bibliobus</td>\n",
       "      <td>NaN</td>\n",
       "      <td>NaN</td>\n",
       "      <td>933.0</td>\n",
       "      <td>9179.0</td>\n",
       "    </tr>\n",
       "    <tr>\n",
       "      <th>114</th>\n",
       "      <td>2000</td>\n",
       "      <td>Bibliobus</td>\n",
       "      <td>933.0</td>\n",
       "      <td>NaN</td>\n",
       "      <td>933.0</td>\n",
       "      <td>13.0</td>\n",
       "    </tr>\n",
       "    <tr>\n",
       "      <th>141</th>\n",
       "      <td>2001</td>\n",
       "      <td>Bibliobus</td>\n",
       "      <td>11.0</td>\n",
       "      <td>NaN</td>\n",
       "      <td>11.0</td>\n",
       "      <td>16136.0</td>\n",
       "    </tr>\n",
       "    <tr>\n",
       "      <th>167</th>\n",
       "      <td>2002</td>\n",
       "      <td>Bibliobus</td>\n",
       "      <td>103.0</td>\n",
       "      <td>NaN</td>\n",
       "      <td>103.0</td>\n",
       "      <td>16739.0</td>\n",
       "    </tr>\n",
       "    <tr>\n",
       "      <th>193</th>\n",
       "      <td>2003</td>\n",
       "      <td>Bibliobus</td>\n",
       "      <td>103.0</td>\n",
       "      <td>NaN</td>\n",
       "      <td>103.0</td>\n",
       "      <td>248.0</td>\n",
       "    </tr>\n",
       "    <tr>\n",
       "      <th>220</th>\n",
       "      <td>2004</td>\n",
       "      <td>Bibliobus</td>\n",
       "      <td>1434.0</td>\n",
       "      <td>NaN</td>\n",
       "      <td>1434.0</td>\n",
       "      <td>2408.0</td>\n",
       "    </tr>\n",
       "    <tr>\n",
       "      <th>247</th>\n",
       "      <td>2005</td>\n",
       "      <td>Bibliobus</td>\n",
       "      <td>1094.0</td>\n",
       "      <td>NaN</td>\n",
       "      <td>1094.0</td>\n",
       "      <td>24965.0</td>\n",
       "    </tr>\n",
       "    <tr>\n",
       "      <th>273</th>\n",
       "      <td>2006</td>\n",
       "      <td>Bibliobus</td>\n",
       "      <td>1437.0</td>\n",
       "      <td>NaN</td>\n",
       "      <td>1437.0</td>\n",
       "      <td>26138.0</td>\n",
       "    </tr>\n",
       "    <tr>\n",
       "      <th>299</th>\n",
       "      <td>2007</td>\n",
       "      <td>Bibliobus</td>\n",
       "      <td>1345.0</td>\n",
       "      <td>NaN</td>\n",
       "      <td>1345.0</td>\n",
       "      <td>23972.0</td>\n",
       "    </tr>\n",
       "    <tr>\n",
       "      <th>325</th>\n",
       "      <td>2008</td>\n",
       "      <td>Bibliobus</td>\n",
       "      <td>1314.0</td>\n",
       "      <td>NaN</td>\n",
       "      <td>1314.0</td>\n",
       "      <td>23476.0</td>\n",
       "    </tr>\n",
       "    <tr>\n",
       "      <th>351</th>\n",
       "      <td>2009</td>\n",
       "      <td>Bibliobus</td>\n",
       "      <td>134.0</td>\n",
       "      <td>NaN</td>\n",
       "      <td>134.0</td>\n",
       "      <td>1974.0</td>\n",
       "    </tr>\n",
       "    <tr>\n",
       "      <th>378</th>\n",
       "      <td>2010</td>\n",
       "      <td>Bibliobus</td>\n",
       "      <td>1378.0</td>\n",
       "      <td>NaN</td>\n",
       "      <td>1378.0</td>\n",
       "      <td>17934.0</td>\n",
       "    </tr>\n",
       "  </tbody>\n",
       "</table>\n",
       "</div>"
      ],
      "text/plain": [
       "     Anno Biblioteca  Adulti Iscritti  Ragazzi Iscritti  Totale Iscritti  \\\n",
       "4    1996  Bibliobus           1117.0               NaN           1117.0   \n",
       "33   1997  Bibliobus            964.0               NaN            964.0   \n",
       "61   1998  Bibliobus            113.0               NaN            113.0   \n",
       "88   1999  Bibliobus              NaN               NaN            933.0   \n",
       "114  2000  Bibliobus            933.0               NaN            933.0   \n",
       "141  2001  Bibliobus             11.0               NaN             11.0   \n",
       "167  2002  Bibliobus            103.0               NaN            103.0   \n",
       "193  2003  Bibliobus            103.0               NaN            103.0   \n",
       "220  2004  Bibliobus           1434.0               NaN           1434.0   \n",
       "247  2005  Bibliobus           1094.0               NaN           1094.0   \n",
       "273  2006  Bibliobus           1437.0               NaN           1437.0   \n",
       "299  2007  Bibliobus           1345.0               NaN           1345.0   \n",
       "325  2008  Bibliobus           1314.0               NaN           1314.0   \n",
       "351  2009  Bibliobus            134.0               NaN            134.0   \n",
       "378  2010  Bibliobus           1378.0               NaN           1378.0   \n",
       "\n",
       "     Libri Acquistati  \n",
       "4             18584.0  \n",
       "33            13868.0  \n",
       "61            10592.0  \n",
       "88             9179.0  \n",
       "114              13.0  \n",
       "141           16136.0  \n",
       "167           16739.0  \n",
       "193             248.0  \n",
       "220            2408.0  \n",
       "247           24965.0  \n",
       "273           26138.0  \n",
       "299           23972.0  \n",
       "325           23476.0  \n",
       "351            1974.0  \n",
       "378           17934.0  "
      ]
     },
     "execution_count": 75,
     "metadata": {},
     "output_type": "execute_result"
    }
   ],
   "source": [
    "bibliobus=df[df['Biblioteca']=='Bibliobus']\n",
    "bibliobus"
   ]
  },
  {
   "cell_type": "code",
   "execution_count": 85,
   "id": "339d8be4-a8de-4548-851b-2fff597dc2fa",
   "metadata": {},
   "outputs": [
    {
     "data": {
      "text/html": [
       "<div>\n",
       "<style scoped>\n",
       "    .dataframe tbody tr th:only-of-type {\n",
       "        vertical-align: middle;\n",
       "    }\n",
       "\n",
       "    .dataframe tbody tr th {\n",
       "        vertical-align: top;\n",
       "    }\n",
       "\n",
       "    .dataframe thead th {\n",
       "        text-align: right;\n",
       "    }\n",
       "</style>\n",
       "<table border=\"1\" class=\"dataframe\">\n",
       "  <thead>\n",
       "    <tr style=\"text-align: right;\">\n",
       "      <th></th>\n",
       "      <th>Anno</th>\n",
       "      <th>Adulti Iscritti</th>\n",
       "      <th>Ragazzi Iscritti</th>\n",
       "      <th>Totale Iscritti</th>\n",
       "      <th>Libri Acquistati</th>\n",
       "    </tr>\n",
       "  </thead>\n",
       "  <tbody>\n",
       "    <tr>\n",
       "      <th>count</th>\n",
       "      <td>15.000000</td>\n",
       "      <td>14.000000</td>\n",
       "      <td>0.0</td>\n",
       "      <td>15.000000</td>\n",
       "      <td>15.000000</td>\n",
       "    </tr>\n",
       "    <tr>\n",
       "      <th>mean</th>\n",
       "      <td>2003.000000</td>\n",
       "      <td>820.000000</td>\n",
       "      <td>NaN</td>\n",
       "      <td>827.533333</td>\n",
       "      <td>13748.400000</td>\n",
       "    </tr>\n",
       "    <tr>\n",
       "      <th>std</th>\n",
       "      <td>4.472136</td>\n",
       "      <td>584.321039</td>\n",
       "      <td>NaN</td>\n",
       "      <td>563.821257</td>\n",
       "      <td>9269.877721</td>\n",
       "    </tr>\n",
       "    <tr>\n",
       "      <th>min</th>\n",
       "      <td>1996.000000</td>\n",
       "      <td>11.000000</td>\n",
       "      <td>NaN</td>\n",
       "      <td>11.000000</td>\n",
       "      <td>13.000000</td>\n",
       "    </tr>\n",
       "    <tr>\n",
       "      <th>25%</th>\n",
       "      <td>1999.500000</td>\n",
       "      <td>118.250000</td>\n",
       "      <td>NaN</td>\n",
       "      <td>123.500000</td>\n",
       "      <td>5793.500000</td>\n",
       "    </tr>\n",
       "    <tr>\n",
       "      <th>50%</th>\n",
       "      <td>2003.000000</td>\n",
       "      <td>1029.000000</td>\n",
       "      <td>NaN</td>\n",
       "      <td>964.000000</td>\n",
       "      <td>16136.000000</td>\n",
       "    </tr>\n",
       "    <tr>\n",
       "      <th>75%</th>\n",
       "      <td>2006.500000</td>\n",
       "      <td>1337.250000</td>\n",
       "      <td>NaN</td>\n",
       "      <td>1329.500000</td>\n",
       "      <td>21030.000000</td>\n",
       "    </tr>\n",
       "    <tr>\n",
       "      <th>max</th>\n",
       "      <td>2010.000000</td>\n",
       "      <td>1437.000000</td>\n",
       "      <td>NaN</td>\n",
       "      <td>1437.000000</td>\n",
       "      <td>26138.000000</td>\n",
       "    </tr>\n",
       "  </tbody>\n",
       "</table>\n",
       "</div>"
      ],
      "text/plain": [
       "              Anno  Adulti Iscritti  Ragazzi Iscritti  Totale Iscritti  \\\n",
       "count    15.000000        14.000000               0.0        15.000000   \n",
       "mean   2003.000000       820.000000               NaN       827.533333   \n",
       "std       4.472136       584.321039               NaN       563.821257   \n",
       "min    1996.000000        11.000000               NaN        11.000000   \n",
       "25%    1999.500000       118.250000               NaN       123.500000   \n",
       "50%    2003.000000      1029.000000               NaN       964.000000   \n",
       "75%    2006.500000      1337.250000               NaN      1329.500000   \n",
       "max    2010.000000      1437.000000               NaN      1437.000000   \n",
       "\n",
       "       Libri Acquistati  \n",
       "count         15.000000  \n",
       "mean       13748.400000  \n",
       "std         9269.877721  \n",
       "min           13.000000  \n",
       "25%         5793.500000  \n",
       "50%        16136.000000  \n",
       "75%        21030.000000  \n",
       "max        26138.000000  "
      ]
     },
     "execution_count": 85,
     "metadata": {},
     "output_type": "execute_result"
    }
   ],
   "source": [
    "bibliobus.describe()"
   ]
  },
  {
   "cell_type": "code",
   "execution_count": 92,
   "id": "93f5351f-8176-4b6d-a99d-f18e9192f157",
   "metadata": {},
   "outputs": [
    {
     "data": {
      "text/html": [
       "<div>\n",
       "<style scoped>\n",
       "    .dataframe tbody tr th:only-of-type {\n",
       "        vertical-align: middle;\n",
       "    }\n",
       "\n",
       "    .dataframe tbody tr th {\n",
       "        vertical-align: top;\n",
       "    }\n",
       "\n",
       "    .dataframe thead th {\n",
       "        text-align: right;\n",
       "    }\n",
       "</style>\n",
       "<table border=\"1\" class=\"dataframe\">\n",
       "  <thead>\n",
       "    <tr style=\"text-align: right;\">\n",
       "      <th>Totale Iscritti</th>\n",
       "      <th>(0, 500]</th>\n",
       "      <th>(750, 1000]</th>\n",
       "      <th>(1000, 1250]</th>\n",
       "      <th>(1250, 1500]</th>\n",
       "    </tr>\n",
       "    <tr>\n",
       "      <th>Anno</th>\n",
       "      <th></th>\n",
       "      <th></th>\n",
       "      <th></th>\n",
       "      <th></th>\n",
       "    </tr>\n",
       "  </thead>\n",
       "  <tbody>\n",
       "    <tr>\n",
       "      <th>1996</th>\n",
       "      <td>0</td>\n",
       "      <td>0</td>\n",
       "      <td>1</td>\n",
       "      <td>0</td>\n",
       "    </tr>\n",
       "    <tr>\n",
       "      <th>1997</th>\n",
       "      <td>0</td>\n",
       "      <td>1</td>\n",
       "      <td>0</td>\n",
       "      <td>0</td>\n",
       "    </tr>\n",
       "    <tr>\n",
       "      <th>1998</th>\n",
       "      <td>1</td>\n",
       "      <td>0</td>\n",
       "      <td>0</td>\n",
       "      <td>0</td>\n",
       "    </tr>\n",
       "    <tr>\n",
       "      <th>1999</th>\n",
       "      <td>0</td>\n",
       "      <td>1</td>\n",
       "      <td>0</td>\n",
       "      <td>0</td>\n",
       "    </tr>\n",
       "    <tr>\n",
       "      <th>2000</th>\n",
       "      <td>0</td>\n",
       "      <td>1</td>\n",
       "      <td>0</td>\n",
       "      <td>0</td>\n",
       "    </tr>\n",
       "    <tr>\n",
       "      <th>2001</th>\n",
       "      <td>1</td>\n",
       "      <td>0</td>\n",
       "      <td>0</td>\n",
       "      <td>0</td>\n",
       "    </tr>\n",
       "    <tr>\n",
       "      <th>2002</th>\n",
       "      <td>1</td>\n",
       "      <td>0</td>\n",
       "      <td>0</td>\n",
       "      <td>0</td>\n",
       "    </tr>\n",
       "    <tr>\n",
       "      <th>2003</th>\n",
       "      <td>1</td>\n",
       "      <td>0</td>\n",
       "      <td>0</td>\n",
       "      <td>0</td>\n",
       "    </tr>\n",
       "    <tr>\n",
       "      <th>2004</th>\n",
       "      <td>0</td>\n",
       "      <td>0</td>\n",
       "      <td>0</td>\n",
       "      <td>1</td>\n",
       "    </tr>\n",
       "    <tr>\n",
       "      <th>2005</th>\n",
       "      <td>0</td>\n",
       "      <td>0</td>\n",
       "      <td>1</td>\n",
       "      <td>0</td>\n",
       "    </tr>\n",
       "    <tr>\n",
       "      <th>2006</th>\n",
       "      <td>0</td>\n",
       "      <td>0</td>\n",
       "      <td>0</td>\n",
       "      <td>1</td>\n",
       "    </tr>\n",
       "    <tr>\n",
       "      <th>2007</th>\n",
       "      <td>0</td>\n",
       "      <td>0</td>\n",
       "      <td>0</td>\n",
       "      <td>1</td>\n",
       "    </tr>\n",
       "    <tr>\n",
       "      <th>2008</th>\n",
       "      <td>0</td>\n",
       "      <td>0</td>\n",
       "      <td>0</td>\n",
       "      <td>1</td>\n",
       "    </tr>\n",
       "    <tr>\n",
       "      <th>2009</th>\n",
       "      <td>1</td>\n",
       "      <td>0</td>\n",
       "      <td>0</td>\n",
       "      <td>0</td>\n",
       "    </tr>\n",
       "    <tr>\n",
       "      <th>2010</th>\n",
       "      <td>0</td>\n",
       "      <td>0</td>\n",
       "      <td>0</td>\n",
       "      <td>1</td>\n",
       "    </tr>\n",
       "  </tbody>\n",
       "</table>\n",
       "</div>"
      ],
      "text/plain": [
       "Totale Iscritti  (0, 500]  (750, 1000]  (1000, 1250]  (1250, 1500]\n",
       "Anno                                                              \n",
       "1996                    0            0             1             0\n",
       "1997                    0            1             0             0\n",
       "1998                    1            0             0             0\n",
       "1999                    0            1             0             0\n",
       "2000                    0            1             0             0\n",
       "2001                    1            0             0             0\n",
       "2002                    1            0             0             0\n",
       "2003                    1            0             0             0\n",
       "2004                    0            0             0             1\n",
       "2005                    0            0             1             0\n",
       "2006                    0            0             0             1\n",
       "2007                    0            0             0             1\n",
       "2008                    0            0             0             1\n",
       "2009                    1            0             0             0\n",
       "2010                    0            0             0             1"
      ]
     },
     "execution_count": 92,
     "metadata": {},
     "output_type": "execute_result"
    }
   ],
   "source": [
    "conj=pd.crosstab(bibliobus['Anno'], pd.cut(bibliobus['Totale Iscritti'], bins=(0, 500, 750, 1000, 1250, 1500)))\n",
    "conj"
   ]
  },
  {
   "cell_type": "code",
   "execution_count": 113,
   "id": "aceb8525-f5bd-435d-8b1f-5a5000842f59",
   "metadata": {},
   "outputs": [
    {
     "data": {
      "image/png": "[encoded data removed]",
      "text/plain": [
       "<Figure size 640x480 with 1 Axes>"
      ]
     },
     "metadata": {},
     "output_type": "display_data"
    }
   ],
   "source": [
    "annobb=bibliobus['Anno']\n",
    "x=np.arange(1996,2011,1)\n",
    "tibb=bibliobus['Totale Iscritti']\n",
    "plt.plot(annobb, tibb, color='red', linestyle='dotted', marker='o')\n",
    "plt.xticks(x)\n",
    "plt.xticks(rotation=45)\n",
    "plt.show()"
   ]
  },
  {
   "cell_type": "code",
   "execution_count": 96,
   "id": "1aa0bd8f-677d-464d-8e13-deb73077849b",
   "metadata": {},
   "outputs": [
    {
     "data": {
      "text/plain": [
       "0.26937070854593703"
      ]
     },
     "execution_count": 96,
     "metadata": {},
     "output_type": "execute_result"
    }
   ],
   "source": [
    "annobb.corr(tibb)"
   ]
  },
  {
   "cell_type": "code",
   "execution_count": 136,
   "id": "505b0ce8-c6df-4d3b-ba9b-b18b663255d0",
   "metadata": {},
   "outputs": [
    {
     "data": {
      "text/html": [
       "<div>\n",
       "<style scoped>\n",
       "    .dataframe tbody tr th:only-of-type {\n",
       "        vertical-align: middle;\n",
       "    }\n",
       "\n",
       "    .dataframe tbody tr th {\n",
       "        vertical-align: top;\n",
       "    }\n",
       "\n",
       "    .dataframe thead th {\n",
       "        text-align: right;\n",
       "    }\n",
       "</style>\n",
       "<table border=\"1\" class=\"dataframe\">\n",
       "  <thead>\n",
       "    <tr style=\"text-align: right;\">\n",
       "      <th></th>\n",
       "      <th>Anno</th>\n",
       "      <th>Totale Iscritti</th>\n",
       "      <th>Frequenza Relativa</th>\n",
       "      <th>Frequenza Cumulata</th>\n",
       "    </tr>\n",
       "  </thead>\n",
       "  <tbody>\n",
       "    <tr>\n",
       "      <th>1</th>\n",
       "      <td>1996</td>\n",
       "      <td>7932.0</td>\n",
       "      <td>0.118531</td>\n",
       "      <td>0.118531</td>\n",
       "    </tr>\n",
       "    <tr>\n",
       "      <th>30</th>\n",
       "      <td>1997</td>\n",
       "      <td>7927.0</td>\n",
       "      <td>0.118457</td>\n",
       "      <td>0.236988</td>\n",
       "    </tr>\n",
       "    <tr>\n",
       "      <th>58</th>\n",
       "      <td>1998</td>\n",
       "      <td>7172.0</td>\n",
       "      <td>0.107174</td>\n",
       "      <td>0.344162</td>\n",
       "    </tr>\n",
       "    <tr>\n",
       "      <th>85</th>\n",
       "      <td>1999</td>\n",
       "      <td>6925.0</td>\n",
       "      <td>0.103483</td>\n",
       "      <td>0.447646</td>\n",
       "    </tr>\n",
       "    <tr>\n",
       "      <th>111</th>\n",
       "      <td>2000</td>\n",
       "      <td>64.0</td>\n",
       "      <td>0.000956</td>\n",
       "      <td>0.448602</td>\n",
       "    </tr>\n",
       "    <tr>\n",
       "      <th>138</th>\n",
       "      <td>2001</td>\n",
       "      <td>6044.0</td>\n",
       "      <td>0.090318</td>\n",
       "      <td>0.538920</td>\n",
       "    </tr>\n",
       "    <tr>\n",
       "      <th>164</th>\n",
       "      <td>2002</td>\n",
       "      <td>5034.0</td>\n",
       "      <td>0.075225</td>\n",
       "      <td>0.614145</td>\n",
       "    </tr>\n",
       "    <tr>\n",
       "      <th>190</th>\n",
       "      <td>2003</td>\n",
       "      <td>5729.0</td>\n",
       "      <td>0.085611</td>\n",
       "      <td>0.699756</td>\n",
       "    </tr>\n",
       "    <tr>\n",
       "      <th>217</th>\n",
       "      <td>2004</td>\n",
       "      <td>543.0</td>\n",
       "      <td>0.008114</td>\n",
       "      <td>0.707871</td>\n",
       "    </tr>\n",
       "    <tr>\n",
       "      <th>297</th>\n",
       "      <td>2007</td>\n",
       "      <td>4519.0</td>\n",
       "      <td>0.067529</td>\n",
       "      <td>0.775400</td>\n",
       "    </tr>\n",
       "    <tr>\n",
       "      <th>323</th>\n",
       "      <td>2008</td>\n",
       "      <td>4874.0</td>\n",
       "      <td>0.072834</td>\n",
       "      <td>0.848234</td>\n",
       "    </tr>\n",
       "    <tr>\n",
       "      <th>349</th>\n",
       "      <td>2009</td>\n",
       "      <td>5178.0</td>\n",
       "      <td>0.077377</td>\n",
       "      <td>0.925612</td>\n",
       "    </tr>\n",
       "    <tr>\n",
       "      <th>376</th>\n",
       "      <td>2010</td>\n",
       "      <td>4978.0</td>\n",
       "      <td>0.074388</td>\n",
       "      <td>1.000000</td>\n",
       "    </tr>\n",
       "  </tbody>\n",
       "</table>\n",
       "</div>"
      ],
      "text/plain": [
       "     Anno  Totale Iscritti  Frequenza Relativa  Frequenza Cumulata\n",
       "1    1996           7932.0            0.118531            0.118531\n",
       "30   1997           7927.0            0.118457            0.236988\n",
       "58   1998           7172.0            0.107174            0.344162\n",
       "85   1999           6925.0            0.103483            0.447646\n",
       "111  2000             64.0            0.000956            0.448602\n",
       "138  2001           6044.0            0.090318            0.538920\n",
       "164  2002           5034.0            0.075225            0.614145\n",
       "190  2003           5729.0            0.085611            0.699756\n",
       "217  2004            543.0            0.008114            0.707871\n",
       "297  2007           4519.0            0.067529            0.775400\n",
       "323  2008           4874.0            0.072834            0.848234\n",
       "349  2009           5178.0            0.077377            0.925612\n",
       "376  2010           4978.0            0.074388            1.000000"
      ]
     },
     "execution_count": 136,
     "metadata": {},
     "output_type": "execute_result"
    }
   ],
   "source": [
    "affori=df[df['Biblioteca']=='Affori'][['Anno','Totale Iscritti']]\n",
    "qog=df[df['Biblioteca']=='Quarto Oggiaro'][['Anno','Totale Iscritti']]\n",
    "affori['Frequenza Relativa'] = affori['Totale Iscritti'] / affori['Totale Iscritti'].sum()\n",
    "qog['Frequenza Relativa'] = qog['Totale Iscritti'] / qog['Totale Iscritti'].sum()\n",
    "affori['Frequenza Cumulata']= affori['Frequenza Relativa'].cumsum()\n",
    "qog['Frequenza Cumulata']= qog['Frequenza Relativa'].cumsum()\n",
    "affori"
   ]
  },
  {
   "cell_type": "code",
   "execution_count": 135,
   "id": "fcd0db3f-45bb-469b-ab00-5e34cbf3f442",
   "metadata": {},
   "outputs": [
    {
     "data": {
      "text/html": [
       "<div>\n",
       "<style scoped>\n",
       "    .dataframe tbody tr th:only-of-type {\n",
       "        vertical-align: middle;\n",
       "    }\n",
       "\n",
       "    .dataframe tbody tr th {\n",
       "        vertical-align: top;\n",
       "    }\n",
       "\n",
       "    .dataframe thead th {\n",
       "        text-align: right;\n",
       "    }\n",
       "</style>\n",
       "<table border=\"1\" class=\"dataframe\">\n",
       "  <thead>\n",
       "    <tr style=\"text-align: right;\">\n",
       "      <th></th>\n",
       "      <th>Anno</th>\n",
       "      <th>Totale Iscritti</th>\n",
       "      <th>Frequenza Relativa</th>\n",
       "    </tr>\n",
       "  </thead>\n",
       "  <tbody>\n",
       "    <tr>\n",
       "      <th>22</th>\n",
       "      <td>1996</td>\n",
       "      <td>1268.0</td>\n",
       "      <td>0.060847</td>\n",
       "    </tr>\n",
       "    <tr>\n",
       "      <th>50</th>\n",
       "      <td>1997</td>\n",
       "      <td>1044.0</td>\n",
       "      <td>0.050098</td>\n",
       "    </tr>\n",
       "    <tr>\n",
       "      <th>78</th>\n",
       "      <td>1998</td>\n",
       "      <td>992.0</td>\n",
       "      <td>0.047603</td>\n",
       "    </tr>\n",
       "    <tr>\n",
       "      <th>104</th>\n",
       "      <td>1999</td>\n",
       "      <td>1077.0</td>\n",
       "      <td>0.051682</td>\n",
       "    </tr>\n",
       "    <tr>\n",
       "      <th>130</th>\n",
       "      <td>2000</td>\n",
       "      <td>945.0</td>\n",
       "      <td>0.045348</td>\n",
       "    </tr>\n",
       "    <tr>\n",
       "      <th>156</th>\n",
       "      <td>2001</td>\n",
       "      <td>942.0</td>\n",
       "      <td>0.045204</td>\n",
       "    </tr>\n",
       "    <tr>\n",
       "      <th>235</th>\n",
       "      <td>2004</td>\n",
       "      <td>2355.0</td>\n",
       "      <td>0.113009</td>\n",
       "    </tr>\n",
       "    <tr>\n",
       "      <th>262</th>\n",
       "      <td>2005</td>\n",
       "      <td>2564.0</td>\n",
       "      <td>0.123039</td>\n",
       "    </tr>\n",
       "    <tr>\n",
       "      <th>288</th>\n",
       "      <td>2006</td>\n",
       "      <td>2438.0</td>\n",
       "      <td>0.116992</td>\n",
       "    </tr>\n",
       "    <tr>\n",
       "      <th>314</th>\n",
       "      <td>2007</td>\n",
       "      <td>2343.0</td>\n",
       "      <td>0.112433</td>\n",
       "    </tr>\n",
       "    <tr>\n",
       "      <th>340</th>\n",
       "      <td>2008</td>\n",
       "      <td>2336.0</td>\n",
       "      <td>0.112098</td>\n",
       "    </tr>\n",
       "    <tr>\n",
       "      <th>366</th>\n",
       "      <td>2009</td>\n",
       "      <td>2309.0</td>\n",
       "      <td>0.110802</td>\n",
       "    </tr>\n",
       "    <tr>\n",
       "      <th>393</th>\n",
       "      <td>2010</td>\n",
       "      <td>226.0</td>\n",
       "      <td>0.010845</td>\n",
       "    </tr>\n",
       "  </tbody>\n",
       "</table>\n",
       "</div>"
      ],
      "text/plain": [
       "     Anno  Totale Iscritti  Frequenza Relativa\n",
       "22   1996           1268.0            0.060847\n",
       "50   1997           1044.0            0.050098\n",
       "78   1998            992.0            0.047603\n",
       "104  1999           1077.0            0.051682\n",
       "130  2000            945.0            0.045348\n",
       "156  2001            942.0            0.045204\n",
       "235  2004           2355.0            0.113009\n",
       "262  2005           2564.0            0.123039\n",
       "288  2006           2438.0            0.116992\n",
       "314  2007           2343.0            0.112433\n",
       "340  2008           2336.0            0.112098\n",
       "366  2009           2309.0            0.110802\n",
       "393  2010            226.0            0.010845"
      ]
     },
     "execution_count": 135,
     "metadata": {},
     "output_type": "execute_result"
    }
   ],
   "source": [
    "qog"
   ]
  },
  {
   "cell_type": "markdown",
   "id": "3c1ec7b7-0374-4bde-ad87-b9314c816826",
   "metadata": {},
   "source": [
    "# Esercizio 4"
   ]
  },
  {
   "cell_type": "code",
   "execution_count": 150,
   "id": "0285e9e2-7bae-45c6-ab72-6bc2f8f8bc66",
   "metadata": {},
   "outputs": [
    {
     "data": {
      "image/png": "[encoded data removed]",
      "text/plain": [
       "<Figure size 640x480 with 1 Axes>"
      ]
     },
     "metadata": {},
     "output_type": "display_data"
    }
   ],
   "source": [
    "acq=df['Libri Acquistati']\n",
    "acq.plot.hist(bins=100)\n",
    "plt.show()"
   ]
  },
  {
   "cell_type": "code",
   "execution_count": 151,
   "id": "c8588c42-3d1f-40ef-8e85-ca9fc854a4d3",
   "metadata": {},
   "outputs": [
    {
     "data": {
      "image/png": "[encoded data removed]",
      "text/plain": [
       "<Figure size 640x480 with 1 Axes>"
      ]
     },
     "metadata": {},
     "output_type": "display_data"
    }
   ],
   "source": [
    "acq.plot.box(whis=1.0,vert=False)\n",
    "plt.show()"
   ]
  },
  {
   "cell_type": "code",
   "execution_count": 159,
   "id": "e54b20f2-64dc-4ab1-a6b1-3b13febc8fd0",
   "metadata": {},
   "outputs": [
    {
     "data": {
      "image/png": "[encoded data removed]",
      "text/plain": [
       "<Figure size 640x480 with 1 Axes>"
      ]
     },
     "metadata": {},
     "output_type": "display_data"
    }
   ],
   "source": [
    "acqf=df[df['Biblioteca']!=\"Biblioteca Centrale Sormani\"]['Libri Acquistati']\n",
    "acqf.plot.hist(bins=50)\n",
    "plt.show()"
   ]
  },
  {
   "cell_type": "code",
   "execution_count": 155,
   "id": "486af002-dca7-4ad3-a4ed-e505516316a6",
   "metadata": {},
   "outputs": [
    {
     "data": {
      "text/plain": [
       "<Axes: >"
      ]
     },
     "execution_count": 155,
     "metadata": {},
     "output_type": "execute_result"
    },
    {
     "data": {
      "image/png": "[encoded data removed]",
      "text/plain": [
       "<Figure size 640x480 with 1 Axes>"
      ]
     },
     "metadata": {},
     "output_type": "display_data"
    }
   ],
   "source": [
    "acqf.plot.box(vert=False)"
   ]
  },
  {
   "cell_type": "code",
   "execution_count": 170,
   "id": "d1e87d3d-f7c3-4960-be88-e2d1c8e47ca2",
   "metadata": {},
   "outputs": [
    {
     "name": "stdout",
     "output_type": "stream",
     "text": [
      "1818.892521110321\n"
     ]
    },
    {
     "data": {
      "text/plain": [
       "0.7205495091071759"
      ]
     },
     "execution_count": 170,
     "metadata": {},
     "output_type": "execute_result"
    }
   ],
   "source": [
    "filt=df[df['Biblioteca']!='Biblioteca Centrale Sormani']\n",
    "mean=filt['Totale Iscritti'].mean()\n",
    "std=filt['Totale Iscritti'].std()\n",
    "print(std)\n",
    "n=len(filt)\n",
    "dist=st.norm()\n",
    "2*dist.cdf(100/std*math.sqrt(n))-1"
   ]
  },
  {
   "cell_type": "code",
   "execution_count": 171,
   "id": "6cd6900e-8445-4ccb-a37c-e2e46b8dac8f",
   "metadata": {},
   "outputs": [
    {
     "data": {
      "text/plain": [
       "895.0938806292079"
      ]
     },
     "execution_count": 171,
     "metadata": {},
     "output_type": "execute_result"
    }
   ],
   "source": [
    "((dist.ppf(0.95)*std)/100)**2"
   ]
  }
 ],
 "metadata": {
  "kernelspec": {
   "display_name": "Python 3 (ipykernel)",
   "language": "python",
   "name": "python3"
  },
  "language_info": {
   "codemirror_mode": {
    "name": "ipython",
    "version": 3
   },
   "file_extension": ".py",
   "mimetype": "text/x-python",
   "name": "python",
   "nbconvert_exporter": "python",
   "pygments_lexer": "ipython3",
   "version": "3.11.4"
  }
 },
 "nbformat": 4,
 "nbformat_minor": 5
}
