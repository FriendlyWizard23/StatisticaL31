{
 "cells": [
  {
   "cell_type": "code",
   "execution_count": 8,
   "id": "12ac8292-bbc9-40dd-92a4-5f54ddcbd65b",
   "metadata": {},
   "outputs": [],
   "source": [
    "import csv\n",
    "import pandas as pd\n",
    "import matplotlib.pyplot as plt\n",
    "import scipy.stats as sp\n",
    "import statsmodels.api as sm\n",
    "import numpy as np"
   ]
  },
  {
   "cell_type": "markdown",
   "id": "04ad2044-c0c5-46c8-8b76-bce85858b828",
   "metadata": {},
   "source": [
    "## Esercizio 0"
   ]
  },
  {
   "cell_type": "markdown",
   "id": "f7327534-c87d-4fdd-a8c8-d70b9cc894bb",
   "metadata": {},
   "source": [
    "#### Domanda 1"
   ]
  },
  {
   "cell_type": "markdown",
   "id": "2b922d63-c868-4a22-b48a-5559286010b6",
   "metadata": {},
   "source": [
    "La variabile aleatoria $X$ può assumere valori reali continui nel range $[0,10] $"
   ]
  },
  {
   "cell_type": "markdown",
   "id": "b67e3b17-7984-47c7-b8f5-2bc8a03102bd",
   "metadata": {},
   "source": [
    "#### Domanda 2"
   ]
  },
  {
   "cell_type": "markdown",
   "id": "c458a285-841e-4d9f-93d4-50d43f4087f3",
   "metadata": {},
   "source": [
    "La forma analitica della funzione di ripartizione è: $$ F_X(x) = \\dfrac{(x-b)}{(b-a)}*I_{[a,b]}(x)+I_{(b,\\inf)}(x)$$"
   ]
  },
  {
   "cell_type": "code",
   "execution_count": 15,
   "id": "5a978fce-effa-45c5-bf84-a1ab96a21789",
   "metadata": {},
   "outputs": [
    {
     "data": {
      "image/png": "[encoded data removed]",
      "text/plain": [
       "<Figure size 640x480 with 1 Axes>"
      ]
     },
     "metadata": {},
     "output_type": "display_data"
    }
   ],
   "source": [
    "c=sp.uniform(0,10)\n",
    "x = np.arange(0, 11, 1)\n",
    "y = np.arange(0, 1.1, 0.1)\n",
    "plt.xticks(x)\n",
    "plt.yticks(y)\n",
    "plt.bar(x,c.cdf(x))\n",
    "plt.show()"
   ]
  },
  {
   "cell_type": "markdown",
   "id": "11510b90-9c91-4a5d-b074-6693ff4f35b6",
   "metadata": {},
   "source": [
    "#### Domanda 3\n",
    "_Dato $t$ tra [0,10] calcolate la probabilità dell'evento $X>t$ esprimendola in funzione del valore $t$_"
   ]
  },
  {
   "cell_type": "markdown",
   "id": "0f8fcb38-9c01-4cdc-8bf4-db695438c3a6",
   "metadata": {},
   "source": [
    "Nel caso volessimo calcolare la probabilità dell'evento $X>t$ basta calcolare la probabilità di $$1-\\mathbb{P}(X\\leq{t})$$ quindi"
   ]
  },
  {
   "cell_type": "markdown",
   "id": "76a74a34-6ef5-41e7-a076-66ec44c65d80",
   "metadata": {},
   "source": [
    "$$\\mathbb{P}(X>t)=1-\\mathbb{P}(X\\leq{t})$$ \n",
    "$$\\mathbb{P}(X>t)=1-F_X(t)$$ \n",
    "$$\\mathbb{P}(X>t)=1-\\dfrac{(t-b)}{(b-a)}$$ \n",
    "$$\\mathbb{P}(X>t)=1-\\dfrac{(t-10)}{(10)}$$ \n",
    "$$\\mathbb{P}(X>t)=\\dfrac{t}{10}$$ "
   ]
  },
  {
   "cell_type": "markdown",
   "id": "ca4b0669-76d1-4251-8b35-2ac6819fdbe2",
   "metadata": {},
   "source": [
    "#### Domanda 4\n",
    "_Quali sono le spcificazioni che può assumere $X$ dato che sappiamo che si è verificato $X>t$_"
   ]
  },
  {
   "cell_type": "markdown",
   "id": "83c91174-1f6e-4137-8a3b-3a2774618567",
   "metadata": {},
   "source": [
    "Se si è verificato $X>t$ allora significa che $X$ può assumere valori tra $t$ e $10$"
   ]
  },
  {
   "cell_type": "markdown",
   "id": "dcd492d3-78ca-43ca-ac45-8cfd6775540f",
   "metadata": {},
   "source": [
    "#### Domanda 5\n",
    "_Quali sono le specificazioni di t?_"
   ]
  },
  {
   "cell_type": "markdown",
   "id": "cad950a9-9aac-41ca-b7f6-f404913b0088",
   "metadata": {},
   "source": [
    "$t$ segue un modello discreto poichè equiprobabile. Possiamo quindi definire T nel seguente modo: $$T \\sim U(n)$$. n rappresenta il numero di esiti e quindi il numero di specificazioni di $T$ quindi nel nostro caso $$T \\sim U(10)$$ con supporto $D_x =\\{1,n\\}=\\{1,10\\}$. Le sue specificazioni sono quindi $\\{1,2,3,4,5,6,7,8,9,10\\}$"
   ]
  },
  {
   "cell_type": "markdown",
   "id": "dc405ee1-a993-4781-b74d-57e9f1b931c7",
   "metadata": {},
   "source": [
    "#### Domanda 6\n",
    "_Scrivete l'enunciato del teorema delle probabilità totali usando, al variare delle specificazioni $t$ di $T$, $X>t$ come evento condizionato e $T=t$ come eventi condizionanti_"
   ]
  },
  {
   "cell_type": "markdown",
   "id": "8fabf511-81b2-4a5b-8a95-ddc117a5e2b8",
   "metadata": {},
   "source": [
    "Enunciato: Considerate  $n$ partizioni dell'insieme $\\omega$ definite come $F_i$ tali che $F_i$ $\\cup$ ...$\\cup$ $F_n$ e non \"Sovrapposte\":\n",
    "$$\\mathbb{P}(X>t) = \\sum_{t=1}^{10} \\mathbb(X>t | T=t)*\\mathbb{P}(T=t)$$\n",
    "$$\\mathbb{P}(X>t) = \\sum_{t=1}^{10} \\dfrac{\\mathbb(X>t \\cap T=t)}{\\mathbb{P}(T=t)}*\\mathbb{P}(T=t)$$\n",
    "$$\\mathbb{P}(X>t) = \\sum_{t=1}^{10} \\mathbb{P}(X>t \\cap T=t)$$"
   ]
  },
  {
   "cell_type": "markdown",
   "id": "ea07be76-3634-4676-9878-39eec1139fd4",
   "metadata": {},
   "source": [
    "#### Domanda 7\n",
    "Calcolate laprobabilità dell'evento (suggerimento: se tenete conto dei punti precedenti il calcolo è facile da impostare, ad un certo punto è necessario calcolare una sommatoria. Se non ricordate le formule teoriche potete facilemten scrivere del codice per effettuare questo calcolo)"
   ]
  },
  {
   "cell_type": "markdown",
   "id": "7d80b3a9-a233-4766-ad1d-ebd3224cfd28",
   "metadata": {},
   "source": [
    "#### Domanda 8\n",
    "Fissato $n$ $\\in$ $\\mathbb{N}$, siano $X1,..,Xn$ variabili aleatorie i.i.d distribuite come X e tutte indipendenti da T.\n",
    "Denotiamo $p(n)=P(intersezione(1,n) Xi>T)$. Esprimete p(n) esclusivamente in funzione di $n$, giustificando i passaggi eseguiti"
   ]
  },
  {
   "cell_type": "markdown",
   "id": "215f97d2-769a-4da9-b049-b8eeccef74c6",
   "metadata": {},
   "source": [
    "#### Domanda 9\n",
    "Tracciate il grafico di $p(n)$ al variare di n, scegliendo opportunamente il valore massimo, motivando la scela dello strumento grafico"
   ]
  },
  {
   "cell_type": "markdown",
   "id": "998cbc03-2717-45c8-a565-73c1cd862673",
   "metadata": {},
   "source": [
    "#### Domanda 10\n",
    "Sulla base del grafico generato, quanti biglietti possono ragionevolmente risultare vincenti in una settimana?"
   ]
  },
  {
   "cell_type": "markdown",
   "id": "4aee0e28-5c81-433f-82df-bb41b223e6e2",
   "metadata": {},
   "source": [
    "## Esercizio 2\n",
    "Sia $V$ una variabile aleatoria bernoulliana che assume valore 1 se un generico giocatore della lotteria ha vinto il premio e 0 negli altri casi"
   ]
  },
  {
   "cell_type": "markdown",
   "id": "d6187d99-7d8a-48ad-b9b5-83cffa91efbb",
   "metadata": {},
   "source": [
    "#### Domanda 1\n",
    "Quanti parametri ha la distribuzione di V? Indicate ognuno di essi"
   ]
  },
  {
   "cell_type": "markdown",
   "id": "8da448ab-c5ef-4f09-a32d-97cac580ddb8",
   "metadata": {},
   "source": [
    "Essendo una bernoulliana, $V$ presenta solamente un parametro $p$ che rappresenta la probabilità del successo dell'evento"
   ]
  },
  {
   "cell_type": "markdown",
   "id": "67f122c7-12dc-44c2-bbde-a3ac11a2a732",
   "metadata": {},
   "source": [
    "#### Domanda 2\n",
    "Per $m$ $\\in$ $\\mathbb{N}$ siano $V1,..,Vm$ delle variabili aleatorie che descrivono gli esiti delle giocate degli $m$ giocatori che hanno comprato il biglietto della lotteria in una settimana.\n",
    "Indichiamo con $Y$ la variabile aleatoria che conta il numero totale di vincitori. Che relazione intercorre tra $Y$ e $V1,...Vm$?"
   ]
  },
  {
   "cell_type": "markdown",
   "id": "09f8e2a5-72de-43d4-b0ef-e15a8a78a3f2",
   "metadata": {},
   "source": [
    "In questo caso, se sommiamo gli esiti delle nostre giocate, otterremo il numero di volte che abbiamo vinto.\n",
    "Questo avviene perchè la bernoulliana ci restituisce 1 se abbiamo successo e 0 altrimenti. \n",
    "La nuova variabile aleatoria $Y$ rappresenta quindi una serie di eventi bernoulliani, quindi possiamo rappresentarla tramite un modello binomiale $$X\\sim B(n,p)$$"
   ]
  },
  {
   "cell_type": "markdown",
   "id": "1d4fa42c-24a2-49ca-a80f-c285ae44e429",
   "metadata": {},
   "source": [
    "#### Domanda 3\n",
    "Y segue un modello che abbiamo studiato a lezione? Se si specificare quale e i relativi parametri"
   ]
  },
  {
   "cell_type": "markdown",
   "id": "2432e261-0729-4905-b81f-b3c39f3d6e04",
   "metadata": {},
   "source": [
    "Si, Y segue il modello binomiale come enunciato sopra"
   ]
  },
  {
   "cell_type": "markdown",
   "id": "9cd69a25-50f6-457f-bbcf-a91fe6b010b0",
   "metadata": {},
   "source": [
    "#### Domanda 4\n",
    "La distribuzione di Y è approssimabile tramite una delle leggi che abbiamo visto a lezione? Motivato la risposta, specificando di quale legge si tratti e quali valori assumano i relativi parametri"
   ]
  }
 ],
 "metadata": {
  "kernelspec": {
   "display_name": "Python 3 (ipykernel)",
   "language": "python",
   "name": "python3"
  },
  "language_info": {
   "codemirror_mode": {
    "name": "ipython",
    "version": 3
   },
   "file_extension": ".py",
   "mimetype": "text/x-python",
   "name": "python",
   "nbconvert_exporter": "python",
   "pygments_lexer": "ipython3",
   "version": "3.11.4"
  }
 },
 "nbformat": 4,
 "nbformat_minor": 5
}
