{
 "cells": [
  {
   "cell_type": "markdown",
   "id": "f35a5336-10da-41cc-80b5-c790380711d4",
   "metadata": {},
   "source": [
    "# IMPORT VARI"
   ]
  },
  {
   "cell_type": "code",
   "execution_count": 1,
   "id": "4eaac4d3-0011-4fd5-8844-76f88d390244",
   "metadata": {},
   "outputs": [],
   "source": [
    "import csv\n",
    "import numpy as np\n",
    "import matplotlib.pyplot as plt\n",
    "import pandas as pd\n",
    "\n",
    "plt.style.use('fivethirtyeight')\n",
    "plt.rc('figure', figsize=(5.0, 2.0))\n",
    "\n",
    "with open('data/heroes.csv', 'r') as heroes_file:\n",
    "  heroes_reader = csv.reader(heroes_file, delimiter=';', quotechar='\"')\n",
    "  heroes = list(heroes_reader)[1:]"
   ]
  },
  {
   "cell_type": "markdown",
   "id": "c6875999-4aca-490c-af29-70d6db8b4893",
   "metadata": {},
   "source": [
    "# LEZIONE 1: ROBACCIA DI PYTHON VARIA"
   ]
  },
  {
   "cell_type": "markdown",
   "id": "bd67683b-f97b-406f-aaca-4fd615a08c58",
   "metadata": {},
   "source": [
    "### Slicing e accesso posizionale\n",
    "- \"Gli slicing basati su indice comprenderanno il primo e l'ultimo valore specificato mentre gli slice basati su posizione escluderanno l'ultimo elemento.\n",
    "    - ```first_appearance['Wonder Girl':'Wonder Woman']```\n",
    "    - ```first_appearance[60:63]```\n",
    "- L'accesso posizionale può anche fare riferimento a numeri negativi, contando in analogia a liste e tuple a partire dall'ultimo elemento\n",
    "    - ```first_appearance[-5:]```\n",
    "- L'accesso alle liste può anche essere fatto specificando una lista (ma non una tupla) di posizioni al posto di una sola posizione, con l'effetto di ottenere i corrispondenti elementi.\n",
    "    - ```first_appearance[[1, 42, 709]]```\n",
    "- vi sono anche funzioni come .head() e .tail()\n",
    "si può utilizzare una lista di valori booleani in cui True indica gli elementi da estrarre e False quelli da filtrare:\n",
    "    - ```first_appearance[[1970 <= y <1975 for y in first_appearance]]```\n",
    "- Infine, è possibile effettuare delle query su una serie specificando tra parentesi quadre un'espressione logica che indica quali elementi visualizzare, utilizzando la serie come simbolo che ne indica un suo generico elemento:\n",
    "    - ```first_appearance[first_appearance > 2010]```\n",
    "    - Se voglio fare altre condizioni, devo per forza utilizzare l'and bitwise:\n",
    "    - ```first_appearance[(first_appearance>2010)and(first_appearance%2==1)]``` NON VA BENE\n",
    "    - ```first_appearance[(first_appearance>2010)&(first_appearance%2==1)]```"
   ]
  },
  {
   "cell_type": "markdown",
   "id": "95c703d0-0bf3-4010-86bd-42e9473a8ee5",
   "metadata": {},
   "source": [
    "# LEZIONE 2 PANDAS"
   ]
  },
  {
   "cell_type": "markdown",
   "id": "7b9f4f32-8296-48fb-8973-ef4b73bdfc85",
   "metadata": {},
   "source": [
    "### Series\n",
    "- Una delle classi principali implementate in pandas è Series."
   ]
  },
  {
   "cell_type": "code",
   "execution_count": 2,
   "id": "9e0f33f6-0acd-4129-8215-31780d727c92",
   "metadata": {},
   "outputs": [],
   "source": [
    "years = [int(h[7]) if h[7] else None for h in heroes]\n",
    "names = [h[0] for h in heroes]\n",
    "first_appearance = pd.Series(years, index = names)"
   ]
  },
  {
   "cell_type": "markdown",
   "id": "1fa0c5a8-bdcc-4208-a3f2-6cb2f2a6c013",
   "metadata": {},
   "source": [
    "- possiamo filtrare roba come visto negli appunti sopra su python\n",
    "- value_counts() restituisce un'altra serie in cui gli indici sono i valori osservati e i valori le corrispondenti frequenze assolute, ordinate in senso non crescente:"
   ]
  },
  {
   "cell_type": "code",
   "execution_count": 3,
   "id": "68408c2a-31ec-453c-99d7-3a668edb71a7",
   "metadata": {},
   "outputs": [
    {
     "data": {
      "text/plain": [
       "1964.0    18\n",
       "1963.0    18\n",
       "1965.0    14\n",
       "2004.0    11\n",
       "1975.0    10\n",
       "          ..\n",
       "2013.0     1\n",
       "1983.0     1\n",
       "1933.0     1\n",
       "1948.0     1\n",
       "1988.0     1\n",
       "Name: count, Length: 71, dtype: int64"
      ]
     },
     "execution_count": 3,
     "metadata": {},
     "output_type": "execute_result"
    }
   ],
   "source": [
    "absolutes=first_appearance.value_counts()\n",
    "absolutes"
   ]
  },
  {
   "cell_type": "markdown",
   "id": "4ebeae40-7f81-4e76-9364-24e40291d31e",
   "metadata": {},
   "source": [
    "### Visualizzazione Grafia Serie"
   ]
  },
  {
   "cell_type": "markdown",
   "id": "e5f13ed7-ece9-42c9-a3f6-eac35d333e92",
   "metadata": {},
   "source": [
    "- ```.plot()``` permette di visualizzare graficamente i contenuti di una serie, utilizzando matplotlib dietro le quinte; in particolare, il metodo bar visualizza un grafico a barre\n",
    "- ```.show()``` permette di mostrarlo poi a video\n",
    "- fare solamente cosi molte volte fa schifo, il grafico viene illeggibile. Lavorare con i valori assoluti molte volte e' meglio\n",
    "- Cosi ancora non è il massimo. Son necessarie piu informazioni:"
   ]
  },
  {
   "cell_type": "code",
   "execution_count": 4,
   "id": "b06e5ee1-64be-44a7-be32-12efa78d378e",
   "metadata": {},
   "outputs": [
    {
     "data": {
      "image/png": "[encoded data removed]",
      "text/plain": [
       "<Figure size 500x200 with 1 Axes>"
      ]
     },
     "metadata": {},
     "output_type": "display_data"
    }
   ],
   "source": [
    "years = np.arange(1945, 2010, 10)\n",
    "index_pos = [absolutes.index.get_loc(y) for y in years]\n",
    "absolutes.plot.bar()\n",
    "plt.xticks(index_pos, years)\n",
    "plt.ylim((0, 18.5))\n",
    "plt.show()"
   ]
  },
  {
   "cell_type": "markdown",
   "id": "8f3c12ae-2a2c-4d10-973a-959918eaa52c",
   "metadata": {},
   "source": [
    "- Per generare il grafico precedente è necessario utilizzare alcune funzionalità avanzate delle librerie considerate: \n",
    "  - `np.arange` permette di costruire un array i cui valori vanno di dieci in dieci partendo da 1945 e arrivando a 2005; la proprietà \n",
    "  - `index` di una serie permette di estrarne l'indice e il metodo \n",
    "  - `get_loc` di quest'ultimo restituisce la posizione corrispondente a un dato valore dell'indice. \n",
    "  - Infine, il metodo `xticks` di matplotlib permette di specificare quali valori evidenziare sull'asse delle ascisse e quali etichette utilizzare."
   ]
  },
  {
   "cell_type": "markdown",
   "id": "b1eb6021-15da-4969-9cc1-36b9a8c596d1",
   "metadata": {},
   "source": [
    "# LEZIONE 3 DATAFRAME"
   ]
  },
  {
   "cell_type": "markdown",
   "id": "347c160e-dd80-4564-8c0d-55b3ce5ad9e1",
   "metadata": {},
   "source": [
    "# LEZIONE 4"
   ]
  },
  {
   "cell_type": "markdown",
   "id": "b9ab9a72-93b4-485c-b9bb-f33770151242",
   "metadata": {},
   "source": [
    "- Ripartizione Empirica -> Diagramma a scalini (Funzione costante a tratti)\n",
    "- **CAMPIONE** = insieme di dati su cui mi baso per le mie analisi statistiche\n",
    "    - Ripartizione Empirica ci permette di generare un grafico a scaletta.\n",
    "    - Prende anche il nome di **Funzione di distribuzione cumulativa empirica**\n",
    "\n",
    "- scegliere un campione in modo rappresentativo significa non fare \"favoritismi\": Non posso estrarre chi mi fa comodo, tutti devono avere la stessa chance di finire nel mio campione."
   ]
  },
  {
   "cell_type": "markdown",
   "id": "9e89aa47-6c9e-4605-9971-8e0ffec8d4a6",
   "metadata": {},
   "source": [
    "## POSIZIONE E CENTRALITA"
   ]
  },
  {
   "cell_type": "markdown",
   "id": "9836ea97-44dc-48af-85e6-e96c0bc2cc4c",
   "metadata": {},
   "source": [
    "### MEDIA CAMPIONARIA"
   ]
  },
  {
   "cell_type": "markdown",
   "id": "033131a8-bed6-4e7b-a258-6d52e90cab4c",
   "metadata": {},
   "source": [
    "- calcolabile solamente per i dati **quantitativi**\n",
    "- mi permette di rappresentare qualcosa con un solo valore."
   ]
  },
  {
   "cell_type": "markdown",
   "id": "5deab7ab-7c97-4fc2-b03b-b17b0a4a7109",
   "metadata": {},
   "source": [
    "#### Caratteristiche Media Campionaria\n",
    "- la media campionaria SOFFRE parecchio gli outlier ( ovvero valori o troppo alti o troppo bassi rispetto al campione )\n",
    "- Spesso e volentieri non corrisponde ad alcun valore del campione"
   ]
  },
  {
   "cell_type": "markdown",
   "id": "f13a404c-5a97-4ccd-9c79-4f5534e44cc1",
   "metadata": {},
   "source": [
    "##### Traslazione\n",
    "- Se ho una media calcolata (m) di un campionario C={x1,...,xn} e traslo gli elementi di un valore +n allora anche la media viene traslata di +n"
   ]
  },
  {
   "cell_type": "markdown",
   "id": "39b64e7d-c2e7-4a42-b301-0bb164b1a2cf",
   "metadata": {},
   "source": [
    "##### Scalabilità\n",
    "- Se ho una media calcolata (m) di un campionario C={x1,...,xn} e scalo gli elementi di un valore n allora anche la media viene scalata di n"
   ]
  },
  {
   "cell_type": "markdown",
   "id": "2c2bb4a1-2668-409d-817f-a17ca812776b",
   "metadata": {},
   "source": [
    "##### Trasformazioni Afffini\n",
    "- stesso discorso vale per le trasformazioni affini "
   ]
  },
  {
   "cell_type": "markdown",
   "id": "39b9409c-de4b-4b81-b13f-d7d15ce7f6a1",
   "metadata": {},
   "source": [
    "#### Esempio"
   ]
  },
  {
   "cell_type": "code",
   "execution_count": 5,
   "id": "a2ea11b5-1fc8-40f0-b3d5-b163a95122f9",
   "metadata": {},
   "outputs": [
    {
     "name": "stdout",
     "output_type": "stream",
     "text": [
      "MEAN VALUE IS 1.6\n",
      "\n"
     ]
    },
    {
     "data": {
      "image/png": "[encoded data removed]",
      "text/plain": [
       "<Figure size 500x200 with 1 Axes>"
      ]
     },
     "metadata": {},
     "output_type": "display_data"
    }
   ],
   "source": [
    "absolutes=first_appearance[(first_appearance>2011)].value_counts().sort_index()\n",
    "print(\"MEAN VALUE IS \"+str(absolutes.mean()))\n",
    "print()\n",
    "absolutes.plot.bar()\n",
    "plt.show()"
   ]
  },
  {
   "cell_type": "markdown",
   "id": "283567bd-6e5f-44be-b686-a61210f79839",
   "metadata": {},
   "source": [
    "### MEDIANA CAMPIONARIA\n",
    "- non è influenzata dagli outlier\n",
    "- la mediana è il valore precisamente al centro del mio campione **ordinato**\n",
    "- se il valore è pari non ho un valore centrale bensi due quindi in quel caso bisogna **calcolare la media dei due valori**. Questa procedura va bene per i dati di tipo **quantitativi e qualitativi**"
   ]
  },
  {
   "cell_type": "markdown",
   "id": "2d5129d0-1b71-4586-8230-5a312eaa8b13",
   "metadata": {},
   "source": [
    "#### ESEMPIO"
   ]
  },
  {
   "cell_type": "code",
   "execution_count": 6,
   "id": "cfc0a4c1-5b6a-44b8-a71a-d3a981478385",
   "metadata": {},
   "outputs": [
    {
     "name": "stdout",
     "output_type": "stream",
     "text": [
      "MEDIAN VALUE IS 2.0\n",
      "\n"
     ]
    },
    {
     "data": {
      "text/plain": [
       "2012.0    2\n",
       "2013.0    1\n",
       "2015.0    2\n",
       "2016.0    2\n",
       "2099.0    1\n",
       "Name: count, dtype: int64"
      ]
     },
     "execution_count": 6,
     "metadata": {},
     "output_type": "execute_result"
    }
   ],
   "source": [
    "print(\"MEDIAN VALUE IS \"+str(absolutes.median()))\n",
    "print()\n",
    "absolutes"
   ]
  },
  {
   "cell_type": "markdown",
   "id": "cac8da15-3cc0-4827-8637-120e8fff46b6",
   "metadata": {},
   "source": [
    "### MODA CAMPIONARIA\n",
    "- non è altro che il valore che si presenta con maggior frequenza"
   ]
  },
  {
   "cell_type": "code",
   "execution_count": 7,
   "id": "58d0be9a-8fd1-425a-a094-6de4f0116094",
   "metadata": {},
   "outputs": [
    {
     "name": "stdout",
     "output_type": "stream",
     "text": [
      "MODA VALUE IS 2\n",
      "\n"
     ]
    },
    {
     "data": {
      "text/plain": [
       "2012.0    2\n",
       "2013.0    1\n",
       "2015.0    2\n",
       "2016.0    2\n",
       "2099.0    1\n",
       "Name: count, dtype: int64"
      ]
     },
     "execution_count": 7,
     "metadata": {},
     "output_type": "execute_result"
    }
   ],
   "source": [
    "print(\"MODA VALUE IS \"+str(absolutes.max()))\n",
    "print()\n",
    "absolutes"
   ]
  },
  {
   "cell_type": "markdown",
   "id": "be9ed2d9-5393-4bfe-82e2-194099fb5e67",
   "metadata": {},
   "source": [
    "## DISPERSIONE"
   ]
  },
  {
   "cell_type": "markdown",
   "id": "8c6a4ed0-bb68-48d0-97a5-3f1eba76a700",
   "metadata": {},
   "source": [
    "### VARIAZIONE CAMPIONARIA\n",
    "- Consideriamo:\n",
    "    - Campione A = {1,2,5,6,6}\n",
    "    - Campione B = {-40,0,5,20,35}\n",
    "- otteniamo facilmente che\n",
    "    - media campionaria A = 4\n",
    "    - media campionaria B = 4\n",
    "- Entrambi i valori si concentrano su 4 ma si disperdono in modo completamente diverso\n",
    "- per calcolare la dispersione utilizziamo la formula della **varianza campionaria**\n",
    "- Di seguito la funzione riportata\n",
    "\n",
    "\\begin{equation}\n",
    "\\hat F(x) = \\frac{\\# \\{ x_i \\leq x \\}}{n}\n",
    "= \\frac{1}{n} \\sum_{i=1}^n \\mathrm I_{(-\\infty, x]}(x_i) ,\n",
    "\\end{equation}\n",
    "\n",
    "- $\\mathrm I_A: \\mathbb R \\mapsto \\{0, 1\\}$ indica la _funzione indicatrice_ dell'insieme $A$, che assume valore nullo in corrispondenza di tutti gli argomenti che non appartengono ad $A$ e valore unitario altrimenti, e $(-\\infty, x]$ indica l'intervallo semiaperto identificato da tutti i valori reali minori o uguali a $x$. Per un generico argomento $x$, la funzione cumulativa empirica assumerà pertanto come valore la frequenza relativa cumulata del più grande tra i valori osservati $x_i \\leq x$.\n",
    "- Dunque il suo grafico sarà quello di una funzione costante a tratti. In python è presente un'implementazione della funzione cumulativa empirica nel modulo `statmodels.api`: la funzione `distributions.ECDF` accetta come input un insieme di osservazioni e restituisce la corrispondente funzione cumulativa empirica. Possiamo quindi elaborare in tal senso gli anni di prima apparizione e visualizzare il grafico corrispondente agli anni tra il 1980 e il 1990, così da poter effettuare un confronto con l'analogo grafico precedentemente generato:"
   ]
  },
  {
   "cell_type": "markdown",
   "id": "a5ca3837-9f04-4408-9f5d-0f2136cb9be5",
   "metadata": {},
   "source": [
    "#### TRASLAZIONE\n",
    "- rimange invariata, la traslazione di valori del campione non comporta alcuna modifica con la varianza.\n",
    "- questa varianza, viene identificata con \"s\" e il suo valore ha come unita di misura quella base al quadrato. \n",
    "- se voglio ottenere una vairanza con unita di misura uguale all'originale, calcolo la radice quadrata. Cosi facendo ottengo la **deviazione standard**\n",
    "- Esempio"
   ]
  },
  {
   "cell_type": "code",
   "execution_count": 8,
   "id": "05d3a202-5346-459a-967e-91411df8eaae",
   "metadata": {},
   "outputs": [
    {
     "name": "stdout",
     "output_type": "stream",
     "text": [
      "varianza: 0.3\n",
      "varianza: traslata: 0.3\n"
     ]
    }
   ],
   "source": [
    "print(\"varianza: \"+str(absolutes.var()))\n",
    "traslate=absolutes+3\n",
    "print(\"varianza: traslata: \"+str(traslate.var()))"
   ]
  },
  {
   "cell_type": "markdown",
   "id": "a6a7e06a-b875-4464-a8eb-a6c1d0be5a04",
   "metadata": {},
   "source": [
    "#### SCALABILITA\n",
    "- Se voglio verificare la scalablità per un valore b, ottengo che la varianza campionaria cambia (non ricordo la formula per calcolare quanto viene traslata )\n",
    "- Esempio:"
   ]
  },
  {
   "cell_type": "code",
   "execution_count": 9,
   "id": "99198767-a559-4896-b8a9-a218582700d9",
   "metadata": {},
   "outputs": [
    {
     "name": "stdout",
     "output_type": "stream",
     "text": [
      "varianza: 0.3\n",
      "varianza scalata: 2.7\n"
     ]
    }
   ],
   "source": [
    "print(\"varianza: \"+str(absolutes.var()))\n",
    "traslate=absolutes*3\n",
    "print(\"varianza scalata: \"+str(traslate.var()))"
   ]
  },
  {
   "cell_type": "markdown",
   "id": "3372f47f-0f47-427d-97b4-7da900e32e4d",
   "metadata": {},
   "source": [
    "## DEVIAZIONE STANDARD\n",
    "- detta in parole molto brutte, non è altro che la radice quadrata della varianza\n",
    "- infatti:"
   ]
  },
  {
   "cell_type": "code",
   "execution_count": 10,
   "id": "41c276ea-0271-4a97-be5d-ee0f33e73a86",
   "metadata": {},
   "outputs": [
    {
     "name": "stdout",
     "output_type": "stream",
     "text": [
      "varianza: 0.3\n",
      "varianza: 0.5477225575051661\n"
     ]
    }
   ],
   "source": [
    "print(\"varianza: \"+str(absolutes.var()))\n",
    "print(\"varianza: \"+str(absolutes.std()))"
   ]
  },
  {
   "cell_type": "markdown",
   "id": "a73662dd-4368-49fe-848c-a31e80519649",
   "metadata": {},
   "source": [
    "#### TRASLAZIONE\n",
    "- come per la varianza, rimane invariata chiaramente:\n",
    "- Esempio:"
   ]
  },
  {
   "cell_type": "code",
   "execution_count": 11,
   "id": "4402cd32-d5eb-417d-9adb-5b842f26d85f",
   "metadata": {},
   "outputs": [
    {
     "name": "stdout",
     "output_type": "stream",
     "text": [
      "STD: 0.5477225575051661\n",
      "STD traslata: 0.5477225575051661\n"
     ]
    }
   ],
   "source": [
    "print(\"STD: \"+str(absolutes.std()))\n",
    "traslate=absolutes+3\n",
    "print(\"STD traslata: \"+str(traslate.std()))"
   ]
  },
  {
   "cell_type": "markdown",
   "id": "ba481770-e84c-472e-b6e6-066f32f11e60",
   "metadata": {},
   "source": [
    "#### SCALABILITA\n",
    "- come per la varianza, varia:\n",
    "- Esempio:"
   ]
  },
  {
   "cell_type": "code",
   "execution_count": 12,
   "id": "8b535180-dc73-44c0-bdba-8611306c58b8",
   "metadata": {},
   "outputs": [
    {
     "name": "stdout",
     "output_type": "stream",
     "text": [
      "STD: 0.5477225575051661\n",
      "STD SCALATA: 1.6431676725154984\n"
     ]
    }
   ],
   "source": [
    "print(\"STD: \"+str(absolutes.std()))\n",
    "traslate=absolutes*3\n",
    "print(\"STD SCALATA: \"+str(traslate.std()))"
   ]
  },
  {
   "cell_type": "markdown",
   "id": "91b5bd7b-6518-4f6c-8cbc-684665899ff3",
   "metadata": {},
   "source": [
    "### COEFF. DI VARIAZIONE\n",
    "- Il coefficiente di variazione (CV) è una misura di statistica descrittiva che aiuta a quantificare in modo oggettivo quanto sia grande il valore di una deviazione standard rispetto alla sua media.\n",
    "- si calcola nel seguente modo:\n",
    "\\begin{equation}\n",
    "\\frac{std}{media}\n",
    "\\end{equation}\n",
    "- Esempio:"
   ]
  },
  {
   "cell_type": "code",
   "execution_count": 13,
   "id": "526d3306-286c-4047-8db6-9697e1037b14",
   "metadata": {},
   "outputs": [
    {
     "name": "stdout",
     "output_type": "stream",
     "text": [
      "STD: 0.5477225575051661\n",
      "COEFF VARIAZIONE: 0.34232659844072877\n"
     ]
    }
   ],
   "source": [
    "print(\"STD: \"+str(absolutes.std()))\n",
    "print(\"COEFF VARIAZIONE: \"+str(absolutes.std()/absolutes.mean()))"
   ]
  },
  {
   "cell_type": "markdown",
   "id": "04bf1e70-4413-4c38-b205-84dac55c7b0d",
   "metadata": {},
   "source": [
    "### PERCENTILE CAMPIONARIO\n",
    "- dipende dal \"livello\" p dove questo p è un numero che esprime una percentuale.\n",
    "- se al posto di percentuale, il livello lo esprimo in\n",
    "    - 0, ... ,1  -> parlo di **quantili**\n",
    "    - 0, ... ,4 ->  parlo di **quartili**\n",
    "    - 0, ... ,10 -> parlo di **decili**\n",
    "- posso vedere informazioni su percentili e altro con il metodo .describe"
   ]
  },
  {
   "cell_type": "code",
   "execution_count": 14,
   "id": "f7c2760c-ee62-4270-8ddb-f11b070bc156",
   "metadata": {},
   "outputs": [
    {
     "data": {
      "text/plain": [
       "count     367.000000\n",
       "mean     1979.855586\n",
       "std        19.717218\n",
       "min      1933.000000\n",
       "25%      1965.000000\n",
       "50%      1979.000000\n",
       "75%      1994.000000\n",
       "max      2099.000000\n",
       "Name: First appearance, dtype: float64"
      ]
     },
     "execution_count": 14,
     "metadata": {},
     "output_type": "execute_result"
    }
   ],
   "source": [
    "heroes = pd.read_csv('data/heroes.csv', sep=';', index_col=0)\n",
    "year = heroes['First appearance']\n",
    "year.describe() "
   ]
  },
  {
   "cell_type": "markdown",
   "id": "5bb7f3ac-f2d0-4f98-871b-268bc78e46e9",
   "metadata": {},
   "source": [
    "- se voglio accedere ad un particolare livello di quantile posso fare in questo modo"
   ]
  },
  {
   "cell_type": "code",
   "execution_count": 15,
   "id": "47b1d403-baff-4254-923c-1a89965bde01",
   "metadata": {},
   "outputs": [
    {
     "name": "stdout",
     "output_type": "stream",
     "text": [
      "1963.0\n",
      "1994.0\n"
     ]
    }
   ],
   "source": [
    "print(year.quantile(.15))\n",
    "print(year.quantile(.75))"
   ]
  },
  {
   "cell_type": "markdown",
   "id": "e108b3c1-f323-44ad-9b3b-3b5f208efaa8",
   "metadata": {},
   "source": [
    "### BOX PLOT\n",
    "- è una rappresentazione grafica che riassume le principali caratteristiche di un campione di dati.\n",
    "- Tale rappresentazione contiene due componenti principali:\n",
    "    - una _scatola_, intesa come un rettangolo che evidenzia il primo e il terzo quartile campionario dei dati, che corrispondono alle due basi, e la mediana, indicata tramite un segmento parallelo alle basi stesse;\n",
    "    - due _baffi_, che si estendono dagli estremi della scatola fino a raggiungere il minimo e il massimo valore osservato.\n",
    "\n",
    "- A titolo di esempio la cella seguente visualizza il box plot relativo all'anno di prima apparizione."
   ]
  },
  {
   "cell_type": "code",
   "execution_count": 16,
   "id": "5b6bf529-8d4b-44da-88b2-e5f3053ecd53",
   "metadata": {},
   "outputs": [
    {
     "data": {
      "image/png": "[encoded data removed]",
      "text/plain": [
       "<Figure size 500x200 with 1 Axes>"
      ]
     },
     "metadata": {},
     "output_type": "display_data"
    }
   ],
   "source": [
    "year.plot.box()\n",
    "plt.show()"
   ]
  },
  {
   "cell_type": "markdown",
   "id": "f365888c-6870-4e3c-ad28-8b805eca7f8e",
   "metadata": {},
   "source": [
    "- Questo grafico mette in evidenza:\n",
    "    - la centralità delle osservazioni, tramite il segmento che individua la mediana campionaria;\n",
    "    - la dispersione delle osservazioni:\n",
    "        - sia in termini di range interquartile (l'altezza della scatola)\n",
    "        - che di intervallo di variazione dei dati (la distanza tra gli estremi dei baffi).\n",
    "- Vale la pena sottolineare che la presenza di eventuali valori mancanti non influisce sulla generazione del grafico.\n",
    "- necessario specificare \"whis\" ( whiskers, baffi ) per non mostrare gli outliers ( i cerchietti ). ( da me non funziona, chiedere al prof )\n",
    "- Il BOX PLOT si puo anche generare verticalmente:"
   ]
  },
  {
   "cell_type": "code",
   "execution_count": 17,
   "id": "2c06cdb9-56bb-4624-8f4b-aabc76aedc5e",
   "metadata": {},
   "outputs": [
    {
     "data": {
      "image/png": "[encoded data removed]",
      "text/plain": [
       "<Figure size 500x200 with 1 Axes>"
      ]
     },
     "metadata": {},
     "output_type": "display_data"
    }
   ],
   "source": [
    "year.plot.box(vert=False,whis=10) # mettendo un valore numerico funziona, forse il range viene specificato con un valore ora? idk\n",
    "plt.show()"
   ]
  },
  {
   "cell_type": "markdown",
   "id": "60eabd1a-09c2-48ad-8458-52eaecd46aac",
   "metadata": {},
   "source": [
    "# LEZIONE 5\n",
    "- presente su carta (impossibile da scrivere qua )"
   ]
  },
  {
   "cell_type": "markdown",
   "id": "2a7bf9a3-73d8-4264-a252-e22b77cab54e",
   "metadata": {},
   "source": [
    "# LEZIONE 6\n",
    "- riferimentoi:\n",
    "    - \"L03-Dati_e_frequenze\"\n",
    "    - \"L04-Indici_di_dispersione\""
   ]
  },
  {
   "cell_type": "markdown",
   "id": "8dbcedc2-51da-4537-b571-0cf735703fd7",
   "metadata": {},
   "source": [
    "## DIAGRAMMA DI PARETO"
   ]
  },
  {
   "cell_type": "code",
   "execution_count": 18,
   "id": "9cc98469-1000-4177-965f-300167195c27",
   "metadata": {},
   "outputs": [
    {
     "data": {
      "image/png": "[encoded data removed]",
      "text/plain": [
       "<Figure size 500x200 with 1 Axes>"
      ]
     },
     "metadata": {},
     "output_type": "display_data"
    }
   ],
   "source": [
    "eye_color = heroes['Eye color']\n",
    "eye_color_freq = eye_color.value_counts(normalize=True)\n",
    "\n",
    "eye_color_freq[eye_color_freq>.02].cumsum().plot()\n",
    "eye_color_freq[eye_color_freq>.02].plot.bar()\n",
    "plt.show()"
   ]
  },
  {
   "cell_type": "markdown",
   "id": "e47b7f86-130b-4474-90a5-2e8cb983d327",
   "metadata": {},
   "source": [
    "- comodo per avere informazioni sulle frequenze cumulate\n",
    "- normalize=true significa che vogliamo le frequenze relative\n",
    "- filtro quelle con almeno il 2% per togliere le osservazioni farlocche\n",
    "- Va notato come la linea spezzata nel precedente diagramma non arrivi all'ordinata 1, avendo considerato solo un sottoinsieme dei dati: possiamo verificarlo, oltre che visualmente, sommando le frequenze relative:"
   ]
  },
  {
   "cell_type": "code",
   "execution_count": 20,
   "id": "cb58a73b-9e3a-4cba-b552-10e4e48d681f",
   "metadata": {},
   "outputs": [
    {
     "data": {
      "text/plain": [
       "0.9271758436944938"
      ]
     },
     "execution_count": 20,
     "metadata": {},
     "output_type": "execute_result"
    }
   ],
   "source": [
    "sum(eye_color_freq[eye_color_freq>.02])"
   ]
  },
  {
   "cell_type": "markdown",
   "id": "c763eaa0-95db-4f7c-84ff-da3276c3a98f",
   "metadata": {},
   "source": [
    "- Se dividiamo tutte le frequenze per la somma ottenuta, apportiamo alle frequenze una correzione che fa sì che ora la loro somma sia esattamente uno (spesso si usa il termine _normalizzazione_ per indicare un'operazione di questo tipo).\n",
    "- Il diagramma di Pareto per i valori ottenuti considerando questa correzione si estende ora fino all'ordinata unitaria."
   ]
  },
  {
   "cell_type": "code",
   "execution_count": 21,
   "id": "90feb8ee-f7fb-491d-937a-21aa17983b1f",
   "metadata": {},
   "outputs": [
    {
     "data": {
      "image/png": "[encoded data removed]",
      "text/plain": [
       "<Figure size 500x200 with 1 Axes>"
      ]
     },
     "metadata": {},
     "output_type": "display_data"
    }
   ],
   "source": [
    "norm_eye_color_freq = eye_color_freq[eye_color_freq>.02]/0.92\n",
    "norm_eye_color_freq.cumsum().plot()\n",
    "norm_eye_color_freq.plot.bar()\n",
    "plt.show()"
   ]
  },
  {
   "cell_type": "markdown",
   "id": "f6da332a-93e6-4c06-935b-c9dd329c16a9",
   "metadata": {},
   "source": [
    "## FREQUENZE CONGIUNTE E MARGINALI"
   ]
  },
  {
   "cell_type": "code",
   "execution_count": 23,
   "id": "1e6b6770-fd2a-43cd-bc8e-dab76bd52cad",
   "metadata": {},
   "outputs": [
    {
     "data": {
      "text/html": [
       "<div>\n",
       "<style scoped>\n",
       "    .dataframe tbody tr th:only-of-type {\n",
       "        vertical-align: middle;\n",
       "    }\n",
       "\n",
       "    .dataframe tbody tr th {\n",
       "        vertical-align: top;\n",
       "    }\n",
       "\n",
       "    .dataframe thead th {\n",
       "        text-align: right;\n",
       "    }\n",
       "</style>\n",
       "<table border=\"1\" class=\"dataframe\">\n",
       "  <thead>\n",
       "    <tr style=\"text-align: right;\">\n",
       "      <th>Gender</th>\n",
       "      <th>F</th>\n",
       "      <th>M</th>\n",
       "    </tr>\n",
       "    <tr>\n",
       "      <th>Intelligence</th>\n",
       "      <th></th>\n",
       "      <th></th>\n",
       "    </tr>\n",
       "  </thead>\n",
       "  <tbody>\n",
       "    <tr>\n",
       "      <th>average</th>\n",
       "      <td>38</td>\n",
       "      <td>101</td>\n",
       "    </tr>\n",
       "    <tr>\n",
       "      <th>good</th>\n",
       "      <td>78</td>\n",
       "      <td>165</td>\n",
       "    </tr>\n",
       "    <tr>\n",
       "      <th>high</th>\n",
       "      <td>27</td>\n",
       "      <td>112</td>\n",
       "    </tr>\n",
       "    <tr>\n",
       "      <th>low</th>\n",
       "      <td>0</td>\n",
       "      <td>13</td>\n",
       "    </tr>\n",
       "    <tr>\n",
       "      <th>moderate</th>\n",
       "      <td>21</td>\n",
       "      <td>37</td>\n",
       "    </tr>\n",
       "  </tbody>\n",
       "</table>\n",
       "</div>"
      ],
      "text/plain": [
       "Gender         F    M\n",
       "Intelligence         \n",
       "average       38  101\n",
       "good          78  165\n",
       "high          27  112\n",
       "low            0   13\n",
       "moderate      21   37"
      ]
     },
     "execution_count": 23,
     "metadata": {},
     "output_type": "execute_result"
    }
   ],
   "source": [
    "int_gender_freq = pd.crosstab(index=heroes['Intelligence'], \n",
    "                              columns=heroes['Gender'])\n",
    "\n",
    "int_gender_freq"
   ]
  },
  {
   "cell_type": "markdown",
   "id": "11131b57-df41-4b1c-96a1-10b0d72be010",
   "metadata": {},
   "source": [
    "- crosstab ci restituisce un dataframe, quindi quello che io posso fare senza problemi è accedere alle sue colonne\n",
    "- se voglio modificare l'ordine delle colonne del dataframe posso farlo senza problemi:"
   ]
  },
  {
   "cell_type": "code",
   "execution_count": 24,
   "id": "1171b939-307e-4dd6-ae94-4517fd15a6a4",
   "metadata": {},
   "outputs": [
    {
     "data": {
      "text/html": [
       "<div>\n",
       "<style scoped>\n",
       "    .dataframe tbody tr th:only-of-type {\n",
       "        vertical-align: middle;\n",
       "    }\n",
       "\n",
       "    .dataframe tbody tr th {\n",
       "        vertical-align: top;\n",
       "    }\n",
       "\n",
       "    .dataframe thead th {\n",
       "        text-align: right;\n",
       "    }\n",
       "</style>\n",
       "<table border=\"1\" class=\"dataframe\">\n",
       "  <thead>\n",
       "    <tr style=\"text-align: right;\">\n",
       "      <th>Gender</th>\n",
       "      <th>F</th>\n",
       "      <th>M</th>\n",
       "    </tr>\n",
       "    <tr>\n",
       "      <th>Intelligence</th>\n",
       "      <th></th>\n",
       "      <th></th>\n",
       "    </tr>\n",
       "  </thead>\n",
       "  <tbody>\n",
       "    <tr>\n",
       "      <th>low</th>\n",
       "      <td>0</td>\n",
       "      <td>13</td>\n",
       "    </tr>\n",
       "    <tr>\n",
       "      <th>moderate</th>\n",
       "      <td>21</td>\n",
       "      <td>37</td>\n",
       "    </tr>\n",
       "    <tr>\n",
       "      <th>average</th>\n",
       "      <td>38</td>\n",
       "      <td>101</td>\n",
       "    </tr>\n",
       "    <tr>\n",
       "      <th>good</th>\n",
       "      <td>78</td>\n",
       "      <td>165</td>\n",
       "    </tr>\n",
       "    <tr>\n",
       "      <th>high</th>\n",
       "      <td>27</td>\n",
       "      <td>112</td>\n",
       "    </tr>\n",
       "  </tbody>\n",
       "</table>\n",
       "</div>"
      ],
      "text/plain": [
       "Gender         F    M\n",
       "Intelligence         \n",
       "low            0   13\n",
       "moderate      21   37\n",
       "average       38  101\n",
       "good          78  165\n",
       "high          27  112"
      ]
     },
     "execution_count": 24,
     "metadata": {},
     "output_type": "execute_result"
    }
   ],
   "source": [
    "int_gender_freq = int_gender_freq.reindex(['low', 'moderate',\n",
    "                                           'average', 'good', 'high'])\n",
    "int_gender_freqint_gender_freq.loc[:,['M', 'F']]"
   ]
  },
  {
   "cell_type": "markdown",
   "id": "2575ff51-a9c2-41e2-96de-b7095cd10d37",
   "metadata": {},
   "source": [
    "- Siccome `crosstab` produce dei dataframe, per riordinare le colonne è sufficiente accedere alla tabella tramite `loc` e specificando come secondo argomento una lista dei valori nell'ordine desiderato:"
   ]
  },
  {
   "cell_type": "code",
   "execution_count": 25,
   "id": "2dbe9bcb-116d-49fb-bd0d-b093ee2e0172",
   "metadata": {},
   "outputs": [
    {
     "data": {
      "text/html": [
       "<div>\n",
       "<style scoped>\n",
       "    .dataframe tbody tr th:only-of-type {\n",
       "        vertical-align: middle;\n",
       "    }\n",
       "\n",
       "    .dataframe tbody tr th {\n",
       "        vertical-align: top;\n",
       "    }\n",
       "\n",
       "    .dataframe thead th {\n",
       "        text-align: right;\n",
       "    }\n",
       "</style>\n",
       "<table border=\"1\" class=\"dataframe\">\n",
       "  <thead>\n",
       "    <tr style=\"text-align: right;\">\n",
       "      <th>Gender</th>\n",
       "      <th>M</th>\n",
       "      <th>F</th>\n",
       "    </tr>\n",
       "    <tr>\n",
       "      <th>Intelligence</th>\n",
       "      <th></th>\n",
       "      <th></th>\n",
       "    </tr>\n",
       "  </thead>\n",
       "  <tbody>\n",
       "    <tr>\n",
       "      <th>low</th>\n",
       "      <td>13</td>\n",
       "      <td>0</td>\n",
       "    </tr>\n",
       "    <tr>\n",
       "      <th>moderate</th>\n",
       "      <td>37</td>\n",
       "      <td>21</td>\n",
       "    </tr>\n",
       "    <tr>\n",
       "      <th>average</th>\n",
       "      <td>101</td>\n",
       "      <td>38</td>\n",
       "    </tr>\n",
       "    <tr>\n",
       "      <th>good</th>\n",
       "      <td>165</td>\n",
       "      <td>78</td>\n",
       "    </tr>\n",
       "    <tr>\n",
       "      <th>high</th>\n",
       "      <td>112</td>\n",
       "      <td>27</td>\n",
       "    </tr>\n",
       "  </tbody>\n",
       "</table>\n",
       "</div>"
      ],
      "text/plain": [
       "Gender          M   F\n",
       "Intelligence         \n",
       "low            13   0\n",
       "moderate       37  21\n",
       "average       101  38\n",
       "good          165  78\n",
       "high          112  27"
      ]
     },
     "execution_count": 25,
     "metadata": {},
     "output_type": "execute_result"
    }
   ],
   "source": [
    "int_gender_freq.loc[:,['M', 'F']]"
   ]
  },
  {
   "cell_type": "markdown",
   "id": "ab98f831-aec1-446d-8af5-f67d7647c484",
   "metadata": {},
   "source": [
    "- Nel caso in cui si volessero calcolare le frequenze congiunte e almeno uno dei caratteri fosse numerico, si rischierebbe di ricadere nello stesso problema descritto quando abbiamo parlato degli istogrammi: si consideri per esempio il tentativo di calcolare le frequenze congiunte di peso e genere:"
   ]
  },
  {
   "cell_type": "code",
   "execution_count": 26,
   "id": "9998b3d2-cc12-46e6-b0f8-df301ac11cfe",
   "metadata": {},
   "outputs": [
    {
     "data": {
      "text/html": [
       "<div>\n",
       "<style scoped>\n",
       "    .dataframe tbody tr th:only-of-type {\n",
       "        vertical-align: middle;\n",
       "    }\n",
       "\n",
       "    .dataframe tbody tr th {\n",
       "        vertical-align: top;\n",
       "    }\n",
       "\n",
       "    .dataframe thead th {\n",
       "        text-align: right;\n",
       "    }\n",
       "</style>\n",
       "<table border=\"1\" class=\"dataframe\">\n",
       "  <thead>\n",
       "    <tr style=\"text-align: right;\">\n",
       "      <th>Gender</th>\n",
       "      <th>F</th>\n",
       "      <th>M</th>\n",
       "    </tr>\n",
       "    <tr>\n",
       "      <th>Weight</th>\n",
       "      <th></th>\n",
       "      <th></th>\n",
       "    </tr>\n",
       "  </thead>\n",
       "  <tbody>\n",
       "    <tr>\n",
       "      <th>2.34</th>\n",
       "      <td>0</td>\n",
       "      <td>1</td>\n",
       "    </tr>\n",
       "    <tr>\n",
       "      <th>4.82</th>\n",
       "      <td>0</td>\n",
       "      <td>1</td>\n",
       "    </tr>\n",
       "    <tr>\n",
       "      <th>9.79</th>\n",
       "      <td>0</td>\n",
       "      <td>1</td>\n",
       "    </tr>\n",
       "    <tr>\n",
       "      <th>14.67</th>\n",
       "      <td>0</td>\n",
       "      <td>1</td>\n",
       "    </tr>\n",
       "    <tr>\n",
       "      <th>16.20</th>\n",
       "      <td>0</td>\n",
       "      <td>1</td>\n",
       "    </tr>\n",
       "    <tr>\n",
       "      <th>17.01</th>\n",
       "      <td>0</td>\n",
       "      <td>1</td>\n",
       "    </tr>\n",
       "    <tr>\n",
       "      <th>18.11</th>\n",
       "      <td>0</td>\n",
       "      <td>1</td>\n",
       "    </tr>\n",
       "    <tr>\n",
       "      <th>18.45</th>\n",
       "      <td>0</td>\n",
       "      <td>1</td>\n",
       "    </tr>\n",
       "    <tr>\n",
       "      <th>19.00</th>\n",
       "      <td>0</td>\n",
       "      <td>1</td>\n",
       "    </tr>\n",
       "    <tr>\n",
       "      <th>25.73</th>\n",
       "      <td>0</td>\n",
       "      <td>1</td>\n",
       "    </tr>\n",
       "  </tbody>\n",
       "</table>\n",
       "</div>"
      ],
      "text/plain": [
       "Gender  F  M\n",
       "Weight      \n",
       "2.34    0  1\n",
       "4.82    0  1\n",
       "9.79    0  1\n",
       "14.67   0  1\n",
       "16.20   0  1\n",
       "17.01   0  1\n",
       "18.11   0  1\n",
       "18.45   0  1\n",
       "19.00   0  1\n",
       "25.73   0  1"
      ]
     },
     "execution_count": 26,
     "metadata": {},
     "output_type": "execute_result"
    }
   ],
   "source": [
    "pd.crosstab(index=heroes['Weight'], columns=[heroes['Gender']]).iloc[:10,:]"
   ]
  },
  {
   "cell_type": "markdown",
   "id": "8098878d-3a60-4144-b95a-bad6057e7399",
   "metadata": {},
   "source": [
    "- Essenzialmente in ogni riga c'è un valore nullo e uno unitario, semplicemente perché succede quasi sempre che un particolare valore del peso specificato fino ai decigrammi occorra un'unica volta nelle osservazioni.\n",
    "- È quindi opportuno raggruppare assieme pesi «vicini» tra loro. Ciò viene fatto utilizzando la funzione `pd.cut`, che converte una serie di valori numerici in una serie qualitativa i cui valori possibili sono gli intervalli di una partizione aventi per estremi i valori specificati in corrispondenza dell'argomento `bins`.\n",
    "- Considerando questa nuova serie è possibile generare una tabella di frequenze congiunte più significativa."
   ]
  },
  {
   "cell_type": "code",
   "execution_count": 27,
   "id": "b1712ee7-2393-46b7-bca2-108e991e098a",
   "metadata": {},
   "outputs": [
    {
     "data": {
      "text/html": [
       "<div>\n",
       "<style scoped>\n",
       "    .dataframe tbody tr th:only-of-type {\n",
       "        vertical-align: middle;\n",
       "    }\n",
       "\n",
       "    .dataframe tbody tr th {\n",
       "        vertical-align: top;\n",
       "    }\n",
       "\n",
       "    .dataframe thead th {\n",
       "        text-align: right;\n",
       "    }\n",
       "</style>\n",
       "<table border=\"1\" class=\"dataframe\">\n",
       "  <thead>\n",
       "    <tr style=\"text-align: right;\">\n",
       "      <th>Gender</th>\n",
       "      <th>F</th>\n",
       "      <th>M</th>\n",
       "    </tr>\n",
       "    <tr>\n",
       "      <th>Weight</th>\n",
       "      <th></th>\n",
       "      <th></th>\n",
       "    </tr>\n",
       "  </thead>\n",
       "  <tbody>\n",
       "    <tr>\n",
       "      <th>(30, 50]</th>\n",
       "      <td>4</td>\n",
       "      <td>4</td>\n",
       "    </tr>\n",
       "    <tr>\n",
       "      <th>(50, 80]</th>\n",
       "      <td>116</td>\n",
       "      <td>88</td>\n",
       "    </tr>\n",
       "    <tr>\n",
       "      <th>(80, 100]</th>\n",
       "      <td>5</td>\n",
       "      <td>111</td>\n",
       "    </tr>\n",
       "    <tr>\n",
       "      <th>(100, 200]</th>\n",
       "      <td>11</td>\n",
       "      <td>84</td>\n",
       "    </tr>\n",
       "    <tr>\n",
       "      <th>(200, 500]</th>\n",
       "      <td>5</td>\n",
       "      <td>38</td>\n",
       "    </tr>\n",
       "    <tr>\n",
       "      <th>(500, 1000]</th>\n",
       "      <td>1</td>\n",
       "      <td>5</td>\n",
       "    </tr>\n",
       "  </tbody>\n",
       "</table>\n",
       "</div>"
      ],
      "text/plain": [
       "Gender         F    M\n",
       "Weight               \n",
       "(30, 50]       4    4\n",
       "(50, 80]     116   88\n",
       "(80, 100]      5  111\n",
       "(100, 200]    11   84\n",
       "(200, 500]     5   38\n",
       "(500, 1000]    1    5"
      ]
     },
     "execution_count": 27,
     "metadata": {},
     "output_type": "execute_result"
    }
   ],
   "source": [
    "pd.crosstab(index=pd.cut(heroes['Weight'],\n",
    "                         bins=[30, 50, 80, 100, 200, 500, 1000]),\n",
    "            columns=[heroes['Gender']])"
   ]
  },
  {
   "cell_type": "markdown",
   "id": "7c5394f6-e0ee-4f69-9553-e007df46b7d6",
   "metadata": {},
   "source": [
    "- Quando si genera una tabella di frequenze congiunte, è possibile specificare il valore `True` per l'argomento `margins` al fine di aggiungere una riga e una colonna che contengono i totali (calcolati rispettivamente sulle singole colonne e sulle singole righe).\n",
    "- I valori ivi indicati prendono il nome di _frequenze marginali_, e corrispondono alle frequenze del carattere corrispondente.\n",
    "- Per esempio, rigenerando la tabella delle frequenze congiunte di livello di intelligenza e genere con le colonne dei totali,"
   ]
  },
  {
   "cell_type": "code",
   "execution_count": 28,
   "id": "e17e3fdd-a1d5-491e-acd4-a839824735d0",
   "metadata": {},
   "outputs": [
    {
     "data": {
      "text/html": [
       "<div>\n",
       "<style scoped>\n",
       "    .dataframe tbody tr th:only-of-type {\n",
       "        vertical-align: middle;\n",
       "    }\n",
       "\n",
       "    .dataframe tbody tr th {\n",
       "        vertical-align: top;\n",
       "    }\n",
       "\n",
       "    .dataframe thead th {\n",
       "        text-align: right;\n",
       "    }\n",
       "</style>\n",
       "<table border=\"1\" class=\"dataframe\">\n",
       "  <thead>\n",
       "    <tr style=\"text-align: right;\">\n",
       "      <th>Gender</th>\n",
       "      <th>F</th>\n",
       "      <th>M</th>\n",
       "      <th>All</th>\n",
       "    </tr>\n",
       "    <tr>\n",
       "      <th>Intelligence</th>\n",
       "      <th></th>\n",
       "      <th></th>\n",
       "      <th></th>\n",
       "    </tr>\n",
       "  </thead>\n",
       "  <tbody>\n",
       "    <tr>\n",
       "      <th>average</th>\n",
       "      <td>38</td>\n",
       "      <td>101</td>\n",
       "      <td>139</td>\n",
       "    </tr>\n",
       "    <tr>\n",
       "      <th>good</th>\n",
       "      <td>78</td>\n",
       "      <td>165</td>\n",
       "      <td>243</td>\n",
       "    </tr>\n",
       "    <tr>\n",
       "      <th>high</th>\n",
       "      <td>27</td>\n",
       "      <td>112</td>\n",
       "      <td>139</td>\n",
       "    </tr>\n",
       "    <tr>\n",
       "      <th>low</th>\n",
       "      <td>0</td>\n",
       "      <td>13</td>\n",
       "      <td>13</td>\n",
       "    </tr>\n",
       "    <tr>\n",
       "      <th>moderate</th>\n",
       "      <td>21</td>\n",
       "      <td>37</td>\n",
       "      <td>58</td>\n",
       "    </tr>\n",
       "    <tr>\n",
       "      <th>All</th>\n",
       "      <td>164</td>\n",
       "      <td>428</td>\n",
       "      <td>592</td>\n",
       "    </tr>\n",
       "  </tbody>\n",
       "</table>\n",
       "</div>"
      ],
      "text/plain": [
       "Gender          F    M  All\n",
       "Intelligence               \n",
       "average        38  101  139\n",
       "good           78  165  243\n",
       "high           27  112  139\n",
       "low             0   13   13\n",
       "moderate       21   37   58\n",
       "All           164  428  592"
      ]
     },
     "execution_count": 28,
     "metadata": {},
     "output_type": "execute_result"
    }
   ],
   "source": [
    "pd.crosstab(index=heroes['Intelligence'], \n",
    "            columns=heroes['Gender'], margins=True)"
   ]
  },
  {
   "cell_type": "markdown",
   "id": "bdf86d94-eab5-4ac0-9cc3-fc9582ce78b8",
   "metadata": {},
   "source": [
    "- per calcolare le frequenze relative mi basta mettere un normalize='all'"
   ]
  },
  {
   "cell_type": "code",
   "execution_count": 29,
   "id": "e05deada-34a8-4395-ac10-002a14d0e90b",
   "metadata": {},
   "outputs": [
    {
     "data": {
      "text/html": [
       "<div>\n",
       "<style scoped>\n",
       "    .dataframe tbody tr th:only-of-type {\n",
       "        vertical-align: middle;\n",
       "    }\n",
       "\n",
       "    .dataframe tbody tr th {\n",
       "        vertical-align: top;\n",
       "    }\n",
       "\n",
       "    .dataframe thead th {\n",
       "        text-align: right;\n",
       "    }\n",
       "</style>\n",
       "<table border=\"1\" class=\"dataframe\">\n",
       "  <thead>\n",
       "    <tr style=\"text-align: right;\">\n",
       "      <th>Gender</th>\n",
       "      <th>F</th>\n",
       "      <th>M</th>\n",
       "      <th>All</th>\n",
       "    </tr>\n",
       "    <tr>\n",
       "      <th>Intelligence</th>\n",
       "      <th></th>\n",
       "      <th></th>\n",
       "      <th></th>\n",
       "    </tr>\n",
       "  </thead>\n",
       "  <tbody>\n",
       "    <tr>\n",
       "      <th>average</th>\n",
       "      <td>0.064189</td>\n",
       "      <td>0.170608</td>\n",
       "      <td>0.234797</td>\n",
       "    </tr>\n",
       "    <tr>\n",
       "      <th>good</th>\n",
       "      <td>0.131757</td>\n",
       "      <td>0.278716</td>\n",
       "      <td>0.410473</td>\n",
       "    </tr>\n",
       "    <tr>\n",
       "      <th>high</th>\n",
       "      <td>0.045608</td>\n",
       "      <td>0.189189</td>\n",
       "      <td>0.234797</td>\n",
       "    </tr>\n",
       "    <tr>\n",
       "      <th>low</th>\n",
       "      <td>0.000000</td>\n",
       "      <td>0.021959</td>\n",
       "      <td>0.021959</td>\n",
       "    </tr>\n",
       "    <tr>\n",
       "      <th>moderate</th>\n",
       "      <td>0.035473</td>\n",
       "      <td>0.062500</td>\n",
       "      <td>0.097973</td>\n",
       "    </tr>\n",
       "    <tr>\n",
       "      <th>All</th>\n",
       "      <td>0.277027</td>\n",
       "      <td>0.722973</td>\n",
       "      <td>1.000000</td>\n",
       "    </tr>\n",
       "  </tbody>\n",
       "</table>\n",
       "</div>"
      ],
      "text/plain": [
       "Gender               F         M       All\n",
       "Intelligence                              \n",
       "average       0.064189  0.170608  0.234797\n",
       "good          0.131757  0.278716  0.410473\n",
       "high          0.045608  0.189189  0.234797\n",
       "low           0.000000  0.021959  0.021959\n",
       "moderate      0.035473  0.062500  0.097973\n",
       "All           0.277027  0.722973  1.000000"
      ]
     },
     "execution_count": 29,
     "metadata": {},
     "output_type": "execute_result"
    }
   ],
   "source": [
    "pd.crosstab(index=heroes['Intelligence'], \n",
    "            columns=heroes['Gender'],\n",
    "            margins=True,\n",
    "            normalize='all')"
   ]
  },
  {
   "cell_type": "markdown",
   "id": "b7d7ced3-1ed6-45f6-b082-340b97b952f7",
   "metadata": {},
   "source": [
    "- usando `'index'` si otterrà una tabella in cui i valori su ogni riga sommano a 1"
   ]
  },
  {
   "cell_type": "code",
   "execution_count": 30,
   "id": "3da7a808-481d-48a2-b424-3c14f64ec81e",
   "metadata": {},
   "outputs": [
    {
     "data": {
      "text/html": [
       "<div>\n",
       "<style scoped>\n",
       "    .dataframe tbody tr th:only-of-type {\n",
       "        vertical-align: middle;\n",
       "    }\n",
       "\n",
       "    .dataframe tbody tr th {\n",
       "        vertical-align: top;\n",
       "    }\n",
       "\n",
       "    .dataframe thead th {\n",
       "        text-align: right;\n",
       "    }\n",
       "</style>\n",
       "<table border=\"1\" class=\"dataframe\">\n",
       "  <thead>\n",
       "    <tr style=\"text-align: right;\">\n",
       "      <th>Gender</th>\n",
       "      <th>F</th>\n",
       "      <th>M</th>\n",
       "    </tr>\n",
       "    <tr>\n",
       "      <th>Intelligence</th>\n",
       "      <th></th>\n",
       "      <th></th>\n",
       "    </tr>\n",
       "  </thead>\n",
       "  <tbody>\n",
       "    <tr>\n",
       "      <th>average</th>\n",
       "      <td>0.273381</td>\n",
       "      <td>0.726619</td>\n",
       "    </tr>\n",
       "    <tr>\n",
       "      <th>good</th>\n",
       "      <td>0.320988</td>\n",
       "      <td>0.679012</td>\n",
       "    </tr>\n",
       "    <tr>\n",
       "      <th>high</th>\n",
       "      <td>0.194245</td>\n",
       "      <td>0.805755</td>\n",
       "    </tr>\n",
       "    <tr>\n",
       "      <th>low</th>\n",
       "      <td>0.000000</td>\n",
       "      <td>1.000000</td>\n",
       "    </tr>\n",
       "    <tr>\n",
       "      <th>moderate</th>\n",
       "      <td>0.362069</td>\n",
       "      <td>0.637931</td>\n",
       "    </tr>\n",
       "    <tr>\n",
       "      <th>All</th>\n",
       "      <td>0.277027</td>\n",
       "      <td>0.722973</td>\n",
       "    </tr>\n",
       "  </tbody>\n",
       "</table>\n",
       "</div>"
      ],
      "text/plain": [
       "Gender               F         M\n",
       "Intelligence                    \n",
       "average       0.273381  0.726619\n",
       "good          0.320988  0.679012\n",
       "high          0.194245  0.805755\n",
       "low           0.000000  1.000000\n",
       "moderate      0.362069  0.637931\n",
       "All           0.277027  0.722973"
      ]
     },
     "execution_count": 30,
     "metadata": {},
     "output_type": "execute_result"
    }
   ],
   "source": [
    "pd.crosstab(index=heroes['Intelligence'], \n",
    "            columns=heroes['Gender'],\n",
    "            margins=True,\n",
    "            normalize='index')"
   ]
  },
  {
   "cell_type": "markdown",
   "id": "928c8ce7-cc45-434c-88c8-7a17854f6c46",
   "metadata": {},
   "source": [
    "- indicando invece `columns` viene generata una tabella in cui tutte le colonne sommano al valore unitario"
   ]
  },
  {
   "cell_type": "code",
   "execution_count": 31,
   "id": "ff4da494-4277-4782-8bc6-d0019a9b59e1",
   "metadata": {},
   "outputs": [
    {
     "data": {
      "text/html": [
       "<div>\n",
       "<style scoped>\n",
       "    .dataframe tbody tr th:only-of-type {\n",
       "        vertical-align: middle;\n",
       "    }\n",
       "\n",
       "    .dataframe tbody tr th {\n",
       "        vertical-align: top;\n",
       "    }\n",
       "\n",
       "    .dataframe thead th {\n",
       "        text-align: right;\n",
       "    }\n",
       "</style>\n",
       "<table border=\"1\" class=\"dataframe\">\n",
       "  <thead>\n",
       "    <tr style=\"text-align: right;\">\n",
       "      <th>Gender</th>\n",
       "      <th>F</th>\n",
       "      <th>M</th>\n",
       "      <th>All</th>\n",
       "    </tr>\n",
       "    <tr>\n",
       "      <th>Intelligence</th>\n",
       "      <th></th>\n",
       "      <th></th>\n",
       "      <th></th>\n",
       "    </tr>\n",
       "  </thead>\n",
       "  <tbody>\n",
       "    <tr>\n",
       "      <th>average</th>\n",
       "      <td>0.231707</td>\n",
       "      <td>0.235981</td>\n",
       "      <td>0.234797</td>\n",
       "    </tr>\n",
       "    <tr>\n",
       "      <th>good</th>\n",
       "      <td>0.475610</td>\n",
       "      <td>0.385514</td>\n",
       "      <td>0.410473</td>\n",
       "    </tr>\n",
       "    <tr>\n",
       "      <th>high</th>\n",
       "      <td>0.164634</td>\n",
       "      <td>0.261682</td>\n",
       "      <td>0.234797</td>\n",
       "    </tr>\n",
       "    <tr>\n",
       "      <th>low</th>\n",
       "      <td>0.000000</td>\n",
       "      <td>0.030374</td>\n",
       "      <td>0.021959</td>\n",
       "    </tr>\n",
       "    <tr>\n",
       "      <th>moderate</th>\n",
       "      <td>0.128049</td>\n",
       "      <td>0.086449</td>\n",
       "      <td>0.097973</td>\n",
       "    </tr>\n",
       "  </tbody>\n",
       "</table>\n",
       "</div>"
      ],
      "text/plain": [
       "Gender               F         M       All\n",
       "Intelligence                              \n",
       "average       0.231707  0.235981  0.234797\n",
       "good          0.475610  0.385514  0.410473\n",
       "high          0.164634  0.261682  0.234797\n",
       "low           0.000000  0.030374  0.021959\n",
       "moderate      0.128049  0.086449  0.097973"
      ]
     },
     "execution_count": 31,
     "metadata": {},
     "output_type": "execute_result"
    }
   ],
   "source": [
    "pd.crosstab(index=heroes['Intelligence'], \n",
    "            columns=heroes['Gender'],\n",
    "            margins=True,\n",
    "            normalize='columns')"
   ]
  },
  {
   "cell_type": "markdown",
   "id": "485dcbb7-43f7-46f7-899d-2bf4bd6d5dcf",
   "metadata": {},
   "source": [
    "- La normalizzazione per colonne permette di ottenere una tabella che contiene le frequenze relative di due sotto-popolazioni come nel caso precedentemente visto, relativo alla forza di supereroi e supereroine.\n",
    "- Invocando `plot` o `plot.bar` su questa tabella si ottiene in modo semplice un grafico che permette di confrontare visualmente tali frequenze."
   ]
  },
  {
   "cell_type": "code",
   "execution_count": 32,
   "id": "7e62f3d5-f3d5-4afb-ac28-1d50fbf8705c",
   "metadata": {},
   "outputs": [
    {
     "data": {
      "image/png": "[encoded data removed]",
      "text/plain": [
       "<Figure size 500x200 with 1 Axes>"
      ]
     },
     "metadata": {},
     "output_type": "display_data"
    }
   ],
   "source": [
    "pd.crosstab(index=heroes['Strength'],\n",
    "            columns=[heroes['Gender']],\n",
    "            normalize='columns').plot.bar(color=['pink', 'blue'],\n",
    "                                          stacked=False)\n",
    "plt.show()"
   ]
  },
  {
   "cell_type": "markdown",
   "id": "3128f900-c37e-4413-a529-f8d4fe728ce1",
   "metadata": {},
   "source": [
    "## SCATTER PLOT ( DIAGRAMMA DI DISPERSIONE )"
   ]
  },
  {
   "cell_type": "markdown",
   "id": "76bb4902-be8b-4f23-8c7d-86e4995fa573",
   "metadata": {},
   "source": [
    "- Abbiamo visto in una lezione precedente come generare direttamente un grafico di una serie senza elaborarla (calcolando per esempio le sue frequenze) produce un risultato che non è normalmente informativo.\n",
    "- Le cose sono diverse quando si considerano congiuntamente due serie con un medesimo indice: in tal caso per ogni elemento di questo indice (e dunque per ogni osservazione), i valori delle due serie possono essere utilizzati per individuare le coordinate di un punto nel piano.\n",
    "- Visualizzando i punti corrispondenti a tutte le osservazioni si ottiene un _diagramma di dispersione_ (o _scatter plot_).\n",
    "- In pandas questo tipo di grafico si genera invocando il metodo `plot.scatter` sul _dataframe_ che contiene le osservazioni, indicando come argomenti i nomi dei caratteri che devono essere considerati (il primo dei quali verrà visualizzato sull'asse delle ascisse, usando invece quello delle ordinate per il secondo).\n",
    "- Per esempio nella cella seguente viene visualizzato il diagramma di dispersione dei caratteri relativi ad altezza e peso dei supereroi di genere maschile."
   ]
  },
  {
   "cell_type": "code",
   "execution_count": 34,
   "id": "993d427f-a458-48b7-b8e1-d44e505a73a2",
   "metadata": {},
   "outputs": [
    {
     "data": {
      "image/png": "[encoded data removed]",
      "text/plain": [
       "<Figure size 500x200 with 1 Axes>"
      ]
     },
     "metadata": {},
     "output_type": "display_data"
    }
   ],
   "source": [
    "heroes[heroes['Gender']=='M'].plot.scatter('Height', 'Weight')\n",
    "\n",
    "trend = lambda x: -1200 + x * 7\n",
    "x_range = [170, 300]\n",
    "line, = plt.plot(x_range, list(map(trend, x_range)), color='black')\n",
    "line.set_dashes([3, 2])\n",
    "line.set_linewidth(2)\n",
    "plt.show()"
   ]
  },
  {
   "cell_type": "markdown",
   "id": "74e6de5d-e32f-4f00-a49e-4cf0c338e5e1",
   "metadata": {},
   "source": [
    "- uso una lambda per una questione di comodità"
   ]
  },
  {
   "cell_type": "markdown",
   "id": "a039ba41-07eb-4732-9de2-32cb4ff128ac",
   "metadata": {},
   "source": [
    "- In questo caso la retta è stata posizionata «a mano»: esistono metodi che ci permettono di determinarla in funzione delle osservazioni.\n",
    "- Per il momento mettiamo in evidenza la possibilità di definire in modo formale una retta scelta in modo da minimizzare una sua distanza da tutti i punti, utilizzando il cosiddetto _metodo dei minimi quadrati_.\n",
    "- La cella seguente mostra come determinare tale retta, avendo cura di lavorare su una copia del _dataframe_ sulla quale invocare il metodo `dropna` che elimina le righe in cui è presente almeno un valore mancante."
   ]
  },
  {
   "cell_type": "code",
   "execution_count": 35,
   "id": "cd4836c5-459e-4d7a-afaf-45df56bb96d1",
   "metadata": {},
   "outputs": [
    {
     "name": "stderr",
     "output_type": "stream",
     "text": [
      "/home/dread/.local/lib/python3.12/site-packages/sklearn/base.py:493: UserWarning: X does not have valid feature names, but LinearRegression was fitted with feature names\n",
      "  warnings.warn(\n"
     ]
    },
    {
     "data": {
      "image/png": "[encoded data removed]",
      "text/plain": [
       "<Figure size 500x200 with 1 Axes>"
      ]
     },
     "metadata": {},
     "output_type": "display_data"
    }
   ],
   "source": [
    "from sklearn import linear_model\n",
    "\n",
    "regr = linear_model.LinearRegression()\n",
    "\n",
    "heroes_with_data = heroes[heroes['Gender']=='M'].copy().dropna()\n",
    "\n",
    "X = heroes_with_data.loc[:, ['Height']]\n",
    "Y = heroes_with_data['Weight']\n",
    "\n",
    "regr.fit(X, Y)\n",
    "\n",
    "heroes[heroes['Gender']=='M'].plot.scatter('Height', 'Weight')\n",
    "\n",
    "line, = plt.plot([0, 1000], regr.predict([[0], [1000]]), color='black')\n",
    "line.set_dashes([3, 2])\n",
    "line.set_linewidth(2)\n",
    "\n",
    "plt.show()"
   ]
  },
  {
   "cell_type": "markdown",
   "id": "357bbb85-e696-495c-b92b-02d5d7ecda08",
   "metadata": {},
   "source": [
    "- questo grafico non è corretto per via degli outlier che incasinano tutto. Bisogna scartare i valori fuori range"
   ]
  },
  {
   "cell_type": "code",
   "execution_count": 36,
   "id": "becba8aa-855e-4dcb-ab50-a532461a81b1",
   "metadata": {},
   "outputs": [
    {
     "name": "stderr",
     "output_type": "stream",
     "text": [
      "/home/dread/.local/lib/python3.12/site-packages/sklearn/base.py:493: UserWarning: X does not have valid feature names, but LinearRegression was fitted with feature names\n",
      "  warnings.warn(\n"
     ]
    },
    {
     "data": {
      "image/png": "[encoded data removed]",
      "text/plain": [
       "<Figure size 500x200 with 1 Axes>"
      ]
     },
     "metadata": {},
     "output_type": "display_data"
    }
   ],
   "source": [
    "heroes_with_data = heroes_with_data[heroes_with_data['Height']<300]\n",
    "\n",
    "X = heroes_with_data.loc[:, ['Height']]\n",
    "Y = heroes_with_data['Weight']\n",
    "\n",
    "regr.fit(X, Y)\n",
    "\n",
    "heroes[heroes['Gender']=='M'].plot.scatter('Height', 'Weight')\n",
    "\n",
    "line, = plt.plot([150, 350], regr.predict([[150], [350]]), color='black')\n",
    "line.set_dashes([3, 2])\n",
    "line.set_linewidth(2)\n",
    "\n",
    "plt.show()"
   ]
  },
  {
   "cell_type": "markdown",
   "id": "abefd1b2-0177-4b94-82e3-7ca30b7d67f0",
   "metadata": {},
   "source": [
    "## DIAGRAMMA Quantile-Quantile"
   ]
  },
  {
   "cell_type": "code",
   "execution_count": 37,
   "id": "e730ec1d-fcfd-442b-b56c-015b4654ef40",
   "metadata": {},
   "outputs": [
    {
     "data": {
      "text/plain": [
       "(170.542, 170.298)"
      ]
     },
     "execution_count": 37,
     "metadata": {},
     "output_type": "execute_result"
    }
   ],
   "source": [
    "marvel = heroes.loc[(heroes['Publisher']=='Marvel Comics') & \\\n",
    "                    (heroes['Height'].between(150, 200))]\n",
    "\n",
    "dc = heroes.loc[(heroes['Publisher']=='DC Comics') & \\\n",
    "                (heroes['Height'].between(150, 200))]\n",
    "\n",
    "marvel_sample = marvel['Height'].sample(120)\n",
    "dc_sample = dc['Height'].sample(120)\n",
    "\n",
    "(marvel_sample.quantile(.2), dc_sample.quantile(.2))"
   ]
  },
  {
   "cell_type": "markdown",
   "id": "73ae1bec-14f1-454a-b7b3-9cba82cc88df",
   "metadata": {},
   "source": [
    "- Per ottenere il diagramma Q-Q ripetiamo ora questa operazione facendo variare i livelli in una discretizzazione che copra ragionevolmente l'intervallo $[0, 1]$ e visualizziamo sul piano cartesiano un punto per ogni coppia di quantili campionari che si riferiscono a uno stesso livello."
   ]
  },
  {
   "cell_type": "code",
   "execution_count": 38,
   "id": "c17cf442-a880-4faa-a0a2-f088f37d2c8e",
   "metadata": {},
   "outputs": [
    {
     "data": {
      "image/png": "[encoded data removed]",
      "text/plain": [
       "<Figure size 500x200 with 1 Axes>"
      ]
     },
     "metadata": {},
     "output_type": "display_data"
    }
   ],
   "source": [
    "levels = np.linspace(0, 1, 100)\n",
    "plt.plot(marvel_sample.quantile(levels),\n",
    "         dc_sample.quantile(levels),\n",
    "         'o')\n",
    "plt.show()"
   ]
  },
  {
   "cell_type": "markdown",
   "id": "ec21c3f6-9d9a-487a-b69c-f72308433814",
   "metadata": {},
   "source": [
    "- Il fatto che in ogni coppia considerata i due quantili fossero molto simili tra loro fa sì che i punti ottenuti si allineino approssimativamente sulla bisettrice del primo e del terzo quadrante.\n",
    "- Possiamo evidenziare tale fatto sovrapponendo al diagramma il grafico della retta."
   ]
  },
  {
   "cell_type": "code",
   "execution_count": 39,
   "id": "e70a674b-ed00-4a14-bbcb-7fa841436966",
   "metadata": {},
   "outputs": [
    {
     "data": {
      "image/png": "[encoded data removed]",
      "text/plain": [
       "<Figure size 500x200 with 1 Axes>"
      ]
     },
     "metadata": {},
     "output_type": "display_data"
    }
   ],
   "source": [
    "plt.plot([min(dc_sample), max(dc_sample)],\n",
    "         [min(dc_sample), max(dc_sample)])\n",
    "plt.plot(dc_sample.quantile(levels),\n",
    "         marvel_sample.quantile(levels),\n",
    "         'o')\n",
    "plt.show()"
   ]
  },
  {
   "cell_type": "markdown",
   "id": "97c6ee38-b405-4860-876e-7522d95c69f7",
   "metadata": {},
   "source": [
    "- In realtà non è necessario costruire \"a mano\" i diagrammi Q-Q: il package `statmodels` mette a disposizione un oggetto `api` su cui invocare il metodo `qqplot_2samples` a cui passare direttamente i due campioni, aggiungendo l'argomento opzionale `line='45'` nel caso in cui si vuole tracciare anche il riferimento della bisettrice. "
   ]
  },
  {
   "cell_type": "code",
   "execution_count": 40,
   "id": "bbeba68c-2b62-4665-a165-cba6c411c3e3",
   "metadata": {},
   "outputs": [
    {
     "data": {
      "image/png": "[encoded data removed]",
      "text/plain": [
       "<Figure size 500x200 with 1 Axes>"
      ]
     },
     "metadata": {},
     "output_type": "display_data"
    }
   ],
   "source": [
    "import statsmodels.api as sm\n",
    "\n",
    "sm.qqplot_2samples(marvel_sample, dc_sample, line='45')\n",
    "plt.show()"
   ]
  },
  {
   "cell_type": "markdown",
   "id": "0cb726ce-943b-45d4-bb4a-57955b73eff6",
   "metadata": {},
   "source": [
    "- Il diagramma prodotto da `qqplot_2samples` scambia il ruolo degli assi rispetto al diagramma precedente: è per questo motivo che i due campioni sono stati passati come argomenti considerandoli in ordine inverso rispetto a quanto fatto finora.\n",
    "- In sintesi, il diagramma ottenuto ci permette di avvalorare l'ipotesi che l'altezza dei supereroi non segua una distribuzione diversa nei fumetti editi da DC e Marvel.\n",
    "- Chiaramente, non è detto che due campioni seguano necessariamente una medesima distribuzione. In tal caso, i punti ottenuti non si disporranno vicino alla bisettrice. È questo il caso della distribuzione del peso tra supereroine e supereroi."
   ]
  },
  {
   "cell_type": "code",
   "execution_count": 41,
   "id": "6e18d9b5-129f-41fb-a0ed-8cad0861ee28",
   "metadata": {},
   "outputs": [
    {
     "data": {
      "image/png": "[encoded data removed]",
      "text/plain": [
       "<Figure size 500x200 with 1 Axes>"
      ]
     },
     "metadata": {},
     "output_type": "display_data"
    }
   ],
   "source": [
    "female = heroes.loc[(heroes['Gender']=='F') & \\\n",
    "                    (heroes['Weight'].between(50, 100))]\n",
    "\n",
    "male = heroes.loc[(heroes['Gender']=='M') & \\\n",
    "                (heroes['Weight'].between(50, 100))]\n",
    "\n",
    "female_sample = female['Weight'].sample(100)\n",
    "male_sample = male['Weight'].sample(100)\n",
    "sm.qqplot_2samples(female_sample, male_sample, line='45')\n",
    "plt.show()"
   ]
  },
  {
   "cell_type": "markdown",
   "id": "42d4d839-3b67-460b-b6fe-4c1b96cfeffb",
   "metadata": {},
   "source": [
    "- La tecnica del Q-Q plot permette quindi in casi come questo di confutare l'ipotesi di partenza.\n",
    "- Si nota infine che una standardizzazione dei dati permette di confinare il grafico ottenuto in prossimità dell'origine.\n",
    "- In tal modo diventa più facile accorgersi di eventuali valori fuori scala."
   ]
  },
  {
   "cell_type": "code",
   "execution_count": 42,
   "id": "ba78fa7c-bbca-41d2-8abb-8ec42e42a8c2",
   "metadata": {},
   "outputs": [
    {
     "data": {
      "image/png": "[encoded data removed]",
      "text/plain": [
       "<Figure size 500x200 with 1 Axes>"
      ]
     },
     "metadata": {},
     "output_type": "display_data"
    }
   ],
   "source": [
    "sm.qqplot_2samples((marvel_sample-marvel_sample.mean())/marvel_sample.std(),\n",
    "                   (dc_sample-dc_sample.mean())/dc_sample.std(),\n",
    "                   line='s',\n",
    "                   xlabel='DC', ylabel='Marvel')\n",
    "plt.show()"
   ]
  },
  {
   "cell_type": "code",
   "execution_count": 43,
   "id": "140e72e6-d24c-4193-96c7-1e09b8d4ced4",
   "metadata": {},
   "outputs": [
    {
     "data": {
      "image/png": "[encoded data removed]",
      "text/plain": [
       "<Figure size 500x200 with 1 Axes>"
      ]
     },
     "metadata": {},
     "output_type": "display_data"
    }
   ],
   "source": [
    "sm.qqplot_2samples((female_sample-female_sample.mean())/female_sample.std(),\n",
    "                   (male_sample-male_sample.mean())/male_sample.std(),\n",
    "                   line='45',\n",
    "                   xlabel='Male', ylabel='Female')\n",
    "plt.show()"
   ]
  },
  {
   "cell_type": "markdown",
   "id": "94cd6c52-a698-4ea0-ab9f-dbd7f033e551",
   "metadata": {},
   "source": [
    "## Simmetria, distribuzioni approssimativamente normali e regola empirica"
   ]
  },
  {
   "cell_type": "markdown",
   "id": "371522ba-6d89-4fc4-8235-e8ae24e3c143",
   "metadata": {},
   "source": [
    "- Alcuni dei grafici finora visti possono essere utili per mettere in evidenza una proprietà interessante di un campione di dati legata alla simmetria delle corrispondenti frequenze.\n",
    "- Quando le frequenze, visualizzate a seconda dei casi tramite un grafico a barre o un istogramma, tendono a distribuirsi in modo simmetrico rispetto al valore della media campionaria si dice che il campione segue una distribuzione _approssimativamente simmetrica_.\n",
    "- Il grafico qui sotto affianca l'istogramma e il box plot di un siffatto campione.\n",
    "- La simmetria è visibile in entrambe le rappresentazioni: l'istogramma è approssimativamente simmetrico rispetto alla sua parte centrale e nel box plot i baffi hanno all'incirca la stessa lunghezza, così come la mediana si posiziona verso il centro della scatola."
   ]
  },
  {
   "cell_type": "code",
   "execution_count": 44,
   "id": "0f4eb910-28bb-463d-80f9-063a949b6d22",
   "metadata": {},
   "outputs": [
    {
     "data": {
      "image/png": "[encoded data removed]",
      "text/plain": [
       "<Figure size 500x600 with 2 Axes>"
      ]
     },
     "metadata": {},
     "output_type": "display_data"
    }
   ],
   "source": [
    "from scipy.stats import norm\n",
    "sample = pd.Series(norm.rvs(24, 2, size=1000), name='')\n",
    "f, (h, b) = plt.subplots(2, 1, gridspec_kw = {'height_ratios':[4, 3]})\n",
    "f.set_figheight(6) # quanto voglio che sia grande tutto il grafico\n",
    "\n",
    "h.yaxis.label.set_visible(False)\n",
    "\n",
    "sample.plot.hist(bins=20, ax=h) # ax asse\n",
    "sample.plot.box(vert=False, whis=[0,100], ax=b, widths=.4, label=None)\n",
    "plt.show()"
   ]
  },
  {
   "cell_type": "markdown",
   "id": "bef9bda7-2254-4a5d-864c-69938835e58c",
   "metadata": {},
   "source": [
    "- attenzione che matplotlib ha due metodi:\n",
    "    - subplots = preparara il grafico per mostrare tanti grafici diversi su una griglia ( dimensione della griglia specificata come parametro )\n",
    "    - subplot = molto simile ma non ha detto esattamente cosa fa di diverso"
   ]
  },
  {
   "cell_type": "markdown",
   "id": "62dc09bc-99f8-4c61-af37-530b383832a7",
   "metadata": {},
   "source": [
    "- finire tuto "
   ]
  },
  {
   "cell_type": "markdown",
   "id": "198c91b7-580b-4276-9655-d93ded9a1538",
   "metadata": {},
   "source": [
    "# LEZIONE 07\n",
    "- riferimenti:\n",
    "    - L08 jupyter classificatori\n",
    "    - L05 Jupyter eterogeneità\n"
   ]
  },
  {
   "cell_type": "code",
   "execution_count": null,
   "id": "e8106359-a278-4944-b7e8-d485f58ef2b9",
   "metadata": {},
   "outputs": [],
   "source": []
  }
 ],
 "metadata": {
  "kernelspec": {
   "display_name": "Python 3 (ipykernel)",
   "language": "python",
   "name": "python3"
  },
  "language_info": {
   "codemirror_mode": {
    "name": "ipython",
    "version": 3
   },
   "file_extension": ".py",
   "mimetype": "text/x-python",
   "name": "python",
   "nbconvert_exporter": "python",
   "pygments_lexer": "ipython3",
   "version": "3.12.2"
  }
 },
 "nbformat": 4,
 "nbformat_minor": 5
}
