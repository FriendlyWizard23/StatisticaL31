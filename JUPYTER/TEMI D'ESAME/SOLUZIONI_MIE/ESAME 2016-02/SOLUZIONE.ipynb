{
 "cells": [
  {
   "cell_type": "code",
   "execution_count": 63,
   "id": "456f60d1-21ca-4d19-a404-3883112b19cb",
   "metadata": {},
   "outputs": [],
   "source": [
    "import numpy as np\n",
    "import matplotlib.pyplot as plt\n",
    "import pandas as pd\n",
    "import scipy.stats as st\n",
    "import statsmodels.api as sm\n",
    "import math"
   ]
  },
  {
   "cell_type": "markdown",
   "id": "4b9c4758-0c3f-4264-888e-471a0268cf2b",
   "metadata": {},
   "source": [
    "# Esercizio 0"
   ]
  },
  {
   "cell_type": "markdown",
   "id": "8d19950d-3fb1-4600-bd0a-1d8740b60539",
   "metadata": {},
   "source": [
    "$X_i$ segue un modello bernoulliano e quindi $p_X(x)=p$ se $x$ vale $1$ altrimenti $1-p$"
   ]
  },
  {
   "cell_type": "markdown",
   "id": "4ac1c44b-8aa9-4526-835f-349972d72ea4",
   "metadata": {},
   "source": [
    "E1 = \"piove in almeno un giorno infrasettimanale\"\n",
    "\n",
    "$X \\sim B(5,p)$\n",
    "\n",
    "$P(E1)=1-p_X(0)=1-(1-p)^5$\n",
    "\n",
    "E2 = \"non piove nel fine settimana\"\n",
    "\n",
    "$X \\sim B(2,p) $ ora valuto una nuova v.a con solo due elementi dal momento che voglio calcolare la probabilita che non piova in due giorni. \n",
    "\n",
    "$P(E2)=p_X(0)=(1-p)^2$\n",
    "\n",
    "Gli eventi sono indipendenti e non mutualmente esclusivi\n",
    "\n",
    "Se consideriamo $p=0.4$ possiamo ottenere che\n",
    "\n",
    "$P(E1) = 1-(0.6)^5 = 0.922$\n",
    "\n",
    "$P(E2) = 1-(0.6)^2 = 0.36$\n",
    "\n",
    "$P(E3) = P(E1) \\cdot P(E2) = 0.33$\n",
    "\n",
    "$P(E4) = P(E1) + P(E2) - P(E3)= 0.952$"
   ]
  },
  {
   "cell_type": "code",
   "execution_count": 7,
   "id": "9b154723-3743-418a-860c-80c1966a47f7",
   "metadata": {},
   "outputs": [
    {
     "data": {
      "text/plain": [
       "0.952"
      ]
     },
     "execution_count": 7,
     "metadata": {},
     "output_type": "execute_result"
    }
   ],
   "source": [
    "0.922+0.36 - 0.33"
   ]
  },
  {
   "cell_type": "markdown",
   "id": "d969320c-4ff8-4453-832a-224d0562097a",
   "metadata": {},
   "source": [
    "# ESERCIZIO 2"
   ]
  },
  {
   "cell_type": "code",
   "execution_count": 28,
   "id": "5b7e493e-00fc-43f3-bdf3-8b0ce9462f5d",
   "metadata": {},
   "outputs": [
    {
     "data": {
      "text/html": [
       "<div>\n",
       "<style scoped>\n",
       "    .dataframe tbody tr th:only-of-type {\n",
       "        vertical-align: middle;\n",
       "    }\n",
       "\n",
       "    .dataframe tbody tr th {\n",
       "        vertical-align: top;\n",
       "    }\n",
       "\n",
       "    .dataframe thead th {\n",
       "        text-align: right;\n",
       "    }\n",
       "</style>\n",
       "<table border=\"1\" class=\"dataframe\">\n",
       "  <thead>\n",
       "    <tr style=\"text-align: right;\">\n",
       "      <th></th>\n",
       "      <th>PROVINCIA</th>\n",
       "      <th>C6H6</th>\n",
       "      <th>SO2</th>\n",
       "      <th>CO</th>\n",
       "      <th>NO2</th>\n",
       "      <th>O3</th>\n",
       "      <th>O3_GIORNI_SUPERAMENTO_TOLLERANZA</th>\n",
       "      <th>O3_GIORNI_SUPERAMENTO_ALLARME</th>\n",
       "      <th>PM10</th>\n",
       "      <th>PM2_5</th>\n",
       "      <th>Pb</th>\n",
       "      <th>As</th>\n",
       "      <th>Ni</th>\n",
       "      <th>Cd</th>\n",
       "      <th>BaP</th>\n",
       "    </tr>\n",
       "  </thead>\n",
       "  <tbody>\n",
       "    <tr>\n",
       "      <th>0</th>\n",
       "      <td>BG</td>\n",
       "      <td>1.0</td>\n",
       "      <td>3.0</td>\n",
       "      <td>0.5</td>\n",
       "      <td>30.0</td>\n",
       "      <td>55.0</td>\n",
       "      <td>16.0</td>\n",
       "      <td>1.0</td>\n",
       "      <td>30.0</td>\n",
       "      <td>21.0</td>\n",
       "      <td>NaN</td>\n",
       "      <td>NaN</td>\n",
       "      <td>NaN</td>\n",
       "      <td>NaN</td>\n",
       "      <td>NaN</td>\n",
       "    </tr>\n",
       "    <tr>\n",
       "      <th>1</th>\n",
       "      <td>BG</td>\n",
       "      <td>NaN</td>\n",
       "      <td>NaN</td>\n",
       "      <td>NaN</td>\n",
       "      <td>24.0</td>\n",
       "      <td>42.0</td>\n",
       "      <td>4.0</td>\n",
       "      <td>0.0</td>\n",
       "      <td>37.0</td>\n",
       "      <td>29.0</td>\n",
       "      <td>0.014</td>\n",
       "      <td>1.5</td>\n",
       "      <td>4.0</td>\n",
       "      <td>0.2</td>\n",
       "      <td>0.5</td>\n",
       "    </tr>\n",
       "    <tr>\n",
       "      <th>2</th>\n",
       "      <td>BG</td>\n",
       "      <td>NaN</td>\n",
       "      <td>NaN</td>\n",
       "      <td>NaN</td>\n",
       "      <td>25.0</td>\n",
       "      <td>55.0</td>\n",
       "      <td>23.0</td>\n",
       "      <td>2.0</td>\n",
       "      <td>NaN</td>\n",
       "      <td>NaN</td>\n",
       "      <td>NaN</td>\n",
       "      <td>NaN</td>\n",
       "      <td>NaN</td>\n",
       "      <td>NaN</td>\n",
       "      <td>NaN</td>\n",
       "    </tr>\n",
       "    <tr>\n",
       "      <th>3</th>\n",
       "      <td>BG</td>\n",
       "      <td>NaN</td>\n",
       "      <td>3.0</td>\n",
       "      <td>NaN</td>\n",
       "      <td>NaN</td>\n",
       "      <td>NaN</td>\n",
       "      <td>NaN</td>\n",
       "      <td>NaN</td>\n",
       "      <td>NaN</td>\n",
       "      <td>NaN</td>\n",
       "      <td>NaN</td>\n",
       "      <td>NaN</td>\n",
       "      <td>NaN</td>\n",
       "      <td>NaN</td>\n",
       "      <td>NaN</td>\n",
       "    </tr>\n",
       "    <tr>\n",
       "      <th>4</th>\n",
       "      <td>BG</td>\n",
       "      <td>NaN</td>\n",
       "      <td>NaN</td>\n",
       "      <td>NaN</td>\n",
       "      <td>32.0</td>\n",
       "      <td>NaN</td>\n",
       "      <td>NaN</td>\n",
       "      <td>NaN</td>\n",
       "      <td>NaN</td>\n",
       "      <td>25.0</td>\n",
       "      <td>NaN</td>\n",
       "      <td>NaN</td>\n",
       "      <td>NaN</td>\n",
       "      <td>NaN</td>\n",
       "      <td>NaN</td>\n",
       "    </tr>\n",
       "    <tr>\n",
       "      <th>...</th>\n",
       "      <td>...</td>\n",
       "      <td>...</td>\n",
       "      <td>...</td>\n",
       "      <td>...</td>\n",
       "      <td>...</td>\n",
       "      <td>...</td>\n",
       "      <td>...</td>\n",
       "      <td>...</td>\n",
       "      <td>...</td>\n",
       "      <td>...</td>\n",
       "      <td>...</td>\n",
       "      <td>...</td>\n",
       "      <td>...</td>\n",
       "      <td>...</td>\n",
       "      <td>...</td>\n",
       "    </tr>\n",
       "    <tr>\n",
       "      <th>145</th>\n",
       "      <td>VA</td>\n",
       "      <td>1.3</td>\n",
       "      <td>NaN</td>\n",
       "      <td>NaN</td>\n",
       "      <td>34.0</td>\n",
       "      <td>37.0</td>\n",
       "      <td>2.0</td>\n",
       "      <td>0.0</td>\n",
       "      <td>NaN</td>\n",
       "      <td>NaN</td>\n",
       "      <td>NaN</td>\n",
       "      <td>NaN</td>\n",
       "      <td>NaN</td>\n",
       "      <td>NaN</td>\n",
       "      <td>NaN</td>\n",
       "    </tr>\n",
       "    <tr>\n",
       "      <th>146</th>\n",
       "      <td>VA</td>\n",
       "      <td>NaN</td>\n",
       "      <td>3.0</td>\n",
       "      <td>0.4</td>\n",
       "      <td>27.0</td>\n",
       "      <td>47.0</td>\n",
       "      <td>19.0</td>\n",
       "      <td>0.0</td>\n",
       "      <td>29.0</td>\n",
       "      <td>NaN</td>\n",
       "      <td>NaN</td>\n",
       "      <td>NaN</td>\n",
       "      <td>NaN</td>\n",
       "      <td>NaN</td>\n",
       "      <td>NaN</td>\n",
       "    </tr>\n",
       "    <tr>\n",
       "      <th>147</th>\n",
       "      <td>VA</td>\n",
       "      <td>NaN</td>\n",
       "      <td>NaN</td>\n",
       "      <td>NaN</td>\n",
       "      <td>38.0</td>\n",
       "      <td>46.0</td>\n",
       "      <td>22.0</td>\n",
       "      <td>1.0</td>\n",
       "      <td>30.0</td>\n",
       "      <td>22.0</td>\n",
       "      <td>NaN</td>\n",
       "      <td>NaN</td>\n",
       "      <td>NaN</td>\n",
       "      <td>NaN</td>\n",
       "      <td>NaN</td>\n",
       "    </tr>\n",
       "    <tr>\n",
       "      <th>148</th>\n",
       "      <td>VA</td>\n",
       "      <td>NaN</td>\n",
       "      <td>NaN</td>\n",
       "      <td>NaN</td>\n",
       "      <td>44.0</td>\n",
       "      <td>43.0</td>\n",
       "      <td>12.0</td>\n",
       "      <td>0.0</td>\n",
       "      <td>27.0</td>\n",
       "      <td>NaN</td>\n",
       "      <td>NaN</td>\n",
       "      <td>NaN</td>\n",
       "      <td>NaN</td>\n",
       "      <td>NaN</td>\n",
       "      <td>NaN</td>\n",
       "    </tr>\n",
       "    <tr>\n",
       "      <th>149</th>\n",
       "      <td>VA</td>\n",
       "      <td>NaN</td>\n",
       "      <td>NaN</td>\n",
       "      <td>NaN</td>\n",
       "      <td>42.0</td>\n",
       "      <td>43.0</td>\n",
       "      <td>15.0</td>\n",
       "      <td>0.0</td>\n",
       "      <td>NaN</td>\n",
       "      <td>NaN</td>\n",
       "      <td>NaN</td>\n",
       "      <td>NaN</td>\n",
       "      <td>NaN</td>\n",
       "      <td>NaN</td>\n",
       "      <td>NaN</td>\n",
       "    </tr>\n",
       "  </tbody>\n",
       "</table>\n",
       "<p>150 rows × 15 columns</p>\n",
       "</div>"
      ],
      "text/plain": [
       "    PROVINCIA  C6H6  SO2   CO   NO2    O3  O3_GIORNI_SUPERAMENTO_TOLLERANZA  \\\n",
       "0          BG   1.0  3.0  0.5  30.0  55.0                              16.0   \n",
       "1          BG   NaN  NaN  NaN  24.0  42.0                               4.0   \n",
       "2          BG   NaN  NaN  NaN  25.0  55.0                              23.0   \n",
       "3          BG   NaN  3.0  NaN   NaN   NaN                               NaN   \n",
       "4          BG   NaN  NaN  NaN  32.0   NaN                               NaN   \n",
       "..        ...   ...  ...  ...   ...   ...                               ...   \n",
       "145        VA   1.3  NaN  NaN  34.0  37.0                               2.0   \n",
       "146        VA   NaN  3.0  0.4  27.0  47.0                              19.0   \n",
       "147        VA   NaN  NaN  NaN  38.0  46.0                              22.0   \n",
       "148        VA   NaN  NaN  NaN  44.0  43.0                              12.0   \n",
       "149        VA   NaN  NaN  NaN  42.0  43.0                              15.0   \n",
       "\n",
       "     O3_GIORNI_SUPERAMENTO_ALLARME  PM10  PM2_5     Pb   As   Ni   Cd  BaP  \n",
       "0                              1.0  30.0   21.0    NaN  NaN  NaN  NaN  NaN  \n",
       "1                              0.0  37.0   29.0  0.014  1.5  4.0  0.2  0.5  \n",
       "2                              2.0   NaN    NaN    NaN  NaN  NaN  NaN  NaN  \n",
       "3                              NaN   NaN    NaN    NaN  NaN  NaN  NaN  NaN  \n",
       "4                              NaN   NaN   25.0    NaN  NaN  NaN  NaN  NaN  \n",
       "..                             ...   ...    ...    ...  ...  ...  ...  ...  \n",
       "145                            0.0   NaN    NaN    NaN  NaN  NaN  NaN  NaN  \n",
       "146                            0.0  29.0    NaN    NaN  NaN  NaN  NaN  NaN  \n",
       "147                            1.0  30.0   22.0    NaN  NaN  NaN  NaN  NaN  \n",
       "148                            0.0  27.0    NaN    NaN  NaN  NaN  NaN  NaN  \n",
       "149                            0.0   NaN    NaN    NaN  NaN  NaN  NaN  NaN  \n",
       "\n",
       "[150 rows x 15 columns]"
      ]
     },
     "execution_count": 28,
     "metadata": {},
     "output_type": "execute_result"
    }
   ],
   "source": [
    "df=pd.read_csv('DATI-AMBIENTE.txt', sep=';')\n",
    "df"
   ]
  },
  {
   "cell_type": "code",
   "execution_count": 30,
   "id": "921cf517-e4e1-4add-8095-85047a820d07",
   "metadata": {},
   "outputs": [
    {
     "name": "stdout",
     "output_type": "stream",
     "text": [
      "1.32962962962963\n",
      "1.1\n",
      "0.7425604429243531\n",
      "0.85\n"
     ]
    }
   ],
   "source": [
    "print(df['C6H6'].mean())\n",
    "print(df['C6H6'].median())\n",
    "print(df['C6H6'].std())\n",
    "print(df['C6H6'].quantile(.75)-df['C6H6'].quantile(.25))"
   ]
  },
  {
   "cell_type": "code",
   "execution_count": 33,
   "id": "64eaa361-597a-4ba8-98c0-e421628337ab",
   "metadata": {},
   "outputs": [
    {
     "name": "stdout",
     "output_type": "stream",
     "text": [
      "3.581578947368421\n",
      "3.15\n",
      "1.7356134927746918\n",
      "3.0\n"
     ]
    }
   ],
   "source": [
    "print(df['SO2'].mean())\n",
    "print(df['SO2'].median())\n",
    "print(df['SO2'].std())\n",
    "print(df['SO2'].quantile(.75)-df['SO2'].quantile(.25))"
   ]
  },
  {
   "cell_type": "code",
   "execution_count": 35,
   "id": "77452b1e-d75d-46c4-bc63-232bc653cb8a",
   "metadata": {},
   "outputs": [
    {
     "name": "stdout",
     "output_type": "stream",
     "text": [
      "0.6912280701754385\n",
      "0.6\n",
      "0.2362510028356539\n",
      "0.30000000000000004\n"
     ]
    }
   ],
   "source": [
    "print(df['CO'].mean())\n",
    "print(df['CO'].median())\n",
    "print(df['CO'].std())\n",
    "print(df['CO'].quantile(.75)-df['CO'].quantile(.25))"
   ]
  },
  {
   "cell_type": "code",
   "execution_count": 36,
   "id": "8c3b3768-b00c-4ba5-af1b-830f4360f148",
   "metadata": {},
   "outputs": [
    {
     "data": {
      "text/plain": [
       "150"
      ]
     },
     "execution_count": 36,
     "metadata": {},
     "output_type": "execute_result"
    }
   ],
   "source": [
    "len(df)"
   ]
  },
  {
   "cell_type": "code",
   "execution_count": 40,
   "id": "a56caf53-a0bc-4287-b910-fa3aff57a0f5",
   "metadata": {},
   "outputs": [
    {
     "data": {
      "image/png": "[encoded data removed]",
      "text/plain": [
       "<Figure size 640x480 with 1 Axes>"
      ]
     },
     "metadata": {},
     "output_type": "display_data"
    }
   ],
   "source": [
    "df['PROVINCIA'].value_counts().plot.bar()\n",
    "plt.show()"
   ]
  },
  {
   "cell_type": "markdown",
   "id": "3c43a75d-d6ee-49d8-9ee1-3b1628f9d90c",
   "metadata": {},
   "source": [
    "in lombardia sono 150"
   ]
  },
  {
   "cell_type": "markdown",
   "id": "f7acdf10-7516-4db7-b535-82d0e7fbbede",
   "metadata": {},
   "source": [
    "Meno rappresentata: CO\n",
    "\n",
    "Piu rappresentata: MI"
   ]
  },
  {
   "cell_type": "code",
   "execution_count": 43,
   "id": "c6201fc7-1e7f-4a06-969c-ff2a0d1a842c",
   "metadata": {},
   "outputs": [],
   "source": [
    "def gini(series):\n",
    "    s=len(series)\n",
    "    return s*(1-sum(series.value_counts(normalize=True).map(lambda f: f**2)))/(s-1)"
   ]
  },
  {
   "cell_type": "code",
   "execution_count": 44,
   "id": "5642dd0c-647e-4f5d-999e-6b03f43e8a15",
   "metadata": {},
   "outputs": [
    {
     "data": {
      "text/plain": [
       "0.8895749440715884"
      ]
     },
     "execution_count": 44,
     "metadata": {},
     "output_type": "execute_result"
    }
   ],
   "source": [
    "gini(df['PROVINCIA'])"
   ]
  },
  {
   "cell_type": "code",
   "execution_count": 46,
   "id": "28103f30-7310-4188-a2e3-9d9fbb4340cf",
   "metadata": {},
   "outputs": [],
   "source": [
    "inquinanti=df[['C6H6','CO','SO2']]"
   ]
  },
  {
   "cell_type": "code",
   "execution_count": 57,
   "id": "65298153-9be1-42c9-b5f9-5b38ea8c36c4",
   "metadata": {},
   "outputs": [
    {
     "data": {
      "image/png": "[encoded data removed]",
      "text/plain": [
       "<Figure size 640x480 with 1 Axes>"
      ]
     },
     "metadata": {},
     "output_type": "display_data"
    }
   ],
   "source": [
    "x=np.arange(0,8,.50)\n",
    "inquinanti.plot.box(vert=False)\n",
    "plt.xticks(x)\n",
    "plt.show()"
   ]
  },
  {
   "cell_type": "code",
   "execution_count": 61,
   "id": "06d452de-badd-4fe1-80b1-613b0796b9dd",
   "metadata": {},
   "outputs": [
    {
     "data": {
      "image/png": "[encoded data removed]",
      "text/plain": [
       "<Figure size 640x480 with 1 Axes>"
      ]
     },
     "metadata": {},
     "output_type": "display_data"
    }
   ],
   "source": [
    "ozono=df['O3']\n",
    "ozono.value_counts(normalize=True).plot.bar()\n",
    "plt.show()"
   ]
  },
  {
   "cell_type": "code",
   "execution_count": 75,
   "id": "a41fe821-5e8c-4061-b05a-ec14eb03a457",
   "metadata": {},
   "outputs": [
    {
     "data": {
      "image/png": "[encoded data removed]",
      "text/plain": [
       "<Figure size 640x480 with 1 Axes>"
      ]
     },
     "metadata": {},
     "output_type": "display_data"
    }
   ],
   "source": [
    "x=np.arange(30,95,5)\n",
    "dist=sm.distributions.ECDF(ozono.dropna())\n",
    "plt.step(dist.x,dist.y,where='post')\n",
    "plt.xticks(x)\n",
    "plt.show()"
   ]
  },
  {
   "cell_type": "code",
   "execution_count": 80,
   "id": "29722c52-5277-46ba-82ca-82b51b1aaf99",
   "metadata": {},
   "outputs": [
    {
     "data": {
      "text/plain": [
       "4"
      ]
     },
     "execution_count": 80,
     "metadata": {},
     "output_type": "execute_result"
    }
   ],
   "source": [
    "centraline_s1=df[df['O3']==46]\n",
    "len(centraline_s1)"
   ]
  },
  {
   "cell_type": "code",
   "execution_count": 81,
   "id": "86c51353-f3f8-492e-a8c2-d8165a69526f",
   "metadata": {},
   "outputs": [
    {
     "data": {
      "text/plain": [
       "25"
      ]
     },
     "execution_count": 81,
     "metadata": {},
     "output_type": "execute_result"
    }
   ],
   "source": [
    "centraline_s2=df[(df['O3']>=45) & (df['O3']<=50)]\n",
    "centraline_s2.describe()\n",
    "len(centraline_s2)"
   ]
  },
  {
   "cell_type": "code",
   "execution_count": 98,
   "id": "dceb66b8-8d28-4a94-80fb-bba5b52a613b",
   "metadata": {},
   "outputs": [
    {
     "data": {
      "image/png": "[encoded data removed]",
      "text/plain": [
       "<Figure size 640x480 with 1 Axes>"
      ]
     },
     "metadata": {},
     "output_type": "display_data"
    }
   ],
   "source": [
    "ozono=df['O3']\n",
    "ozono.plot.box()\n",
    "plt.show()"
   ]
  },
  {
   "cell_type": "code",
   "execution_count": 102,
   "id": "f34900e5-8b58-4dab-84e1-d613d4f7da5a",
   "metadata": {},
   "outputs": [
    {
     "data": {
      "image/png": "[encoded data removed]",
      "text/plain": [
       "<Figure size 640x480 with 1 Axes>"
      ]
     },
     "metadata": {},
     "output_type": "display_data"
    }
   ],
   "source": [
    "df[df['O3']<90]['O3'].plot.box()\n",
    "plt.show()"
   ]
  },
  {
   "cell_type": "code",
   "execution_count": 103,
   "id": "bc75e5f3-580b-416d-ae94-2b50f8d3ce4d",
   "metadata": {},
   "outputs": [
    {
     "data": {
      "text/plain": [
       "11.207792207792208"
      ]
     },
     "execution_count": 103,
     "metadata": {},
     "output_type": "execute_result"
    }
   ],
   "source": [
    "ozono=df['O3_GIORNI_SUPERAMENTO_TOLLERANZA']\n",
    "ozono.mean()"
   ]
  },
  {
   "cell_type": "code",
   "execution_count": 104,
   "id": "323b9952-c7f6-4e12-9f1f-7a1259207896",
   "metadata": {},
   "outputs": [
    {
     "data": {
      "text/plain": [
       "8.02518676998214"
      ]
     },
     "execution_count": 104,
     "metadata": {},
     "output_type": "execute_result"
    }
   ],
   "source": [
    "ozono.std()"
   ]
  }
 ],
 "metadata": {
  "kernelspec": {
   "display_name": "Python 3 (ipykernel)",
   "language": "python",
   "name": "python3"
  },
  "language_info": {
   "codemirror_mode": {
    "name": "ipython",
    "version": 3
   },
   "file_extension": ".py",
   "mimetype": "text/x-python",
   "name": "python",
   "nbconvert_exporter": "python",
   "pygments_lexer": "ipython3",
   "version": "3.11.4"
  }
 },
 "nbformat": 4,
 "nbformat_minor": 5
}
