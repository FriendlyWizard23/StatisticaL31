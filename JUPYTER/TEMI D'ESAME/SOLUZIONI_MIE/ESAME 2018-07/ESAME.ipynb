{
 "cells": [
  {
   "cell_type": "code",
   "execution_count": 83,
   "id": "e8ab77af-9953-4bd0-b637-f9497813669e",
   "metadata": {},
   "outputs": [],
   "source": [
    "import numpy as np\n",
    "import pandas as pd\n",
    "import scipy.stats as st\n",
    "import statsmodels.api as sm\n",
    "import matplotlib.pyplot as plt\n",
    "import math"
   ]
  },
  {
   "cell_type": "markdown",
   "id": "0257f3e5-2454-4e17-8b11-ce10b0503d67",
   "metadata": {},
   "source": [
    "# ESERCIZIO 0"
   ]
  },
  {
   "cell_type": "markdown",
   "id": "a96889c4-133d-499a-b177-202dee6ed125",
   "metadata": {},
   "source": [
    "Il grafico della VA Y ha valore atteso maggiore dal momento che l'area della sua FDR con il piano Y è maggiore di quella generata da X"
   ]
  },
  {
   "cell_type": "markdown",
   "id": "ecbd446b-9c3f-40cd-9ae6-ba5e2d1ba89c",
   "metadata": {},
   "source": [
    "2 equivale al percentile 70% 80% di X (non si capisce bene) ed equivale al 20% circa"
   ]
  },
  {
   "cell_type": "markdown",
   "id": "3d07513a-2641-49f7-b58c-eb8fe6d4ab23",
   "metadata": {},
   "source": [
    "il cinquantesimo percentile per X è 1\n",
    "il cinqauntesimo percentile per Y è 3.qualcosa"
   ]
  },
  {
   "cell_type": "markdown",
   "id": "29040023-94e3-4318-855c-efd574849c61",
   "metadata": {},
   "source": [
    "$$F_X(5) - F_X(2) - p_X(2) = 1 - 0.7 - 0.2 = 0.1 = 10 \\%$$\n",
    "$$F_Y(5) - F_Y(2) - p_Y(2) = 0.7 - 0.2 - 0.2 = 30 \\%$$"
   ]
  },
  {
   "cell_type": "markdown",
   "id": "68bdd4ad-f041-4b55-9636-ae2845755a41",
   "metadata": {},
   "source": [
    "Mediana di Y è il valore al cinquantesimo percentile quindi circa 3\n",
    "la media invece "
   ]
  },
  {
   "cell_type": "markdown",
   "id": "853c6019-97dc-4f43-98e8-f00617e060dd",
   "metadata": {},
   "source": [
    "# ESERCIZIO 1"
   ]
  },
  {
   "cell_type": "markdown",
   "id": "e9db2035-2012-4027-9035-c0c60c803c73",
   "metadata": {},
   "source": [
    "sia $X \\sim E(\\nu)$\n",
    "1) $p_X(x) = \\nu * e ^ {-\\nu *x}$\n",
    "2) $\\sigma = \\frac{1}{\\nu}$"
   ]
  },
  {
   "cell_type": "markdown",
   "id": "827d6da4-49c8-4e57-87f9-6ba883b88a1c",
   "metadata": {},
   "source": [
    "posso stimare il valore atteso del campione $X1,...,X_n$ utilizzando la media campionaria. Tale stimatore è non distorto"
   ]
  },
  {
   "cell_type": "markdown",
   "id": "c66c9c5a-fe89-482f-9540-95ad14dc4169",
   "metadata": {},
   "source": [
    "# ESERCIZIO 2"
   ]
  },
  {
   "cell_type": "code",
   "execution_count": 6,
   "id": "3fc70794-2f9a-44fb-8b9d-1c150ed065f8",
   "metadata": {},
   "outputs": [
    {
     "data": {
      "text/html": [
       "<div>\n",
       "<style scoped>\n",
       "    .dataframe tbody tr th:only-of-type {\n",
       "        vertical-align: middle;\n",
       "    }\n",
       "\n",
       "    .dataframe tbody tr th {\n",
       "        vertical-align: top;\n",
       "    }\n",
       "\n",
       "    .dataframe thead th {\n",
       "        text-align: right;\n",
       "    }\n",
       "</style>\n",
       "<table border=\"1\" class=\"dataframe\">\n",
       "  <thead>\n",
       "    <tr style=\"text-align: right;\">\n",
       "      <th></th>\n",
       "      <th>Cartella</th>\n",
       "      <th>IP</th>\n",
       "      <th>GravitaIP</th>\n",
       "      <th>EtaAnni</th>\n",
       "      <th>MORTE</th>\n",
       "      <th>MC</th>\n",
       "      <th>SURVIVALTIME</th>\n",
       "      <th>Terapia</th>\n",
       "      <th>Antiaritmico</th>\n",
       "      <th>PesoKg</th>\n",
       "      <th>VTricuspide</th>\n",
       "      <th>AsxAo</th>\n",
       "      <th>OndaE</th>\n",
       "      <th>OndaEA</th>\n",
       "      <th>FrazEspuls</th>\n",
       "      <th>FrazAccorc</th>\n",
       "      <th>EDVI</th>\n",
       "      <th>ESVI</th>\n",
       "      <th>Allodiast</th>\n",
       "      <th>Allosist</th>\n",
       "    </tr>\n",
       "  </thead>\n",
       "  <tbody>\n",
       "    <tr>\n",
       "      <th>0</th>\n",
       "      <td>S0601</td>\n",
       "      <td>NO</td>\n",
       "      <td>0</td>\n",
       "      <td>10.35</td>\n",
       "      <td>0</td>\n",
       "      <td>NaN</td>\n",
       "      <td>0</td>\n",
       "      <td>2</td>\n",
       "      <td>NO</td>\n",
       "      <td>5.25</td>\n",
       "      <td>0.00</td>\n",
       "      <td>2.50</td>\n",
       "      <td>1.15</td>\n",
       "      <td>0.97</td>\n",
       "      <td>70.0</td>\n",
       "      <td>37.0</td>\n",
       "      <td>78.69</td>\n",
       "      <td>23.75</td>\n",
       "      <td>1.58</td>\n",
       "      <td>0.99</td>\n",
       "    </tr>\n",
       "    <tr>\n",
       "      <th>1</th>\n",
       "      <td>C0621</td>\n",
       "      <td>NO</td>\n",
       "      <td>0</td>\n",
       "      <td>15.21</td>\n",
       "      <td>1</td>\n",
       "      <td>1.0</td>\n",
       "      <td>341</td>\n",
       "      <td>3</td>\n",
       "      <td>NO</td>\n",
       "      <td>6.00</td>\n",
       "      <td>0.00</td>\n",
       "      <td>1.61</td>\n",
       "      <td>1.50</td>\n",
       "      <td>1.47</td>\n",
       "      <td>83.0</td>\n",
       "      <td>51.0</td>\n",
       "      <td>130.58</td>\n",
       "      <td>23.88</td>\n",
       "      <td>1.94</td>\n",
       "      <td>0.99</td>\n",
       "    </tr>\n",
       "    <tr>\n",
       "      <th>2</th>\n",
       "      <td>B0918</td>\n",
       "      <td>NO</td>\n",
       "      <td>0</td>\n",
       "      <td>15.77</td>\n",
       "      <td>1</td>\n",
       "      <td>1.0</td>\n",
       "      <td>117</td>\n",
       "      <td>3</td>\n",
       "      <td>NO</td>\n",
       "      <td>3.20</td>\n",
       "      <td>0.00</td>\n",
       "      <td>2.50</td>\n",
       "      <td>1.87</td>\n",
       "      <td>2.08</td>\n",
       "      <td>91.0</td>\n",
       "      <td>62.0</td>\n",
       "      <td>180.35</td>\n",
       "      <td>16.22</td>\n",
       "      <td>2.21</td>\n",
       "      <td>0.84</td>\n",
       "    </tr>\n",
       "    <tr>\n",
       "      <th>3</th>\n",
       "      <td>R1009</td>\n",
       "      <td>NO</td>\n",
       "      <td>0</td>\n",
       "      <td>13.54</td>\n",
       "      <td>1</td>\n",
       "      <td>1.0</td>\n",
       "      <td>93</td>\n",
       "      <td>4</td>\n",
       "      <td>SI</td>\n",
       "      <td>26.50</td>\n",
       "      <td>0.00</td>\n",
       "      <td>3.07</td>\n",
       "      <td>2.28</td>\n",
       "      <td>2.85</td>\n",
       "      <td>75.0</td>\n",
       "      <td>44.0</td>\n",
       "      <td>234.17</td>\n",
       "      <td>40.15</td>\n",
       "      <td>2.09</td>\n",
       "      <td>1.16</td>\n",
       "    </tr>\n",
       "    <tr>\n",
       "      <th>4</th>\n",
       "      <td>R1513</td>\n",
       "      <td>NO</td>\n",
       "      <td>0</td>\n",
       "      <td>10.72</td>\n",
       "      <td>0</td>\n",
       "      <td>NaN</td>\n",
       "      <td>666</td>\n",
       "      <td>3</td>\n",
       "      <td>NO</td>\n",
       "      <td>11.00</td>\n",
       "      <td>0.00</td>\n",
       "      <td>2.54</td>\n",
       "      <td>0.75</td>\n",
       "      <td>0.86</td>\n",
       "      <td>69.0</td>\n",
       "      <td>38.0</td>\n",
       "      <td>139.84</td>\n",
       "      <td>43.89</td>\n",
       "      <td>1.98</td>\n",
       "      <td>1.23</td>\n",
       "    </tr>\n",
       "    <tr>\n",
       "      <th>...</th>\n",
       "      <td>...</td>\n",
       "      <td>...</td>\n",
       "      <td>...</td>\n",
       "      <td>...</td>\n",
       "      <td>...</td>\n",
       "      <td>...</td>\n",
       "      <td>...</td>\n",
       "      <td>...</td>\n",
       "      <td>...</td>\n",
       "      <td>...</td>\n",
       "      <td>...</td>\n",
       "      <td>...</td>\n",
       "      <td>...</td>\n",
       "      <td>...</td>\n",
       "      <td>...</td>\n",
       "      <td>...</td>\n",
       "      <td>...</td>\n",
       "      <td>...</td>\n",
       "      <td>...</td>\n",
       "      <td>...</td>\n",
       "    </tr>\n",
       "    <tr>\n",
       "      <th>156</th>\n",
       "      <td>G1006</td>\n",
       "      <td>SI</td>\n",
       "      <td>3</td>\n",
       "      <td>11.35</td>\n",
       "      <td>1</td>\n",
       "      <td>1.0</td>\n",
       "      <td>46</td>\n",
       "      <td>4</td>\n",
       "      <td>NO</td>\n",
       "      <td>8.80</td>\n",
       "      <td>4.51</td>\n",
       "      <td>2.77</td>\n",
       "      <td>1.74</td>\n",
       "      <td>NaN</td>\n",
       "      <td>78.0</td>\n",
       "      <td>46.0</td>\n",
       "      <td>260.51</td>\n",
       "      <td>41.33</td>\n",
       "      <td>2.23</td>\n",
       "      <td>1.21</td>\n",
       "    </tr>\n",
       "    <tr>\n",
       "      <th>157</th>\n",
       "      <td>A1403</td>\n",
       "      <td>SI</td>\n",
       "      <td>3</td>\n",
       "      <td>13.39</td>\n",
       "      <td>1</td>\n",
       "      <td>1.0</td>\n",
       "      <td>275</td>\n",
       "      <td>4</td>\n",
       "      <td>NO</td>\n",
       "      <td>8.00</td>\n",
       "      <td>4.54</td>\n",
       "      <td>2.49</td>\n",
       "      <td>NaN</td>\n",
       "      <td>NaN</td>\n",
       "      <td>74.0</td>\n",
       "      <td>41.0</td>\n",
       "      <td>104.55</td>\n",
       "      <td>29.51</td>\n",
       "      <td>1.76</td>\n",
       "      <td>1.03</td>\n",
       "    </tr>\n",
       "    <tr>\n",
       "      <th>158</th>\n",
       "      <td>Z1003</td>\n",
       "      <td>SI</td>\n",
       "      <td>3</td>\n",
       "      <td>12.40</td>\n",
       "      <td>1</td>\n",
       "      <td>1.0</td>\n",
       "      <td>43</td>\n",
       "      <td>3</td>\n",
       "      <td>NO</td>\n",
       "      <td>14.00</td>\n",
       "      <td>4.60</td>\n",
       "      <td>2.52</td>\n",
       "      <td>NaN</td>\n",
       "      <td>NaN</td>\n",
       "      <td>77.0</td>\n",
       "      <td>46.0</td>\n",
       "      <td>371.13</td>\n",
       "      <td>57.22</td>\n",
       "      <td>2.54</td>\n",
       "      <td>1.36</td>\n",
       "    </tr>\n",
       "    <tr>\n",
       "      <th>159</th>\n",
       "      <td>B1135</td>\n",
       "      <td>SI</td>\n",
       "      <td>3</td>\n",
       "      <td>14.19</td>\n",
       "      <td>1</td>\n",
       "      <td>1.0</td>\n",
       "      <td>269</td>\n",
       "      <td>4</td>\n",
       "      <td>NO</td>\n",
       "      <td>2.50</td>\n",
       "      <td>5.09</td>\n",
       "      <td>3.10</td>\n",
       "      <td>1.51</td>\n",
       "      <td>2.56</td>\n",
       "      <td>79.0</td>\n",
       "      <td>47.0</td>\n",
       "      <td>180.58</td>\n",
       "      <td>38.38</td>\n",
       "      <td>2.21</td>\n",
       "      <td>1.16</td>\n",
       "    </tr>\n",
       "    <tr>\n",
       "      <th>160</th>\n",
       "      <td>G0601</td>\n",
       "      <td>SI</td>\n",
       "      <td>3</td>\n",
       "      <td>14.06</td>\n",
       "      <td>1</td>\n",
       "      <td>1.0</td>\n",
       "      <td>659</td>\n",
       "      <td>2</td>\n",
       "      <td>NO</td>\n",
       "      <td>5.00</td>\n",
       "      <td>5.17</td>\n",
       "      <td>2.31</td>\n",
       "      <td>1.06</td>\n",
       "      <td>2.26</td>\n",
       "      <td>82.0</td>\n",
       "      <td>50.0</td>\n",
       "      <td>249.98</td>\n",
       "      <td>45.64</td>\n",
       "      <td>2.55</td>\n",
       "      <td>1.28</td>\n",
       "    </tr>\n",
       "  </tbody>\n",
       "</table>\n",
       "<p>161 rows × 20 columns</p>\n",
       "</div>"
      ],
      "text/plain": [
       "    Cartella  IP  GravitaIP  EtaAnni  MORTE   MC  SURVIVALTIME  Terapia  \\\n",
       "0      S0601  NO          0    10.35      0  NaN             0        2   \n",
       "1      C0621  NO          0    15.21      1  1.0           341        3   \n",
       "2      B0918  NO          0    15.77      1  1.0           117        3   \n",
       "3      R1009  NO          0    13.54      1  1.0            93        4   \n",
       "4      R1513  NO          0    10.72      0  NaN           666        3   \n",
       "..       ...  ..        ...      ...    ...  ...           ...      ...   \n",
       "156    G1006  SI          3    11.35      1  1.0            46        4   \n",
       "157    A1403  SI          3    13.39      1  1.0           275        4   \n",
       "158    Z1003  SI          3    12.40      1  1.0            43        3   \n",
       "159    B1135  SI          3    14.19      1  1.0           269        4   \n",
       "160    G0601  SI          3    14.06      1  1.0           659        2   \n",
       "\n",
       "    Antiaritmico  PesoKg  VTricuspide  AsxAo  OndaE  OndaEA  FrazEspuls  \\\n",
       "0             NO    5.25         0.00   2.50   1.15    0.97        70.0   \n",
       "1             NO    6.00         0.00   1.61   1.50    1.47        83.0   \n",
       "2             NO    3.20         0.00   2.50   1.87    2.08        91.0   \n",
       "3             SI   26.50         0.00   3.07   2.28    2.85        75.0   \n",
       "4             NO   11.00         0.00   2.54   0.75    0.86        69.0   \n",
       "..           ...     ...          ...    ...    ...     ...         ...   \n",
       "156           NO    8.80         4.51   2.77   1.74     NaN        78.0   \n",
       "157           NO    8.00         4.54   2.49    NaN     NaN        74.0   \n",
       "158           NO   14.00         4.60   2.52    NaN     NaN        77.0   \n",
       "159           NO    2.50         5.09   3.10   1.51    2.56        79.0   \n",
       "160           NO    5.00         5.17   2.31   1.06    2.26        82.0   \n",
       "\n",
       "     FrazAccorc    EDVI   ESVI  Allodiast  Allosist  \n",
       "0          37.0   78.69  23.75       1.58      0.99  \n",
       "1          51.0  130.58  23.88       1.94      0.99  \n",
       "2          62.0  180.35  16.22       2.21      0.84  \n",
       "3          44.0  234.17  40.15       2.09      1.16  \n",
       "4          38.0  139.84  43.89       1.98      1.23  \n",
       "..          ...     ...    ...        ...       ...  \n",
       "156        46.0  260.51  41.33       2.23      1.21  \n",
       "157        41.0  104.55  29.51       1.76      1.03  \n",
       "158        46.0  371.13  57.22       2.54      1.36  \n",
       "159        47.0  180.58  38.38       2.21      1.16  \n",
       "160        50.0  249.98  45.64       2.55      1.28  \n",
       "\n",
       "[161 rows x 20 columns]"
      ]
     },
     "execution_count": 6,
     "metadata": {},
     "output_type": "execute_result"
    }
   ],
   "source": [
    "df=pd.read_csv('cani.csv',sep=';', decimal=',')\n",
    "df"
   ]
  },
  {
   "cell_type": "markdown",
   "id": "c6246a77-ec55-4283-b729-4015424b8ce0",
   "metadata": {},
   "source": [
    "#### Punto 1"
   ]
  },
  {
   "cell_type": "code",
   "execution_count": 9,
   "id": "deb392bd-40f7-48e4-b7d0-9354dc46351c",
   "metadata": {},
   "outputs": [
    {
     "data": {
      "text/html": [
       "<div>\n",
       "<style scoped>\n",
       "    .dataframe tbody tr th:only-of-type {\n",
       "        vertical-align: middle;\n",
       "    }\n",
       "\n",
       "    .dataframe tbody tr th {\n",
       "        vertical-align: top;\n",
       "    }\n",
       "\n",
       "    .dataframe thead th {\n",
       "        text-align: right;\n",
       "    }\n",
       "</style>\n",
       "<table border=\"1\" class=\"dataframe\">\n",
       "  <thead>\n",
       "    <tr style=\"text-align: right;\">\n",
       "      <th>col_0</th>\n",
       "      <th>FA</th>\n",
       "    </tr>\n",
       "    <tr>\n",
       "      <th>Antiaritmico</th>\n",
       "      <th></th>\n",
       "    </tr>\n",
       "  </thead>\n",
       "  <tbody>\n",
       "    <tr>\n",
       "      <th>NO</th>\n",
       "      <td>150</td>\n",
       "    </tr>\n",
       "    <tr>\n",
       "      <th>SI</th>\n",
       "      <td>11</td>\n",
       "    </tr>\n",
       "  </tbody>\n",
       "</table>\n",
       "</div>"
      ],
      "text/plain": [
       "col_0          FA\n",
       "Antiaritmico     \n",
       "NO            150\n",
       "SI             11"
      ]
     },
     "execution_count": 9,
     "metadata": {},
     "output_type": "execute_result"
    }
   ],
   "source": [
    "antiaritmico = pd.crosstab(index=df['Antiaritmico'],columns=['FA'])\n",
    "antiaritmico"
   ]
  },
  {
   "cell_type": "markdown",
   "id": "73cd5051-b517-4167-b9f7-a8bb17309269",
   "metadata": {},
   "source": [
    "11 cani assumono un farmaco antiaritmico"
   ]
  },
  {
   "cell_type": "markdown",
   "id": "1dd571be-28f6-4cc7-8bbd-7cd8718ffdef",
   "metadata": {},
   "source": [
    "Basterebbe utilizzare una codifica booleana per questo dato quindi SI = 1 e NO = 0"
   ]
  },
  {
   "cell_type": "code",
   "execution_count": 11,
   "id": "759839ac-6aa9-4bce-b8f6-88f952ad8e48",
   "metadata": {},
   "outputs": [
    {
     "data": {
      "text/html": [
       "<div>\n",
       "<style scoped>\n",
       "    .dataframe tbody tr th:only-of-type {\n",
       "        vertical-align: middle;\n",
       "    }\n",
       "\n",
       "    .dataframe tbody tr th {\n",
       "        vertical-align: top;\n",
       "    }\n",
       "\n",
       "    .dataframe thead th {\n",
       "        text-align: right;\n",
       "    }\n",
       "</style>\n",
       "<table border=\"1\" class=\"dataframe\">\n",
       "  <thead>\n",
       "    <tr style=\"text-align: right;\">\n",
       "      <th>MC</th>\n",
       "      <th>0.0</th>\n",
       "      <th>1.0</th>\n",
       "    </tr>\n",
       "    <tr>\n",
       "      <th>Antiaritmico</th>\n",
       "      <th></th>\n",
       "      <th></th>\n",
       "    </tr>\n",
       "  </thead>\n",
       "  <tbody>\n",
       "    <tr>\n",
       "      <th>NO</th>\n",
       "      <td>28</td>\n",
       "      <td>78</td>\n",
       "    </tr>\n",
       "    <tr>\n",
       "      <th>SI</th>\n",
       "      <td>0</td>\n",
       "      <td>9</td>\n",
       "    </tr>\n",
       "  </tbody>\n",
       "</table>\n",
       "</div>"
      ],
      "text/plain": [
       "MC            0.0  1.0\n",
       "Antiaritmico          \n",
       "NO             28   78\n",
       "SI              0    9"
      ]
     },
     "execution_count": 11,
     "metadata": {},
     "output_type": "execute_result"
    }
   ],
   "source": [
    "congiunta = antiaritmico = pd.crosstab(index=df['Antiaritmico'],columns=df['MC'])\n",
    "congiunta"
   ]
  },
  {
   "cell_type": "code",
   "execution_count": 14,
   "id": "6ea52a1e-35fc-4f94-a030-9114b3219dee",
   "metadata": {},
   "outputs": [
    {
     "data": {
      "text/plain": [
       "'10.344827586206897 %'"
      ]
     },
     "execution_count": 14,
     "metadata": {},
     "output_type": "execute_result"
    }
   ],
   "source": [
    "str(9/(9+78)*100)+\" %\""
   ]
  },
  {
   "cell_type": "markdown",
   "id": "61e344fa-391a-4ae4-9da3-630051f706a0",
   "metadata": {},
   "source": [
    "#### Punto 2"
   ]
  },
  {
   "cell_type": "code",
   "execution_count": 18,
   "id": "48f3b349-9bb5-427d-88b9-8979c71505ce",
   "metadata": {},
   "outputs": [
    {
     "data": {
      "text/plain": [
       "count     161.000000\n",
       "mean      459.888199\n",
       "std       467.196706\n",
       "min         0.000000\n",
       "25%       113.000000\n",
       "50%       300.000000\n",
       "75%       711.000000\n",
       "max      2906.000000\n",
       "Name: SURVIVALTIME, dtype: float64"
      ]
     },
     "execution_count": 18,
     "metadata": {},
     "output_type": "execute_result"
    }
   ],
   "source": [
    "survival=df['SURVIVALTIME']\n",
    "survival.describe()"
   ]
  },
  {
   "cell_type": "markdown",
   "id": "69f0e76d-167e-4a2f-8e09-0e6d054761a3",
   "metadata": {},
   "source": [
    "il primo quartile è al valore 113, il terzo quartile è al valore 711"
   ]
  },
  {
   "cell_type": "code",
   "execution_count": 27,
   "id": "d5571960-5951-498e-8d1c-e80688109a0e",
   "metadata": {},
   "outputs": [
    {
     "data": {
      "text/plain": [
       "81"
      ]
     },
     "execution_count": 27,
     "metadata": {},
     "output_type": "execute_result"
    }
   ],
   "source": [
    "len(df[(df['SURVIVALTIME']>=113) & (df['SURVIVALTIME']<=711)])"
   ]
  },
  {
   "cell_type": "code",
   "execution_count": 36,
   "id": "02f7a749-0eb2-448b-9825-734c807ed8f5",
   "metadata": {},
   "outputs": [
    {
     "data": {
      "image/png": "[encoded data removed]",
      "text/plain": [
       "<Figure size 640x480 with 1 Axes>"
      ]
     },
     "metadata": {},
     "output_type": "display_data"
    }
   ],
   "source": [
    "x=np.arange(0,3001,300)\n",
    "survival.plot.hist(bins=x)\n",
    "plt.xlabel(\"Tempo di sopravvivenza\")\n",
    "plt.xticks(x)\n",
    "plt.show()\n",
    "plt.show()"
   ]
  },
  {
   "cell_type": "code",
   "execution_count": 98,
   "id": "4513e9ec-0cf5-4c7d-a3fc-fe77b88cd878",
   "metadata": {},
   "outputs": [],
   "source": [
    "mean=survival.mean()"
   ]
  },
  {
   "cell_type": "code",
   "execution_count": 108,
   "id": "ad645269-1bd1-4ad2-8c57-6c0048522549",
   "metadata": {},
   "outputs": [],
   "source": [
    "std=survival.std()"
   ]
  },
  {
   "cell_type": "code",
   "execution_count": 113,
   "id": "67da6ab0-d57d-43a4-ac80-c0a57ada93c7",
   "metadata": {},
   "outputs": [
    {
     "data": {
      "image/png": "[encoded data removed]",
      "text/plain": [
       "<Figure size 640x480 with 1 Axes>"
      ]
     },
     "metadata": {},
     "output_type": "display_data"
    }
   ],
   "source": [
    "x=np.arange(0,3001,300)\n",
    "dist=st.expon(scale=(459),loc=0)\n",
    "plt.plot(x,dist.pdf(x))\n",
    "plt.show()"
   ]
  },
  {
   "cell_type": "markdown",
   "id": "3e8c066a-ba33-46df-9b36-3b0f2ec88897",
   "metadata": {},
   "source": [
    "Dal momento che in una esponenziale il parametro $\\lambda = \\frac{1}{E(X)}$ posso stimare $\\lambda=\\frac{1}{459}$"
   ]
  },
  {
   "cell_type": "markdown",
   "id": "9b50d253-eba5-472b-80a0-06bd27d4e37c",
   "metadata": {},
   "source": [
    "# ESERCIZIO 3"
   ]
  },
  {
   "cell_type": "code",
   "execution_count": 149,
   "id": "ca1ce33b-6b6a-465c-b5c2-4cc90e8fe8bb",
   "metadata": {},
   "outputs": [
    {
     "data": {
      "text/html": [
       "<div>\n",
       "<style scoped>\n",
       "    .dataframe tbody tr th:only-of-type {\n",
       "        vertical-align: middle;\n",
       "    }\n",
       "\n",
       "    .dataframe tbody tr th {\n",
       "        vertical-align: top;\n",
       "    }\n",
       "\n",
       "    .dataframe thead th {\n",
       "        text-align: right;\n",
       "    }\n",
       "</style>\n",
       "<table border=\"1\" class=\"dataframe\">\n",
       "  <thead>\n",
       "    <tr style=\"text-align: right;\">\n",
       "      <th></th>\n",
       "      <th>Cartella</th>\n",
       "      <th>IP</th>\n",
       "      <th>GravitaIP</th>\n",
       "      <th>EtaAnni</th>\n",
       "      <th>MORTE</th>\n",
       "      <th>MC</th>\n",
       "      <th>SURVIVALTIME</th>\n",
       "      <th>Terapia</th>\n",
       "      <th>Antiaritmico</th>\n",
       "      <th>PesoKg</th>\n",
       "      <th>VTricuspide</th>\n",
       "      <th>AsxAo</th>\n",
       "      <th>OndaE</th>\n",
       "      <th>OndaEA</th>\n",
       "      <th>FrazEspuls</th>\n",
       "      <th>FrazAccorc</th>\n",
       "      <th>EDVI</th>\n",
       "      <th>ESVI</th>\n",
       "      <th>Allodiast</th>\n",
       "      <th>Allosist</th>\n",
       "    </tr>\n",
       "  </thead>\n",
       "  <tbody>\n",
       "    <tr>\n",
       "      <th>1</th>\n",
       "      <td>C0621</td>\n",
       "      <td>NO</td>\n",
       "      <td>0</td>\n",
       "      <td>15.21</td>\n",
       "      <td>1</td>\n",
       "      <td>1.0</td>\n",
       "      <td>341</td>\n",
       "      <td>3</td>\n",
       "      <td>NO</td>\n",
       "      <td>6.0</td>\n",
       "      <td>0.00</td>\n",
       "      <td>1.61</td>\n",
       "      <td>1.50</td>\n",
       "      <td>1.47</td>\n",
       "      <td>83.0</td>\n",
       "      <td>51.0</td>\n",
       "      <td>130.58</td>\n",
       "      <td>23.88</td>\n",
       "      <td>1.94</td>\n",
       "      <td>0.99</td>\n",
       "    </tr>\n",
       "    <tr>\n",
       "      <th>2</th>\n",
       "      <td>B0918</td>\n",
       "      <td>NO</td>\n",
       "      <td>0</td>\n",
       "      <td>15.77</td>\n",
       "      <td>1</td>\n",
       "      <td>1.0</td>\n",
       "      <td>117</td>\n",
       "      <td>3</td>\n",
       "      <td>NO</td>\n",
       "      <td>3.2</td>\n",
       "      <td>0.00</td>\n",
       "      <td>2.50</td>\n",
       "      <td>1.87</td>\n",
       "      <td>2.08</td>\n",
       "      <td>91.0</td>\n",
       "      <td>62.0</td>\n",
       "      <td>180.35</td>\n",
       "      <td>16.22</td>\n",
       "      <td>2.21</td>\n",
       "      <td>0.84</td>\n",
       "    </tr>\n",
       "    <tr>\n",
       "      <th>3</th>\n",
       "      <td>R1009</td>\n",
       "      <td>NO</td>\n",
       "      <td>0</td>\n",
       "      <td>13.54</td>\n",
       "      <td>1</td>\n",
       "      <td>1.0</td>\n",
       "      <td>93</td>\n",
       "      <td>4</td>\n",
       "      <td>SI</td>\n",
       "      <td>26.5</td>\n",
       "      <td>0.00</td>\n",
       "      <td>3.07</td>\n",
       "      <td>2.28</td>\n",
       "      <td>2.85</td>\n",
       "      <td>75.0</td>\n",
       "      <td>44.0</td>\n",
       "      <td>234.17</td>\n",
       "      <td>40.15</td>\n",
       "      <td>2.09</td>\n",
       "      <td>1.16</td>\n",
       "    </tr>\n",
       "    <tr>\n",
       "      <th>5</th>\n",
       "      <td>E0901</td>\n",
       "      <td>NO</td>\n",
       "      <td>0</td>\n",
       "      <td>8.50</td>\n",
       "      <td>1</td>\n",
       "      <td>1.0</td>\n",
       "      <td>712</td>\n",
       "      <td>2</td>\n",
       "      <td>NO</td>\n",
       "      <td>4.8</td>\n",
       "      <td>0.00</td>\n",
       "      <td>1.80</td>\n",
       "      <td>1.37</td>\n",
       "      <td>1.69</td>\n",
       "      <td>57.0</td>\n",
       "      <td>30.0</td>\n",
       "      <td>191.23</td>\n",
       "      <td>82.42</td>\n",
       "      <td>2.25</td>\n",
       "      <td>1.58</td>\n",
       "    </tr>\n",
       "    <tr>\n",
       "      <th>10</th>\n",
       "      <td>D0911</td>\n",
       "      <td>NO</td>\n",
       "      <td>0</td>\n",
       "      <td>14.36</td>\n",
       "      <td>1</td>\n",
       "      <td>1.0</td>\n",
       "      <td>76</td>\n",
       "      <td>3</td>\n",
       "      <td>NO</td>\n",
       "      <td>15.0</td>\n",
       "      <td>0.00</td>\n",
       "      <td>2.51</td>\n",
       "      <td>1.35</td>\n",
       "      <td>2.25</td>\n",
       "      <td>73.0</td>\n",
       "      <td>42.0</td>\n",
       "      <td>154.64</td>\n",
       "      <td>42.40</td>\n",
       "      <td>2.06</td>\n",
       "      <td>1.20</td>\n",
       "    </tr>\n",
       "    <tr>\n",
       "      <th>...</th>\n",
       "      <td>...</td>\n",
       "      <td>...</td>\n",
       "      <td>...</td>\n",
       "      <td>...</td>\n",
       "      <td>...</td>\n",
       "      <td>...</td>\n",
       "      <td>...</td>\n",
       "      <td>...</td>\n",
       "      <td>...</td>\n",
       "      <td>...</td>\n",
       "      <td>...</td>\n",
       "      <td>...</td>\n",
       "      <td>...</td>\n",
       "      <td>...</td>\n",
       "      <td>...</td>\n",
       "      <td>...</td>\n",
       "      <td>...</td>\n",
       "      <td>...</td>\n",
       "      <td>...</td>\n",
       "      <td>...</td>\n",
       "    </tr>\n",
       "    <tr>\n",
       "      <th>150</th>\n",
       "      <td>P1317</td>\n",
       "      <td>SI</td>\n",
       "      <td>3</td>\n",
       "      <td>14.32</td>\n",
       "      <td>1</td>\n",
       "      <td>1.0</td>\n",
       "      <td>201</td>\n",
       "      <td>3</td>\n",
       "      <td>NO</td>\n",
       "      <td>10.0</td>\n",
       "      <td>4.31</td>\n",
       "      <td>3.33</td>\n",
       "      <td>1.34</td>\n",
       "      <td>1.84</td>\n",
       "      <td>83.0</td>\n",
       "      <td>52.0</td>\n",
       "      <td>176.58</td>\n",
       "      <td>29.58</td>\n",
       "      <td>2.18</td>\n",
       "      <td>1.04</td>\n",
       "    </tr>\n",
       "    <tr>\n",
       "      <th>151</th>\n",
       "      <td>V1011</td>\n",
       "      <td>SI</td>\n",
       "      <td>3</td>\n",
       "      <td>10.98</td>\n",
       "      <td>1</td>\n",
       "      <td>1.0</td>\n",
       "      <td>315</td>\n",
       "      <td>2</td>\n",
       "      <td>NO</td>\n",
       "      <td>16.0</td>\n",
       "      <td>4.35</td>\n",
       "      <td>2.35</td>\n",
       "      <td>1.63</td>\n",
       "      <td>3.02</td>\n",
       "      <td>72.0</td>\n",
       "      <td>42.0</td>\n",
       "      <td>249.26</td>\n",
       "      <td>69.69</td>\n",
       "      <td>2.53</td>\n",
       "      <td>1.47</td>\n",
       "    </tr>\n",
       "    <tr>\n",
       "      <th>155</th>\n",
       "      <td>R1008</td>\n",
       "      <td>SI</td>\n",
       "      <td>3</td>\n",
       "      <td>8.44</td>\n",
       "      <td>1</td>\n",
       "      <td>1.0</td>\n",
       "      <td>408</td>\n",
       "      <td>4</td>\n",
       "      <td>NO</td>\n",
       "      <td>7.0</td>\n",
       "      <td>4.51</td>\n",
       "      <td>2.62</td>\n",
       "      <td>1.02</td>\n",
       "      <td>1.89</td>\n",
       "      <td>78.0</td>\n",
       "      <td>47.0</td>\n",
       "      <td>203.00</td>\n",
       "      <td>44.06</td>\n",
       "      <td>2.33</td>\n",
       "      <td>1.25</td>\n",
       "    </tr>\n",
       "    <tr>\n",
       "      <th>159</th>\n",
       "      <td>B1135</td>\n",
       "      <td>SI</td>\n",
       "      <td>3</td>\n",
       "      <td>14.19</td>\n",
       "      <td>1</td>\n",
       "      <td>1.0</td>\n",
       "      <td>269</td>\n",
       "      <td>4</td>\n",
       "      <td>NO</td>\n",
       "      <td>2.5</td>\n",
       "      <td>5.09</td>\n",
       "      <td>3.10</td>\n",
       "      <td>1.51</td>\n",
       "      <td>2.56</td>\n",
       "      <td>79.0</td>\n",
       "      <td>47.0</td>\n",
       "      <td>180.58</td>\n",
       "      <td>38.38</td>\n",
       "      <td>2.21</td>\n",
       "      <td>1.16</td>\n",
       "    </tr>\n",
       "    <tr>\n",
       "      <th>160</th>\n",
       "      <td>G0601</td>\n",
       "      <td>SI</td>\n",
       "      <td>3</td>\n",
       "      <td>14.06</td>\n",
       "      <td>1</td>\n",
       "      <td>1.0</td>\n",
       "      <td>659</td>\n",
       "      <td>2</td>\n",
       "      <td>NO</td>\n",
       "      <td>5.0</td>\n",
       "      <td>5.17</td>\n",
       "      <td>2.31</td>\n",
       "      <td>1.06</td>\n",
       "      <td>2.26</td>\n",
       "      <td>82.0</td>\n",
       "      <td>50.0</td>\n",
       "      <td>249.98</td>\n",
       "      <td>45.64</td>\n",
       "      <td>2.55</td>\n",
       "      <td>1.28</td>\n",
       "    </tr>\n",
       "  </tbody>\n",
       "</table>\n",
       "<p>83 rows × 20 columns</p>\n",
       "</div>"
      ],
      "text/plain": [
       "    Cartella  IP  GravitaIP  EtaAnni  MORTE   MC  SURVIVALTIME  Terapia  \\\n",
       "1      C0621  NO          0    15.21      1  1.0           341        3   \n",
       "2      B0918  NO          0    15.77      1  1.0           117        3   \n",
       "3      R1009  NO          0    13.54      1  1.0            93        4   \n",
       "5      E0901  NO          0     8.50      1  1.0           712        2   \n",
       "10     D0911  NO          0    14.36      1  1.0            76        3   \n",
       "..       ...  ..        ...      ...    ...  ...           ...      ...   \n",
       "150    P1317  SI          3    14.32      1  1.0           201        3   \n",
       "151    V1011  SI          3    10.98      1  1.0           315        2   \n",
       "155    R1008  SI          3     8.44      1  1.0           408        4   \n",
       "159    B1135  SI          3    14.19      1  1.0           269        4   \n",
       "160    G0601  SI          3    14.06      1  1.0           659        2   \n",
       "\n",
       "    Antiaritmico  PesoKg  VTricuspide  AsxAo  OndaE  OndaEA  FrazEspuls  \\\n",
       "1             NO     6.0         0.00   1.61   1.50    1.47        83.0   \n",
       "2             NO     3.2         0.00   2.50   1.87    2.08        91.0   \n",
       "3             SI    26.5         0.00   3.07   2.28    2.85        75.0   \n",
       "5             NO     4.8         0.00   1.80   1.37    1.69        57.0   \n",
       "10            NO    15.0         0.00   2.51   1.35    2.25        73.0   \n",
       "..           ...     ...          ...    ...    ...     ...         ...   \n",
       "150           NO    10.0         4.31   3.33   1.34    1.84        83.0   \n",
       "151           NO    16.0         4.35   2.35   1.63    3.02        72.0   \n",
       "155           NO     7.0         4.51   2.62   1.02    1.89        78.0   \n",
       "159           NO     2.5         5.09   3.10   1.51    2.56        79.0   \n",
       "160           NO     5.0         5.17   2.31   1.06    2.26        82.0   \n",
       "\n",
       "     FrazAccorc    EDVI   ESVI  Allodiast  Allosist  \n",
       "1          51.0  130.58  23.88       1.94      0.99  \n",
       "2          62.0  180.35  16.22       2.21      0.84  \n",
       "3          44.0  234.17  40.15       2.09      1.16  \n",
       "5          30.0  191.23  82.42       2.25      1.58  \n",
       "10         42.0  154.64  42.40       2.06      1.20  \n",
       "..          ...     ...    ...        ...       ...  \n",
       "150        52.0  176.58  29.58       2.18      1.04  \n",
       "151        42.0  249.26  69.69       2.53      1.47  \n",
       "155        47.0  203.00  44.06       2.33      1.25  \n",
       "159        47.0  180.58  38.38       2.21      1.16  \n",
       "160        50.0  249.98  45.64       2.55      1.28  \n",
       "\n",
       "[83 rows x 20 columns]"
      ]
     },
     "execution_count": 149,
     "metadata": {},
     "output_type": "execute_result"
    }
   ],
   "source": [
    "filter=df[df[\"MC\"].notna() & df[\"OndaEA\"].notna() & (df[\"MORTE\"] == 1)]\n",
    "filter"
   ]
  },
  {
   "cell_type": "markdown",
   "id": "b8113a15-1f14-4980-9b22-ef8ffc8bf523",
   "metadata": {},
   "source": [
    "OndaAE è un tipo di dato scalare"
   ]
  },
  {
   "cell_type": "code",
   "execution_count": 162,
   "id": "ce288e8f-d9f5-4453-8827-88290b18eef4",
   "metadata": {},
   "outputs": [
    {
     "data": {
      "image/png": "[encoded data removed]",
      "text/plain": [
       "<Figure size 640x480 with 1 Axes>"
      ]
     },
     "metadata": {},
     "output_type": "display_data"
    }
   ],
   "source": [
    "x=np.arange(0,5,0.5)\n",
    "filter['OndaEA'].plot.box(vert=False)\n",
    "plt.xticks(x)\n",
    "plt.show()"
   ]
  },
  {
   "cell_type": "code",
   "execution_count": 163,
   "id": "e68956d4-ba88-4e59-a096-5a82cb9ad625",
   "metadata": {},
   "outputs": [
    {
     "data": {
      "image/png": "[encoded data removed]",
      "text/plain": [
       "<Figure size 640x480 with 1 Axes>"
      ]
     },
     "metadata": {},
     "output_type": "display_data"
    }
   ],
   "source": [
    "x=np.arange(0,4,0.50)\n",
    "filter_no_outlier=filter[filter['OndaEA']<4]\n",
    "outlier=filter[filter['OndaEA']>4]\n",
    "filter_no_outlier['OndaEA'].plot.box(vert=False)\n",
    "plt.xticks(x)\n",
    "plt.show()"
   ]
  },
  {
   "cell_type": "code",
   "execution_count": 164,
   "id": "3ae77a16-e58e-4253-8f3d-f9b789500652",
   "metadata": {},
   "outputs": [
    {
     "data": {
      "text/html": [
       "<div>\n",
       "<style scoped>\n",
       "    .dataframe tbody tr th:only-of-type {\n",
       "        vertical-align: middle;\n",
       "    }\n",
       "\n",
       "    .dataframe tbody tr th {\n",
       "        vertical-align: top;\n",
       "    }\n",
       "\n",
       "    .dataframe thead th {\n",
       "        text-align: right;\n",
       "    }\n",
       "</style>\n",
       "<table border=\"1\" class=\"dataframe\">\n",
       "  <thead>\n",
       "    <tr style=\"text-align: right;\">\n",
       "      <th></th>\n",
       "      <th>Cartella</th>\n",
       "      <th>IP</th>\n",
       "      <th>GravitaIP</th>\n",
       "      <th>EtaAnni</th>\n",
       "      <th>MORTE</th>\n",
       "      <th>MC</th>\n",
       "      <th>SURVIVALTIME</th>\n",
       "      <th>Terapia</th>\n",
       "      <th>Antiaritmico</th>\n",
       "      <th>PesoKg</th>\n",
       "      <th>VTricuspide</th>\n",
       "      <th>AsxAo</th>\n",
       "      <th>OndaE</th>\n",
       "      <th>OndaEA</th>\n",
       "      <th>FrazEspuls</th>\n",
       "      <th>FrazAccorc</th>\n",
       "      <th>EDVI</th>\n",
       "      <th>ESVI</th>\n",
       "      <th>Allodiast</th>\n",
       "      <th>Allosist</th>\n",
       "    </tr>\n",
       "  </thead>\n",
       "  <tbody>\n",
       "    <tr>\n",
       "      <th>134</th>\n",
       "      <td>F0603</td>\n",
       "      <td>SI</td>\n",
       "      <td>2</td>\n",
       "      <td>13.4</td>\n",
       "      <td>1</td>\n",
       "      <td>1.0</td>\n",
       "      <td>248</td>\n",
       "      <td>3</td>\n",
       "      <td>SI</td>\n",
       "      <td>14.5</td>\n",
       "      <td>3.59</td>\n",
       "      <td>3.17</td>\n",
       "      <td>1.8</td>\n",
       "      <td>4.19</td>\n",
       "      <td>63.0</td>\n",
       "      <td>34.0</td>\n",
       "      <td>176.34</td>\n",
       "      <td>65.29</td>\n",
       "      <td>2.18</td>\n",
       "      <td>1.44</td>\n",
       "    </tr>\n",
       "  </tbody>\n",
       "</table>\n",
       "</div>"
      ],
      "text/plain": [
       "    Cartella  IP  GravitaIP  EtaAnni  MORTE   MC  SURVIVALTIME  Terapia  \\\n",
       "134    F0603  SI          2     13.4      1  1.0           248        3   \n",
       "\n",
       "    Antiaritmico  PesoKg  VTricuspide  AsxAo  OndaE  OndaEA  FrazEspuls  \\\n",
       "134           SI    14.5         3.59   3.17    1.8    4.19        63.0   \n",
       "\n",
       "     FrazAccorc    EDVI   ESVI  Allodiast  Allosist  \n",
       "134        34.0  176.34  65.29       2.18      1.44  "
      ]
     },
     "execution_count": 164,
     "metadata": {},
     "output_type": "execute_result"
    }
   ],
   "source": [
    "outlier"
   ]
  },
  {
   "cell_type": "code",
   "execution_count": 157,
   "id": "bdfa7ab3-c825-44cf-9eaa-a409d3e8eaea",
   "metadata": {},
   "outputs": [
    {
     "name": "stdout",
     "output_type": "stream",
     "text": [
      "4.19\n"
     ]
    }
   ],
   "source": [
    "print(\"4.19\")"
   ]
  },
  {
   "cell_type": "markdown",
   "id": "58117e97-44f3-43bf-a38c-91506a80814b",
   "metadata": {},
   "source": [
    "Si ,morto per morte cardiaca"
   ]
  },
  {
   "cell_type": "code",
   "execution_count": 180,
   "id": "24fa96a9-988b-495a-b995-259c187122d6",
   "metadata": {},
   "outputs": [],
   "source": [
    "ondaae_mc=filter[filter['MC']==1]\n",
    "ondaae_nmc=filter[filter['MC']==0]"
   ]
  },
  {
   "cell_type": "code",
   "execution_count": 181,
   "id": "d210adfb-0ee9-4f43-9ac5-0455043aa2d4",
   "metadata": {},
   "outputs": [
    {
     "data": {
      "text/html": [
       "<div>\n",
       "<style scoped>\n",
       "    .dataframe tbody tr th:only-of-type {\n",
       "        vertical-align: middle;\n",
       "    }\n",
       "\n",
       "    .dataframe tbody tr th {\n",
       "        vertical-align: top;\n",
       "    }\n",
       "\n",
       "    .dataframe thead th {\n",
       "        text-align: right;\n",
       "    }\n",
       "</style>\n",
       "<table border=\"1\" class=\"dataframe\">\n",
       "  <thead>\n",
       "    <tr style=\"text-align: right;\">\n",
       "      <th></th>\n",
       "      <th>GravitaIP</th>\n",
       "      <th>EtaAnni</th>\n",
       "      <th>MORTE</th>\n",
       "      <th>MC</th>\n",
       "      <th>SURVIVALTIME</th>\n",
       "      <th>Terapia</th>\n",
       "      <th>PesoKg</th>\n",
       "      <th>VTricuspide</th>\n",
       "      <th>AsxAo</th>\n",
       "      <th>OndaE</th>\n",
       "      <th>OndaEA</th>\n",
       "      <th>FrazEspuls</th>\n",
       "      <th>FrazAccorc</th>\n",
       "      <th>EDVI</th>\n",
       "      <th>ESVI</th>\n",
       "      <th>Allodiast</th>\n",
       "      <th>Allosist</th>\n",
       "    </tr>\n",
       "  </thead>\n",
       "  <tbody>\n",
       "    <tr>\n",
       "      <th>count</th>\n",
       "      <td>17.000000</td>\n",
       "      <td>17.000000</td>\n",
       "      <td>17.0</td>\n",
       "      <td>17.0</td>\n",
       "      <td>17.000000</td>\n",
       "      <td>17.000000</td>\n",
       "      <td>17.000000</td>\n",
       "      <td>17.000000</td>\n",
       "      <td>17.000000</td>\n",
       "      <td>17.000000</td>\n",
       "      <td>17.000000</td>\n",
       "      <td>16.000000</td>\n",
       "      <td>16.000000</td>\n",
       "      <td>17.000000</td>\n",
       "      <td>17.000000</td>\n",
       "      <td>17.000000</td>\n",
       "      <td>17.000000</td>\n",
       "    </tr>\n",
       "    <tr>\n",
       "      <th>mean</th>\n",
       "      <td>0.470588</td>\n",
       "      <td>11.991176</td>\n",
       "      <td>1.0</td>\n",
       "      <td>0.0</td>\n",
       "      <td>550.764706</td>\n",
       "      <td>2.294118</td>\n",
       "      <td>14.547059</td>\n",
       "      <td>1.683529</td>\n",
       "      <td>2.014118</td>\n",
       "      <td>1.147647</td>\n",
       "      <td>1.299412</td>\n",
       "      <td>73.562500</td>\n",
       "      <td>42.812500</td>\n",
       "      <td>148.074118</td>\n",
       "      <td>38.060588</td>\n",
       "      <td>1.958235</td>\n",
       "      <td>1.130000</td>\n",
       "    </tr>\n",
       "    <tr>\n",
       "      <th>std</th>\n",
       "      <td>0.799816</td>\n",
       "      <td>2.426046</td>\n",
       "      <td>0.0</td>\n",
       "      <td>0.0</td>\n",
       "      <td>445.529815</td>\n",
       "      <td>0.587868</td>\n",
       "      <td>9.533632</td>\n",
       "      <td>1.547247</td>\n",
       "      <td>0.279532</td>\n",
       "      <td>0.265178</td>\n",
       "      <td>0.435868</td>\n",
       "      <td>10.513285</td>\n",
       "      <td>8.856024</td>\n",
       "      <td>50.521057</td>\n",
       "      <td>20.915948</td>\n",
       "      <td>0.259380</td>\n",
       "      <td>0.223663</td>\n",
       "    </tr>\n",
       "    <tr>\n",
       "      <th>min</th>\n",
       "      <td>0.000000</td>\n",
       "      <td>7.020000</td>\n",
       "      <td>1.0</td>\n",
       "      <td>0.0</td>\n",
       "      <td>20.000000</td>\n",
       "      <td>2.000000</td>\n",
       "      <td>3.500000</td>\n",
       "      <td>0.000000</td>\n",
       "      <td>1.370000</td>\n",
       "      <td>0.650000</td>\n",
       "      <td>0.660000</td>\n",
       "      <td>53.000000</td>\n",
       "      <td>27.000000</td>\n",
       "      <td>65.250000</td>\n",
       "      <td>13.070000</td>\n",
       "      <td>1.480000</td>\n",
       "      <td>0.800000</td>\n",
       "    </tr>\n",
       "    <tr>\n",
       "      <th>25%</th>\n",
       "      <td>0.000000</td>\n",
       "      <td>10.000000</td>\n",
       "      <td>1.0</td>\n",
       "      <td>0.0</td>\n",
       "      <td>204.000000</td>\n",
       "      <td>2.000000</td>\n",
       "      <td>6.000000</td>\n",
       "      <td>0.000000</td>\n",
       "      <td>1.950000</td>\n",
       "      <td>0.960000</td>\n",
       "      <td>1.080000</td>\n",
       "      <td>65.000000</td>\n",
       "      <td>35.750000</td>\n",
       "      <td>109.450000</td>\n",
       "      <td>24.520000</td>\n",
       "      <td>1.770000</td>\n",
       "      <td>0.960000</td>\n",
       "    </tr>\n",
       "    <tr>\n",
       "      <th>50%</th>\n",
       "      <td>0.000000</td>\n",
       "      <td>12.610000</td>\n",
       "      <td>1.0</td>\n",
       "      <td>0.0</td>\n",
       "      <td>325.000000</td>\n",
       "      <td>2.000000</td>\n",
       "      <td>16.000000</td>\n",
       "      <td>2.090000</td>\n",
       "      <td>2.060000</td>\n",
       "      <td>1.170000</td>\n",
       "      <td>1.220000</td>\n",
       "      <td>75.500000</td>\n",
       "      <td>43.500000</td>\n",
       "      <td>141.980000</td>\n",
       "      <td>31.590000</td>\n",
       "      <td>1.950000</td>\n",
       "      <td>1.100000</td>\n",
       "    </tr>\n",
       "    <tr>\n",
       "      <th>75%</th>\n",
       "      <td>1.000000</td>\n",
       "      <td>13.910000</td>\n",
       "      <td>1.0</td>\n",
       "      <td>0.0</td>\n",
       "      <td>854.000000</td>\n",
       "      <td>2.000000</td>\n",
       "      <td>22.000000</td>\n",
       "      <td>2.930000</td>\n",
       "      <td>2.190000</td>\n",
       "      <td>1.310000</td>\n",
       "      <td>1.410000</td>\n",
       "      <td>81.250000</td>\n",
       "      <td>49.250000</td>\n",
       "      <td>190.100000</td>\n",
       "      <td>42.570000</td>\n",
       "      <td>2.120000</td>\n",
       "      <td>1.230000</td>\n",
       "    </tr>\n",
       "    <tr>\n",
       "      <th>max</th>\n",
       "      <td>2.000000</td>\n",
       "      <td>16.470000</td>\n",
       "      <td>1.0</td>\n",
       "      <td>0.0</td>\n",
       "      <td>1509.000000</td>\n",
       "      <td>4.000000</td>\n",
       "      <td>32.000000</td>\n",
       "      <td>4.010000</td>\n",
       "      <td>2.440000</td>\n",
       "      <td>1.570000</td>\n",
       "      <td>2.220000</td>\n",
       "      <td>88.000000</td>\n",
       "      <td>57.000000</td>\n",
       "      <td>243.280000</td>\n",
       "      <td>84.060000</td>\n",
       "      <td>2.450000</td>\n",
       "      <td>1.550000</td>\n",
       "    </tr>\n",
       "  </tbody>\n",
       "</table>\n",
       "</div>"
      ],
      "text/plain": [
       "       GravitaIP    EtaAnni  MORTE    MC  SURVIVALTIME    Terapia     PesoKg  \\\n",
       "count  17.000000  17.000000   17.0  17.0     17.000000  17.000000  17.000000   \n",
       "mean    0.470588  11.991176    1.0   0.0    550.764706   2.294118  14.547059   \n",
       "std     0.799816   2.426046    0.0   0.0    445.529815   0.587868   9.533632   \n",
       "min     0.000000   7.020000    1.0   0.0     20.000000   2.000000   3.500000   \n",
       "25%     0.000000  10.000000    1.0   0.0    204.000000   2.000000   6.000000   \n",
       "50%     0.000000  12.610000    1.0   0.0    325.000000   2.000000  16.000000   \n",
       "75%     1.000000  13.910000    1.0   0.0    854.000000   2.000000  22.000000   \n",
       "max     2.000000  16.470000    1.0   0.0   1509.000000   4.000000  32.000000   \n",
       "\n",
       "       VTricuspide      AsxAo      OndaE     OndaEA  FrazEspuls  FrazAccorc  \\\n",
       "count    17.000000  17.000000  17.000000  17.000000   16.000000   16.000000   \n",
       "mean      1.683529   2.014118   1.147647   1.299412   73.562500   42.812500   \n",
       "std       1.547247   0.279532   0.265178   0.435868   10.513285    8.856024   \n",
       "min       0.000000   1.370000   0.650000   0.660000   53.000000   27.000000   \n",
       "25%       0.000000   1.950000   0.960000   1.080000   65.000000   35.750000   \n",
       "50%       2.090000   2.060000   1.170000   1.220000   75.500000   43.500000   \n",
       "75%       2.930000   2.190000   1.310000   1.410000   81.250000   49.250000   \n",
       "max       4.010000   2.440000   1.570000   2.220000   88.000000   57.000000   \n",
       "\n",
       "             EDVI       ESVI  Allodiast   Allosist  \n",
       "count   17.000000  17.000000  17.000000  17.000000  \n",
       "mean   148.074118  38.060588   1.958235   1.130000  \n",
       "std     50.521057  20.915948   0.259380   0.223663  \n",
       "min     65.250000  13.070000   1.480000   0.800000  \n",
       "25%    109.450000  24.520000   1.770000   0.960000  \n",
       "50%    141.980000  31.590000   1.950000   1.100000  \n",
       "75%    190.100000  42.570000   2.120000   1.230000  \n",
       "max    243.280000  84.060000   2.450000   1.550000  "
      ]
     },
     "execution_count": 181,
     "metadata": {},
     "output_type": "execute_result"
    }
   ],
   "source": [
    "ondaae_nmc.describe()"
   ]
  },
  {
   "cell_type": "markdown",
   "id": "c3126bcc-f37f-455c-b981-05cc3eb3c7d3",
   "metadata": {},
   "source": [
    "Si, il terzo quartile corrisponde a 1.41"
   ]
  },
  {
   "cell_type": "code",
   "execution_count": 182,
   "id": "4e0ea7aa-bd8e-4433-89da-4b6813ffb975",
   "metadata": {},
   "outputs": [
    {
     "data": {
      "text/plain": [
       "66"
      ]
     },
     "execution_count": 182,
     "metadata": {},
     "output_type": "execute_result"
    }
   ],
   "source": [
    "len(ondaae_mc)"
   ]
  },
  {
   "cell_type": "code",
   "execution_count": 183,
   "id": "a0ba7d34-75ba-4548-8b16-146900fc7c81",
   "metadata": {},
   "outputs": [
    {
     "data": {
      "text/plain": [
       "17"
      ]
     },
     "execution_count": 183,
     "metadata": {},
     "output_type": "execute_result"
    }
   ],
   "source": [
    "len(ondaae_nmc)"
   ]
  },
  {
   "cell_type": "code",
   "execution_count": 186,
   "id": "24ace536-00dd-49ff-82fb-744006f90582",
   "metadata": {},
   "outputs": [],
   "source": [
    "s=1.41"
   ]
  },
  {
   "cell_type": "code",
   "execution_count": 184,
   "id": "30cc2229-5344-4691-a314-d78c1bd8aca5",
   "metadata": {},
   "outputs": [
    {
     "data": {
      "text/plain": [
       "41"
      ]
     },
     "execution_count": 184,
     "metadata": {},
     "output_type": "execute_result"
    }
   ],
   "source": [
    "len(ondaae_mc[ondaae_mc['OndaEA']>=s])"
   ]
  },
  {
   "cell_type": "code",
   "execution_count": 185,
   "id": "9e68c096-248c-42d2-a04a-04f4be8fff40",
   "metadata": {},
   "outputs": [
    {
     "data": {
      "text/plain": [
       "12"
      ]
     },
     "execution_count": 185,
     "metadata": {},
     "output_type": "execute_result"
    }
   ],
   "source": [
    "len(ondaae_nmc[ondaae_nmc['OndaEA']<s])"
   ]
  },
  {
   "cell_type": "code",
   "execution_count": 189,
   "id": "e789e945-fe1c-4d79-98b8-9f8a514cd297",
   "metadata": {},
   "outputs": [],
   "source": [
    "mc = len(ondaae_mc[ondaae_mc['OndaEA']>=s])\n",
    "nmc = len(ondaae_nmc[ondaae_nmc['OndaEA']<s])\n",
    "sensibilita = mc / len(ondaae_mc)\n",
    "specificita = nmc / len(ondaae_nmc)"
   ]
  },
  {
   "cell_type": "code",
   "execution_count": 190,
   "id": "be579a00-120a-42de-a7f6-503975b7b634",
   "metadata": {},
   "outputs": [
    {
     "data": {
      "text/plain": [
       "0.6212121212121212"
      ]
     },
     "execution_count": 190,
     "metadata": {},
     "output_type": "execute_result"
    }
   ],
   "source": [
    "sensibilita"
   ]
  },
  {
   "cell_type": "code",
   "execution_count": 191,
   "id": "5fa57320-61a7-416e-802b-3e86e90ce66b",
   "metadata": {},
   "outputs": [
    {
     "data": {
      "text/plain": [
       "0.7058823529411765"
      ]
     },
     "execution_count": 191,
     "metadata": {},
     "output_type": "execute_result"
    }
   ],
   "source": [
    "specificita"
   ]
  }
 ],
 "metadata": {
  "kernelspec": {
   "display_name": "Python 3 (ipykernel)",
   "language": "python",
   "name": "python3"
  },
  "language_info": {
   "codemirror_mode": {
    "name": "ipython",
    "version": 3
   },
   "file_extension": ".py",
   "mimetype": "text/x-python",
   "name": "python",
   "nbconvert_exporter": "python",
   "pygments_lexer": "ipython3",
   "version": "3.11.4"
  }
 },
 "nbformat": 4,
 "nbformat_minor": 5
}
