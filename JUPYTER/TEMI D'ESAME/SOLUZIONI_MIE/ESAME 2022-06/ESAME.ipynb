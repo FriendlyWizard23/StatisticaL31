{
 "cells": [
  {
   "cell_type": "code",
   "execution_count": 2,
   "id": "db820b3f-0f27-44b0-8148-1cce2977135f",
   "metadata": {},
   "outputs": [],
   "source": [
    "import matplotlib.pyplot as plt\n",
    "import scipy.stats as st\n",
    "import numpy as np\n",
    "import pandas as pd"
   ]
  },
  {
   "cell_type": "markdown",
   "id": "5dd082dc-1a30-497f-8a70-ee98fc4f5beb",
   "metadata": {},
   "source": [
    "# Esercizio 1"
   ]
  },
  {
   "cell_type": "markdown",
   "id": "adb46aee-2ba9-4ddf-8d55-44da81ea0ac4",
   "metadata": {},
   "source": [
    "$X\\sim P(\\lambda)$"
   ]
  },
  {
   "cell_type": "markdown",
   "id": "1a8ab82d-0171-4f19-8987-5a5fd5fe1e21",
   "metadata": {},
   "source": [
    "Si, lambda può assumere un valore maggiore di uno dal momento che rappresenta il tasso di arrivo medio degli eventi- Non può assumere un valore negativo dal momento che il parametro perderebbe di significato!"
   ]
  },
  {
   "cell_type": "markdown",
   "id": "3753e983-ace8-4f9f-b1be-33fee66fbc79",
   "metadata": {},
   "source": [
    "$E(X)=Var(X)=\\lambda$"
   ]
  },
  {
   "cell_type": "markdown",
   "id": "dffbbdd6-f474-4dca-bfd1-18d947615a70",
   "metadata": {},
   "source": [
    "$$p(x)=P(X+Y = x)$$\n",
    "essendo una poissoniana, abbiamo la riproducibilità e dato che sono identicamente distribuite $\\lambda1 = \\lambda2$\n",
    "$$ Z=X1+X2\\sim P(2\\lambda) $$\n",
    "ora per trovare $P(Z=x)$ basta applicare la funzione di massa di probabilità:\n",
    "$$ p_Z(x) = P(Z=x) = e^{-2\\lambda}* \\frac{2\\lambda^x}{x!} $$"
   ]
  },
  {
   "cell_type": "markdown",
   "id": "5e1d4a19-e8aa-4637-a826-68f5fc9880c3",
   "metadata": {},
   "source": [
    "Fissiamo $\\lambda = 0.9$"
   ]
  },
  {
   "cell_type": "code",
   "execution_count": 9,
   "id": "72f5582a-da0e-4f83-bf20-ad9f9e668aad",
   "metadata": {},
   "outputs": [
    {
     "data": {
      "image/png": "[encoded data removed]",
      "text/plain": [
       "<Figure size 640x480 with 1 Axes>"
      ]
     },
     "metadata": {},
     "output_type": "display_data"
    }
   ],
   "source": [
    "dist=st.poisson(0.9)\n",
    "x=np.arange(0,10,1)\n",
    "plt.vlines(x,0,dist.pmf(x))\n",
    "plt.plot(x,dist.pmf(x),'o')\n",
    "plt.show()"
   ]
  },
  {
   "cell_type": "markdown",
   "id": "7e142a0b-2ca7-4ce7-8c48-929919dbac9b",
   "metadata": {},
   "source": [
    "Il range scelto [0,10] per i valori da rappresentare nel grafico, è stato scelto per poter visualizzare al meglio la PMF della distribuzione"
   ]
  },
  {
   "cell_type": "markdown",
   "id": "2a6b9982-3024-4423-b7b0-6e45ddcfdfeb",
   "metadata": {},
   "source": [
    "Date $n$ variabili aleatorie iid distribuite come $X$ allora $\\sum_{x=1}^{n} X_i \\sim N(n\\mu,\\sqrt{n}\\sigma)$\n",
    "Quindi può essere vista come una Normale oppure un'altra poissoniana di parametro $n\\lambda$"
   ]
  },
  {
   "cell_type": "markdown",
   "id": "335432de-d9bd-4ca1-86fc-7919ff0b6495",
   "metadata": {},
   "source": [
    "# Esercizio 2"
   ]
  },
  {
   "cell_type": "markdown",
   "id": "bb58539a-c96f-42c3-9c85-4cfab44bad11",
   "metadata": {},
   "source": [
    "#### Punto 1"
   ]
  },
  {
   "cell_type": "markdown",
   "id": "06a8c42f-957f-4360-a2f4-3ad4fc1a4818",
   "metadata": {},
   "source": [
    "Fissiamo $n=3$ e consideriamo la $X$ descritta prima"
   ]
  },
  {
   "cell_type": "markdown",
   "id": "29fa4224-ecab-4a35-9316-87b5cc57dccf",
   "metadata": {},
   "source": [
    "Per verificare che lo stimatore $T=(X1+X2-X3)$ sia non deviato, dobbiamo verificare che $E(T)=\\lambda$.\\\\\n",
    "$$E(X1+X2-X3) = \\lambda$$\n",
    "$$E(X1)+E(X2)-E(X3) = \\lambda$$\n",
    "dato che sono Indipendenti ed IID:\n",
    "$$E(X)+E(X)-E(X) = \\lambda$$\n",
    "$$E(X) = \\lambda$$\n",
    "$$\\lambda = \\lambda$$\\\n",
    "Lo stimatore risulta non deviato!\\\n",
    "Calcoliamo ora l'MSE:\n",
    "$$ MSE $$"
   ]
  },
  {
   "cell_type": "markdown",
   "id": "e77a7bc8-c8d3-4439-a84b-f5a24339b9e4",
   "metadata": {},
   "source": [
    "Per verificare che lo stimatore $U=\\frac{1}{5}(2X1+2X2+X3)$ sia non deviato, dobbiamo verificare che $E(T)=\\lambda$.\\\\\n",
    "$$E(\\frac{1}{5}(2X1+2X2+X3)) = \\lambda$$\n",
    "dato che sono Indipendenti ed IID:\n",
    "$$E(\\frac{1}{5}(5X)) = \\lambda$$\n",
    "$$E(X) = \\lambda$$\n",
    "$$\\lambda = \\lambda$$\n",
    "Lo stimatore risulta non deviato!\\\n",
    "Calcoliamo ora l'MSE:\n",
    "$$ MSE $$"
   ]
  },
  {
   "cell_type": "markdown",
   "id": "da85f5af-8cd6-49bb-b75e-3fe7e5ba0ac6",
   "metadata": {},
   "source": [
    "#### Punto 2 - 3"
   ]
  },
  {
   "cell_type": "markdown",
   "id": "b1a4023d-d8aa-4169-8ab9-64a74dcd544a",
   "metadata": {},
   "source": [
    "Possiamo vedere $\\overline{X}$ come una Normale: $\\overline{X}\\sim N(\\frac{\\lambda}{n}, \\frac{\\lambda}{n} )$"
   ]
  },
  {
   "cell_type": "markdown",
   "id": "5f7d62d1-e530-4998-b94b-dfeb8aee94c9",
   "metadata": {},
   "source": [
    "#### Punto 4"
   ]
  },
  {
   "cell_type": "markdown",
   "id": "6c6ece72-18d3-40ef-abf8-496cc0131e52",
   "metadata": {},
   "source": [
    "La media è sempre uno stimatore non deviato per il valore atteso e quindi il suo bias varrà per forza zero.\\\n",
    "Per quanto riguarda il suo MSE possiamo calcolarlo come:\n",
    "\n",
    "$$ MSE$$"
   ]
  },
  {
   "cell_type": "markdown",
   "id": "6676bbc4-64f1-4304-9647-d174413df8d3",
   "metadata": {},
   "source": [
    "#### Punto 5"
   ]
  },
  {
   "cell_type": "markdown",
   "id": "90b5ec94-d6c0-4c12-86bb-d6f746b81c35",
   "metadata": {},
   "source": [
    "Non è deviata per la varianza banalmente perchè $Var(X)=E(X)=\\lambda$. Se calcolassimo il bias otterremmo di conseguenza uno zero e potremmo dedurre che non ha deviazione.\n",
    "Per quanto riguarda il suo MSE possiamo calcolarlo come:\n",
    "$$ MSE$$"
   ]
  },
  {
   "cell_type": "markdown",
   "id": "bc253aef-12b7-4f87-ab9e-9b84f5557584",
   "metadata": {},
   "source": [
    "# Esercizio 3"
   ]
  },
  {
   "cell_type": "code",
   "execution_count": 5,
   "id": "ff7739f2-50bf-466c-9f4a-39beba10196d",
   "metadata": {},
   "outputs": [
    {
     "data": {
      "text/html": [
       "<div>\n",
       "<style scoped>\n",
       "    .dataframe tbody tr th:only-of-type {\n",
       "        vertical-align: middle;\n",
       "    }\n",
       "\n",
       "    .dataframe tbody tr th {\n",
       "        vertical-align: top;\n",
       "    }\n",
       "\n",
       "    .dataframe thead th {\n",
       "        text-align: right;\n",
       "    }\n",
       "</style>\n",
       "<table border=\"1\" class=\"dataframe\">\n",
       "  <thead>\n",
       "    <tr style=\"text-align: right;\">\n",
       "      <th></th>\n",
       "      <th>temperatura</th>\n",
       "      <th>blocchidanneggiati</th>\n",
       "      <th>raffreddamento</th>\n",
       "    </tr>\n",
       "  </thead>\n",
       "  <tbody>\n",
       "    <tr>\n",
       "      <th>0</th>\n",
       "      <td>46.024489</td>\n",
       "      <td>0.0</td>\n",
       "      <td>1.0</td>\n",
       "    </tr>\n",
       "    <tr>\n",
       "      <th>1</th>\n",
       "      <td>83.225486</td>\n",
       "      <td>0.0</td>\n",
       "      <td>1.0</td>\n",
       "    </tr>\n",
       "    <tr>\n",
       "      <th>2</th>\n",
       "      <td>81.451565</td>\n",
       "      <td>0.0</td>\n",
       "      <td>NaN</td>\n",
       "    </tr>\n",
       "    <tr>\n",
       "      <th>3</th>\n",
       "      <td>54.427135</td>\n",
       "      <td>0.0</td>\n",
       "      <td>1.0</td>\n",
       "    </tr>\n",
       "    <tr>\n",
       "      <th>4</th>\n",
       "      <td>76.438674</td>\n",
       "      <td>0.0</td>\n",
       "      <td>1.0</td>\n",
       "    </tr>\n",
       "    <tr>\n",
       "      <th>...</th>\n",
       "      <td>...</td>\n",
       "      <td>...</td>\n",
       "      <td>...</td>\n",
       "    </tr>\n",
       "    <tr>\n",
       "      <th>1722</th>\n",
       "      <td>28.688900</td>\n",
       "      <td>5.0</td>\n",
       "      <td>0.0</td>\n",
       "    </tr>\n",
       "    <tr>\n",
       "      <th>1723</th>\n",
       "      <td>56.358840</td>\n",
       "      <td>5.0</td>\n",
       "      <td>0.0</td>\n",
       "    </tr>\n",
       "    <tr>\n",
       "      <th>1724</th>\n",
       "      <td>64.711851</td>\n",
       "      <td>6.0</td>\n",
       "      <td>0.0</td>\n",
       "    </tr>\n",
       "    <tr>\n",
       "      <th>1725</th>\n",
       "      <td>34.016859</td>\n",
       "      <td>6.0</td>\n",
       "      <td>0.0</td>\n",
       "    </tr>\n",
       "    <tr>\n",
       "      <th>1726</th>\n",
       "      <td>50.206145</td>\n",
       "      <td>6.0</td>\n",
       "      <td>0.0</td>\n",
       "    </tr>\n",
       "  </tbody>\n",
       "</table>\n",
       "<p>1727 rows × 3 columns</p>\n",
       "</div>"
      ],
      "text/plain": [
       "      temperatura  blocchidanneggiati  raffreddamento\n",
       "0       46.024489                 0.0             1.0\n",
       "1       83.225486                 0.0             1.0\n",
       "2       81.451565                 0.0             NaN\n",
       "3       54.427135                 0.0             1.0\n",
       "4       76.438674                 0.0             1.0\n",
       "...           ...                 ...             ...\n",
       "1722    28.688900                 5.0             0.0\n",
       "1723    56.358840                 5.0             0.0\n",
       "1724    64.711851                 6.0             0.0\n",
       "1725    34.016859                 6.0             0.0\n",
       "1726    50.206145                 6.0             0.0\n",
       "\n",
       "[1727 rows x 3 columns]"
      ]
     },
     "execution_count": 5,
     "metadata": {},
     "output_type": "execute_result"
    }
   ],
   "source": [
    "df=pd.read_csv('rilevazioni.csv',sep=';')\n",
    "df"
   ]
  },
  {
   "cell_type": "markdown",
   "id": "a8116bae-f981-4079-9029-a1bf0fda211d",
   "metadata": {},
   "source": [
    "#### Punto 1"
   ]
  },
  {
   "cell_type": "code",
   "execution_count": 6,
   "id": "2daba770-043f-4b3f-a913-1b9edd5b5905",
   "metadata": {},
   "outputs": [
    {
     "data": {
      "text/plain": [
       "1727"
      ]
     },
     "execution_count": 6,
     "metadata": {},
     "output_type": "execute_result"
    }
   ],
   "source": [
    "len(df)"
   ]
  },
  {
   "cell_type": "code",
   "execution_count": 7,
   "id": "aadadac3-a369-4380-88b7-e4f197a75dc8",
   "metadata": {},
   "outputs": [
    {
     "data": {
      "text/plain": [
       "1722"
      ]
     },
     "execution_count": 7,
     "metadata": {},
     "output_type": "execute_result"
    }
   ],
   "source": [
    "len(df.dropna())"
   ]
  },
  {
   "cell_type": "code",
   "execution_count": 8,
   "id": "ee685e8d-7370-4df7-9e08-45cbd5ff72fa",
   "metadata": {},
   "outputs": [
    {
     "data": {
      "text/plain": [
       "temperatura           False\n",
       "blocchidanneggiati    False\n",
       "raffreddamento         True\n",
       "dtype: bool"
      ]
     },
     "execution_count": 8,
     "metadata": {},
     "output_type": "execute_result"
    }
   ],
   "source": [
    "df.isna().any()"
   ]
  },
  {
   "cell_type": "markdown",
   "id": "ededad9b-b0c9-4b6f-be20-b4bf1b7bc118",
   "metadata": {},
   "source": [
    "#### Punto 2"
   ]
  },
  {
   "cell_type": "code",
   "execution_count": 18,
   "id": "b98afb0f-58a0-4b65-99e1-091836b90819",
   "metadata": {},
   "outputs": [
    {
     "data": {
      "image/png": "[encoded data removed]",
      "text/plain": [
       "<Figure size 640x480 with 1 Axes>"
      ]
     },
     "metadata": {},
     "output_type": "display_data"
    }
   ],
   "source": [
    "raff_abs=pd.crosstab(index=df['raffreddamento'], columns=['FA'])\n",
    "raff_abs.plot.bar()\n",
    "plt.show()"
   ]
  },
  {
   "cell_type": "markdown",
   "id": "803915a9-9fd0-4d91-9c67-9f9f99deb55a",
   "metadata": {},
   "source": [
    "#### Punto 3"
   ]
  },
  {
   "cell_type": "code",
   "execution_count": 22,
   "id": "261222c3-3045-4afc-9e4e-979c62d277c2",
   "metadata": {},
   "outputs": [
    {
     "data": {
      "image/png": "[encoded data removed]",
      "text/plain": [
       "<Figure size 640x480 with 1 Axes>"
      ]
     },
     "metadata": {},
     "output_type": "display_data"
    }
   ],
   "source": [
    "raffreddamento=df['raffreddamento']\n",
    "temperatura=df['temperatura']\n",
    "plt.scatter(temperatura,raffreddamento)\n",
    "plt.show()"
   ]
  },
  {
   "cell_type": "code",
   "execution_count": 23,
   "id": "7ca44eb7-3c64-42ee-ad27-642ae547be32",
   "metadata": {},
   "outputs": [
    {
     "data": {
      "text/plain": [
       "-0.04621947336116281"
      ]
     },
     "execution_count": 23,
     "metadata": {},
     "output_type": "execute_result"
    }
   ],
   "source": [
    "temperatura.corr(raffreddamento)"
   ]
  },
  {
   "cell_type": "markdown",
   "id": "87c73923-7e6b-4899-ad4b-00a544e58e8f",
   "metadata": {},
   "source": [
    "#### Punto 4"
   ]
  },
  {
   "cell_type": "code",
   "execution_count": 26,
   "id": "510f62d3-83e1-4baf-b509-e0efde1b7507",
   "metadata": {},
   "outputs": [
    {
     "data": {
      "image/png": "[encoded data removed]",
      "text/plain": [
       "<Figure size 640x480 with 1 Axes>"
      ]
     },
     "metadata": {},
     "output_type": "display_data"
    }
   ],
   "source": [
    "blocchidan=df['blocchidanneggiati']\n",
    "blocchidan=blocchidan.value_counts()\n",
    "blocchidan.plot.bar()\n",
    "plt.show()"
   ]
  },
  {
   "cell_type": "markdown",
   "id": "b0e143a8-34d9-4e2b-8448-133e6cbae5e8",
   "metadata": {},
   "source": [
    "#### Punto 5"
   ]
  },
  {
   "cell_type": "code",
   "execution_count": 30,
   "id": "572ef482-302f-442d-8539-70716ed2fffd",
   "metadata": {},
   "outputs": [
    {
     "data": {
      "text/html": [
       "<div>\n",
       "<style scoped>\n",
       "    .dataframe tbody tr th:only-of-type {\n",
       "        vertical-align: middle;\n",
       "    }\n",
       "\n",
       "    .dataframe tbody tr th {\n",
       "        vertical-align: top;\n",
       "    }\n",
       "\n",
       "    .dataframe thead th {\n",
       "        text-align: right;\n",
       "    }\n",
       "</style>\n",
       "<table border=\"1\" class=\"dataframe\">\n",
       "  <thead>\n",
       "    <tr style=\"text-align: right;\">\n",
       "      <th>raffreddamento</th>\n",
       "      <th>0.0</th>\n",
       "      <th>1.0</th>\n",
       "    </tr>\n",
       "    <tr>\n",
       "      <th>blocchidanneggiati</th>\n",
       "      <th></th>\n",
       "      <th></th>\n",
       "    </tr>\n",
       "  </thead>\n",
       "  <tbody>\n",
       "    <tr>\n",
       "      <th>0.0</th>\n",
       "      <td>116</td>\n",
       "      <td>830</td>\n",
       "    </tr>\n",
       "    <tr>\n",
       "      <th>1.0</th>\n",
       "      <td>181</td>\n",
       "      <td>253</td>\n",
       "    </tr>\n",
       "    <tr>\n",
       "      <th>2.0</th>\n",
       "      <td>166</td>\n",
       "      <td>34</td>\n",
       "    </tr>\n",
       "    <tr>\n",
       "      <th>3.0</th>\n",
       "      <td>89</td>\n",
       "      <td>5</td>\n",
       "    </tr>\n",
       "    <tr>\n",
       "      <th>4.0</th>\n",
       "      <td>37</td>\n",
       "      <td>0</td>\n",
       "    </tr>\n",
       "    <tr>\n",
       "      <th>5.0</th>\n",
       "      <td>8</td>\n",
       "      <td>0</td>\n",
       "    </tr>\n",
       "    <tr>\n",
       "      <th>6.0</th>\n",
       "      <td>3</td>\n",
       "      <td>0</td>\n",
       "    </tr>\n",
       "  </tbody>\n",
       "</table>\n",
       "</div>"
      ],
      "text/plain": [
       "raffreddamento      0.0  1.0\n",
       "blocchidanneggiati          \n",
       "0.0                 116  830\n",
       "1.0                 181  253\n",
       "2.0                 166   34\n",
       "3.0                  89    5\n",
       "4.0                  37    0\n",
       "5.0                   8    0\n",
       "6.0                   3    0"
      ]
     },
     "execution_count": 30,
     "metadata": {},
     "output_type": "execute_result"
    }
   ],
   "source": [
    "cong=pd.crosstab(index=df['blocchidanneggiati'],columns=df['raffreddamento'])\n",
    "cong"
   ]
  },
  {
   "cell_type": "code",
   "execution_count": 57,
   "id": "982cfb6b-77df-45d7-9ae6-e801f25a912d",
   "metadata": {},
   "outputs": [
    {
     "data": {
      "text/plain": [
       "0.4493341053850608"
      ]
     },
     "execution_count": 57,
     "metadata": {},
     "output_type": "execute_result"
    }
   ],
   "source": [
    "D = (181+253+166+34+89+5+37+8+3) / len(df['blocchidanneggiati'])\n",
    "D"
   ]
  },
  {
   "cell_type": "code",
   "execution_count": 56,
   "id": "abc6ed6d-fba6-4b0b-a347-f3ec717d79ad",
   "metadata": {},
   "outputs": [
    {
     "data": {
      "text/plain": [
       "0.1690793283149971"
      ]
     },
     "execution_count": 56,
     "metadata": {},
     "output_type": "execute_result"
    }
   ],
   "source": [
    "intersezione = (253+34+5)/ len(df['blocchidanneggiati'])\n",
    "intersezione"
   ]
  },
  {
   "cell_type": "code",
   "execution_count": 55,
   "id": "1b09ffe9-a06d-4629-9f5a-f0c0a06ab912",
   "metadata": {},
   "outputs": [
    {
     "data": {
      "text/plain": [
       "0.6496815286624203"
      ]
     },
     "execution_count": 55,
     "metadata": {},
     "output_type": "execute_result"
    }
   ],
   "source": [
    "R = len(df[df['raffreddamento']==1])/len(df['raffreddamento'])\n",
    "R"
   ]
  },
  {
   "cell_type": "code",
   "execution_count": 53,
   "id": "fb74f2fc-8142-4fcb-9ca2-4c102e6a3213",
   "metadata": {},
   "outputs": [
    {
     "data": {
      "text/plain": [
       "0.26024955436720143"
      ]
     },
     "execution_count": 53,
     "metadata": {},
     "output_type": "execute_result"
    }
   ],
   "source": [
    "condizionata = intersezione/R\n",
    "condizionata"
   ]
  },
  {
   "cell_type": "code",
   "execution_count": 63,
   "id": "68bbc23a-803f-402a-89d0-e34445d3a073",
   "metadata": {},
   "outputs": [
    {
     "data": {
      "text/plain": [
       "0.8727655099894848"
      ]
     },
     "execution_count": 63,
     "metadata": {},
     "output_type": "execute_result"
    }
   ],
   "source": [
    "D2=1-D\n",
    "intersezione2=(830)/ len(df['blocchidanneggiati'])\n",
    "condizionata2=intersezione2/D2\n",
    "condizionata2"
   ]
  },
  {
   "cell_type": "markdown",
   "id": "30b8db7b-a849-40fc-bc12-62faa646a72c",
   "metadata": {},
   "source": [
    "Non possono sommare ad uno poichè alcune probabilità rappresentano un valore già tenuto in considerazione da altre probabilità calcolate. Ad esempio, la probabilità di avere blocchi danneggiati (P(D)) e la probabilità di avere blocchi danneggiati ed un raffreddamento attivo sono due probabilità che rappresentano degli eventi intersecati tra loro."
   ]
  },
  {
   "cell_type": "markdown",
   "id": "438b4b61-3f92-4f39-b1da-aa18a7438122",
   "metadata": {},
   "source": [
    "#### Punto 4"
   ]
  },
  {
   "cell_type": "code",
   "execution_count": 80,
   "id": "cc09bf78-332f-4647-8dc5-35488dea3768",
   "metadata": {},
   "outputs": [
    {
     "data": {
      "text/plain": [
       "0.14155902940121173"
      ]
     },
     "execution_count": 80,
     "metadata": {},
     "output_type": "execute_result"
    }
   ],
   "source": [
    "import math\n",
    "v=1.5/8.41\n",
    "dist=st.norm(12.95,8.41)\n",
    "dist.cdf(12.95+1.5) - dist.cdf(12.95-1.5)"
   ]
  }
 ],
 "metadata": {
  "kernelspec": {
   "display_name": "Python 3 (ipykernel)",
   "language": "python",
   "name": "python3"
  },
  "language_info": {
   "codemirror_mode": {
    "name": "ipython",
    "version": 3
   },
   "file_extension": ".py",
   "mimetype": "text/x-python",
   "name": "python",
   "nbconvert_exporter": "python",
   "pygments_lexer": "ipython3",
   "version": "3.11.4"
  }
 },
 "nbformat": 4,
 "nbformat_minor": 5
}
