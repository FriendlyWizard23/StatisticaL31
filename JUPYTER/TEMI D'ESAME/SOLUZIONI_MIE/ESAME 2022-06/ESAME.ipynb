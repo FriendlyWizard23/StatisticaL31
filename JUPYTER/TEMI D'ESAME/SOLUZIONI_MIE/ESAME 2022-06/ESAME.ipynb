{
 "cells": [
  {
   "cell_type": "code",
   "execution_count": 1,
   "id": "db820b3f-0f27-44b0-8148-1cce2977135f",
   "metadata": {},
   "outputs": [],
   "source": [
    "import matplotlib.pyplot as plt\n",
    "import scipy.stats as st\n",
    "import numpy as np\n",
    "import pandas as pd"
   ]
  },
  {
   "cell_type": "markdown",
   "id": "5dd082dc-1a30-497f-8a70-ee98fc4f5beb",
   "metadata": {},
   "source": [
    "# Esercizio 1"
   ]
  },
  {
   "cell_type": "markdown",
   "id": "adb46aee-2ba9-4ddf-8d55-44da81ea0ac4",
   "metadata": {},
   "source": [
    "$X\\sim P(\\lambda)$"
   ]
  },
  {
   "cell_type": "markdown",
   "id": "1a8ab82d-0171-4f19-8987-5a5fd5fe1e21",
   "metadata": {},
   "source": [
    "Si, lambda può assumere un valore maggiore di uno dal momento che rappresenta il tasso di arrivo medio degli eventi- Non può assumere un valore negativo dal momento che il parametro perderebbe di significato!"
   ]
  },
  {
   "cell_type": "markdown",
   "id": "3753e983-ace8-4f9f-b1be-33fee66fbc79",
   "metadata": {},
   "source": [
    "$E(X)=Var(X)=\\lambda$"
   ]
  },
  {
   "cell_type": "markdown",
   "id": "dffbbdd6-f474-4dca-bfd1-18d947615a70",
   "metadata": {},
   "source": [
    "$$p(x)=P(X+Y = x)$$\n",
    "essendo una poissoniana, abbiamo la riproducibilità e dato che sono identicamente distribuite $\\lambda1 = \\lambda2$\n",
    "$$ Z=X1+X2\\sim P(2\\lambda) $$\n",
    "ora per trovare $P(Z=x)$ basta applicare la funzione di massa di probabilità:\n",
    "$$ p_Z(x) = P(Z=x) = e^{-2\\lambda}* \\frac{2\\lambda^x}{x!} $$"
   ]
  },
  {
   "cell_type": "markdown",
   "id": "5e1d4a19-e8aa-4637-a826-68f5fc9880c3",
   "metadata": {},
   "source": [
    "Fissiamo $\\lambda = 0.9$"
   ]
  },
  {
   "cell_type": "code",
   "execution_count": 9,
   "id": "72f5582a-da0e-4f83-bf20-ad9f9e668aad",
   "metadata": {},
   "outputs": [
    {
     "data": {
      "image/png": "[encoded data removed]",
      "text/plain": [
       "<Figure size 640x480 with 1 Axes>"
      ]
     },
     "metadata": {},
     "output_type": "display_data"
    }
   ],
   "source": [
    "dist=st.poisson(0.9)\n",
    "x=np.arange(0,10,1)\n",
    "plt.vlines(x,0,dist.pmf(x))\n",
    "plt.plot(x,dist.pmf(x),'o')\n",
    "plt.show()"
   ]
  },
  {
   "cell_type": "markdown",
   "id": "7e142a0b-2ca7-4ce7-8c48-929919dbac9b",
   "metadata": {},
   "source": [
    "Il range scelto [0,10] per i valori da rappresentare nel grafico, è stato scelto per poter visualizzare al meglio la PMF della distribuzione"
   ]
  },
  {
   "cell_type": "markdown",
   "id": "2a6b9982-3024-4423-b7b0-6e45ddcfdfeb",
   "metadata": {},
   "source": [
    "Date $n$ variabili aleatorie iid distribuite come $X$ allora $\\sum_{x=1}^{n} X_i \\sim N(n\\mu,\\sqrt{n}\\sigma)$\n",
    "Quindi può essere vista come una Normale oppure un'altra poissoniana di parametro $n\\lambda$"
   ]
  },
  {
   "cell_type": "markdown",
   "id": "335432de-d9bd-4ca1-86fc-7919ff0b6495",
   "metadata": {},
   "source": [
    "# Esercizio 2"
   ]
  },
  {
   "cell_type": "markdown",
   "id": "bb58539a-c96f-42c3-9c85-4cfab44bad11",
   "metadata": {},
   "source": [
    "#### Punto 1"
   ]
  },
  {
   "cell_type": "markdown",
   "id": "06a8c42f-957f-4360-a2f4-3ad4fc1a4818",
   "metadata": {},
   "source": [
    "Fissiamo $n=3$ e consideriamo la $X$ descritta prima"
   ]
  },
  {
   "cell_type": "markdown",
   "id": "29fa4224-ecab-4a35-9316-87b5cc57dccf",
   "metadata": {},
   "source": [
    "Per verificare che lo stimatore $T=(X1+X2-X3)$ sia non deviato, dobbiamo verificare che $E(T)=\\lambda$.\\\\\n",
    "$$E(X1+X2-X3) = \\lambda$$\n",
    "$$E(X1)+E(X2)-E(X3) = \\lambda$$\n",
    "dato che sono Indipendenti ed IID:\n",
    "$$E(X)+E(X)-E(X) = \\lambda$$\n",
    "$$E(X) = \\lambda$$\n",
    "$$\\lambda = \\lambda$$\\\n",
    "Lo stimatore risulta non deviato!\\\n",
    "Calcoliamo ora l'MSE:\n",
    "$$ MSE $$"
   ]
  },
  {
   "cell_type": "markdown",
   "id": "e77a7bc8-c8d3-4439-a84b-f5a24339b9e4",
   "metadata": {},
   "source": [
    "Per verificare che lo stimatore $U=\\frac{1}{5}(2X1+2X2+X3)$ sia non deviato, dobbiamo verificare che $E(T)=\\lambda$.\\\\\n",
    "$$E(\\frac{1}{5}(2X1+2X2+X3)) = \\lambda$$\n",
    "dato che sono Indipendenti ed IID:\n",
    "$$E(\\frac{1}{5}(5X)) = \\lambda$$\n",
    "$$E(X) = \\lambda$$\n",
    "$$\\lambda = \\lambda$$\n",
    "Lo stimatore risulta non deviato!\\\n",
    "Calcoliamo ora l'MSE:\n",
    "$$ MSE $$"
   ]
  },
  {
   "cell_type": "markdown",
   "id": "da85f5af-8cd6-49bb-b75e-3fe7e5ba0ac6",
   "metadata": {},
   "source": [
    "#### Punto 2 - 3"
   ]
  },
  {
   "cell_type": "markdown",
   "id": "b1a4023d-d8aa-4169-8ab9-64a74dcd544a",
   "metadata": {},
   "source": [
    "Possiamo vedere $\\overline{X}$ come una Normale: $\\overline{X}\\sim N(\\frac{\\lambda}{n}, \\frac{\\lambda}{n} )$"
   ]
  },
  {
   "cell_type": "markdown",
   "id": "5f7d62d1-e530-4998-b94b-dfeb8aee94c9",
   "metadata": {},
   "source": [
    "#### Punto 4"
   ]
  },
  {
   "cell_type": "markdown",
   "id": "6c6ece72-18d3-40ef-abf8-496cc0131e52",
   "metadata": {},
   "source": [
    "La media è sempre uno stimatore non deviato per il valore atteso e quindi il suo bias varrà per forza zero.\\\n",
    "Per quanto riguarda il suo MSE possiamo calcolarlo come:\n",
    "\n",
    "$$ MSE$$"
   ]
  },
  {
   "cell_type": "markdown",
   "id": "6676bbc4-64f1-4304-9647-d174413df8d3",
   "metadata": {},
   "source": [
    "#### Punto 5"
   ]
  },
  {
   "cell_type": "markdown",
   "id": "90b5ec94-d6c0-4c12-86bb-d6f746b81c35",
   "metadata": {},
   "source": [
    "Non è deviata per la varianza banalmente perchè $Var(X)=E(X)=\\lambda$. Se calcolassimo il bias otterremmo di conseguenza uno zero e potremmo dedurre che non ha deviazione.\n",
    "Per quanto riguarda il suo MSE possiamo calcolarlo come:\n",
    "$$ MSE$$"
   ]
  },
  {
   "cell_type": "markdown",
   "id": "bc253aef-12b7-4f87-ab9e-9b84f5557584",
   "metadata": {},
   "source": [
    "# Esercizio 3"
   ]
  },
  {
   "cell_type": "code",
   "execution_count": null,
   "id": "ff7739f2-50bf-466c-9f4a-39beba10196d",
   "metadata": {},
   "outputs": [],
   "source": []
  }
 ],
 "metadata": {
  "kernelspec": {
   "display_name": "Python 3 (ipykernel)",
   "language": "python",
   "name": "python3"
  },
  "language_info": {
   "codemirror_mode": {
    "name": "ipython",
    "version": 3
   },
   "file_extension": ".py",
   "mimetype": "text/x-python",
   "name": "python",
   "nbconvert_exporter": "python",
   "pygments_lexer": "ipython3",
   "version": "3.11.4"
  }
 },
 "nbformat": 4,
 "nbformat_minor": 5
}
