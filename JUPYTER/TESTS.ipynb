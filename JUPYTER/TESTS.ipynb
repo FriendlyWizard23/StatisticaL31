{
 "cells": [
  {
   "cell_type": "code",
   "execution_count": 1,
   "id": "dfd21bda-785e-4401-b4d8-886a10d08fcb",
   "metadata": {},
   "outputs": [],
   "source": [
    "import csv\n",
    "import numpy as np\n",
    "import matplotlib.pyplot as plt\n",
    "import pandas as pd\n",
    "\n",
    "plt.style.use('fivethirtyeight')\n",
    "plt.rc('figure', figsize=(5.0, 2.0))\n",
    "\n",
    "with open('data/heroes.csv', 'r') as heroes_file:\n",
    "  heroes_reader = csv.reader(heroes_file, delimiter=';', quotechar='\"')\n",
    "  heroes = list(heroes_reader)[1:]\n"
   ]
  },
  {
   "cell_type": "code",
   "execution_count": 2,
   "id": "5f7e0203-b131-4c0a-a333-d39fa0d8072d",
   "metadata": {},
   "outputs": [],
   "source": [
    "years = [int(h[7]) if h[7] else None for h in heroes]\n",
    "names = [h[0] for h in heroes]\n",
    "first_appearance = pd.Series(years, index = names)"
   ]
  },
  {
   "cell_type": "code",
   "execution_count": 3,
   "id": "f16b0134-3b41-4f2b-9791-9a8fe4e2a640",
   "metadata": {},
   "outputs": [
    {
     "data": {
      "text/plain": [
       "Richard Milhouse Jones        2008.0\n",
       "Abraxas                          NaN\n",
       "Emil Blonsky                     NaN\n",
       "None                             NaN\n",
       "Sharon Carter                    NaN\n",
       "                               ...  \n",
       "Alan Ladd Wellington Scott    1940.0\n",
       "None                          1960.0\n",
       "Hank Pym                      1962.0\n",
       "Francis                       1998.0\n",
       "Alexander J. Mercer              NaN\n",
       "Length: 735, dtype: float64"
      ]
     },
     "execution_count": 3,
     "metadata": {},
     "output_type": "execute_result"
    }
   ],
   "source": [
    "years=[int(h[7]) if h[7] else None for h in heroes]\n",
    "names=[h[0] for h in heroes]\n",
    "fullnames=[h[1] if h[1] else None for h in heroes]\n",
    "first_appearance = pd.Series(years, index = fullnames)\n",
    "first_appearance"
   ]
  },
  {
   "cell_type": "code",
   "execution_count": 4,
   "id": "1959f8b7-30a6-4b2e-9797-5c486a047148",
   "metadata": {},
   "outputs": [
    {
     "data": {
      "text/plain": [
       "2008.0"
      ]
     },
     "execution_count": 4,
     "metadata": {},
     "output_type": "execute_result"
    }
   ],
   "source": [
    "(first_appearance['Richard Milhouse Jones'])"
   ]
  },
  {
   "cell_type": "code",
   "execution_count": 5,
   "id": "327bdd42-94d3-4fe4-b792-c847ce6d6d06",
   "metadata": {},
   "outputs": [
    {
     "data": {
      "text/plain": [
       "1941.0"
      ]
     },
     "execution_count": 5,
     "metadata": {},
     "output_type": "execute_result"
    }
   ],
   "source": [
    "first_appearance = pd.Series(years, index = names)\n",
    "first_appearance['Wonder Woman']"
   ]
  },
  {
   "cell_type": "code",
   "execution_count": 6,
   "id": "1cab3fd6-2f22-45cd-a333-b8f3884b59b6",
   "metadata": {},
   "outputs": [
    {
     "name": "stderr",
     "output_type": "stream",
     "text": [
      "/tmp/ipykernel_35773/2239249670.py:1: FutureWarning: Series.__getitem__ treating keys as positions is deprecated. In a future version, integer keys will always be treated as labels (consistent with DataFrame behavior). To access a value by position, use `ser.iloc[pos]`\n",
      "  first_appearance[130]\n"
     ]
    },
    {
     "data": {
      "text/plain": [
       "1998.0"
      ]
     },
     "execution_count": 6,
     "metadata": {},
     "output_type": "execute_result"
    }
   ],
   "source": [
    "first_appearance[130]"
   ]
  },
  {
   "cell_type": "code",
   "execution_count": 7,
   "id": "89a9a97e-b504-44a6-ad03-d0b04cef84c7",
   "metadata": {},
   "outputs": [
    {
     "data": {
      "text/plain": [
       "1998.0"
      ]
     },
     "execution_count": 7,
     "metadata": {},
     "output_type": "execute_result"
    }
   ],
   "source": [
    "first_appearance.iloc[130]"
   ]
  },
  {
   "cell_type": "code",
   "execution_count": 8,
   "id": "76040059-ebb7-4391-b05e-930ed9b64718",
   "metadata": {},
   "outputs": [
    {
     "data": {
      "text/plain": [
       "Angel Dust             NaN\n",
       "Angel Salvadore     2001.0\n",
       "Zoom                   NaN\n",
       "Lady Deathstrike    1985.0\n",
       "Yoda                1980.0\n",
       "Zatanna                NaN\n",
       "Yellowjacket II        NaN\n",
       "Yellowjacket           NaN\n",
       "Yellow Claw            NaN\n",
       "Absorbing Man       1964.0\n",
       "dtype: float64"
      ]
     },
     "execution_count": 8,
     "metadata": {},
     "output_type": "execute_result"
    }
   ],
   "source": [
    "first_appearance[13:23]"
   ]
  },
  {
   "cell_type": "code",
   "execution_count": 9,
   "id": "31ca3867-f87f-4d8a-896c-310f3f945b61",
   "metadata": {},
   "outputs": [
    {
     "data": {
      "text/plain": [
       "Rey             2015.0\n",
       "Kylo Ren        2015.0\n",
       "Jyn Erso        2016.0\n",
       "K-2SO           2016.0\n",
       "Jessica Cruz    2013.0\n",
       "Bloodhawk       2099.0\n",
       "dtype: float64"
      ]
     },
     "execution_count": 9,
     "metadata": {},
     "output_type": "execute_result"
    }
   ],
   "source": [
    "first_appearance[(first_appearance>2012)]"
   ]
  },
  {
   "cell_type": "code",
   "execution_count": 10,
   "id": "0cc545f5-b1cd-42fd-8dc2-e4901adfb6c3",
   "metadata": {},
   "outputs": [
    {
     "data": {
      "text/plain": [
       "1964.0    18\n",
       "1963.0    18\n",
       "1965.0    14\n",
       "2004.0    11\n",
       "1975.0    10\n",
       "          ..\n",
       "2013.0     1\n",
       "1983.0     1\n",
       "1933.0     1\n",
       "1948.0     1\n",
       "1988.0     1\n",
       "Name: count, Length: 71, dtype: int64"
      ]
     },
     "execution_count": 10,
     "metadata": {},
     "output_type": "execute_result"
    }
   ],
   "source": [
    "absolutes=first_appearance.value_counts()\n",
    "absolutes"
   ]
  },
  {
   "cell_type": "code",
   "execution_count": 11,
   "id": "ce54a8d6-ffc1-462d-b342-ffbce9cff4fc",
   "metadata": {},
   "outputs": [],
   "source": [
    "absolutes=first_appearance[(first_appearance<2090) & (first_appearance>1933)].value_counts().sort_index()"
   ]
  },
  {
   "cell_type": "code",
   "execution_count": 12,
   "id": "2b653d1c-2e1c-4fbf-8c56-d91458910bea",
   "metadata": {},
   "outputs": [
    {
     "data": {
      "text/plain": [
       "1939.0    1\n",
       "1940.0    9\n",
       "1941.0    7\n",
       "1943.0    2\n",
       "1944.0    2\n",
       "         ..\n",
       "2011.0    5\n",
       "2012.0    2\n",
       "2013.0    1\n",
       "2015.0    2\n",
       "2016.0    2\n",
       "Name: count, Length: 69, dtype: int64"
      ]
     },
     "execution_count": 12,
     "metadata": {},
     "output_type": "execute_result"
    }
   ],
   "source": [
    "absolutes"
   ]
  },
  {
   "cell_type": "code",
   "execution_count": 13,
   "id": "5a1521a7-23c1-4c96-a6a4-80c0cd6da73e",
   "metadata": {},
   "outputs": [
    {
     "data": {
      "image/png": "[encoded data removed]",
      "text/plain": [
       "<Figure size 500x200 with 1 Axes>"
      ]
     },
     "metadata": {},
     "output_type": "display_data"
    }
   ],
   "source": [
    "absolutes.plot.bar()\n",
    "plt.show()"
   ]
  },
  {
   "cell_type": "code",
   "execution_count": 14,
   "id": "11b62cab-5bf6-4c23-bf86-d1461eeee95c",
   "metadata": {},
   "outputs": [
    {
     "data": {
      "image/png": "[encoded data removed]",
      "text/plain": [
       "<Figure size 500x200 with 1 Axes>"
      ]
     },
     "metadata": {},
     "output_type": "display_data"
    }
   ],
   "source": [
    "years=np.arange(19459,2010,10)\n",
    "index_pos = [absolutes.index.get_loc(y) for y in years]\n",
    "absolutes.plot.bar()\n",
    "plt.xticks(index_pos,years)\n",
    "plt.ylim(0,20)\n",
    "plt.show()"
   ]
  },
  {
   "cell_type": "code",
   "execution_count": 15,
   "id": "f52f13d1-127a-4f5c-817d-fcddb158713c",
   "metadata": {},
   "outputs": [
    {
     "data": {
      "text/plain": [
       "[]"
      ]
     },
     "execution_count": 15,
     "metadata": {},
     "output_type": "execute_result"
    }
   ],
   "source": [
    "[absolutes.index.get_loc(y) for y in years]"
   ]
  },
  {
   "cell_type": "code",
   "execution_count": 16,
   "id": "a00a640c-f784-4fd3-9613-c1db6f04a0d7",
   "metadata": {},
   "outputs": [
    {
     "data": {
      "text/plain": [
       "19"
      ]
     },
     "execution_count": 16,
     "metadata": {},
     "output_type": "execute_result"
    }
   ],
   "source": [
    "absolutes.index.get_loc(1965.0)"
   ]
  },
  {
   "cell_type": "code",
   "execution_count": 17,
   "id": "f813e064-f9b2-4086-a2fc-80f2595118e8",
   "metadata": {},
   "outputs": [
    {
     "data": {
      "text/plain": [
       "Index([1939.0, 1940.0, 1941.0, 1943.0, 1944.0, 1945.0, 1947.0, 1948.0, 1950.0,\n",
       "       1954.0, 1955.0, 1956.0, 1958.0, 1959.0, 1960.0, 1961.0, 1962.0, 1963.0,\n",
       "       1964.0, 1965.0, 1966.0, 1967.0, 1968.0, 1969.0, 1970.0, 1971.0, 1972.0,\n",
       "       1973.0, 1974.0, 1975.0, 1976.0, 1977.0, 1978.0, 1979.0, 1980.0, 1981.0,\n",
       "       1982.0, 1983.0, 1984.0, 1985.0, 1986.0, 1987.0, 1988.0, 1989.0, 1990.0,\n",
       "       1991.0, 1992.0, 1993.0, 1994.0, 1995.0, 1996.0, 1997.0, 1998.0, 1999.0,\n",
       "       2000.0, 2001.0, 2003.0, 2004.0, 2005.0, 2006.0, 2007.0, 2008.0, 2009.0,\n",
       "       2010.0, 2011.0, 2012.0, 2013.0, 2015.0, 2016.0],\n",
       "      dtype='float64')"
      ]
     },
     "execution_count": 17,
     "metadata": {},
     "output_type": "execute_result"
    }
   ],
   "source": [
    "absolutes.index"
   ]
  },
  {
   "cell_type": "code",
   "execution_count": 20,
   "id": "dd5169da-8a9a-477b-ae98-7039d58221f4",
   "metadata": {},
   "outputs": [
    {
     "data": {
      "text/plain": [
       "Name                                A-Bomb\n",
       "Identity            Richard Milhouse Jones\n",
       "Birth place             Scarsdale, Arizona\n",
       "Publisher                    Marvel Comics\n",
       "Height                              203.21\n",
       "Weight                              441.95\n",
       "Gender                                   M\n",
       "First appearance                    2008.0\n",
       "Eye color                           Yellow\n",
       "Hair color                         No Hair\n",
       "Strength                             100.0\n",
       "Intelligence                      moderate\n",
       "Name: 0, dtype: object"
      ]
     },
     "execution_count": 20,
     "metadata": {},
     "output_type": "execute_result"
    }
   ],
   "source": [
    "heroes = pd.read_csv('data/heroes.csv', sep=';')\n",
    "heroes.iloc[0]"
   ]
  },
  {
   "cell_type": "code",
   "execution_count": 23,
   "id": "6ed33ef6-3c58-4bc2-8622-bd8149798a35",
   "metadata": {},
   "outputs": [
    {
     "data": {
      "text/html": [
       "<div>\n",
       "<style scoped>\n",
       "    .dataframe tbody tr th:only-of-type {\n",
       "        vertical-align: middle;\n",
       "    }\n",
       "\n",
       "    .dataframe tbody tr th {\n",
       "        vertical-align: top;\n",
       "    }\n",
       "\n",
       "    .dataframe thead th {\n",
       "        text-align: right;\n",
       "    }\n",
       "</style>\n",
       "<table border=\"1\" class=\"dataframe\">\n",
       "  <thead>\n",
       "    <tr style=\"text-align: right;\">\n",
       "      <th></th>\n",
       "      <th>Name</th>\n",
       "      <th>Identity</th>\n",
       "      <th>Birth place</th>\n",
       "      <th>Publisher</th>\n",
       "      <th>Height</th>\n",
       "      <th>Weight</th>\n",
       "      <th>Gender</th>\n",
       "      <th>First appearance</th>\n",
       "      <th>Eye color</th>\n",
       "      <th>Hair color</th>\n",
       "      <th>Strength</th>\n",
       "      <th>Intelligence</th>\n",
       "    </tr>\n",
       "  </thead>\n",
       "  <tbody>\n",
       "  </tbody>\n",
       "</table>\n",
       "</div>"
      ],
      "text/plain": [
       "Empty DataFrame\n",
       "Columns: [Name, Identity, Birth place, Publisher, Height, Weight, Gender, First appearance, Eye color, Hair color, Strength, Intelligence]\n",
       "Index: []"
      ]
     },
     "execution_count": 23,
     "metadata": {},
     "output_type": "execute_result"
    }
   ],
   "source": [
    "heroes.loc['Gender':'Weight']"
   ]
  },
  {
   "cell_type": "code",
   "execution_count": 26,
   "id": "961caf56-633c-4a9d-922d-4fb312f9c123",
   "metadata": {},
   "outputs": [
    {
     "data": {
      "image/png": "[encoded data removed]",
      "text/plain": [
       "<Figure size 500x309.017 with 1 Axes>"
      ]
     },
     "metadata": {},
     "output_type": "display_data"
    }
   ],
   "source": [
    "import numpy as np\n",
    "import pandas as pd\n",
    "import matplotlib.pyplot as plt\n",
    "from scipy.constants import golden\n",
    "\n",
    "plt.style.use('fivethirtyeight')\n",
    "plt.rc('figure', figsize=(5.0, 5.0/golden))\n",
    "\n",
    "\n",
    "heroes = pd.read_csv('data/heroes.csv', sep=';', index_col=0)\n",
    "heroes_with_year = heroes[heroes['First appearance'] < 2020]\n",
    "\n",
    "heroes_with_year.head()\n",
    "heroes_with_year['Publisher'].value_counts().plot.pie()\n",
    "plt.show()"
   ]
  },
  {
   "cell_type": "code",
   "execution_count": null,
   "id": "37d1b552-a071-4148-839c-f462c503fd71",
   "metadata": {},
   "outputs": [],
   "source": []
  }
 ],
 "metadata": {
  "kernelspec": {
   "display_name": "Python 3 (ipykernel)",
   "language": "python",
   "name": "python3"
  },
  "language_info": {
   "codemirror_mode": {
    "name": "ipython",
    "version": 3
   },
   "file_extension": ".py",
   "mimetype": "text/x-python",
   "name": "python",
   "nbconvert_exporter": "python",
   "pygments_lexer": "ipython3",
   "version": "3.12.1"
  }
 },
 "nbformat": 4,
 "nbformat_minor": 5
}
