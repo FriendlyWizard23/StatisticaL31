{
 "cells": [
  {
   "cell_type": "code",
   "execution_count": 2,
   "id": "dfd21bda-785e-4401-b4d8-886a10d08fcb",
   "metadata": {},
   "outputs": [],
   "source": [
    "import csv\n",
    "import numpy as np\n",
    "import matplotlib.pyplot as plt\n",
    "import pandas as pd\n",
    "\n",
    "plt.style.use('fivethirtyeight')\n",
    "plt.rc('figure', figsize=(5.0, 2.0))\n",
    "\n",
    "with open('data/heroes.csv', 'r') as heroes_file:\n",
    "  heroes_reader = csv.reader(heroes_file, delimiter=';', quotechar='\"')\n",
    "  heroes = list(heroes_reader)[1:]\n"
   ]
  },
  {
   "cell_type": "code",
   "execution_count": 3,
   "id": "5f7e0203-b131-4c0a-a333-d39fa0d8072d",
   "metadata": {},
   "outputs": [],
   "source": [
    "years = [int(h[7]) if h[7] else None for h in heroes]\n",
    "names = [h[0] for h in heroes]\n",
    "first_appearance = pd.Series(years, index = names)"
   ]
  },
  {
   "cell_type": "code",
   "execution_count": 26,
   "id": "f16b0134-3b41-4f2b-9791-9a8fe4e2a640",
   "metadata": {},
   "outputs": [
    {
     "data": {
      "text/plain": [
       "Richard Milhouse Jones        2008.0\n",
       "Abraxas                          NaN\n",
       "Emil Blonsky                     NaN\n",
       "None                             NaN\n",
       "Sharon Carter                    NaN\n",
       "                               ...  \n",
       "Alan Ladd Wellington Scott    1940.0\n",
       "None                          1960.0\n",
       "Hank Pym                      1962.0\n",
       "Francis                       1998.0\n",
       "Alexander J. Mercer              NaN\n",
       "Length: 735, dtype: float64"
      ]
     },
     "execution_count": 26,
     "metadata": {},
     "output_type": "execute_result"
    }
   ],
   "source": [
    "years=[int(h[7]) if h[7] else None for h in heroes]\n",
    "names=[h[0] for h in heroes]\n",
    "fullnames=[h[1] if h[1] else None for h in heroes]\n",
    "first_appearance = pd.Series(years, index = fullnames)\n",
    "first_appearance"
   ]
  },
  {
   "cell_type": "code",
   "execution_count": 27,
   "id": "1959f8b7-30a6-4b2e-9797-5c486a047148",
   "metadata": {},
   "outputs": [
    {
     "data": {
      "text/plain": [
       "2008.0"
      ]
     },
     "execution_count": 27,
     "metadata": {},
     "output_type": "execute_result"
    }
   ],
   "source": [
    "(first_appearance['Richard Milhouse Jones'])"
   ]
  },
  {
   "cell_type": "code",
   "execution_count": 24,
   "id": "327bdd42-94d3-4fe4-b792-c847ce6d6d06",
   "metadata": {},
   "outputs": [
    {
     "data": {
      "text/plain": [
       "1941.0"
      ]
     },
     "execution_count": 24,
     "metadata": {},
     "output_type": "execute_result"
    }
   ],
   "source": [
    "first_appearance = pd.Series(years, index = names)\n",
    "first_appearance['Wonder Woman']"
   ]
  },
  {
   "cell_type": "code",
   "execution_count": 28,
   "id": "1cab3fd6-2f22-45cd-a333-b8f3884b59b6",
   "metadata": {},
   "outputs": [
    {
     "name": "stderr",
     "output_type": "stream",
     "text": [
      "C:\\Users\\Alessandro\\AppData\\Local\\Temp\\ipykernel_20020\\2239249670.py:1: FutureWarning: Series.__getitem__ treating keys as positions is deprecated. In a future version, integer keys will always be treated as labels (consistent with DataFrame behavior). To access a value by position, use `ser.iloc[pos]`\n",
      "  first_appearance[130]\n"
     ]
    },
    {
     "data": {
      "text/plain": [
       "1998.0"
      ]
     },
     "execution_count": 28,
     "metadata": {},
     "output_type": "execute_result"
    }
   ],
   "source": [
    "first_appearance[130]"
   ]
  },
  {
   "cell_type": "code",
   "execution_count": 31,
   "id": "89a9a97e-b504-44a6-ad03-d0b04cef84c7",
   "metadata": {},
   "outputs": [
    {
     "data": {
      "text/plain": [
       "1998.0"
      ]
     },
     "execution_count": 31,
     "metadata": {},
     "output_type": "execute_result"
    }
   ],
   "source": [
    "first_appearance.iloc[130]"
   ]
  }
 ],
 "metadata": {
  "kernelspec": {
   "display_name": "Python 3 (ipykernel)",
   "language": "python",
   "name": "python3"
  },
  "language_info": {
   "codemirror_mode": {
    "name": "ipython",
    "version": 3
   },
   "file_extension": ".py",
   "mimetype": "text/x-python",
   "name": "python",
   "nbconvert_exporter": "python",
   "pygments_lexer": "ipython3",
   "version": "3.11.4"
  }
 },
 "nbformat": 4,
 "nbformat_minor": 5
}
