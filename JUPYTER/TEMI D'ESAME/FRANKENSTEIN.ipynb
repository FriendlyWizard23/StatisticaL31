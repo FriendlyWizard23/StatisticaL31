{
 "cells": [
  {
   "cell_type": "code",
   "execution_count": 12,
   "id": "77af6585-d024-46d7-8214-76ef61c4462e",
   "metadata": {},
   "outputs": [],
   "source": [
    "## IMPORT NECESSARI\n",
    "import csv\n",
    "import pandas as pd\n",
    "import matplotlib.pyplot as plt\n",
    "import scipy.stats as sp\n",
    "import statsmodels.api as sm"
   ]
  },
  {
   "cell_type": "markdown",
   "id": "3a329449-1ad5-4ed0-81af-23fd6a08c3e9",
   "metadata": {},
   "source": [
    "## APERTURA FILE CSV"
   ]
  },
  {
   "cell_type": "code",
   "execution_count": null,
   "id": "481ff682-6c42-4fdc-8d8b-24e6ff380bca",
   "metadata": {},
   "outputs": [],
   "source": [
    "with open('file.csv', 'r') as csvfile:\n",
    "  reader = csv.reader(csvfile, delimiter=';', quotechar='\"')\n",
    "  dataset = list(reader)[1:]"
   ]
  },
  {
   "cell_type": "markdown",
   "id": "dbb78c20-9733-405d-a5f2-a71e967cc50d",
   "metadata": {},
   "source": [
    "## OPERAZIONI CON DATAFRAME "
   ]
  },
  {
   "cell_type": "code",
   "execution_count": null,
   "id": "8b25bed1-8883-49c3-8bd1-6fac2b08d8b6",
   "metadata": {},
   "outputs": [],
   "source": [
    "# Aprire CSV in dataframe\n",
    "df = pd.read_csv('incidenti.csv',sep=',')\n",
    "\n",
    "# Settare INDEX in modo che sia ordinato e strutturato per quell'index\n",
    "df.set_index('Colonna')\n",
    "\n",
    "# Visualizzare le colonne del mio dataframe\n",
    "df.columns\n",
    "\n",
    "# Accedere alla singola colonna\n",
    "df['Colonna']\n",
    "\n",
    "# Num elementi non ripetuti \n",
    "len(df['Colonna'].unique())\n",
    "\n",
    "# Lunghezza DataFrame\n",
    "len(df)\n",
    "len(df.index)\n",
    "df.index # -> restituisce informazioni sull'index\n",
    "\n",
    "# Ho x elementi di una colonna e ogni elemento ha un valore, posso ottenere la media per ogni elemento della colonna facendo cosi\n",
    "media = df.groupby('prima_colonna')['colonna_valore'].mean().reset_index()\n",
    "\n",
    "# Posso filtrare i dati di una colonna del database\n",
    "filtered = df[df['Colonna']==\"condizione\"]\n",
    "\n",
    "# Per visualizzare solo alcune colonne di un dataframe:\n",
    "dataframe[['colonna1', 'colonna2','colonna3']]"
   ]
  },
  {
   "cell_type": "markdown",
   "id": "838a114d-9a0d-494c-94e9-e4e55a832bf9",
   "metadata": {},
   "source": [
    "## OPERAZIONI CON CROSSTABS"
   ]
  },
  {
   "cell_type": "code",
   "execution_count": null,
   "id": "8b22afa0-e7a7-4a14-b0a4-62ecbe5c5532",
   "metadata": {},
   "outputs": [],
   "source": [
    "# Generare un cross tab con frequenze assolute di una colonna di un dataframe\n",
    "ct = pd.crosstab(index=df['Colonna'],columns=['FA'],colnames=[''])\n",
    "\n",
    "# Generare un cross tab con frequenze relative di una colonna di un dataframe\n",
    "ct = pd.crosstab(index=df['Colonna'],columns=['FR'],colnames=[''],normalize=True)\n",
    "\n",
    "# Aggiungere una funzione lambda ai dati crosstab\n",
    "ct.apply(lambda p: 100 * np.round(p, 3))\n",
    "\n",
    "# Aggiungere un simbolo dopo le FA o le FR di una crosstab\n",
    "(ct.apply(lambda p: np.round(100*p, 2))\n",
    "                   .astype(str)\n",
    "                   .apply(lambda s: s + '%'))\n",
    "\n",
    "# Generare un crosstab con le freq cumulate\n",
    "ct.cumsum()\n",
    "\n",
    "# Descrivere il crosstab\n",
    "ct.describe()\n",
    "\n",
    "# Filtrare un crosstab\n",
    "filtered = df[df['Colonna'] > 0]\n",
    "\n"
   ]
  },
  {
   "cell_type": "markdown",
   "id": "22fc39d0-2282-4ae0-bd3b-d1ab1b848976",
   "metadata": {
    "jp-MarkdownHeadingCollapsed": true
   },
   "source": [
    "## SERIES"
   ]
  },
  {
   "cell_type": "code",
   "execution_count": 1,
   "id": "8afea305-5fc5-4c19-b904-246af830ef16",
   "metadata": {},
   "outputs": [],
   "source": [
    "# Filtrare una colonna di una dataframe\n",
    "durezza_low=df[df['DurezzaAcqua']<14]['DurezzaAcqua']\n",
    "\n",
    "# Filtrare una series\n",
    "serie[serie>soglia]"
   ]
  },
  {
   "cell_type": "markdown",
   "id": "aea98997-b686-426a-b8b5-cad1f4580216",
   "metadata": {},
   "source": [
    "## GENERAZIONE GRAFICI"
   ]
  },
  {
   "cell_type": "markdown",
   "id": "434beb0b-6602-434e-957e-ee8e343bc8e8",
   "metadata": {},
   "source": [
    "### GENERIC"
   ]
  },
  {
   "cell_type": "code",
   "execution_count": null,
   "id": "a3fa8bf2-8408-4377-8940-561b59188d73",
   "metadata": {},
   "outputs": [],
   "source": [
    "# Impostare gli step dell'asse y \n",
    "plt.yticks(np.arange(min_val_y, max_val_y + step, step))\n",
    "\n",
    "# Impostare gli step dell'asse x \n",
    "plt.xticks(np.arange(min_val_x, max_val_x + step, step))"
   ]
  },
  {
   "cell_type": "markdown",
   "id": "cae01ff4-402a-406a-b85d-d23e391cf074",
   "metadata": {},
   "source": [
    "### ISTOGRAMMI"
   ]
  },
  {
   "cell_type": "code",
   "execution_count": null,
   "id": "45d55771-6eb5-422c-b3da-1e3edee28eef",
   "metadata": {},
   "outputs": [],
   "source": [
    "# Contare i valori della colonna 'Anno' e ordinare l'indice\n",
    "anno_counts = df['Anno'].value_counts().sort_index()\n",
    "\n",
    "# Creare il grafico a barre con gli anni ordinati\n",
    "ax = anno_counts.plot.bar()\n",
    "\n",
    "# Mostrare il grafico\n",
    "plt.show()\n",
    "\n",
    "# Generare istogramma da crosstab\n",
    "\n",
    "ct.plot() #genera un diagramma piu adatto alla circostanza\n",
    "ct.plot.bar() # Genera un diagramma a barre\n",
    "plt.show()\n",
    "\n",
    "# Generare istogrammi multibarra da una crosstab\n",
    "tst = pd.crosstab(index = df['Anno'], columns= [colonna1,colonna2], colnames=['']) \n",
    "tst.plot.bar(legend = False, color = ['colore1','colore2']) # colonne una di fianco all'altra\n",
    "tst.plot.bar(legend = False, color = ['colore1','colore2'],stacked=True) # colonne una sopra l'altra\n",
    "                  \n",
    "plt.show()"
   ]
  },
  {
   "cell_type": "markdown",
   "id": "e32a8ec7-b86d-4ef7-9f02-a9315bffd2ea",
   "metadata": {},
   "source": [
    "### SCATTER PLOT"
   ]
  },
  {
   "cell_type": "code",
   "execution_count": null,
   "id": "16494c34-9bd4-4868-8908-6ae03be9f346",
   "metadata": {},
   "outputs": [],
   "source": [
    "# Se ho due serie di cui proiettare lo scatter plot posso semplicemente fare\n",
    "plt.scatter(serie1,serie2)\n",
    "plt.show()"
   ]
  },
  {
   "cell_type": "markdown",
   "id": "faa96bcd-8b0d-4a90-b204-ffcc90eec805",
   "metadata": {},
   "source": [
    "### QQ PLOT"
   ]
  },
  {
   "cell_type": "code",
   "execution_count": null,
   "id": "46e3ebba-f4a9-4e54-820f-598e51ea40e6",
   "metadata": {},
   "outputs": [],
   "source": [
    "sm.qqplot(durezza, fit=True, line='45',dist=distribuzione_su_cui_voglio_fare_paragone)\n",
    "plt.show()"
   ]
  },
  {
   "cell_type": "markdown",
   "id": "0fca4f64-5f21-4b08-aabc-3e050495db87",
   "metadata": {},
   "source": [
    "### BOX PLOT"
   ]
  },
  {
   "cell_type": "code",
   "execution_count": null,
   "id": "1d00aa82-9afb-430d-8123-d6f98d9c505e",
   "metadata": {},
   "outputs": [],
   "source": [
    "#fare grafico da una DF\n",
    "df.plot.box()\n",
    "#fare grafico da una lista\n",
    "lista.plot.box()"
   ]
  },
  {
   "cell_type": "markdown",
   "id": "04110253-7f8f-4310-bb0b-1f46f8d70658",
   "metadata": {},
   "source": [
    "### CUMULATIVA"
   ]
  },
  {
   "cell_type": "code",
   "execution_count": null,
   "id": "d8490d78-567e-4259-a41a-b433bfd59685",
   "metadata": {},
   "outputs": [],
   "source": [
    "# Generare un grafico delle Freq Cumulative da una crosstab\n",
    "ctf.cumsum().plot() # CTF deve essere una crosstab di frequenze relative\n",
    "\n",
    "# Prendere max e min di una crosstab con frequenze relative\n",
    "max_val_y = ctf.cumsum().max().max()\n",
    "min_val_y = ctf.cumsum().min().min()\n"
   ]
  },
  {
   "cell_type": "markdown",
   "id": "29925993-53c5-410e-ac32-310598d997fd",
   "metadata": {},
   "source": [
    "## Modelli"
   ]
  },
  {
   "cell_type": "markdown",
   "id": "d6d47ed6-4b40-4843-b169-a8e4239dce14",
   "metadata": {},
   "source": [
    "## Geometrico"
   ]
  },
  {
   "cell_type": "markdown",
   "id": "9cb6107f-ca4a-4488-a2e9-02be648906e3",
   "metadata": {},
   "source": [
    "### FMDP"
   ]
  },
  {
   "cell_type": "code",
   "execution_count": null,
   "id": "aaa8e2eb-eeef-45ea-b69f-389d6b1aaa07",
   "metadata": {},
   "outputs": [],
   "source": [
    "g = sp.geom(p)\n",
    "x = np.arange(min, max + step_x, step_x)\n",
    "plt.yticks(np.arange(0, max + step_y, step_y))\n",
    "plt.xticks(x)\n",
    "plt.bar(x,g.pmf(x))\n",
    "plt.show()\n",
    "\n",
    "## SECONDO MODO PIU BELLINO con VLINES\n",
    "\n",
    "g = sp.geom(p)\n",
    "x = np.arange(min, max + step_x, step_x)\n",
    "plt.plot(x, g.pmf(x), 'o')\n",
    "plt.yticks(x)\n",
    "plt.vlines(x, 0, g.pmf(x), linestyles='dashed')\n",
    "plt.show() "
   ]
  },
  {
   "cell_type": "markdown",
   "id": "84c09025-1db2-49d7-ae22-ffb4a8da456e",
   "metadata": {},
   "source": [
    "## Roba Utile"
   ]
  },
  {
   "cell_type": "code",
   "execution_count": null,
   "id": "06326646-6609-4502-9039-fdbb148a9733",
   "metadata": {},
   "outputs": [],
   "source": [
    "# permette di generare un set, ovvero una lista senza duplicati\n",
    "set(lista) \n",
    "\n",
    "#Indice di correlazione lineare di due SERIE\n",
    "serie1.corr(serie2)\n"
   ]
  }
 ],
 "metadata": {
  "kernelspec": {
   "display_name": "Python 3 (ipykernel)",
   "language": "python",
   "name": "python3"
  },
  "language_info": {
   "codemirror_mode": {
    "name": "ipython",
    "version": 3
   },
   "file_extension": ".py",
   "mimetype": "text/x-python",
   "name": "python",
   "nbconvert_exporter": "python",
   "pygments_lexer": "ipython3",
   "version": "3.11.4"
  }
 },
 "nbformat": 4,
 "nbformat_minor": 5
}
