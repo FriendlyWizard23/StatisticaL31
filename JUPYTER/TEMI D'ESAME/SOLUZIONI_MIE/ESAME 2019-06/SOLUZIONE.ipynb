{
 "cells": [
  {
   "cell_type": "code",
   "execution_count": 1,
   "id": "4a4dff1b-64e1-468f-8192-f0ab6440bc30",
   "metadata": {},
   "outputs": [],
   "source": [
    "import pandas as pd\n",
    "import numpy as np\n",
    "import scipy.stats as st\n",
    "import statsmodels.api as sm\n",
    "import math\n",
    "import matplotlib.pyplot as plt"
   ]
  },
  {
   "cell_type": "code",
   "execution_count": 2,
   "id": "adb71d5b-7913-4189-ac6c-f755654ad50f",
   "metadata": {},
   "outputs": [
    {
     "data": {
      "text/html": [
       "<div>\n",
       "<style scoped>\n",
       "    .dataframe tbody tr th:only-of-type {\n",
       "        vertical-align: middle;\n",
       "    }\n",
       "\n",
       "    .dataframe tbody tr th {\n",
       "        vertical-align: top;\n",
       "    }\n",
       "\n",
       "    .dataframe thead th {\n",
       "        text-align: right;\n",
       "    }\n",
       "</style>\n",
       "<table border=\"1\" class=\"dataframe\">\n",
       "  <thead>\n",
       "    <tr style=\"text-align: right;\">\n",
       "      <th></th>\n",
       "      <th>Unnamed: 0.1</th>\n",
       "      <th>Unnamed: 0</th>\n",
       "      <th>IDENTIFICATIVO_IMPIANTO</th>\n",
       "      <th>GENERATORI_NUMERO</th>\n",
       "      <th>EDIFICIO_CATEGORIA</th>\n",
       "      <th>GENERATORE_POTENZA</th>\n",
       "      <th>GENERATORE_COMBUSTIBILE</th>\n",
       "      <th>GENERATORE_DATA_INST</th>\n",
       "      <th>RAPPORTO_DI_CONTROLLO_DATA</th>\n",
       "      <th>RAP_DI_CONTROLLO_ESITO</th>\n",
       "      <th>ISPEZIONE_DATA</th>\n",
       "      <th>ISPEZIONE_ESITO</th>\n",
       "    </tr>\n",
       "  </thead>\n",
       "  <tbody>\n",
       "    <tr>\n",
       "      <th>0</th>\n",
       "      <td>4</td>\n",
       "      <td>4</td>\n",
       "      <td>2f0dc989c2291c7d3fa48f8208ec0ff89</td>\n",
       "      <td>3.0</td>\n",
       "      <td>E8</td>\n",
       "      <td>31.0</td>\n",
       "      <td>GAS NATURALE</td>\n",
       "      <td>2000</td>\n",
       "      <td>2015</td>\n",
       "      <td>Positivo</td>\n",
       "      <td>2019</td>\n",
       "      <td>Positivo</td>\n",
       "    </tr>\n",
       "    <tr>\n",
       "      <th>1</th>\n",
       "      <td>14</td>\n",
       "      <td>14</td>\n",
       "      <td>2eedc9b812095cad7f849fe228ec7ff89</td>\n",
       "      <td>1.0</td>\n",
       "      <td>E1</td>\n",
       "      <td>24.0</td>\n",
       "      <td>GAS NATURALE</td>\n",
       "      <td>2011</td>\n",
       "      <td>2018</td>\n",
       "      <td>Positivo</td>\n",
       "      <td>2007</td>\n",
       "      <td>Positivo</td>\n",
       "    </tr>\n",
       "    <tr>\n",
       "      <th>2</th>\n",
       "      <td>36</td>\n",
       "      <td>36</td>\n",
       "      <td>2f3d39bfc2094cbd5f34ffb2188c3ff89</td>\n",
       "      <td>1.0</td>\n",
       "      <td>E1</td>\n",
       "      <td>28.1</td>\n",
       "      <td>GAS NATURALE</td>\n",
       "      <td>2008</td>\n",
       "      <td>2018</td>\n",
       "      <td>Positivo</td>\n",
       "      <td>2015</td>\n",
       "      <td>Negativo</td>\n",
       "    </tr>\n",
       "    <tr>\n",
       "      <th>3</th>\n",
       "      <td>68</td>\n",
       "      <td>68</td>\n",
       "      <td>2f7a198812f96c0d6f340f72288c6ff89</td>\n",
       "      <td>1.0</td>\n",
       "      <td>E1</td>\n",
       "      <td>23.3</td>\n",
       "      <td>GAS NATURALE</td>\n",
       "      <td>1997</td>\n",
       "      <td>2018</td>\n",
       "      <td>Positivo</td>\n",
       "      <td>2013</td>\n",
       "      <td>Negativo</td>\n",
       "    </tr>\n",
       "    <tr>\n",
       "      <th>4</th>\n",
       "      <td>70</td>\n",
       "      <td>70</td>\n",
       "      <td>2f2d49f8d2995cad3f940f6258dc2ff89</td>\n",
       "      <td>1.0</td>\n",
       "      <td>E1</td>\n",
       "      <td>40.0</td>\n",
       "      <td>GASOLIO</td>\n",
       "      <td>2012</td>\n",
       "      <td>2017</td>\n",
       "      <td>Positivo</td>\n",
       "      <td>2016</td>\n",
       "      <td>Positivo</td>\n",
       "    </tr>\n",
       "    <tr>\n",
       "      <th>...</th>\n",
       "      <td>...</td>\n",
       "      <td>...</td>\n",
       "      <td>...</td>\n",
       "      <td>...</td>\n",
       "      <td>...</td>\n",
       "      <td>...</td>\n",
       "      <td>...</td>\n",
       "      <td>...</td>\n",
       "      <td>...</td>\n",
       "      <td>...</td>\n",
       "      <td>...</td>\n",
       "      <td>...</td>\n",
       "    </tr>\n",
       "    <tr>\n",
       "      <th>365770</th>\n",
       "      <td>3297930</td>\n",
       "      <td>3297930</td>\n",
       "      <td>2f4c297843b93c6dcfb4aff278cc1ff89</td>\n",
       "      <td>1.0</td>\n",
       "      <td>E1</td>\n",
       "      <td>23.0</td>\n",
       "      <td>GAS NATURALE</td>\n",
       "      <td>2004</td>\n",
       "      <td>2017</td>\n",
       "      <td>Positivo</td>\n",
       "      <td>2013</td>\n",
       "      <td>Positivo</td>\n",
       "    </tr>\n",
       "    <tr>\n",
       "      <th>365771</th>\n",
       "      <td>3297931</td>\n",
       "      <td>3297931</td>\n",
       "      <td>2f4cf9b982e95cbd1ff4af9258ac4ff89</td>\n",
       "      <td>1.0</td>\n",
       "      <td>E1</td>\n",
       "      <td>27.9</td>\n",
       "      <td>GAS NATURALE</td>\n",
       "      <td>2008</td>\n",
       "      <td>2017</td>\n",
       "      <td>Positivo</td>\n",
       "      <td>2016</td>\n",
       "      <td>Positivo</td>\n",
       "    </tr>\n",
       "    <tr>\n",
       "      <th>365772</th>\n",
       "      <td>3297933</td>\n",
       "      <td>3297933</td>\n",
       "      <td>2f8ca9cf12796c2d7fa4ff8218cc0ff89</td>\n",
       "      <td>1.0</td>\n",
       "      <td>E1</td>\n",
       "      <td>27.9</td>\n",
       "      <td>GAS NATURALE</td>\n",
       "      <td>2004</td>\n",
       "      <td>2017</td>\n",
       "      <td>Positivo</td>\n",
       "      <td>2016</td>\n",
       "      <td>Positivo</td>\n",
       "    </tr>\n",
       "    <tr>\n",
       "      <th>365773</th>\n",
       "      <td>3297939</td>\n",
       "      <td>3297939</td>\n",
       "      <td>2efd29e802995c6ddf349f62789c7ff89</td>\n",
       "      <td>1.0</td>\n",
       "      <td>E1</td>\n",
       "      <td>26.0</td>\n",
       "      <td>GAS NATURALE</td>\n",
       "      <td>2014</td>\n",
       "      <td>2018</td>\n",
       "      <td>Positivo</td>\n",
       "      <td>2009</td>\n",
       "      <td>Positivo</td>\n",
       "    </tr>\n",
       "    <tr>\n",
       "      <th>365774</th>\n",
       "      <td>3297941</td>\n",
       "      <td>3297941</td>\n",
       "      <td>2f4d39d992794c5d3fa4bf8278fc7ff89</td>\n",
       "      <td>1.0</td>\n",
       "      <td>E1</td>\n",
       "      <td>24.0</td>\n",
       "      <td>GAS NATURALE</td>\n",
       "      <td>2010</td>\n",
       "      <td>2015</td>\n",
       "      <td>Positivo</td>\n",
       "      <td>2015</td>\n",
       "      <td>Positivo</td>\n",
       "    </tr>\n",
       "  </tbody>\n",
       "</table>\n",
       "<p>365775 rows × 12 columns</p>\n",
       "</div>"
      ],
      "text/plain": [
       "        Unnamed: 0.1  Unnamed: 0            IDENTIFICATIVO_IMPIANTO  \\\n",
       "0                  4           4  2f0dc989c2291c7d3fa48f8208ec0ff89   \n",
       "1                 14          14  2eedc9b812095cad7f849fe228ec7ff89   \n",
       "2                 36          36  2f3d39bfc2094cbd5f34ffb2188c3ff89   \n",
       "3                 68          68  2f7a198812f96c0d6f340f72288c6ff89   \n",
       "4                 70          70  2f2d49f8d2995cad3f940f6258dc2ff89   \n",
       "...              ...         ...                                ...   \n",
       "365770       3297930     3297930  2f4c297843b93c6dcfb4aff278cc1ff89   \n",
       "365771       3297931     3297931  2f4cf9b982e95cbd1ff4af9258ac4ff89   \n",
       "365772       3297933     3297933  2f8ca9cf12796c2d7fa4ff8218cc0ff89   \n",
       "365773       3297939     3297939  2efd29e802995c6ddf349f62789c7ff89   \n",
       "365774       3297941     3297941  2f4d39d992794c5d3fa4bf8278fc7ff89   \n",
       "\n",
       "        GENERATORI_NUMERO EDIFICIO_CATEGORIA  GENERATORE_POTENZA  \\\n",
       "0                     3.0                 E8                31.0   \n",
       "1                     1.0                 E1                24.0   \n",
       "2                     1.0                 E1                28.1   \n",
       "3                     1.0                 E1                23.3   \n",
       "4                     1.0                 E1                40.0   \n",
       "...                   ...                ...                 ...   \n",
       "365770                1.0                 E1                23.0   \n",
       "365771                1.0                 E1                27.9   \n",
       "365772                1.0                 E1                27.9   \n",
       "365773                1.0                 E1                26.0   \n",
       "365774                1.0                 E1                24.0   \n",
       "\n",
       "       GENERATORE_COMBUSTIBILE  GENERATORE_DATA_INST  \\\n",
       "0                 GAS NATURALE                  2000   \n",
       "1                 GAS NATURALE                  2011   \n",
       "2                 GAS NATURALE                  2008   \n",
       "3                 GAS NATURALE                  1997   \n",
       "4                      GASOLIO                  2012   \n",
       "...                        ...                   ...   \n",
       "365770            GAS NATURALE                  2004   \n",
       "365771            GAS NATURALE                  2008   \n",
       "365772            GAS NATURALE                  2004   \n",
       "365773            GAS NATURALE                  2014   \n",
       "365774            GAS NATURALE                  2010   \n",
       "\n",
       "        RAPPORTO_DI_CONTROLLO_DATA RAP_DI_CONTROLLO_ESITO  ISPEZIONE_DATA  \\\n",
       "0                             2015               Positivo            2019   \n",
       "1                             2018               Positivo            2007   \n",
       "2                             2018               Positivo            2015   \n",
       "3                             2018               Positivo            2013   \n",
       "4                             2017               Positivo            2016   \n",
       "...                            ...                    ...             ...   \n",
       "365770                        2017               Positivo            2013   \n",
       "365771                        2017               Positivo            2016   \n",
       "365772                        2017               Positivo            2016   \n",
       "365773                        2018               Positivo            2009   \n",
       "365774                        2015               Positivo            2015   \n",
       "\n",
       "       ISPEZIONE_ESITO  \n",
       "0             Positivo  \n",
       "1             Positivo  \n",
       "2             Negativo  \n",
       "3             Negativo  \n",
       "4             Positivo  \n",
       "...                ...  \n",
       "365770        Positivo  \n",
       "365771        Positivo  \n",
       "365772        Positivo  \n",
       "365773        Positivo  \n",
       "365774        Positivo  \n",
       "\n",
       "[365775 rows x 12 columns]"
      ]
     },
     "execution_count": 2,
     "metadata": {},
     "output_type": "execute_result"
    }
   ],
   "source": [
    "df=pd.read_csv('impianti.csv', sep=';',decimal='.')\n",
    "df"
   ]
  },
  {
   "cell_type": "code",
   "execution_count": 3,
   "id": "66801524-955f-483d-b155-825b9da7f013",
   "metadata": {},
   "outputs": [
    {
     "data": {
      "image/png": "[encoded data removed]",
      "text/plain": [
       "<Figure size 640x480 with 1 Axes>"
      ]
     },
     "metadata": {},
     "output_type": "display_data"
    }
   ],
   "source": [
    "dist=st.randint(1,6)\n",
    "x=np.arange(0,7,1)\n",
    "plt.step(x,dist.cdf(x),where='post')\n",
    "plt.show()"
   ]
  },
  {
   "cell_type": "code",
   "execution_count": 4,
   "id": "2c6e2563-ddc2-4aff-9529-12df1bda9442",
   "metadata": {},
   "outputs": [
    {
     "data": {
      "text/plain": [
       "9603.647051735312"
      ]
     },
     "execution_count": 4,
     "metadata": {},
     "output_type": "execute_result"
    }
   ],
   "source": [
    "dist=st.norm()\n",
    "(dist.ppf(1-(0.05/2))/(2*0.01))**2"
   ]
  },
  {
   "cell_type": "code",
   "execution_count": 5,
   "id": "ed0c8f6d-40ed-4083-af27-9a08e8b70fc9",
   "metadata": {},
   "outputs": [
    {
     "data": {
      "text/plain": [
       "365775"
      ]
     },
     "execution_count": 5,
     "metadata": {},
     "output_type": "execute_result"
    }
   ],
   "source": [
    "len(df)"
   ]
  },
  {
   "cell_type": "code",
   "execution_count": 6,
   "id": "17726a0e-c861-4889-b27f-13e82f6eeef1",
   "metadata": {},
   "outputs": [
    {
     "data": {
      "text/plain": [
       "0         31.0\n",
       "1         24.0\n",
       "2         28.1\n",
       "3         23.3\n",
       "4         40.0\n",
       "          ... \n",
       "365770    23.0\n",
       "365771    27.9\n",
       "365772    27.9\n",
       "365773    26.0\n",
       "365774    24.0\n",
       "Name: GENERATORE_POTENZA, Length: 365775, dtype: float64"
      ]
     },
     "execution_count": 6,
     "metadata": {},
     "output_type": "execute_result"
    }
   ],
   "source": [
    "df['GENERATORE_POTENZA']"
   ]
  },
  {
   "cell_type": "code",
   "execution_count": 7,
   "id": "c9fada54-646a-49dd-be5f-288c90243977",
   "metadata": {},
   "outputs": [
    {
     "data": {
      "text/plain": [
       "0"
      ]
     },
     "execution_count": 7,
     "metadata": {},
     "output_type": "execute_result"
    }
   ],
   "source": [
    "len(df[df['GENERATORE_DATA_INST']<1940])"
   ]
  },
  {
   "cell_type": "code",
   "execution_count": 8,
   "id": "4506ed97-fb70-439e-8863-5931b33da0e1",
   "metadata": {},
   "outputs": [
    {
     "data": {
      "text/html": [
       "<div>\n",
       "<style scoped>\n",
       "    .dataframe tbody tr th:only-of-type {\n",
       "        vertical-align: middle;\n",
       "    }\n",
       "\n",
       "    .dataframe tbody tr th {\n",
       "        vertical-align: top;\n",
       "    }\n",
       "\n",
       "    .dataframe thead th {\n",
       "        text-align: right;\n",
       "    }\n",
       "</style>\n",
       "<table border=\"1\" class=\"dataframe\">\n",
       "  <thead>\n",
       "    <tr style=\"text-align: right;\">\n",
       "      <th></th>\n",
       "      <th>Unnamed: 0.1</th>\n",
       "      <th>Unnamed: 0</th>\n",
       "      <th>IDENTIFICATIVO_IMPIANTO</th>\n",
       "      <th>GENERATORI_NUMERO</th>\n",
       "      <th>EDIFICIO_CATEGORIA</th>\n",
       "      <th>GENERATORE_POTENZA</th>\n",
       "      <th>GENERATORE_COMBUSTIBILE</th>\n",
       "      <th>GENERATORE_DATA_INST</th>\n",
       "      <th>RAPPORTO_DI_CONTROLLO_DATA</th>\n",
       "      <th>RAP_DI_CONTROLLO_ESITO</th>\n",
       "      <th>ISPEZIONE_DATA</th>\n",
       "      <th>ISPEZIONE_ESITO</th>\n",
       "    </tr>\n",
       "  </thead>\n",
       "  <tbody>\n",
       "    <tr>\n",
       "      <th>0</th>\n",
       "      <td>4</td>\n",
       "      <td>4</td>\n",
       "      <td>2f0dc989c2291c7d3fa48f8208ec0ff89</td>\n",
       "      <td>3.0</td>\n",
       "      <td>E8</td>\n",
       "      <td>31.0</td>\n",
       "      <td>GAS NATURALE</td>\n",
       "      <td>2000</td>\n",
       "      <td>2015</td>\n",
       "      <td>Positivo</td>\n",
       "      <td>2019</td>\n",
       "      <td>Positivo</td>\n",
       "    </tr>\n",
       "    <tr>\n",
       "      <th>1</th>\n",
       "      <td>14</td>\n",
       "      <td>14</td>\n",
       "      <td>2eedc9b812095cad7f849fe228ec7ff89</td>\n",
       "      <td>1.0</td>\n",
       "      <td>E1</td>\n",
       "      <td>24.0</td>\n",
       "      <td>GAS NATURALE</td>\n",
       "      <td>2011</td>\n",
       "      <td>2018</td>\n",
       "      <td>Positivo</td>\n",
       "      <td>2007</td>\n",
       "      <td>Positivo</td>\n",
       "    </tr>\n",
       "    <tr>\n",
       "      <th>2</th>\n",
       "      <td>36</td>\n",
       "      <td>36</td>\n",
       "      <td>2f3d39bfc2094cbd5f34ffb2188c3ff89</td>\n",
       "      <td>1.0</td>\n",
       "      <td>E1</td>\n",
       "      <td>28.1</td>\n",
       "      <td>GAS NATURALE</td>\n",
       "      <td>2008</td>\n",
       "      <td>2018</td>\n",
       "      <td>Positivo</td>\n",
       "      <td>2015</td>\n",
       "      <td>Negativo</td>\n",
       "    </tr>\n",
       "    <tr>\n",
       "      <th>3</th>\n",
       "      <td>68</td>\n",
       "      <td>68</td>\n",
       "      <td>2f7a198812f96c0d6f340f72288c6ff89</td>\n",
       "      <td>1.0</td>\n",
       "      <td>E1</td>\n",
       "      <td>23.3</td>\n",
       "      <td>GAS NATURALE</td>\n",
       "      <td>1997</td>\n",
       "      <td>2018</td>\n",
       "      <td>Positivo</td>\n",
       "      <td>2013</td>\n",
       "      <td>Negativo</td>\n",
       "    </tr>\n",
       "    <tr>\n",
       "      <th>6</th>\n",
       "      <td>74</td>\n",
       "      <td>74</td>\n",
       "      <td>2f4de969c3995c5d6f940fc288fc4ff89</td>\n",
       "      <td>1.0</td>\n",
       "      <td>E1</td>\n",
       "      <td>23.3</td>\n",
       "      <td>GAS NATURALE</td>\n",
       "      <td>2006</td>\n",
       "      <td>2018</td>\n",
       "      <td>Positivo</td>\n",
       "      <td>2008</td>\n",
       "      <td>Positivo</td>\n",
       "    </tr>\n",
       "    <tr>\n",
       "      <th>...</th>\n",
       "      <td>...</td>\n",
       "      <td>...</td>\n",
       "      <td>...</td>\n",
       "      <td>...</td>\n",
       "      <td>...</td>\n",
       "      <td>...</td>\n",
       "      <td>...</td>\n",
       "      <td>...</td>\n",
       "      <td>...</td>\n",
       "      <td>...</td>\n",
       "      <td>...</td>\n",
       "      <td>...</td>\n",
       "    </tr>\n",
       "    <tr>\n",
       "      <th>365770</th>\n",
       "      <td>3297930</td>\n",
       "      <td>3297930</td>\n",
       "      <td>2f4c297843b93c6dcfb4aff278cc1ff89</td>\n",
       "      <td>1.0</td>\n",
       "      <td>E1</td>\n",
       "      <td>23.0</td>\n",
       "      <td>GAS NATURALE</td>\n",
       "      <td>2004</td>\n",
       "      <td>2017</td>\n",
       "      <td>Positivo</td>\n",
       "      <td>2013</td>\n",
       "      <td>Positivo</td>\n",
       "    </tr>\n",
       "    <tr>\n",
       "      <th>365771</th>\n",
       "      <td>3297931</td>\n",
       "      <td>3297931</td>\n",
       "      <td>2f4cf9b982e95cbd1ff4af9258ac4ff89</td>\n",
       "      <td>1.0</td>\n",
       "      <td>E1</td>\n",
       "      <td>27.9</td>\n",
       "      <td>GAS NATURALE</td>\n",
       "      <td>2008</td>\n",
       "      <td>2017</td>\n",
       "      <td>Positivo</td>\n",
       "      <td>2016</td>\n",
       "      <td>Positivo</td>\n",
       "    </tr>\n",
       "    <tr>\n",
       "      <th>365772</th>\n",
       "      <td>3297933</td>\n",
       "      <td>3297933</td>\n",
       "      <td>2f8ca9cf12796c2d7fa4ff8218cc0ff89</td>\n",
       "      <td>1.0</td>\n",
       "      <td>E1</td>\n",
       "      <td>27.9</td>\n",
       "      <td>GAS NATURALE</td>\n",
       "      <td>2004</td>\n",
       "      <td>2017</td>\n",
       "      <td>Positivo</td>\n",
       "      <td>2016</td>\n",
       "      <td>Positivo</td>\n",
       "    </tr>\n",
       "    <tr>\n",
       "      <th>365773</th>\n",
       "      <td>3297939</td>\n",
       "      <td>3297939</td>\n",
       "      <td>2efd29e802995c6ddf349f62789c7ff89</td>\n",
       "      <td>1.0</td>\n",
       "      <td>E1</td>\n",
       "      <td>26.0</td>\n",
       "      <td>GAS NATURALE</td>\n",
       "      <td>2014</td>\n",
       "      <td>2018</td>\n",
       "      <td>Positivo</td>\n",
       "      <td>2009</td>\n",
       "      <td>Positivo</td>\n",
       "    </tr>\n",
       "    <tr>\n",
       "      <th>365774</th>\n",
       "      <td>3297941</td>\n",
       "      <td>3297941</td>\n",
       "      <td>2f4d39d992794c5d3fa4bf8278fc7ff89</td>\n",
       "      <td>1.0</td>\n",
       "      <td>E1</td>\n",
       "      <td>24.0</td>\n",
       "      <td>GAS NATURALE</td>\n",
       "      <td>2010</td>\n",
       "      <td>2015</td>\n",
       "      <td>Positivo</td>\n",
       "      <td>2015</td>\n",
       "      <td>Positivo</td>\n",
       "    </tr>\n",
       "  </tbody>\n",
       "</table>\n",
       "<p>296968 rows × 12 columns</p>\n",
       "</div>"
      ],
      "text/plain": [
       "        Unnamed: 0.1  Unnamed: 0            IDENTIFICATIVO_IMPIANTO  \\\n",
       "0                  4           4  2f0dc989c2291c7d3fa48f8208ec0ff89   \n",
       "1                 14          14  2eedc9b812095cad7f849fe228ec7ff89   \n",
       "2                 36          36  2f3d39bfc2094cbd5f34ffb2188c3ff89   \n",
       "3                 68          68  2f7a198812f96c0d6f340f72288c6ff89   \n",
       "6                 74          74  2f4de969c3995c5d6f940fc288fc4ff89   \n",
       "...              ...         ...                                ...   \n",
       "365770       3297930     3297930  2f4c297843b93c6dcfb4aff278cc1ff89   \n",
       "365771       3297931     3297931  2f4cf9b982e95cbd1ff4af9258ac4ff89   \n",
       "365772       3297933     3297933  2f8ca9cf12796c2d7fa4ff8218cc0ff89   \n",
       "365773       3297939     3297939  2efd29e802995c6ddf349f62789c7ff89   \n",
       "365774       3297941     3297941  2f4d39d992794c5d3fa4bf8278fc7ff89   \n",
       "\n",
       "        GENERATORI_NUMERO EDIFICIO_CATEGORIA  GENERATORE_POTENZA  \\\n",
       "0                     3.0                 E8                31.0   \n",
       "1                     1.0                 E1                24.0   \n",
       "2                     1.0                 E1                28.1   \n",
       "3                     1.0                 E1                23.3   \n",
       "6                     1.0                 E1                23.3   \n",
       "...                   ...                ...                 ...   \n",
       "365770                1.0                 E1                23.0   \n",
       "365771                1.0                 E1                27.9   \n",
       "365772                1.0                 E1                27.9   \n",
       "365773                1.0                 E1                26.0   \n",
       "365774                1.0                 E1                24.0   \n",
       "\n",
       "       GENERATORE_COMBUSTIBILE  GENERATORE_DATA_INST  \\\n",
       "0                 GAS NATURALE                  2000   \n",
       "1                 GAS NATURALE                  2011   \n",
       "2                 GAS NATURALE                  2008   \n",
       "3                 GAS NATURALE                  1997   \n",
       "6                 GAS NATURALE                  2006   \n",
       "...                        ...                   ...   \n",
       "365770            GAS NATURALE                  2004   \n",
       "365771            GAS NATURALE                  2008   \n",
       "365772            GAS NATURALE                  2004   \n",
       "365773            GAS NATURALE                  2014   \n",
       "365774            GAS NATURALE                  2010   \n",
       "\n",
       "        RAPPORTO_DI_CONTROLLO_DATA RAP_DI_CONTROLLO_ESITO  ISPEZIONE_DATA  \\\n",
       "0                             2015               Positivo            2019   \n",
       "1                             2018               Positivo            2007   \n",
       "2                             2018               Positivo            2015   \n",
       "3                             2018               Positivo            2013   \n",
       "6                             2018               Positivo            2008   \n",
       "...                            ...                    ...             ...   \n",
       "365770                        2017               Positivo            2013   \n",
       "365771                        2017               Positivo            2016   \n",
       "365772                        2017               Positivo            2016   \n",
       "365773                        2018               Positivo            2009   \n",
       "365774                        2015               Positivo            2015   \n",
       "\n",
       "       ISPEZIONE_ESITO  \n",
       "0             Positivo  \n",
       "1             Positivo  \n",
       "2             Negativo  \n",
       "3             Negativo  \n",
       "6             Positivo  \n",
       "...                ...  \n",
       "365770        Positivo  \n",
       "365771        Positivo  \n",
       "365772        Positivo  \n",
       "365773        Positivo  \n",
       "365774        Positivo  \n",
       "\n",
       "[296968 rows x 12 columns]"
      ]
     },
     "execution_count": 8,
     "metadata": {},
     "output_type": "execute_result"
    }
   ],
   "source": [
    "selezione=df[((df['GENERATORE_POTENZA']<35) & (df['GENERATORE_POTENZA']>15))& (df['GENERATORE_COMBUSTIBILE']==\"GAS NATURALE\")]\n",
    "selezione"
   ]
  },
  {
   "cell_type": "code",
   "execution_count": 9,
   "id": "869ee9dd-9345-4f4d-99a7-f503a1707f4f",
   "metadata": {},
   "outputs": [
    {
     "data": {
      "text/plain": [
       "17"
      ]
     },
     "execution_count": 9,
     "metadata": {},
     "output_type": "execute_result"
    }
   ],
   "source": [
    "len(selezione['EDIFICIO_CATEGORIA'].unique())"
   ]
  },
  {
   "cell_type": "code",
   "execution_count": 10,
   "id": "2fa4f11f-8a8a-4a4b-9bf9-d14e27aa811a",
   "metadata": {},
   "outputs": [
    {
     "data": {
      "text/plain": [
       "0    E1\n",
       "Name: EDIFICIO_CATEGORIA, dtype: object"
      ]
     },
     "execution_count": 10,
     "metadata": {},
     "output_type": "execute_result"
    }
   ],
   "source": [
    "selezione['EDIFICIO_CATEGORIA'].mode()"
   ]
  },
  {
   "cell_type": "code",
   "execution_count": 11,
   "id": "f749be0f-4bf0-4ca7-9723-4ff2fcbde793",
   "metadata": {},
   "outputs": [
    {
     "data": {
      "text/plain": [
       "EDIFICIO_CATEGORIA\n",
       "E1     0.624327\n",
       "E11    0.304070\n",
       "E8     0.032724\n",
       "E2     0.014601\n",
       "E5     0.010052\n",
       "E12    0.004708\n",
       "E43    0.002350\n",
       "E3     0.001364\n",
       "E4     0.001280\n",
       "E42    0.001243\n",
       "E13    0.000889\n",
       "E7     0.000842\n",
       "E6     0.000647\n",
       "E41    0.000343\n",
       "E62    0.000337\n",
       "E63    0.000135\n",
       "E61    0.000091\n",
       "Name: proportion, dtype: float64"
      ]
     },
     "execution_count": 11,
     "metadata": {},
     "output_type": "execute_result"
    }
   ],
   "source": [
    "selezione['EDIFICIO_CATEGORIA'].value_counts(normalize=True)"
   ]
  },
  {
   "cell_type": "markdown",
   "id": "cc7cc7f3-60de-41cc-ba4d-8950948a2c6c",
   "metadata": {},
   "source": [
    "62.43%"
   ]
  },
  {
   "cell_type": "code",
   "execution_count": 18,
   "id": "963da6da-3b2e-4f33-a02a-7faff8e4eefe",
   "metadata": {},
   "outputs": [],
   "source": [
    "selezione2=df[(df['GENERATORE_DATA_INST']<2018) & (df['GENERATORE_DATA_INST']>2001)]\n",
    "gdi=selezione2['GENERATORE_DATA_INST']"
   ]
  },
  {
   "cell_type": "code",
   "execution_count": 19,
   "id": "9196e519-0cac-4238-97d3-7a6221cbd561",
   "metadata": {},
   "outputs": [
    {
     "data": {
      "image/png": "[encoded data removed]",
      "text/plain": [
       "<Figure size 640x480 with 1 Axes>"
      ]
     },
     "metadata": {},
     "output_type": "display_data"
    }
   ],
   "source": [
    "gdi.value_counts().plot.bar()\n",
    "plt.show()"
   ]
  },
  {
   "cell_type": "code",
   "execution_count": 28,
   "id": "530c73a5-c98f-43c9-832f-b9d468c595c7",
   "metadata": {},
   "outputs": [
    {
     "data": {
      "text/plain": [
       "ISPEZIONE_ESITO\n",
       "Positivo    0.763929\n",
       "Negativo    0.236071\n",
       "Name: proportion, dtype: float64"
      ]
     },
     "execution_count": 28,
     "metadata": {},
     "output_type": "execute_result"
    }
   ],
   "source": [
    "ie=selezione2['ISPEZIONE_ESITO']\n",
    "tabella=ie.dropna().value_counts(normalize=True)\n",
    "tabella"
   ]
  },
  {
   "cell_type": "markdown",
   "id": "bbd6a329-177c-4750-8222-0b6245e502e0",
   "metadata": {},
   "source": [
    "76,39%"
   ]
  },
  {
   "cell_type": "code",
   "execution_count": null,
   "id": "c4dfe3f9-768a-4b83-9c7c-03206520b054",
   "metadata": {},
   "outputs": [],
   "source": [
    "ie.mean()"
   ]
  }
 ],
 "metadata": {
  "kernelspec": {
   "display_name": "Python 3 (ipykernel)",
   "language": "python",
   "name": "python3"
  },
  "language_info": {
   "codemirror_mode": {
    "name": "ipython",
    "version": 3
   },
   "file_extension": ".py",
   "mimetype": "text/x-python",
   "name": "python",
   "nbconvert_exporter": "python",
   "pygments_lexer": "ipython3",
   "version": "3.11.4"
  }
 },
 "nbformat": 4,
 "nbformat_minor": 5
}
