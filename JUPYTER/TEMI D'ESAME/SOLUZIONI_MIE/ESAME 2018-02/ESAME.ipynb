{
 "cells": [
  {
   "cell_type": "code",
   "execution_count": 77,
   "id": "bb2b59a0-d8b5-4e24-8a9c-c5edf9915012",
   "metadata": {},
   "outputs": [],
   "source": [
    "import pandas as pd\n",
    "import numpy as np\n",
    "import scipy.stats as st\n",
    "import matplotlib.pyplot as plt\n",
    "import math"
   ]
  },
  {
   "cell_type": "markdown",
   "id": "bfb60965-664f-4498-bc4a-5d2026b0888d",
   "metadata": {},
   "source": [
    "# Esercizio 2"
   ]
  },
  {
   "cell_type": "code",
   "execution_count": 6,
   "id": "52dcf659-5f28-4fb0-8725-7b0010f1bac1",
   "metadata": {},
   "outputs": [
    {
     "data": {
      "text/html": [
       "<div>\n",
       "<style scoped>\n",
       "    .dataframe tbody tr th:only-of-type {\n",
       "        vertical-align: middle;\n",
       "    }\n",
       "\n",
       "    .dataframe tbody tr th {\n",
       "        vertical-align: top;\n",
       "    }\n",
       "\n",
       "    .dataframe thead th {\n",
       "        text-align: right;\n",
       "    }\n",
       "</style>\n",
       "<table border=\"1\" class=\"dataframe\">\n",
       "  <thead>\n",
       "    <tr style=\"text-align: right;\">\n",
       "      <th></th>\n",
       "      <th>giorno.settimana</th>\n",
       "      <th>peso.pescato</th>\n",
       "      <th>settore.di.pesca</th>\n",
       "      <th>settore.num</th>\n",
       "      <th>forza.del.mare</th>\n",
       "      <th>tempesta</th>\n",
       "    </tr>\n",
       "  </thead>\n",
       "  <tbody>\n",
       "    <tr>\n",
       "      <th>0</th>\n",
       "      <td>1</td>\n",
       "      <td>5.168068</td>\n",
       "      <td>A</td>\n",
       "      <td>1</td>\n",
       "      <td>7</td>\n",
       "      <td>1</td>\n",
       "    </tr>\n",
       "    <tr>\n",
       "      <th>1</th>\n",
       "      <td>1</td>\n",
       "      <td>4.074747</td>\n",
       "      <td>A</td>\n",
       "      <td>1</td>\n",
       "      <td>7</td>\n",
       "      <td>1</td>\n",
       "    </tr>\n",
       "    <tr>\n",
       "      <th>2</th>\n",
       "      <td>1</td>\n",
       "      <td>7.358404</td>\n",
       "      <td>A</td>\n",
       "      <td>1</td>\n",
       "      <td>5</td>\n",
       "      <td>1</td>\n",
       "    </tr>\n",
       "    <tr>\n",
       "      <th>3</th>\n",
       "      <td>1</td>\n",
       "      <td>5.022524</td>\n",
       "      <td>A</td>\n",
       "      <td>1</td>\n",
       "      <td>5</td>\n",
       "      <td>1</td>\n",
       "    </tr>\n",
       "    <tr>\n",
       "      <th>4</th>\n",
       "      <td>1</td>\n",
       "      <td>5.826922</td>\n",
       "      <td>A</td>\n",
       "      <td>1</td>\n",
       "      <td>5</td>\n",
       "      <td>1</td>\n",
       "    </tr>\n",
       "    <tr>\n",
       "      <th>...</th>\n",
       "      <td>...</td>\n",
       "      <td>...</td>\n",
       "      <td>...</td>\n",
       "      <td>...</td>\n",
       "      <td>...</td>\n",
       "      <td>...</td>\n",
       "    </tr>\n",
       "    <tr>\n",
       "      <th>250</th>\n",
       "      <td>5</td>\n",
       "      <td>13.314936</td>\n",
       "      <td>I</td>\n",
       "      <td>9</td>\n",
       "      <td>5</td>\n",
       "      <td>1</td>\n",
       "    </tr>\n",
       "    <tr>\n",
       "      <th>251</th>\n",
       "      <td>5</td>\n",
       "      <td>17.445849</td>\n",
       "      <td>I</td>\n",
       "      <td>9</td>\n",
       "      <td>3</td>\n",
       "      <td>0</td>\n",
       "    </tr>\n",
       "    <tr>\n",
       "      <th>252</th>\n",
       "      <td>5</td>\n",
       "      <td>19.351561</td>\n",
       "      <td>I</td>\n",
       "      <td>9</td>\n",
       "      <td>1</td>\n",
       "      <td>0</td>\n",
       "    </tr>\n",
       "    <tr>\n",
       "      <th>253</th>\n",
       "      <td>5</td>\n",
       "      <td>17.939520</td>\n",
       "      <td>I</td>\n",
       "      <td>9</td>\n",
       "      <td>1</td>\n",
       "      <td>0</td>\n",
       "    </tr>\n",
       "    <tr>\n",
       "      <th>254</th>\n",
       "      <td>5</td>\n",
       "      <td>19.182300</td>\n",
       "      <td>I</td>\n",
       "      <td>9</td>\n",
       "      <td>1</td>\n",
       "      <td>0</td>\n",
       "    </tr>\n",
       "  </tbody>\n",
       "</table>\n",
       "<p>255 rows × 6 columns</p>\n",
       "</div>"
      ],
      "text/plain": [
       "     giorno.settimana  peso.pescato settore.di.pesca  settore.num  \\\n",
       "0                   1      5.168068                A            1   \n",
       "1                   1      4.074747                A            1   \n",
       "2                   1      7.358404                A            1   \n",
       "3                   1      5.022524                A            1   \n",
       "4                   1      5.826922                A            1   \n",
       "..                ...           ...              ...          ...   \n",
       "250                 5     13.314936                I            9   \n",
       "251                 5     17.445849                I            9   \n",
       "252                 5     19.351561                I            9   \n",
       "253                 5     17.939520                I            9   \n",
       "254                 5     19.182300                I            9   \n",
       "\n",
       "     forza.del.mare  tempesta  \n",
       "0                 7         1  \n",
       "1                 7         1  \n",
       "2                 5         1  \n",
       "3                 5         1  \n",
       "4                 5         1  \n",
       "..              ...       ...  \n",
       "250               5         1  \n",
       "251               3         0  \n",
       "252               1         0  \n",
       "253               1         0  \n",
       "254               1         0  \n",
       "\n",
       "[255 rows x 6 columns]"
      ]
     },
     "execution_count": 6,
     "metadata": {},
     "output_type": "execute_result"
    }
   ],
   "source": [
    "df = pd.read_csv('pesca.csv',sep=',',decimal='.')\n",
    "df"
   ]
  },
  {
   "cell_type": "code",
   "execution_count": 9,
   "id": "4d1e3831-7c9c-46ce-968f-bdf49eaf940b",
   "metadata": {},
   "outputs": [
    {
     "data": {
      "text/plain": [
       "array([1, 2, 3, 4, 5], dtype=int64)"
      ]
     },
     "execution_count": 9,
     "metadata": {},
     "output_type": "execute_result"
    }
   ],
   "source": [
    "df['giorno.settimana'].unique()"
   ]
  },
  {
   "cell_type": "code",
   "execution_count": 10,
   "id": "daced301-7e72-4521-87ba-e8345fd1b3d0",
   "metadata": {},
   "outputs": [
    {
     "data": {
      "text/plain": [
       "255"
      ]
     },
     "execution_count": 10,
     "metadata": {},
     "output_type": "execute_result"
    }
   ],
   "source": [
    "len(df)"
   ]
  },
  {
   "cell_type": "code",
   "execution_count": 14,
   "id": "1616b1ef-b3c1-477a-b2ea-a3a30c91f68c",
   "metadata": {},
   "outputs": [],
   "source": [
    "tempesta=df['tempesta'].value_counts()"
   ]
  },
  {
   "cell_type": "markdown",
   "id": "2815633f-1bec-449d-8c20-0c4b6fd39312",
   "metadata": {},
   "source": [
    "Assoluta = 94\n",
    "Relativa = 94/(161+94)"
   ]
  },
  {
   "cell_type": "code",
   "execution_count": 16,
   "id": "c5f16800-08d1-4e21-bc20-d2e713f28d13",
   "metadata": {},
   "outputs": [
    {
     "data": {
      "image/png": "[encoded data removed]",
      "text/plain": [
       "<Figure size 640x480 with 1 Axes>"
      ]
     },
     "metadata": {},
     "output_type": "display_data"
    }
   ],
   "source": [
    "tempesta.plot.bar()\n",
    "plt.ylabel(\"Frequenza Assoluta\")\n",
    "plt.show()"
   ]
  },
  {
   "cell_type": "code",
   "execution_count": 18,
   "id": "0b3f5304-9aa2-4f9c-a7a1-c6ab51f21295",
   "metadata": {},
   "outputs": [
    {
     "data": {
      "text/plain": [
       "9"
      ]
     },
     "execution_count": 18,
     "metadata": {},
     "output_type": "execute_result"
    }
   ],
   "source": [
    "len(df['settore.di.pesca'].unique())"
   ]
  },
  {
   "cell_type": "code",
   "execution_count": 21,
   "id": "26f7eb70-e132-443f-85ec-db7083d9d01c",
   "metadata": {},
   "outputs": [
    {
     "data": {
      "text/plain": [
       "settore.di.pesca\n",
       "B    0.203922\n",
       "E    0.156863\n",
       "I    0.156863\n",
       "A    0.145098\n",
       "C    0.129412\n",
       "G    0.121569\n",
       "H    0.035294\n",
       "F    0.031373\n",
       "D    0.019608\n",
       "Name: proportion, dtype: float64"
      ]
     },
     "execution_count": 21,
     "metadata": {},
     "output_type": "execute_result"
    }
   ],
   "source": [
    "df['settore.di.pesca'].value_counts(normalize=True)"
   ]
  },
  {
   "cell_type": "code",
   "execution_count": 20,
   "id": "965bcc2e-eb2d-4469-9b8e-75c3f3d42d4b",
   "metadata": {},
   "outputs": [
    {
     "data": {
      "text/html": [
       "<div>\n",
       "<style scoped>\n",
       "    .dataframe tbody tr th:only-of-type {\n",
       "        vertical-align: middle;\n",
       "    }\n",
       "\n",
       "    .dataframe tbody tr th {\n",
       "        vertical-align: top;\n",
       "    }\n",
       "\n",
       "    .dataframe thead th {\n",
       "        text-align: right;\n",
       "    }\n",
       "</style>\n",
       "<table border=\"1\" class=\"dataframe\">\n",
       "  <thead>\n",
       "    <tr style=\"text-align: right;\">\n",
       "      <th>tempesta</th>\n",
       "      <th>0</th>\n",
       "      <th>1</th>\n",
       "    </tr>\n",
       "    <tr>\n",
       "      <th>settore.di.pesca</th>\n",
       "      <th></th>\n",
       "      <th></th>\n",
       "    </tr>\n",
       "  </thead>\n",
       "  <tbody>\n",
       "    <tr>\n",
       "      <th>A</th>\n",
       "      <td>24</td>\n",
       "      <td>13</td>\n",
       "    </tr>\n",
       "    <tr>\n",
       "      <th>B</th>\n",
       "      <td>28</td>\n",
       "      <td>24</td>\n",
       "    </tr>\n",
       "    <tr>\n",
       "      <th>C</th>\n",
       "      <td>19</td>\n",
       "      <td>14</td>\n",
       "    </tr>\n",
       "    <tr>\n",
       "      <th>D</th>\n",
       "      <td>3</td>\n",
       "      <td>2</td>\n",
       "    </tr>\n",
       "    <tr>\n",
       "      <th>E</th>\n",
       "      <td>24</td>\n",
       "      <td>16</td>\n",
       "    </tr>\n",
       "    <tr>\n",
       "      <th>F</th>\n",
       "      <td>5</td>\n",
       "      <td>3</td>\n",
       "    </tr>\n",
       "    <tr>\n",
       "      <th>G</th>\n",
       "      <td>20</td>\n",
       "      <td>11</td>\n",
       "    </tr>\n",
       "    <tr>\n",
       "      <th>H</th>\n",
       "      <td>8</td>\n",
       "      <td>1</td>\n",
       "    </tr>\n",
       "    <tr>\n",
       "      <th>I</th>\n",
       "      <td>30</td>\n",
       "      <td>10</td>\n",
       "    </tr>\n",
       "  </tbody>\n",
       "</table>\n",
       "</div>"
      ],
      "text/plain": [
       "tempesta           0   1\n",
       "settore.di.pesca        \n",
       "A                 24  13\n",
       "B                 28  24\n",
       "C                 19  14\n",
       "D                  3   2\n",
       "E                 24  16\n",
       "F                  5   3\n",
       "G                 20  11\n",
       "H                  8   1\n",
       "I                 30  10"
      ]
     },
     "execution_count": 20,
     "metadata": {},
     "output_type": "execute_result"
    }
   ],
   "source": [
    "cong=pd.crosstab(index=df['settore.di.pesca'],columns=df['tempesta'])\n",
    "cong"
   ]
  },
  {
   "cell_type": "markdown",
   "id": "def18224-924d-45a9-8d18-272ab84bc60e",
   "metadata": {},
   "source": [
    "Giorni con tempesta: 13 Giorni senza: 24"
   ]
  },
  {
   "cell_type": "code",
   "execution_count": 36,
   "id": "569fe8ef-44d2-4be0-a098-083e47216595",
   "metadata": {},
   "outputs": [
    {
     "data": {
      "text/plain": [
       "0.3686274509803922"
      ]
     },
     "execution_count": 36,
     "metadata": {},
     "output_type": "execute_result"
    }
   ],
   "source": [
    "prob_tempesta=94/(161+94)\n",
    "prob_tempesta"
   ]
  },
  {
   "cell_type": "markdown",
   "id": "fb4c2fe0-ff00-464d-b86c-754fc73db09d",
   "metadata": {},
   "source": [
    "### PUNTO 10"
   ]
  },
  {
   "cell_type": "code",
   "execution_count": 24,
   "id": "18f3f23f-cf34-47d8-ba0e-18bc15a8973b",
   "metadata": {},
   "outputs": [
    {
     "data": {
      "text/plain": [
       "255"
      ]
     },
     "execution_count": 24,
     "metadata": {},
     "output_type": "execute_result"
    }
   ],
   "source": [
    "len(df['tempesta'])"
   ]
  },
  {
   "cell_type": "markdown",
   "id": "67b5d60c-7a8c-4fba-9bdc-c55827796cb4",
   "metadata": {},
   "source": [
    "### PUNTO 11"
   ]
  },
  {
   "cell_type": "code",
   "execution_count": 39,
   "id": "3a41e23b-9eb8-47b8-93e5-68331664f96d",
   "metadata": {},
   "outputs": [
    {
     "data": {
      "text/plain": [
       "0.35135135135135137"
      ]
     },
     "execution_count": 39,
     "metadata": {},
     "output_type": "execute_result"
    }
   ],
   "source": [
    "settore_a=df[df[\"settore.di.pesca\"]==\"A\"]\n",
    "prob_tempesta_A=settore_a['tempesta'].mean()\n",
    "prob_tempesta_A"
   ]
  },
  {
   "cell_type": "markdown",
   "id": "1684b480-d89d-404e-8709-3dd5fba39d7e",
   "metadata": {},
   "source": [
    "### PUNTO 12"
   ]
  },
  {
   "cell_type": "code",
   "execution_count": 41,
   "id": "52b4b335-1161-4eb7-a975-81bd00806416",
   "metadata": {},
   "outputs": [
    {
     "data": {
      "text/plain": [
       "0.9531339850488787"
      ]
     },
     "execution_count": 41,
     "metadata": {},
     "output_type": "execute_result"
    }
   ],
   "source": [
    "prob_tempesta_A/prob_tempesta"
   ]
  },
  {
   "cell_type": "markdown",
   "id": "919d25b7-5ecb-4375-8095-f6e17673ffc7",
   "metadata": {},
   "source": [
    "### PUNTO 13"
   ]
  },
  {
   "cell_type": "code",
   "execution_count": 45,
   "id": "20a212cf-6ee1-431a-b47b-d3f1dbe37f7e",
   "metadata": {},
   "outputs": [
    {
     "data": {
      "text/plain": [
       "37"
      ]
     },
     "execution_count": 45,
     "metadata": {},
     "output_type": "execute_result"
    }
   ],
   "source": [
    "len(settore_a)"
   ]
  },
  {
   "cell_type": "code",
   "execution_count": 50,
   "id": "0af37720-8fa3-4958-b08f-916b1d0a37a7",
   "metadata": {},
   "outputs": [
    {
     "data": {
      "text/plain": [
       "0.36693450206963707"
      ]
     },
     "execution_count": 50,
     "metadata": {},
     "output_type": "execute_result"
    }
   ],
   "source": [
    "var=settore_a['tempesta'].var()\n",
    "1-var/(37*(0.1)**2)"
   ]
  },
  {
   "cell_type": "markdown",
   "id": "faf11dfe-b9a5-41ee-8481-a58ee573e7bd",
   "metadata": {},
   "source": [
    "# Esercizio 3"
   ]
  },
  {
   "cell_type": "code",
   "execution_count": 53,
   "id": "adbd7985-e37b-4282-b8b5-3518e8e0c631",
   "metadata": {},
   "outputs": [
    {
     "data": {
      "text/plain": [
       "0       5.168068\n",
       "1       4.074747\n",
       "2       7.358404\n",
       "3       5.022524\n",
       "4       5.826922\n",
       "         ...    \n",
       "250    13.314936\n",
       "251    17.445849\n",
       "252    19.351561\n",
       "253    17.939520\n",
       "254    19.182300\n",
       "Name: peso.pescato, Length: 255, dtype: float64"
      ]
     },
     "execution_count": 53,
     "metadata": {},
     "output_type": "execute_result"
    }
   ],
   "source": [
    "peso_pescato=df['peso.pescato']\n",
    "peso_pescato"
   ]
  },
  {
   "cell_type": "markdown",
   "id": "ae1b6b4c-3b8c-4d00-9e3c-7268e8a9ffec",
   "metadata": {},
   "source": [
    "il carattere pescato è continuo"
   ]
  },
  {
   "cell_type": "code",
   "execution_count": 57,
   "id": "294f138d-2c0b-4526-8785-098e5b74b1d1",
   "metadata": {},
   "outputs": [
    {
     "data": {
      "image/png": "[encoded data removed]",
      "text/plain": [
       "<Figure size 640x480 with 1 Axes>"
      ]
     },
     "metadata": {},
     "output_type": "display_data"
    }
   ],
   "source": [
    "peso_pescato.plot.hist(bins=20)\n",
    "plt.show()"
   ]
  },
  {
   "cell_type": "code",
   "execution_count": 70,
   "id": "a1fae619-1355-4b78-a90b-fb6a15a51477",
   "metadata": {},
   "outputs": [
    {
     "data": {
      "text/plain": [
       "0.3764705882352941"
      ]
     },
     "execution_count": 70,
     "metadata": {},
     "output_type": "execute_result"
    }
   ],
   "source": [
    "peso_range=df[df['peso.pescato']>10]\n",
    "peso_range=peso_range[peso_range['peso.pescato']<15]\n",
    "len(peso_range)/len(df)"
   ]
  },
  {
   "cell_type": "code",
   "execution_count": 73,
   "id": "7264e1b4-25e4-4c0d-aba8-a45ea39f0ee8",
   "metadata": {},
   "outputs": [
    {
     "name": "stdout",
     "output_type": "stream",
     "text": [
      "10.788632531936\n",
      "16.090244498150057\n"
     ]
    }
   ],
   "source": [
    "mu=peso_pescato.mean()\n",
    "var=peso_pescato.var()\n",
    "print(mu)\n",
    "print(var)"
   ]
  },
  {
   "cell_type": "code",
   "execution_count": 78,
   "id": "2bfebe81-c412-4c21-9252-aa9755c50b83",
   "metadata": {},
   "outputs": [
    {
     "data": {
      "text/plain": [
       "0.4310460131061045"
      ]
     },
     "execution_count": 78,
     "metadata": {},
     "output_type": "execute_result"
    }
   ],
   "source": [
    "dist=st.norm(loc=mu,scale=math.sqrt(var))\n",
    "dist.cdf(15)-dist.cdf(10)"
   ]
  },
  {
   "cell_type": "markdown",
   "id": "cd49fb85-9a85-4686-a444-02c7b29405f4",
   "metadata": {},
   "source": [
    "Possiamo osservare che i due valori sono abbastanza vicini e variano di 0.06 e quindi tra i due vi è una discrepanza di 6%"
   ]
  },
  {
   "cell_type": "markdown",
   "id": "7063c903-bc1e-4b73-8370-72da2e0a5f1e",
   "metadata": {},
   "source": [
    "Tra forza del mare e tempesta vi è una notevole correlazione. Tra peso pescato e settore anche ma inferiore."
   ]
  },
  {
   "cell_type": "code",
   "execution_count": 81,
   "id": "86050e29-4edd-4d94-88fe-36392f791dd6",
   "metadata": {},
   "outputs": [
    {
     "data": {
      "image/png": "[encoded data removed]",
      "text/plain": [
       "<Figure size 640x480 with 1 Axes>"
      ]
     },
     "metadata": {},
     "output_type": "display_data"
    }
   ],
   "source": [
    "forza_del_mare=df['forza.del.mare']\n",
    "x=np.arange(0,10,1)\n",
    "tempesta=df['tempesta']\n",
    "plt.scatter(forza_del_mare,tempesta)\n",
    "plt.xticks(x)\n",
    "plt.show()"
   ]
  },
  {
   "cell_type": "markdown",
   "id": "5c1d1e4a-3185-4335-ad70-adabf41d0afd",
   "metadata": {},
   "source": [
    "la relazione che si deduce è che per una forza del mare bassa (tra 0 e 4) non ho una tempesta, per una forza del mare tra 5 e 9 invece si"
   ]
  },
  {
   "cell_type": "code",
   "execution_count": 83,
   "id": "cc032caa-d6c3-4f12-8172-5577d7223178",
   "metadata": {},
   "outputs": [
    {
     "data": {
      "text/plain": [
       "0.8412359096077463"
      ]
     },
     "execution_count": 83,
     "metadata": {},
     "output_type": "execute_result"
    }
   ],
   "source": [
    "forza_del_mare.corr(tempesta)"
   ]
  },
  {
   "cell_type": "code",
   "execution_count": 89,
   "id": "5871c7dd-d544-4211-b798-12c73c80f0c8",
   "metadata": {},
   "outputs": [
    {
     "data": {
      "text/plain": [
       "0       5.168068\n",
       "1       4.074747\n",
       "2       7.358404\n",
       "3       5.022524\n",
       "4       5.826922\n",
       "         ...    \n",
       "250    13.314936\n",
       "251    17.445849\n",
       "252    19.351561\n",
       "253    17.939520\n",
       "254    19.182300\n",
       "Name: peso.pescato, Length: 250, dtype: float64"
      ]
     },
     "execution_count": 89,
     "metadata": {},
     "output_type": "execute_result"
    }
   ],
   "source": [
    "dati_senza_NA=df['peso.pescato'].dropna()\n",
    "dati_senza_NA"
   ]
  },
  {
   "cell_type": "code",
   "execution_count": 91,
   "id": "b9cd7a0c-0d77-4b19-a7a1-79a43a8b2c17",
   "metadata": {},
   "outputs": [
    {
     "data": {
      "text/plain": [
       "0.3718047388035412"
      ]
     },
     "execution_count": 91,
     "metadata": {},
     "output_type": "execute_result"
    }
   ],
   "source": [
    "sigma=dati_senza_NA.std()\n",
    "mean=dati_senza_NA.mean()\n",
    "sigma/mean"
   ]
  }
 ],
 "metadata": {
  "kernelspec": {
   "display_name": "Python 3 (ipykernel)",
   "language": "python",
   "name": "python3"
  },
  "language_info": {
   "codemirror_mode": {
    "name": "ipython",
    "version": 3
   },
   "file_extension": ".py",
   "mimetype": "text/x-python",
   "name": "python",
   "nbconvert_exporter": "python",
   "pygments_lexer": "ipython3",
   "version": "3.11.4"
  }
 },
 "nbformat": 4,
 "nbformat_minor": 5
}
