{
 "cells": [
  {
   "cell_type": "code",
   "execution_count": 1,
   "id": "9a753452-ad78-4264-b7bc-5fa4240fd927",
   "metadata": {},
   "outputs": [
    {
     "data": {
      "text/html": [
       "<div>\n",
       "<style scoped>\n",
       "    .dataframe tbody tr th:only-of-type {\n",
       "        vertical-align: middle;\n",
       "    }\n",
       "\n",
       "    .dataframe tbody tr th {\n",
       "        vertical-align: top;\n",
       "    }\n",
       "\n",
       "    .dataframe thead th {\n",
       "        text-align: right;\n",
       "    }\n",
       "</style>\n",
       "<table border=\"1\" class=\"dataframe\">\n",
       "  <thead>\n",
       "    <tr style=\"text-align: right;\">\n",
       "      <th></th>\n",
       "      <th>Protocollo</th>\n",
       "      <th>Anno</th>\n",
       "      <th>Data</th>\n",
       "      <th>Ora</th>\n",
       "      <th>Localita</th>\n",
       "      <th>NaturaIncidente</th>\n",
       "      <th>N_Illesi</th>\n",
       "      <th>N_Feriti</th>\n",
       "      <th>N_Riservata</th>\n",
       "      <th>N_Morti</th>\n",
       "      <th>Pedoni</th>\n",
       "      <th>Velocipedi</th>\n",
       "      <th>Ciclomotori_Motocicli</th>\n",
       "      <th>Mezzi_Pesanti</th>\n",
       "      <th>Localizzazione</th>\n",
       "    </tr>\n",
       "  </thead>\n",
       "  <tbody>\n",
       "    <tr>\n",
       "      <th>0</th>\n",
       "      <td>2015/001778</td>\n",
       "      <td>2015</td>\n",
       "      <td>31/12/2015</td>\n",
       "      <td>09:45</td>\n",
       "      <td>BERGAMO VIA BORGO SANTA CATERINA in corrispond...</td>\n",
       "      <td>Scontro frontale/laterale DX fra veicoli in ma...</td>\n",
       "      <td>1</td>\n",
       "      <td>1</td>\n",
       "      <td>0</td>\n",
       "      <td>0</td>\n",
       "      <td>False</td>\n",
       "      <td>True</td>\n",
       "      <td>False</td>\n",
       "      <td>False</td>\n",
       "      <td>(45.705351, 9.685985)</td>\n",
       "    </tr>\n",
       "    <tr>\n",
       "      <th>1</th>\n",
       "      <td>2015/001775</td>\n",
       "      <td>2015</td>\n",
       "      <td>30/12/2015</td>\n",
       "      <td>22:20</td>\n",
       "      <td>BERGAMO VIA BORGO PALAZZO all'intersezione con...</td>\n",
       "      <td>Scontro frontale/laterale DX fra veicoli in ma...</td>\n",
       "      <td>3</td>\n",
       "      <td>0</td>\n",
       "      <td>0</td>\n",
       "      <td>0</td>\n",
       "      <td>False</td>\n",
       "      <td>False</td>\n",
       "      <td>True</td>\n",
       "      <td>False</td>\n",
       "      <td>(45.691092, 9.701064)</td>\n",
       "    </tr>\n",
       "    <tr>\n",
       "      <th>2</th>\n",
       "      <td>2015/001776</td>\n",
       "      <td>2015</td>\n",
       "      <td>30/12/2015</td>\n",
       "      <td>10:25</td>\n",
       "      <td>BERGAMO VIALE GIULIO CESARE in corrispondenza ...</td>\n",
       "      <td>Veicolo in marcia contro veicolo in sosta</td>\n",
       "      <td>1</td>\n",
       "      <td>0</td>\n",
       "      <td>0</td>\n",
       "      <td>0</td>\n",
       "      <td>False</td>\n",
       "      <td>False</td>\n",
       "      <td>True</td>\n",
       "      <td>False</td>\n",
       "      <td>(45.704740, 9.678039)</td>\n",
       "    </tr>\n",
       "    <tr>\n",
       "      <th>3</th>\n",
       "      <td>2015/001777</td>\n",
       "      <td>2015</td>\n",
       "      <td>30/12/2015</td>\n",
       "      <td>16:30</td>\n",
       "      <td>BERGAMO CIRCONV. MUGAZZONE curva sinistrorsa</td>\n",
       "      <td>Scontro laterale fra veicoli in marcia</td>\n",
       "      <td>5</td>\n",
       "      <td>0</td>\n",
       "      <td>0</td>\n",
       "      <td>0</td>\n",
       "      <td>False</td>\n",
       "      <td>False</td>\n",
       "      <td>False</td>\n",
       "      <td>False</td>\n",
       "      <td>(45.686879, 9.686566)</td>\n",
       "    </tr>\n",
       "    <tr>\n",
       "      <th>4</th>\n",
       "      <td>2015/001771</td>\n",
       "      <td>2015</td>\n",
       "      <td>30/12/2015</td>\n",
       "      <td>10:30</td>\n",
       "      <td>BERGAMO VIA SALVO D'ACQUISTO accesso area Agip</td>\n",
       "      <td>Tamponamento</td>\n",
       "      <td>1</td>\n",
       "      <td>1</td>\n",
       "      <td>0</td>\n",
       "      <td>0</td>\n",
       "      <td>False</td>\n",
       "      <td>False</td>\n",
       "      <td>False</td>\n",
       "      <td>False</td>\n",
       "      <td>(45.690489, 9.647538)</td>\n",
       "    </tr>\n",
       "    <tr>\n",
       "      <th>...</th>\n",
       "      <td>...</td>\n",
       "      <td>...</td>\n",
       "      <td>...</td>\n",
       "      <td>...</td>\n",
       "      <td>...</td>\n",
       "      <td>...</td>\n",
       "      <td>...</td>\n",
       "      <td>...</td>\n",
       "      <td>...</td>\n",
       "      <td>...</td>\n",
       "      <td>...</td>\n",
       "      <td>...</td>\n",
       "      <td>...</td>\n",
       "      <td>...</td>\n",
       "      <td>...</td>\n",
       "    </tr>\n",
       "    <tr>\n",
       "      <th>28035</th>\n",
       "      <td>2002/000005</td>\n",
       "      <td>2002</td>\n",
       "      <td>02/01/2002</td>\n",
       "      <td>17:15</td>\n",
       "      <td>BERGAMO VIA BORGO PALAZZO INGRESSO PIAZZALE ME...</td>\n",
       "      <td>Scontro laterale fra veicoli in marcia</td>\n",
       "      <td>1</td>\n",
       "      <td>1</td>\n",
       "      <td>0</td>\n",
       "      <td>0</td>\n",
       "      <td>False</td>\n",
       "      <td>False</td>\n",
       "      <td>True</td>\n",
       "      <td>False</td>\n",
       "      <td>(45.689149, 9.707887)</td>\n",
       "    </tr>\n",
       "    <tr>\n",
       "      <th>28036</th>\n",
       "      <td>2002/000001</td>\n",
       "      <td>2002</td>\n",
       "      <td>01/01/2002</td>\n",
       "      <td>14:30</td>\n",
       "      <td>BERGAMO ROTONDA DEI MILLE all'intersezione con...</td>\n",
       "      <td>Scontro laterale fra veicoli in marcia</td>\n",
       "      <td>3</td>\n",
       "      <td>0</td>\n",
       "      <td>0</td>\n",
       "      <td>0</td>\n",
       "      <td>False</td>\n",
       "      <td>False</td>\n",
       "      <td>False</td>\n",
       "      <td>False</td>\n",
       "      <td>(45.695564, 9.667067)</td>\n",
       "    </tr>\n",
       "    <tr>\n",
       "      <th>28037</th>\n",
       "      <td>2002/000002</td>\n",
       "      <td>2002</td>\n",
       "      <td>01/01/2002</td>\n",
       "      <td>15:15</td>\n",
       "      <td>BERGAMO VIA LOCATELLI in corrispondenza del ci...</td>\n",
       "      <td>Veicolo in marcia contro veicolo in sosta</td>\n",
       "      <td>1</td>\n",
       "      <td>0</td>\n",
       "      <td>0</td>\n",
       "      <td>0</td>\n",
       "      <td>False</td>\n",
       "      <td>False</td>\n",
       "      <td>False</td>\n",
       "      <td>False</td>\n",
       "      <td>(45.700979, 9.665733)</td>\n",
       "    </tr>\n",
       "    <tr>\n",
       "      <th>28038</th>\n",
       "      <td>2002/000036</td>\n",
       "      <td>2002</td>\n",
       "      <td>01/01/2002</td>\n",
       "      <td>11:55</td>\n",
       "      <td>BERGAMO LARGO PORTA NUOVA all'intersezione sem...</td>\n",
       "      <td>Scontro frontale/laterale DX fra veicoli in ma...</td>\n",
       "      <td>2</td>\n",
       "      <td>0</td>\n",
       "      <td>0</td>\n",
       "      <td>0</td>\n",
       "      <td>False</td>\n",
       "      <td>False</td>\n",
       "      <td>False</td>\n",
       "      <td>False</td>\n",
       "      <td>(45.694365, 9.671010)</td>\n",
       "    </tr>\n",
       "    <tr>\n",
       "      <th>28039</th>\n",
       "      <td>2002/000158</td>\n",
       "      <td>2002</td>\n",
       "      <td>01/01/2002</td>\n",
       "      <td>01:00</td>\n",
       "      <td>BERGAMO PIAZZALE RISORGIMENTO prossimità via B...</td>\n",
       "      <td>Scontro frontale/laterale DX fra veicoli in ma...</td>\n",
       "      <td>2</td>\n",
       "      <td>0</td>\n",
       "      <td>0</td>\n",
       "      <td>0</td>\n",
       "      <td>False</td>\n",
       "      <td>False</td>\n",
       "      <td>False</td>\n",
       "      <td>False</td>\n",
       "      <td>(45.694555, 9.647171)</td>\n",
       "    </tr>\n",
       "  </tbody>\n",
       "</table>\n",
       "<p>28040 rows × 15 columns</p>\n",
       "</div>"
      ],
      "text/plain": [
       "        Protocollo  Anno        Data    Ora  \\\n",
       "0      2015/001778  2015  31/12/2015  09:45   \n",
       "1      2015/001775  2015  30/12/2015  22:20   \n",
       "2      2015/001776  2015  30/12/2015  10:25   \n",
       "3      2015/001777  2015  30/12/2015  16:30   \n",
       "4      2015/001771  2015  30/12/2015  10:30   \n",
       "...            ...   ...         ...    ...   \n",
       "28035  2002/000005  2002  02/01/2002  17:15   \n",
       "28036  2002/000001  2002  01/01/2002  14:30   \n",
       "28037  2002/000002  2002  01/01/2002  15:15   \n",
       "28038  2002/000036  2002  01/01/2002  11:55   \n",
       "28039  2002/000158  2002  01/01/2002  01:00   \n",
       "\n",
       "                                                Localita  \\\n",
       "0      BERGAMO VIA BORGO SANTA CATERINA in corrispond...   \n",
       "1      BERGAMO VIA BORGO PALAZZO all'intersezione con...   \n",
       "2      BERGAMO VIALE GIULIO CESARE in corrispondenza ...   \n",
       "3           BERGAMO CIRCONV. MUGAZZONE curva sinistrorsa   \n",
       "4         BERGAMO VIA SALVO D'ACQUISTO accesso area Agip   \n",
       "...                                                  ...   \n",
       "28035  BERGAMO VIA BORGO PALAZZO INGRESSO PIAZZALE ME...   \n",
       "28036  BERGAMO ROTONDA DEI MILLE all'intersezione con...   \n",
       "28037  BERGAMO VIA LOCATELLI in corrispondenza del ci...   \n",
       "28038  BERGAMO LARGO PORTA NUOVA all'intersezione sem...   \n",
       "28039  BERGAMO PIAZZALE RISORGIMENTO prossimità via B...   \n",
       "\n",
       "                                         NaturaIncidente  N_Illesi  N_Feriti  \\\n",
       "0      Scontro frontale/laterale DX fra veicoli in ma...         1         1   \n",
       "1      Scontro frontale/laterale DX fra veicoli in ma...         3         0   \n",
       "2              Veicolo in marcia contro veicolo in sosta         1         0   \n",
       "3                 Scontro laterale fra veicoli in marcia         5         0   \n",
       "4                                           Tamponamento         1         1   \n",
       "...                                                  ...       ...       ...   \n",
       "28035             Scontro laterale fra veicoli in marcia         1         1   \n",
       "28036             Scontro laterale fra veicoli in marcia         3         0   \n",
       "28037          Veicolo in marcia contro veicolo in sosta         1         0   \n",
       "28038  Scontro frontale/laterale DX fra veicoli in ma...         2         0   \n",
       "28039  Scontro frontale/laterale DX fra veicoli in ma...         2         0   \n",
       "\n",
       "       N_Riservata  N_Morti  Pedoni  Velocipedi  Ciclomotori_Motocicli  \\\n",
       "0                0        0   False        True                  False   \n",
       "1                0        0   False       False                   True   \n",
       "2                0        0   False       False                   True   \n",
       "3                0        0   False       False                  False   \n",
       "4                0        0   False       False                  False   \n",
       "...            ...      ...     ...         ...                    ...   \n",
       "28035            0        0   False       False                   True   \n",
       "28036            0        0   False       False                  False   \n",
       "28037            0        0   False       False                  False   \n",
       "28038            0        0   False       False                  False   \n",
       "28039            0        0   False       False                  False   \n",
       "\n",
       "       Mezzi_Pesanti         Localizzazione  \n",
       "0              False  (45.705351, 9.685985)  \n",
       "1              False  (45.691092, 9.701064)  \n",
       "2              False  (45.704740, 9.678039)  \n",
       "3              False  (45.686879, 9.686566)  \n",
       "4              False  (45.690489, 9.647538)  \n",
       "...              ...                    ...  \n",
       "28035          False  (45.689149, 9.707887)  \n",
       "28036          False  (45.695564, 9.667067)  \n",
       "28037          False  (45.700979, 9.665733)  \n",
       "28038          False  (45.694365, 9.671010)  \n",
       "28039          False  (45.694555, 9.647171)  \n",
       "\n",
       "[28040 rows x 15 columns]"
      ]
     },
     "execution_count": 1,
     "metadata": {},
     "output_type": "execute_result"
    }
   ],
   "source": [
    "import pandas as pd\n",
    "import numpy as np\n",
    "import matplotlib.pyplot as plt\n",
    "import scipy.stats as sp\n",
    "df = pd.read_csv('incidenti.csv',sep=',')\n",
    "df.columns\n",
    "df"
   ]
  },
  {
   "cell_type": "markdown",
   "id": "bf9306ef-6323-40b2-9fda-0bbb51ef7412",
   "metadata": {},
   "source": [
    "## 1.1"
   ]
  },
  {
   "cell_type": "code",
   "execution_count": 2,
   "id": "cb9b8c90-98f8-40a7-8d90-ebe6a511949b",
   "metadata": {},
   "outputs": [
    {
     "data": {
      "text/plain": [
       "28040"
      ]
     },
     "execution_count": 2,
     "metadata": {},
     "output_type": "execute_result"
    }
   ],
   "source": [
    "#lunghezza dataset\n",
    "len(df.index)"
   ]
  },
  {
   "cell_type": "markdown",
   "id": "9193a70b-d957-48b6-9778-b3b43e5ff952",
   "metadata": {},
   "source": [
    "## 1.3"
   ]
  },
  {
   "cell_type": "code",
   "execution_count": 3,
   "id": "dea39207-ed81-4e50-b111-d002e6e0ebe9",
   "metadata": {},
   "outputs": [
    {
     "data": {
      "image/png": "[encoded data removed]",
      "text/plain": [
       "<Figure size 640x480 with 1 Axes>"
      ]
     },
     "metadata": {},
     "output_type": "display_data"
    }
   ],
   "source": [
    "# Contare i valori della colonna 'Anno' e ordinare l'indice\n",
    "anno_counts = df['Anno'].value_counts().sort_index()\n",
    "# Creare il grafico a barre con gli anni ordinati\n",
    "ax = anno_counts.plot.bar()\n",
    "# Impostare gli step dell'asse y a intervalli di 500\n",
    "y_max = anno_counts.max()  # trovare il valore massimo dell'asse y\n",
    "plt.yticks(range(0, y_max + 130, 130))\n",
    "# Mostrare il grafico\n",
    "plt.show()"
   ]
  },
  {
   "cell_type": "code",
   "execution_count": 4,
   "id": "4dbc31c7-2a5d-4ca7-905b-3740d62eea2b",
   "metadata": {},
   "outputs": [
    {
     "data": {
      "text/html": [
       "<div>\n",
       "<style scoped>\n",
       "    .dataframe tbody tr th:only-of-type {\n",
       "        vertical-align: middle;\n",
       "    }\n",
       "\n",
       "    .dataframe tbody tr th {\n",
       "        vertical-align: top;\n",
       "    }\n",
       "\n",
       "    .dataframe thead th {\n",
       "        text-align: right;\n",
       "    }\n",
       "</style>\n",
       "<table border=\"1\" class=\"dataframe\">\n",
       "  <thead>\n",
       "    <tr style=\"text-align: right;\">\n",
       "      <th>asd</th>\n",
       "      <th>FA</th>\n",
       "    </tr>\n",
       "  </thead>\n",
       "  <tbody>\n",
       "    <tr>\n",
       "      <th>count</th>\n",
       "      <td>14.000000</td>\n",
       "    </tr>\n",
       "    <tr>\n",
       "      <th>mean</th>\n",
       "      <td>2002.857143</td>\n",
       "    </tr>\n",
       "    <tr>\n",
       "      <th>std</th>\n",
       "      <td>183.750607</td>\n",
       "    </tr>\n",
       "    <tr>\n",
       "      <th>min</th>\n",
       "      <td>1738.000000</td>\n",
       "    </tr>\n",
       "    <tr>\n",
       "      <th>25%</th>\n",
       "      <td>1846.250000</td>\n",
       "    </tr>\n",
       "    <tr>\n",
       "      <th>50%</th>\n",
       "      <td>2036.000000</td>\n",
       "    </tr>\n",
       "    <tr>\n",
       "      <th>75%</th>\n",
       "      <td>2170.000000</td>\n",
       "    </tr>\n",
       "    <tr>\n",
       "      <th>max</th>\n",
       "      <td>2251.000000</td>\n",
       "    </tr>\n",
       "  </tbody>\n",
       "</table>\n",
       "</div>"
      ],
      "text/plain": [
       "asd             FA\n",
       "count    14.000000\n",
       "mean   2002.857143\n",
       "std     183.750607\n",
       "min    1738.000000\n",
       "25%    1846.250000\n",
       "50%    2036.000000\n",
       "75%    2170.000000\n",
       "max    2251.000000"
      ]
     },
     "execution_count": 4,
     "metadata": {},
     "output_type": "execute_result"
    }
   ],
   "source": [
    "# Frequenza assoluta degli anni --> incidenti per anno\n",
    "\n",
    "ipa = pd.crosstab(index=df['Anno'],columns=['FA'],colnames=['asd'])\n",
    "ipa.describe()"
   ]
  },
  {
   "cell_type": "markdown",
   "id": "1bff81c4-e125-4eac-802a-ae430f924f56",
   "metadata": {},
   "source": [
    "Come mostrato dalla crosstab, abbiamo un numero max di incidenti pari a 2251 ed un minimo di 1738 incidenti. La media di incidenti annuali è di 2002 e la deviazione standard è pari a 183.750"
   ]
  },
  {
   "cell_type": "markdown",
   "id": "72ab9e53-4322-4bf0-8505-6ae3d7ee1b8c",
   "metadata": {},
   "source": [
    "## 1.4"
   ]
  },
  {
   "cell_type": "code",
   "execution_count": 5,
   "id": "ec65616f-50e0-4a99-9aa7-e56131a16b94",
   "metadata": {},
   "outputs": [
    {
     "data": {
      "text/html": [
       "<div>\n",
       "<style scoped>\n",
       "    .dataframe tbody tr th:only-of-type {\n",
       "        vertical-align: middle;\n",
       "    }\n",
       "\n",
       "    .dataframe tbody tr th {\n",
       "        vertical-align: top;\n",
       "    }\n",
       "\n",
       "    .dataframe thead th {\n",
       "        text-align: right;\n",
       "    }\n",
       "</style>\n",
       "<table border=\"1\" class=\"dataframe\">\n",
       "  <thead>\n",
       "    <tr style=\"text-align: right;\">\n",
       "      <th></th>\n",
       "      <th>Val Rel</th>\n",
       "    </tr>\n",
       "    <tr>\n",
       "      <th>N_Feriti</th>\n",
       "      <th></th>\n",
       "    </tr>\n",
       "  </thead>\n",
       "  <tbody>\n",
       "    <tr>\n",
       "      <th>0</th>\n",
       "      <td>0.501676</td>\n",
       "    </tr>\n",
       "    <tr>\n",
       "      <th>1</th>\n",
       "      <td>0.398930</td>\n",
       "    </tr>\n",
       "    <tr>\n",
       "      <th>2</th>\n",
       "      <td>0.074750</td>\n",
       "    </tr>\n",
       "    <tr>\n",
       "      <th>3</th>\n",
       "      <td>0.016084</td>\n",
       "    </tr>\n",
       "    <tr>\n",
       "      <th>4</th>\n",
       "      <td>0.005528</td>\n",
       "    </tr>\n",
       "    <tr>\n",
       "      <th>5</th>\n",
       "      <td>0.001961</td>\n",
       "    </tr>\n",
       "    <tr>\n",
       "      <th>6</th>\n",
       "      <td>0.000571</td>\n",
       "    </tr>\n",
       "    <tr>\n",
       "      <th>7</th>\n",
       "      <td>0.000357</td>\n",
       "    </tr>\n",
       "    <tr>\n",
       "      <th>8</th>\n",
       "      <td>0.000071</td>\n",
       "    </tr>\n",
       "    <tr>\n",
       "      <th>9</th>\n",
       "      <td>0.000036</td>\n",
       "    </tr>\n",
       "    <tr>\n",
       "      <th>10</th>\n",
       "      <td>0.000036</td>\n",
       "    </tr>\n",
       "  </tbody>\n",
       "</table>\n",
       "</div>"
      ],
      "text/plain": [
       "           Val Rel\n",
       "N_Feriti          \n",
       "0         0.501676\n",
       "1         0.398930\n",
       "2         0.074750\n",
       "3         0.016084\n",
       "4         0.005528\n",
       "5         0.001961\n",
       "6         0.000571\n",
       "7         0.000357\n",
       "8         0.000071\n",
       "9         0.000036\n",
       "10        0.000036"
      ]
     },
     "execution_count": 5,
     "metadata": {},
     "output_type": "execute_result"
    }
   ],
   "source": [
    "ctf = pd.crosstab(index=df['N_Feriti'],columns=['Val Rel'],colnames=[''],normalize=True)\n",
    "ctf"
   ]
  },
  {
   "cell_type": "markdown",
   "id": "ecf81b46-e411-41e8-906a-13fca8655c51",
   "metadata": {},
   "source": [
    "## 1.5"
   ]
  },
  {
   "cell_type": "markdown",
   "id": "a7a9a09d-53ce-40a7-b688-860b1688d5f0",
   "metadata": {},
   "source": [
    " Visualizzare tale tabella attraverso un grafico, in modo che sia facile vedere qual e (approssimativamente) la\n",
    " probabilita che, a seguito di un incidente, vi sia almeno un ferito"
   ]
  },
  {
   "cell_type": "code",
   "execution_count": 6,
   "id": "d7f8f5f8-18f9-4cf5-919a-fa2477b4ab9b",
   "metadata": {},
   "outputs": [
    {
     "data": {
      "image/png": "[encoded data removed]",
      "text/plain": [
       "<Figure size 640x480 with 1 Axes>"
      ]
     },
     "metadata": {},
     "output_type": "display_data"
    }
   ],
   "source": [
    "ctf.cumsum().plot()\n",
    "max_val_y = ctf.cumsum().max().max()\n",
    "min_val_y = ctf.cumsum().min().min()\n",
    "plt.yticks(np.arange(min_val_y, max_val_y + 0.05, 0.05))\n",
    "max_val_x=max(df['N_Feriti'])\n",
    "plt.xticks(np.arange(0,max_val_x + 1,1))\n",
    "plt.show()"
   ]
  },
  {
   "cell_type": "code",
   "execution_count": 7,
   "id": "c985a2f6-476a-4f9c-becc-2b54b050fc5c",
   "metadata": {},
   "outputs": [
    {
     "data": {
      "text/html": [
       "<div>\n",
       "<style scoped>\n",
       "    .dataframe tbody tr th:only-of-type {\n",
       "        vertical-align: middle;\n",
       "    }\n",
       "\n",
       "    .dataframe tbody tr th {\n",
       "        vertical-align: top;\n",
       "    }\n",
       "\n",
       "    .dataframe thead th {\n",
       "        text-align: right;\n",
       "    }\n",
       "</style>\n",
       "<table border=\"1\" class=\"dataframe\">\n",
       "  <thead>\n",
       "    <tr style=\"text-align: right;\">\n",
       "      <th></th>\n",
       "      <th>Val Rel</th>\n",
       "    </tr>\n",
       "    <tr>\n",
       "      <th>N_Feriti</th>\n",
       "      <th></th>\n",
       "    </tr>\n",
       "  </thead>\n",
       "  <tbody>\n",
       "    <tr>\n",
       "      <th>0</th>\n",
       "      <td>0.501676</td>\n",
       "    </tr>\n",
       "    <tr>\n",
       "      <th>1</th>\n",
       "      <td>0.900606</td>\n",
       "    </tr>\n",
       "    <tr>\n",
       "      <th>2</th>\n",
       "      <td>0.975357</td>\n",
       "    </tr>\n",
       "    <tr>\n",
       "      <th>3</th>\n",
       "      <td>0.991441</td>\n",
       "    </tr>\n",
       "    <tr>\n",
       "      <th>4</th>\n",
       "      <td>0.996969</td>\n",
       "    </tr>\n",
       "    <tr>\n",
       "      <th>5</th>\n",
       "      <td>0.998930</td>\n",
       "    </tr>\n",
       "    <tr>\n",
       "      <th>6</th>\n",
       "      <td>0.999501</td>\n",
       "    </tr>\n",
       "    <tr>\n",
       "      <th>7</th>\n",
       "      <td>0.999857</td>\n",
       "    </tr>\n",
       "    <tr>\n",
       "      <th>8</th>\n",
       "      <td>0.999929</td>\n",
       "    </tr>\n",
       "    <tr>\n",
       "      <th>9</th>\n",
       "      <td>0.999964</td>\n",
       "    </tr>\n",
       "    <tr>\n",
       "      <th>10</th>\n",
       "      <td>1.000000</td>\n",
       "    </tr>\n",
       "  </tbody>\n",
       "</table>\n",
       "</div>"
      ],
      "text/plain": [
       "           Val Rel\n",
       "N_Feriti          \n",
       "0         0.501676\n",
       "1         0.900606\n",
       "2         0.975357\n",
       "3         0.991441\n",
       "4         0.996969\n",
       "5         0.998930\n",
       "6         0.999501\n",
       "7         0.999857\n",
       "8         0.999929\n",
       "9         0.999964\n",
       "10        1.000000"
      ]
     },
     "execution_count": 7,
     "metadata": {},
     "output_type": "execute_result"
    }
   ],
   "source": [
    "ctf.cumsum()"
   ]
  },
  {
   "cell_type": "markdown",
   "id": "b5bc67aa-f864-4ce9-aea6-8a47b1512352",
   "metadata": {},
   "source": [
    "La probabilità di avere almeno un ferito in seguito ad un incidente è di circa \n",
    "1-P(0 feriti) =\n",
    "1 - (0.501676)"
   ]
  },
  {
   "cell_type": "code",
   "execution_count": 8,
   "id": "676d9fc5-f2fe-45ed-90d7-5fca6a0a4887",
   "metadata": {},
   "outputs": [
    {
     "data": {
      "text/plain": [
       "'49.8324%'"
      ]
     },
     "execution_count": 8,
     "metadata": {},
     "output_type": "execute_result"
    }
   ],
   "source": [
    "str((1-0.501676)*100)+\"%\""
   ]
  },
  {
   "cell_type": "markdown",
   "id": "7200c3f2-84ad-427a-a906-c1dbcbcbbb72",
   "metadata": {},
   "source": [
    "## 1.6"
   ]
  },
  {
   "cell_type": "code",
   "execution_count": 9,
   "id": "340f4ba9-01f1-4f8f-b40d-d30a543ea339",
   "metadata": {},
   "outputs": [
    {
     "data": {
      "text/html": [
       "<div>\n",
       "<style scoped>\n",
       "    .dataframe tbody tr th:only-of-type {\n",
       "        vertical-align: middle;\n",
       "    }\n",
       "\n",
       "    .dataframe tbody tr th {\n",
       "        vertical-align: top;\n",
       "    }\n",
       "\n",
       "    .dataframe thead th {\n",
       "        text-align: right;\n",
       "    }\n",
       "</style>\n",
       "<table border=\"1\" class=\"dataframe\">\n",
       "  <thead>\n",
       "    <tr style=\"text-align: right;\">\n",
       "      <th></th>\n",
       "      <th>Val Rel</th>\n",
       "    </tr>\n",
       "    <tr>\n",
       "      <th>N_Feriti</th>\n",
       "      <th></th>\n",
       "    </tr>\n",
       "  </thead>\n",
       "  <tbody>\n",
       "    <tr>\n",
       "      <th>0</th>\n",
       "      <td>0.501676</td>\n",
       "    </tr>\n",
       "    <tr>\n",
       "      <th>1</th>\n",
       "      <td>0.900606</td>\n",
       "    </tr>\n",
       "    <tr>\n",
       "      <th>2</th>\n",
       "      <td>0.975357</td>\n",
       "    </tr>\n",
       "    <tr>\n",
       "      <th>3</th>\n",
       "      <td>0.991441</td>\n",
       "    </tr>\n",
       "    <tr>\n",
       "      <th>4</th>\n",
       "      <td>0.996969</td>\n",
       "    </tr>\n",
       "    <tr>\n",
       "      <th>5</th>\n",
       "      <td>0.998930</td>\n",
       "    </tr>\n",
       "    <tr>\n",
       "      <th>6</th>\n",
       "      <td>0.999501</td>\n",
       "    </tr>\n",
       "    <tr>\n",
       "      <th>7</th>\n",
       "      <td>0.999857</td>\n",
       "    </tr>\n",
       "    <tr>\n",
       "      <th>8</th>\n",
       "      <td>0.999929</td>\n",
       "    </tr>\n",
       "    <tr>\n",
       "      <th>9</th>\n",
       "      <td>0.999964</td>\n",
       "    </tr>\n",
       "    <tr>\n",
       "      <th>10</th>\n",
       "      <td>1.000000</td>\n",
       "    </tr>\n",
       "  </tbody>\n",
       "</table>\n",
       "</div>"
      ],
      "text/plain": [
       "           Val Rel\n",
       "N_Feriti          \n",
       "0         0.501676\n",
       "1         0.900606\n",
       "2         0.975357\n",
       "3         0.991441\n",
       "4         0.996969\n",
       "5         0.998930\n",
       "6         0.999501\n",
       "7         0.999857\n",
       "8         0.999929\n",
       "9         0.999964\n",
       "10        1.000000"
      ]
     },
     "execution_count": 9,
     "metadata": {},
     "output_type": "execute_result"
    }
   ],
   "source": [
    "ctf.cumsum()"
   ]
  },
  {
   "cell_type": "markdown",
   "id": "7ae3568a-55e9-4adf-835f-2a86c8297fa8",
   "metadata": {},
   "source": [
    "## 1.7"
   ]
  },
  {
   "cell_type": "code",
   "execution_count": 10,
   "id": "a25f78d2-aa1d-4d21-b2ea-d7060a4ff279",
   "metadata": {},
   "outputs": [
    {
     "data": {
      "text/plain": [
       "0.6357703281027104"
      ]
     },
     "execution_count": 10,
     "metadata": {},
     "output_type": "execute_result"
    }
   ],
   "source": [
    "df['N_Feriti'].mean()"
   ]
  },
  {
   "cell_type": "markdown",
   "id": "968ee9a7-a4cd-4680-ac19-c92767d10a79",
   "metadata": {},
   "source": [
    "## 1.8 - 1.9"
   ]
  },
  {
   "cell_type": "code",
   "execution_count": 11,
   "id": "6bb6957f-9bb4-489a-ac16-9141d97359b9",
   "metadata": {},
   "outputs": [
    {
     "data": {
      "image/png": "[encoded data removed]",
      "text/plain": [
       "<Figure size 640x480 with 1 Axes>"
      ]
     },
     "metadata": {},
     "output_type": "display_data"
    }
   ],
   "source": [
    "ctf.plot.bar()\n",
    "plt.yticks(np.arange(0, ctf['Val Rel'].max() + 0.02, 0.02))\n",
    "plt.show()"
   ]
  },
  {
   "cell_type": "markdown",
   "id": "18fe6506-1a02-4a4f-84e5-df4b95a2f544",
   "metadata": {},
   "source": [
    "Il grafico delle Frequenze Relative del numero di feriti negli incidenti assomiglia al grafico della FMDP di un modello di distribuzione geometrico di parametro p.\n",
    "In questo caso il parametro p rappresenta P(\"Almeno un ferito\") e quindi alla probabilità calcolata precedentemente.\n",
    "Ci troviamo quindi nel caso di X~G(0.498324)"
   ]
  },
  {
   "cell_type": "code",
   "execution_count": 12,
   "id": "2488527e-19ac-4e27-b1e5-528064129d0c",
   "metadata": {},
   "outputs": [
    {
     "data": {
      "text/plain": [
       "count    28040.000000\n",
       "mean         0.635770\n",
       "std          0.790586\n",
       "min          0.000000\n",
       "25%          0.000000\n",
       "50%          0.000000\n",
       "75%          1.000000\n",
       "max         10.000000\n",
       "Name: N_Feriti, dtype: float64"
      ]
     },
     "execution_count": 12,
     "metadata": {},
     "output_type": "execute_result"
    }
   ],
   "source": [
    "df['N_Feriti'].describe()"
   ]
  },
  {
   "cell_type": "markdown",
   "id": "0967180a-4004-4441-909f-5b338ddc9f76",
   "metadata": {},
   "source": [
    "## 1.10"
   ]
  },
  {
   "cell_type": "code",
   "execution_count": 32,
   "id": "58a04c2c-b7f8-4b72-80fa-e50328723acf",
   "metadata": {},
   "outputs": [
    {
     "data": {
      "image/png": "[encoded data removed]",
      "text/plain": [
       "<Figure size 640x480 with 1 Axes>"
      ]
     },
     "metadata": {},
     "output_type": "display_data"
    }
   ],
   "source": [
    "g = sp.geom(0.49)\n",
    "x = np.arange(1, max(df['N_Feriti']) + 1, 1)\n",
    "plt.yticks(np.arange(0, max(ctf['Val Rel']) + 0.02, 0.02))\n",
    "plt.xticks(x)\n",
    "plt.bar(x,g.pmf(x))\n",
    "plt.show()"
   ]
  },
  {
   "cell_type": "code",
   "execution_count": 33,
   "id": "63ec4ec5-2e55-4d0e-af40-8990895f23ae",
   "metadata": {},
   "outputs": [
    {
     "data": {
      "image/png": "[encoded data removed]",
      "text/plain": [
       "<Figure size 640x480 with 1 Axes>"
      ]
     },
     "metadata": {},
     "output_type": "display_data"
    }
   ],
   "source": [
    "g = sp.geom(0.49)\n",
    "x = np.arange(1, max(df['N_Feriti']) + 1, 1)\n",
    "plt.plot(x, g.pmf(x), 'yo')\n",
    "plt.xticks(x)\n",
    "plt.vlines(x, 0, g.pmf(x), linestyles='dotted')\n",
    "plt.show() "
   ]
  },
  {
   "cell_type": "markdown",
   "id": "d015e8a5-b790-4901-9903-cf4e5e80a200",
   "metadata": {},
   "source": [
    "## 1.11"
   ]
  },
  {
   "cell_type": "code",
   "execution_count": 62,
   "id": "aa30c136-f209-4420-b6e9-7522cfab2bcb",
   "metadata": {},
   "outputs": [
    {
     "data": {
      "text/plain": [
       "<Axes: xlabel='N_Feriti', ylabel='N_Illesi'>"
      ]
     },
     "execution_count": 62,
     "metadata": {},
     "output_type": "execute_result"
    },
    {
     "data": {
      "image/png": "[encoded data removed]",
      "text/plain": [
       "<Figure size 640x480 with 1 Axes>"
      ]
     },
     "metadata": {},
     "output_type": "display_data"
    }
   ],
   "source": [
    "df.plot.scatter('N_Feriti','N_Illesi')"
   ]
  },
  {
   "cell_type": "markdown",
   "id": "ede0902e-a569-4395-a955-055e32a2ddec",
   "metadata": {},
   "source": [
    "Il Grafico mostra che i dati di feriti e illesi per gli incidenti seguono una relazione leggermente inversamente proporzionale"
   ]
  },
  {
   "cell_type": "markdown",
   "id": "507e0a34-f7b4-40ee-82bf-629252b78bc6",
   "metadata": {},
   "source": [
    "## 1.12"
   ]
  },
  {
   "cell_type": "markdown",
   "id": "875aa8e1-305f-45d6-920c-6f19cd9fbb9d",
   "metadata": {},
   "source": [
    "Possiamo utilizzare l'indice di correlazione di pearson per determinare una eventuale correlazione tra i due caratteri"
   ]
  },
  {
   "cell_type": "code",
   "execution_count": 65,
   "id": "2d68ac07-48eb-413f-b403-6f043f319247",
   "metadata": {},
   "outputs": [
    {
     "data": {
      "text/plain": [
       "-0.3070519976103217"
      ]
     },
     "execution_count": 65,
     "metadata": {},
     "output_type": "execute_result"
    }
   ],
   "source": [
    "correlation = df['N_Feriti'].corr(df['N_Illesi'])\n",
    "correlation"
   ]
  },
  {
   "cell_type": "markdown",
   "id": "63f97b46-70cc-47ea-9850-b587ba690c83",
   "metadata": {},
   "source": [
    "Questa leggera correlazione conferma l'interpretazione data precedentemente. Vi è una leggera tendenza dei dati ad essere inversamente proporzionali"
   ]
  }
 ],
 "metadata": {
  "kernelspec": {
   "display_name": "Python 3 (ipykernel)",
   "language": "python",
   "name": "python3"
  },
  "language_info": {
   "codemirror_mode": {
    "name": "ipython",
    "version": 3
   },
   "file_extension": ".py",
   "mimetype": "text/x-python",
   "name": "python",
   "nbconvert_exporter": "python",
   "pygments_lexer": "ipython3",
   "version": "3.11.4"
  }
 },
 "nbformat": 4,
 "nbformat_minor": 5
}
