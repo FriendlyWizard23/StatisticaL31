{
 "cells": [
  {
   "cell_type": "code",
   "execution_count": 1,
   "id": "ef02e3ba-6c28-42ce-9944-1b64310821ee",
   "metadata": {},
   "outputs": [],
   "source": [
    "import pandas as pa \n",
    "import numpy as np\n",
    "import scipy.stats as st\n",
    "import matplotlib.pyplot as plt\n",
    "import math"
   ]
  },
  {
   "cell_type": "code",
   "execution_count": 2,
   "id": "da58156d-f06b-485b-8010-362a7e1ec93a",
   "metadata": {},
   "outputs": [
    {
     "data": {
      "text/plain": [
       "117"
      ]
     },
     "execution_count": 2,
     "metadata": {},
     "output_type": "execute_result"
    }
   ],
   "source": [
    "dist=st.norm()\n",
    "n=1\n",
    "while (1-dist.cdf((400-(3*n))/math.sqrt(0.09*n+1600))<0.1):\n",
    "    n+=1\n",
    "n"
   ]
  },
  {
   "cell_type": "code",
   "execution_count": 5,
   "id": "06a036dd-848c-404c-83b3-135e2fd04101",
   "metadata": {},
   "outputs": [
    {
     "data": {
      "text/plain": [
       "0.056516944458631535"
      ]
     },
     "execution_count": 5,
     "metadata": {},
     "output_type": "execute_result"
    }
   ],
   "source": [
    "dist=st.binom(450,0.3)\n",
    "1-dist.cdf(150)"
   ]
  },
  {
   "cell_type": "code",
   "execution_count": 9,
   "id": "8b867989-b646-4f84-a193-8c5610d0b43c",
   "metadata": {},
   "outputs": [
    {
     "data": {
      "text/plain": [
       "0.05591740251946942"
      ]
     },
     "execution_count": 9,
     "metadata": {},
     "output_type": "execute_result"
    }
   ],
   "source": [
    "dist=st.norm()\n",
    "1-dist.cdf(1.59)"
   ]
  },
  {
   "cell_type": "code",
   "execution_count": 10,
   "id": "560217be-7b95-4a2b-9140-7ac7fb3ac4aa",
   "metadata": {},
   "outputs": [
    {
     "data": {
      "text/plain": [
       "6.0"
      ]
     },
     "execution_count": 10,
     "metadata": {},
     "output_type": "execute_result"
    }
   ],
   "source": [
    "math.sqrt(36)"
   ]
  },
  {
   "cell_type": "code",
   "execution_count": 19,
   "id": "d2164729-e167-4a0f-9df1-5537c884c68c",
   "metadata": {},
   "outputs": [
    {
     "data": {
      "text/plain": [
       "-0.8888888888888888"
      ]
     },
     "execution_count": 19,
     "metadata": {},
     "output_type": "execute_result"
    }
   ],
   "source": [
    "(163-167)/4.5"
   ]
  },
  {
   "cell_type": "code",
   "execution_count": 24,
   "id": "9eaa625a-a0a8-4555-a480-7a2b2208b20a",
   "metadata": {},
   "outputs": [
    {
     "data": {
      "text/plain": [
       "0.5583446726002718"
      ]
     },
     "execution_count": 24,
     "metadata": {},
     "output_type": "execute_result"
    }
   ],
   "source": [
    "dist.cdf(0.66)-dist.cdf(-0.8889)"
   ]
  },
  {
   "cell_type": "code",
   "execution_count": 23,
   "id": "de9dc5a1-cacb-49d7-8e1b-507199a55be1",
   "metadata": {},
   "outputs": [
    {
     "data": {
      "text/plain": [
       "0.8698772939868481"
      ]
     },
     "execution_count": 23,
     "metadata": {},
     "output_type": "execute_result"
    }
   ],
   "source": [
    "dist.cdf(1.33)-dist.cdf(-1.77)"
   ]
  },
  {
   "cell_type": "code",
   "execution_count": 25,
   "id": "6bc615e9-dcc5-48ab-a4de-b1bbccbd028c",
   "metadata": {},
   "outputs": [
    {
     "data": {
      "text/plain": [
       "0.975"
      ]
     },
     "execution_count": 25,
     "metadata": {},
     "output_type": "execute_result"
    }
   ],
   "source": [
    "1.95/2"
   ]
  },
  {
   "cell_type": "code",
   "execution_count": 27,
   "id": "966695c3-08de-45d6-9749-1553d7758cb5",
   "metadata": {},
   "outputs": [
    {
     "data": {
      "text/plain": [
       "16.0"
      ]
     },
     "execution_count": 27,
     "metadata": {},
     "output_type": "execute_result"
    }
   ],
   "source": [
    "4/0.25"
   ]
  },
  {
   "cell_type": "code",
   "execution_count": 28,
   "id": "449f6c5b-021b-49ef-a11a-c4600d28b288",
   "metadata": {},
   "outputs": [
    {
     "data": {
      "text/plain": [
       "56.598153543401615"
      ]
     },
     "execution_count": 28,
     "metadata": {},
     "output_type": "execute_result"
    }
   ],
   "source": [
    "16*(dist.ppf(0.97)**2)"
   ]
  },
  {
   "cell_type": "code",
   "execution_count": 29,
   "id": "34fd2b24-5a1c-4344-afe0-af326f9b63a7",
   "metadata": {},
   "outputs": [
    {
     "data": {
      "text/plain": [
       "0.25"
      ]
     },
     "execution_count": 29,
     "metadata": {},
     "output_type": "execute_result"
    }
   ],
   "source": [
    "0.5/2"
   ]
  },
  {
   "cell_type": "code",
   "execution_count": 41,
   "id": "25ba303d-d114-4d85-af89-d71d2f5152a6",
   "metadata": {},
   "outputs": [
    {
     "data": {
      "text/plain": [
       "62"
      ]
     },
     "execution_count": 41,
     "metadata": {},
     "output_type": "execute_result"
    }
   ],
   "source": [
    "n=1\n",
    "while ((dist.cdf(math.sqrt(n)/4))<0.975):\n",
    "    n+=1\n",
    "n"
   ]
  },
  {
   "cell_type": "code",
   "execution_count": 40,
   "id": "93ff4449-8147-4a15-ad01-92cb8592028d",
   "metadata": {},
   "outputs": [
    {
     "data": {
      "text/plain": [
       "0.9754948450801506"
      ]
     },
     "execution_count": 40,
     "metadata": {},
     "output_type": "execute_result"
    }
   ],
   "source": [
    "dist.cdf(math.sqrt(62)/4)"
   ]
  }
 ],
 "metadata": {
  "kernelspec": {
   "display_name": "Python 3 (ipykernel)",
   "language": "python",
   "name": "python3"
  },
  "language_info": {
   "codemirror_mode": {
    "name": "ipython",
    "version": 3
   },
   "file_extension": ".py",
   "mimetype": "text/x-python",
   "name": "python",
   "nbconvert_exporter": "python",
   "pygments_lexer": "ipython3",
   "version": "3.12.3"
  }
 },
 "nbformat": 4,
 "nbformat_minor": 5
}
