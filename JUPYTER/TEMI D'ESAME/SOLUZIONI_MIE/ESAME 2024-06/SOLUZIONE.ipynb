{
 "cells": [
  {
   "cell_type": "code",
   "execution_count": 64,
   "id": "caf224bf-6757-4958-9753-29a443b64e25",
   "metadata": {},
   "outputs": [],
   "source": [
    "import numpy as np\n",
    "import pandas as pd\n",
    "import matplotlib.pyplot as plt\n",
    "import scipy.stats as st\n",
    "import statsmodels.api as sm\n",
    "import math"
   ]
  },
  {
   "cell_type": "markdown",
   "id": "1286fbad-09f8-47e5-8322-56ff137f6a39",
   "metadata": {},
   "source": [
    "# Esercizio 1"
   ]
  },
  {
   "cell_type": "markdown",
   "id": "62dc2175-c0ac-4bd7-ae2a-d4283bc36063",
   "metadata": {},
   "source": [
    "$$ f(x) = \\frac{6}{a^3}(ax-x^2)\\cdot I_{[0,a]}(x)$$"
   ]
  },
  {
   "cell_type": "markdown",
   "id": "2b7b55e6-a13a-4bc7-bb9a-1342cd81fd94",
   "metadata": {},
   "source": [
    "#### Punto 1\n",
    "_Dimostrate che è una funzione di densità di probabilità per ogni valore reale $a>0$_"
   ]
  },
  {
   "cell_type": "markdown",
   "id": "a4a78e1f-750d-4fca-ae15-2d452693c9d2",
   "metadata": {},
   "source": [
    "Per dimostrare che è una funzione di densità di probabilità dobbiamo verificare che integri ad uno sul suo dominio e che sia positiva sul suo dominio."
   ]
  },
  {
   "cell_type": "markdown",
   "id": "2924241f-aac0-49d8-af75-b69027c591bf",
   "metadata": {},
   "source": [
    "Verifichiamo che integri ad uno:"
   ]
  },
  {
   "cell_type": "markdown",
   "id": "8ccfadef-a82b-425a-b4ea-941944e9cf50",
   "metadata": {},
   "source": [
    "$$ \\int_{-\\infty}^{\\infty} f(x) \\,dx $$"
   ]
  },
  {
   "cell_type": "markdown",
   "id": "127186d4-7c69-409e-8f5b-4807654c84ef",
   "metadata": {},
   "source": [
    "$$ \\int_{0}^{a} \\frac{6}{a^3}(ax-x^2)\\,dx $$"
   ]
  },
  {
   "cell_type": "markdown",
   "id": "16175c29-c281-48c0-8dbc-bd16848d51ab",
   "metadata": {},
   "source": [
    "$$ \\frac{6}{a^3}\\cdot\\int_{0}^{a} (ax-x^2)\\,dx $$"
   ]
  },
  {
   "cell_type": "markdown",
   "id": "9c324a7f-181c-48b9-989b-237ad991a323",
   "metadata": {},
   "source": [
    "$$ \\frac{6}{a^2}\\cdot\\int_{0}^{a} (x)\\,dx - \\frac{6}{a^3}\\cdot\\int_{0}^{a} (x^2)\\,dx $$"
   ]
  },
  {
   "cell_type": "markdown",
   "id": "1d521c7f-5406-4039-a2c3-9fd3e2b03c5b",
   "metadata": {},
   "source": [
    "$$ \\frac{6}{a^2}\\cdot \\left[ \\frac{x^2}{2} \\right]_{0}^a  - \\frac{6}{a^3}\\cdot \\left[ \\frac{x^3}{3} \\right]_{0}^a $$"
   ]
  },
  {
   "cell_type": "markdown",
   "id": "6cb6c2e9-9659-49b5-a4be-75243cf31286",
   "metadata": {},
   "source": [
    "$$ 3-2 = 1$$"
   ]
  },
  {
   "cell_type": "markdown",
   "id": "77066583-65cb-455e-9072-934530c17a38",
   "metadata": {},
   "source": [
    "Verifichiamo ora $f(x)>0  \\forall x \\in D_x$"
   ]
  },
  {
   "cell_type": "markdown",
   "id": "f24381ff-9fe8-4ec8-b846-6c7ede37dfb4",
   "metadata": {},
   "source": [
    "Sappiamo per certo che $\\frac{6}{a^3}$ è positivo perchè $a>0$ per vincolo.\\\n",
    "ora $ax-x^2 = x(a-x)$ ha come soluzioni $x \\geq 0$ che è sempre vera (il dominio va da zero ad a) e $x \\leq a$ che è sempre vera perchè x non può andare oltre a (sempre per il dominio) \n",
    "\n",
    "Verrificato che $f(x)$ è sempre positiva\n",
    "\n",
    "\n"
   ]
  },
  {
   "cell_type": "markdown",
   "id": "cdb78e63-6be9-4b66-8cdc-93a1d633082f",
   "metadata": {},
   "source": [
    "#### Punto 2\n",
    " _Calcolate il valore atteso di $X$ esprimendola in funzione di $a$(suggerimento: ragionando su alcune proprietà\n",
    "geometriche, potete giustificare il risultato senza fare conti)._\n"
   ]
  },
  {
   "cell_type": "markdown",
   "id": "2ebacc92-734d-41ab-9d41-6a2cf5577496",
   "metadata": {},
   "source": [
    "$$\n",
    "\\int_0^a x f(x) \\, dx\n",
    "$$\n",
    "\n",
    "$$\n",
    "\\int_0^a x \\left( \\frac{6}{a^3} (ax - x^2) \\right) \\, dx\n",
    "$$\n",
    "\n",
    "$$\n",
    "\\int_0^a \\frac{6}{a^3} x (ax - x^2) \\, dx\n",
    "$$\n",
    "\n",
    "$$\n",
    "\\int_0^a \\frac{6}{a^3} (a x^2 - x^3) \\, dx\n",
    "$$\n",
    "\n",
    "$$\n",
    "\\frac{6}{a^3} \\int_0^a (a x^2 - x^3) \\, dx\n",
    "$$\n",
    "\n",
    "$$\n",
    "\\frac{6}{a^3} \\left( a \\int_0^a x^2 \\, dx - \\int_0^a x^3 \\, dx \\right)\n",
    "$$\n",
    "\n",
    "$$\n",
    "\\int_0^a x^2 \\, dx = \\left[ \\frac{x^3}{3} \\right]_0^a = \\frac{a^3}{3}\n",
    "$$\n",
    "\n",
    "$$\n",
    "\\int_0^a x^3 \\, dx = \\left[ \\frac{x^4}{4} \\right]_0^a = \\frac{a^4}{4}\n",
    "$$\n",
    "\n",
    "$$\n",
    "\\frac{6}{a^3} \\left( a \\cdot \\frac{a^3}{3} - \\frac{a^4}{4} \\right)\n",
    "$$\n",
    "\n",
    "$$\n",
    "\\frac{6}{a^3} \\left( \\frac{a^4}{3} - \\frac{a^4}{4} \\right)\n",
    "$$\n",
    "\n",
    "$$\n",
    "\\frac{6}{a^3} \\cdot \\frac{a^4}{12}\n",
    "$$\n",
    "\n",
    "$$\n",
    "\\frac{6 a}{12} = \\frac{a}{2}\n",
    "$$\n"
   ]
  },
  {
   "cell_type": "markdown",
   "id": "cf522254-3842-41ae-9533-d1290495dc6b",
   "metadata": {},
   "source": [
    "#### Punto 3\n",
    "_Indichiamo con $F$ la funzione di ripartizione di $X$ . Ricavate la forma analitica di $F(X)$, esprimendola in\n",
    "funzione di $x$ e $a$._\n",
    "\n"
   ]
  },
  {
   "cell_type": "markdown",
   "id": "2dd3dc2d-7793-4f8b-a77a-b8ef392edc36",
   "metadata": {},
   "source": [
    "$$ F_X(x)=\\frac{6}{a^2}\\cdot\\int_{0}^{x} (t)\\,dt - \\frac{6}{a^3}\\cdot\\int_{0}^{x} (t^2)\\,dt $$"
   ]
  },
  {
   "cell_type": "markdown",
   "id": "5bf1b52d-ab1a-486c-b0e3-ea0d03d7397c",
   "metadata": {},
   "source": [
    "$$ F_X(x)=\\frac{3x^2}{a^2} - \\frac{2x^3}{a^3} $$"
   ]
  },
  {
   "cell_type": "markdown",
   "id": "6550116b-2bd4-4db7-bc7f-099f8b1e7479",
   "metadata": {},
   "source": [
    "#### Punto 4\n",
    " _Supponete, solo in questo punto, che $a=\\frac{1}{2}$. Scrivete ed eseguite del codice che disegni il grafico della\n",
    "funzione $F$ definita al punto precedente._\n",
    "\n"
   ]
  },
  {
   "cell_type": "code",
   "execution_count": 106,
   "id": "2a22b6ee-761e-4708-a882-22e1c2e37378",
   "metadata": {},
   "outputs": [
    {
     "data": {
      "image/png": "[encoded data removed]",
      "text/plain": [
       "<Figure size 640x480 with 1 Axes>"
      ]
     },
     "metadata": {},
     "output_type": "display_data"
    }
   ],
   "source": [
    "def cdf(x, a):\n",
    "    if x < 0:\n",
    "        return 0\n",
    "    elif x <= a:\n",
    "        return (3 * x**2) / a**2 - (2 * x**3) / a**3\n",
    "    else:\n",
    "        return 1\n",
    "\n",
    "a = 1/2\n",
    "x_values = np.linspace(-0.1, 0.7, 30000)\n",
    "y_values = [cdf(x, a) for x in x_values]\n",
    "\n",
    "plt.plot(x_values, y_values, color='blue')\n",
    "plt.xlabel('x')\n",
    "plt.ylabel('CDF')\n",
    "plt.grid(True)\n",
    "plt.show()"
   ]
  },
  {
   "cell_type": "markdown",
   "id": "52451e69-2ec1-4736-a2aa-186f8b44904d",
   "metadata": {},
   "source": [
    "#### Punto 5\n",
    "A primo acchito potrebbe sembrare una distribuzione normale ma non lo è. Basti pensare al fatto che la PDF è una parabola che tocca i punti 0 e a.\n",
    "In questo caso la CDF non assume la forma corretta di quella normale \n",
    "\n"
   ]
  },
  {
   "cell_type": "markdown",
   "id": "efea7bb4-cba5-469e-88ab-31ca8edef7b1",
   "metadata": {},
   "source": [
    "#### Punto 6\n",
    "_Calcolate fa varianza di $X$ esprimendola in funzione di $a$._\n",
    "\n"
   ]
  },
  {
   "cell_type": "markdown",
   "id": "61bdb802-d12e-4bb0-a1e8-5863382ee310",
   "metadata": {},
   "source": [
    "$$Var(X) = E(X^2)-E(X)^2$$\n",
    "$$\n",
    "E(X^2) = \\int_{0}^{a} x^2 f(x) \\, dx\n",
    "$$\n",
    "\n",
    "$$\n",
    "f(x) = \\frac{6}{a^3}(ax - x^2) \\cdot I_{[0,a]}(x)\n",
    "$$\n",
    "\n",
    "$$\n",
    "E(X^2) = \\int_{0}^{a} x^2 \\cdot \\frac{6}{a^3}(ax - x^2) \\, dx\n",
    "$$\n",
    "\n",
    "$$\n",
    "E(X^2) = \\frac{6}{a^3} \\int_{0}^{a} x^2 (ax - x^2) \\, dx\n",
    "$$\n",
    "\n",
    "$$\n",
    "E(X^2) = \\frac{6}{a^3} \\int_{0}^{a} (ax^3 - x^4) \\, dx\n",
    "$$\n",
    "\n",
    "$$\n",
    "E(X^2) = \\frac{6}{a^3} \\left( \\int_{0}^{a} ax^3 \\, dx - \\int_{0}^{a} x^4 \\, dx \\right)\n",
    "$$\n",
    "\n",
    "$$\n",
    "\\int_{0}^{a} ax^3 \\, dx = a \\int_{0}^{a} x^3 \\, dx = a \\left[ \\frac{x^4}{4} \\right]_{0}^{a} = a \\cdot \\frac{a^4}{4} = \\frac{a^5}{4}\n",
    "$$\n",
    "\n",
    "$$\n",
    "\\int_{0}^{a} x^4 \\, dx = \\left[ \\frac{x^5}{5} \\right]_{0}^{a} = \\frac{a^5}{5}\n",
    "$$\n",
    "\n",
    "$$\n",
    "E(X^2) = \\frac{6}{a^3} \\left( \\frac{a^5}{4} - \\frac{a^5}{5} \\right)\n",
    "$$\n",
    "\n",
    "$$\n",
    "E(X^2) = \\frac{6}{a^3} \\cdot \\frac{a^5}{20}\n",
    "$$\n",
    "\n",
    "$$\n",
    "E(X^2) = \\frac{6a^5}{20a^3}\n",
    "$$\n",
    "\n",
    "$$\n",
    "E(X^2) = \\frac{3a^2}{10}\n",
    "$$\n",
    "$$Var(X) = \\frac{3a^2}{10}-\\frac{a^2}{4} = \\frac{a^2}{20}$$"
   ]
  },
  {
   "cell_type": "markdown",
   "id": "52ea53b3-6dc5-484e-b792-6119c30bf333",
   "metadata": {},
   "source": [
    "# Esercizio 3\n",
    "\n"
   ]
  },
  {
   "cell_type": "code",
   "execution_count": 19,
   "id": "324efaa9-c3cf-43e9-a37a-68ae4b3148b5",
   "metadata": {},
   "outputs": [
    {
     "data": {
      "text/html": [
       "<div>\n",
       "<style scoped>\n",
       "    .dataframe tbody tr th:only-of-type {\n",
       "        vertical-align: middle;\n",
       "    }\n",
       "\n",
       "    .dataframe tbody tr th {\n",
       "        vertical-align: top;\n",
       "    }\n",
       "\n",
       "    .dataframe thead th {\n",
       "        text-align: right;\n",
       "    }\n",
       "</style>\n",
       "<table border=\"1\" class=\"dataframe\">\n",
       "  <thead>\n",
       "    <tr style=\"text-align: right;\">\n",
       "      <th></th>\n",
       "      <th>matricola</th>\n",
       "      <th>genere</th>\n",
       "      <th>eta</th>\n",
       "      <th>punteggio</th>\n",
       "      <th>tempo</th>\n",
       "    </tr>\n",
       "  </thead>\n",
       "  <tbody>\n",
       "    <tr>\n",
       "      <th>0</th>\n",
       "      <td>4302229</td>\n",
       "      <td>F</td>\n",
       "      <td>20</td>\n",
       "      <td>20.49</td>\n",
       "      <td>24.0</td>\n",
       "    </tr>\n",
       "    <tr>\n",
       "      <th>1</th>\n",
       "      <td>3199114</td>\n",
       "      <td>F</td>\n",
       "      <td>21</td>\n",
       "      <td>8.53</td>\n",
       "      <td>9.0</td>\n",
       "    </tr>\n",
       "    <tr>\n",
       "      <th>2</th>\n",
       "      <td>8399478</td>\n",
       "      <td>F</td>\n",
       "      <td>31</td>\n",
       "      <td>5.28</td>\n",
       "      <td>9.0</td>\n",
       "    </tr>\n",
       "    <tr>\n",
       "      <th>3</th>\n",
       "      <td>2658176</td>\n",
       "      <td>F</td>\n",
       "      <td>35</td>\n",
       "      <td>17.37</td>\n",
       "      <td>21.0</td>\n",
       "    </tr>\n",
       "    <tr>\n",
       "      <th>4</th>\n",
       "      <td>1492818</td>\n",
       "      <td>M</td>\n",
       "      <td>35</td>\n",
       "      <td>23.34</td>\n",
       "      <td>22.0</td>\n",
       "    </tr>\n",
       "    <tr>\n",
       "      <th>...</th>\n",
       "      <td>...</td>\n",
       "      <td>...</td>\n",
       "      <td>...</td>\n",
       "      <td>...</td>\n",
       "      <td>...</td>\n",
       "    </tr>\n",
       "    <tr>\n",
       "      <th>663</th>\n",
       "      <td>4290912</td>\n",
       "      <td>M</td>\n",
       "      <td>33</td>\n",
       "      <td>18.99</td>\n",
       "      <td>22.0</td>\n",
       "    </tr>\n",
       "    <tr>\n",
       "      <th>664</th>\n",
       "      <td>3153118</td>\n",
       "      <td>F</td>\n",
       "      <td>18</td>\n",
       "      <td>16.83</td>\n",
       "      <td>17.0</td>\n",
       "    </tr>\n",
       "    <tr>\n",
       "      <th>665</th>\n",
       "      <td>2522926</td>\n",
       "      <td>M</td>\n",
       "      <td>35</td>\n",
       "      <td>13.62</td>\n",
       "      <td>17.0</td>\n",
       "    </tr>\n",
       "    <tr>\n",
       "      <th>666</th>\n",
       "      <td>0839910</td>\n",
       "      <td>M</td>\n",
       "      <td>30</td>\n",
       "      <td>10.88</td>\n",
       "      <td>24.0</td>\n",
       "    </tr>\n",
       "    <tr>\n",
       "      <th>667</th>\n",
       "      <td>0374104</td>\n",
       "      <td>M</td>\n",
       "      <td>33</td>\n",
       "      <td>21.47</td>\n",
       "      <td>32.0</td>\n",
       "    </tr>\n",
       "  </tbody>\n",
       "</table>\n",
       "<p>668 rows × 5 columns</p>\n",
       "</div>"
      ],
      "text/plain": [
       "    matricola genere  eta  punteggio  tempo\n",
       "0     4302229      F   20      20.49   24.0\n",
       "1     3199114      F   21       8.53    9.0\n",
       "2     8399478      F   31       5.28    9.0\n",
       "3     2658176      F   35      17.37   21.0\n",
       "4     1492818      M   35      23.34   22.0\n",
       "..        ...    ...  ...        ...    ...\n",
       "663   4290912      M   33      18.99   22.0\n",
       "664   3153118      F   18      16.83   17.0\n",
       "665   2522926      M   35      13.62   17.0\n",
       "666   0839910      M   30      10.88   24.0\n",
       "667   0374104      M   33      21.47   32.0\n",
       "\n",
       "[668 rows x 5 columns]"
      ]
     },
     "execution_count": 19,
     "metadata": {},
     "output_type": "execute_result"
    }
   ],
   "source": [
    "df=pd.read_csv('risultati.csv',sep=',',decimal='.')\n",
    "df"
   ]
  },
  {
   "cell_type": "code",
   "execution_count": 33,
   "id": "3cb135bd-905f-4156-a1a2-573470043ce3",
   "metadata": {},
   "outputs": [
    {
     "data": {
      "text/plain": [
       "matricola    0\n",
       "genere       0\n",
       "eta          0\n",
       "punteggio    0\n",
       "tempo        0\n",
       "dtype: int64"
      ]
     },
     "execution_count": 33,
     "metadata": {},
     "output_type": "execute_result"
    }
   ],
   "source": [
    "df.isna().sum()"
   ]
  },
  {
   "cell_type": "code",
   "execution_count": 34,
   "id": "aea5d964-b0ff-4365-9c94-863f628236c2",
   "metadata": {},
   "outputs": [
    {
     "data": {
      "text/plain": [
       "0      F\n",
       "1      F\n",
       "2      F\n",
       "3      F\n",
       "4      M\n",
       "      ..\n",
       "663    M\n",
       "664    F\n",
       "665    M\n",
       "666    M\n",
       "667    M\n",
       "Name: genere, Length: 668, dtype: object"
      ]
     },
     "execution_count": 34,
     "metadata": {},
     "output_type": "execute_result"
    }
   ],
   "source": [
    "genere=df['genere']\n",
    "genere"
   ]
  },
  {
   "cell_type": "code",
   "execution_count": 41,
   "id": "c1d29592-a711-489a-9902-f83ae87f1510",
   "metadata": {},
   "outputs": [
    {
     "data": {
      "text/plain": [
       "genere\n",
       "F    0.538922\n",
       "M    0.461078\n",
       "Name: proportion, dtype: float64"
      ]
     },
     "execution_count": 41,
     "metadata": {},
     "output_type": "execute_result"
    }
   ],
   "source": [
    "ctgenere=genere.value_counts(normalize=True)\n",
    "ctgenere"
   ]
  },
  {
   "cell_type": "code",
   "execution_count": 50,
   "id": "a77b34b1-e76d-46c7-81f5-8d4ef6952e5e",
   "metadata": {},
   "outputs": [
    {
     "data": {
      "image/png": "[encoded data removed]",
      "text/plain": [
       "<Figure size 640x480 with 1 Axes>"
      ]
     },
     "metadata": {},
     "output_type": "display_data"
    }
   ],
   "source": [
    "ctgenere.plot.pie(legend=False)\n",
    "plt.title(\"Numero maschi e femmine\")\n",
    "plt.show()"
   ]
  },
  {
   "cell_type": "code",
   "execution_count": 60,
   "id": "92b8bca2-39cf-416b-81d6-cdca143609e9",
   "metadata": {},
   "outputs": [
    {
     "data": {
      "image/png": "[encoded data removed]",
      "text/plain": [
       "<Figure size 640x480 with 1 Axes>"
      ]
     },
     "metadata": {},
     "output_type": "display_data"
    }
   ],
   "source": [
    "punteggio=df['punteggio']\n",
    "punteggio.plot.hist(bins=30)\n",
    "plt.show()"
   ]
  },
  {
   "cell_type": "code",
   "execution_count": 61,
   "id": "246d8537-44c2-498e-9519-f4a5c8469794",
   "metadata": {},
   "outputs": [
    {
     "data": {
      "image/png": "[encoded data removed]",
      "text/plain": [
       "<Figure size 640x480 with 1 Axes>"
      ]
     },
     "metadata": {},
     "output_type": "display_data"
    }
   ],
   "source": [
    "tempo=df['tempo']\n",
    "plt.scatter(punteggio,tempo)\n",
    "plt.show()"
   ]
  },
  {
   "cell_type": "code",
   "execution_count": 62,
   "id": "12bc09ca-b830-4dfb-a8ff-d4301663459c",
   "metadata": {},
   "outputs": [
    {
     "data": {
      "text/plain": [
       "0.8134245358444538"
      ]
     },
     "execution_count": 62,
     "metadata": {},
     "output_type": "execute_result"
    }
   ],
   "source": [
    "punteggio.corr(tempo)"
   ]
  },
  {
   "cell_type": "code",
   "execution_count": 68,
   "id": "267af969-ffd5-4b31-b968-18211dac8598",
   "metadata": {},
   "outputs": [
    {
     "data": {
      "image/png": "[encoded data removed]",
      "text/plain": [
       "<Figure size 640x480 with 1 Axes>"
      ]
     },
     "metadata": {},
     "output_type": "display_data"
    }
   ],
   "source": [
    "ecdf=sm.distributions.ECDF(punteggio)\n",
    "plt.plot(ecdf.x,ecdf.y)\n",
    "plt.show()"
   ]
  },
  {
   "cell_type": "code",
   "execution_count": 92,
   "id": "c73dedb7-9b1a-4148-8fbf-6a128c8f0f14",
   "metadata": {},
   "outputs": [
    {
     "data": {
      "text/plain": [
       "35.92464071856288"
      ]
     },
     "execution_count": 92,
     "metadata": {},
     "output_type": "execute_result"
    }
   ],
   "source": [
    "a=2*punteggio.mean()\n",
    "a"
   ]
  },
  {
   "cell_type": "code",
   "execution_count": 93,
   "id": "db5e7e8d-6ac7-41e5-8ff1-ee462958f375",
   "metadata": {},
   "outputs": [
    {
     "data": {
      "text/plain": [
       "0.8923226940241944"
      ]
     },
     "execution_count": 93,
     "metadata": {},
     "output_type": "execute_result"
    }
   ],
   "source": [
    "dist=st.norm()\n",
    "n=len(punteggio)\n",
    "2*dist.cdf(1/(a/math.sqrt(5*n)))-1"
   ]
  },
  {
   "cell_type": "code",
   "execution_count": 76,
   "id": "87466787-8270-4046-ba38-818209edc388",
   "metadata": {},
   "outputs": [
    {
     "data": {
      "text/plain": [
       "0.38023952095808383"
      ]
     },
     "execution_count": 76,
     "metadata": {},
     "output_type": "execute_result"
    }
   ],
   "source": [
    "supventuno=df[df['punteggio']>21]\n",
    "freq=len(supventuno)/len(df)\n",
    "freq"
   ]
  },
  {
   "cell_type": "code",
   "execution_count": 86,
   "id": "f1c1be19-467b-4903-ad15-19e58bf62d80",
   "metadata": {},
   "outputs": [],
   "source": [
    "def cdf(x, a):\n",
    "    if x < 0:\n",
    "        return 0\n",
    "    elif x <= a:\n",
    "        return ((3 * x**2) / a**2 - (2 * x**3) / a**3)\n",
    "    else:\n",
    "        return 1"
   ]
  },
  {
   "cell_type": "code",
   "execution_count": 94,
   "id": "b4885b27-966e-4a75-9bda-f1f88a939e12",
   "metadata": {},
   "outputs": [
    {
     "data": {
      "text/plain": [
       "0.374373654158468"
      ]
     },
     "execution_count": 94,
     "metadata": {},
     "output_type": "execute_result"
    }
   ],
   "source": [
    "1-cdf(21,a)"
   ]
  },
  {
   "cell_type": "code",
   "execution_count": 97,
   "id": "8982ddf6-9611-4da3-91c9-3c0f59973347",
   "metadata": {},
   "outputs": [
    {
     "data": {
      "text/plain": [
       "0.05497582589491318"
      ]
     },
     "execution_count": 97,
     "metadata": {},
     "output_type": "execute_result"
    }
   ],
   "source": [
    "dist=st.binom(3,freq)\n",
    "dist.pmf(3)"
   ]
  },
  {
   "cell_type": "code",
   "execution_count": 98,
   "id": "3348d407-65be-4b93-8c66-e8f72b445908",
   "metadata": {},
   "outputs": [
    {
     "data": {
      "text/plain": [
       "0.43815348076839244"
      ]
     },
     "execution_count": 98,
     "metadata": {},
     "output_type": "execute_result"
    }
   ],
   "source": [
    "dist.pmf(1)"
   ]
  },
  {
   "cell_type": "code",
   "execution_count": 100,
   "id": "7c81a547-02b5-444b-8e8f-05f748d7cc99",
   "metadata": {},
   "outputs": [
    {
     "data": {
      "text/plain": [
       "0.6762053718945269"
      ]
     },
     "execution_count": 100,
     "metadata": {},
     "output_type": "execute_result"
    }
   ],
   "source": [
    "dist.pmf(1)+dist.pmf(0)"
   ]
  },
  {
   "cell_type": "code",
   "execution_count": 102,
   "id": "1a4085ea-1d5b-434f-ad7e-ed8dc143b11d",
   "metadata": {},
   "outputs": [
    {
     "data": {
      "text/plain": [
       "0.14605116025613088"
      ]
     },
     "execution_count": 102,
     "metadata": {},
     "output_type": "execute_result"
    }
   ],
   "source": [
    "geom=st.geom(freq)\n",
    "geom.pmf(3)"
   ]
  },
  {
   "cell_type": "code",
   "execution_count": 104,
   "id": "79f0ef30-5e4f-4c5c-b917-a2baad587799",
   "metadata": {},
   "outputs": [
    {
     "data": {
      "text/plain": [
       "0.14753515408116724"
      ]
     },
     "execution_count": 104,
     "metadata": {},
     "output_type": "execute_result"
    }
   ],
   "source": [
    "1-geom.cdf(4)"
   ]
  }
 ],
 "metadata": {
  "kernelspec": {
   "display_name": "Python 3 (ipykernel)",
   "language": "python",
   "name": "python3"
  },
  "language_info": {
   "codemirror_mode": {
    "name": "ipython",
    "version": 3
   },
   "file_extension": ".py",
   "mimetype": "text/x-python",
   "name": "python",
   "nbconvert_exporter": "python",
   "pygments_lexer": "ipython3",
   "version": "3.11.4"
  }
 },
 "nbformat": 4,
 "nbformat_minor": 5
}
