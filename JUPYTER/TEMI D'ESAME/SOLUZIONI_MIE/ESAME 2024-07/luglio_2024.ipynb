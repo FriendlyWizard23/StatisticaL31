{
 "cells": [
  {
   "cell_type": "code",
   "execution_count": 3,
   "id": "8cddb9d3-59a5-400e-b019-0e39fcc64bf8",
   "metadata": {},
   "outputs": [],
   "source": [
    "import numpy as np\n",
    "import pandas as pd\n",
    "import scipy.stats as st\n",
    "import math\n",
    "import statsmodels.api as sm\n",
    "import matplotlib.pyplot as plt"
   ]
  },
  {
   "cell_type": "markdown",
   "id": "bc760730-41af-4675-b649-1bf1f472cbe6",
   "metadata": {},
   "source": [
    "## Esercizio 1\n",
    "\n",
    "In questo esercizio considereremo la funzione\n",
    "$$ f(x) = K x \\mathbf{I}_{\\{1,\\ldots, a\\}}(x), $$\n",
    "dove $\\mathbf{I}_A$ denota la funzione indicatrice dell'insieme $A$, $a \\in \\mathbb{N}$ è un parametro della funzione e $K$ è una costante moltiplicativa. Nel risolvere questo esercizio vi saranno utili le seguenti formule note:\n",
    "\n",
    "$$ \\sum_{i=1}^n i = \\frac{n(n+1)}{2}, $$\n",
    "$$ \\sum_{i=1}^n i^2 = \\frac{n(n+1)(2n+1)}{6}, $$\n",
    "$$ \\sum_{i=1}^n i^3 = \\frac{n^2(n+1)^2}{4} $$"
   ]
  },
  {
   "cell_type": "markdown",
   "id": "fe116175-3859-4e23-82b7-3c70758f44c0",
   "metadata": {},
   "source": [
    "1. Determinate il valore di $K$ espresso come sola funzione di $a$, che rende $f$ una funzione di massa di probabilità."
   ]
  },
  {
   "cell_type": "markdown",
   "id": "9392def6-0e42-4f8a-be1d-410b601ddbcb",
   "metadata": {},
   "source": [
    "2. Nel resto di questo esercizio indicheremo con $X$ una variabile aleatoria avente $f$ come funzione di massa di probabilità, per un valore ignoto di $a$ e nella quale $K$ è sostituito con il valore determinato al punto precedente. Calcolate il valore atteso di $X$, esprimendolo in funzione di $a$."
   ]
  },
  {
   "cell_type": "markdown",
   "id": "37264578-5cf7-4f01-9e41-507d57e68209",
   "metadata": {},
   "source": [
    "3. Indichiamo con $F$ la funzione di ripartizione di $X$. Ricavate la forma analitica di $F(x)$, esprimendola in funzione di $x$ e $a$."
   ]
  },
  {
   "cell_type": "markdown",
   "id": "ab731773-82bb-4789-a889-2e6fe322ea33",
   "metadata": {},
   "source": [
    "4. Supponete, **solo in questo punto**, che $a=10$. Scrivete ed eseguite del codice che disegni il grafico della funzione $f$ ottenuta nel punto 1.\n"
   ]
  },
  {
   "cell_type": "code",
   "execution_count": 10,
   "id": "eefadd26-7a8d-4c16-b336-44edf3e053fa",
   "metadata": {},
   "outputs": [
    {
     "data": {
      "image/png": "[encoded data removed]",
      "text/plain": [
       "<Figure size 640x480 with 1 Axes>"
      ]
     },
     "metadata": {},
     "output_type": "display_data"
    }
   ],
   "source": [
    "def fmdp(a,x):\n",
    "    if x>a or x<0: return 0\n",
    "    k=2/(a**2+a)\n",
    "    return x*k\n",
    "\n",
    "x=np.arange(-1,12,1)\n",
    "y=[fmdp(10,i) for i in x]\n",
    "plt.vlines(x,0,y,linestyle='dotted')\n",
    "plt.plot(x,y,'o')\n",
    "plt.show()"
   ]
  },
  {
   "cell_type": "markdown",
   "id": "a00766eb-bdce-4d8d-9005-93222cf71e1c",
   "metadata": {},
   "source": [
    "\n",
    "5. Il grafico che avete ottenuto al punto 4 potrebbe suggerire che $X$ segua una distribuzione uniforme? Perché? Valutate o refutate questa ipotesi."
   ]
  },
  {
   "cell_type": "markdown",
   "id": "943dc91d-e2cb-44fe-aaf1-bbcc465d6113",
   "metadata": {},
   "source": [
    "Non segue un modello uniforme dal momento che le x hanno probabilità diversa cosa che non avviene nel modello uniforme data la sua equiprobabilità"
   ]
  },
  {
   "cell_type": "markdown",
   "id": "a85520e3-f3b1-43e9-8fef-a8f3440eda6f",
   "metadata": {},
   "source": [
    "6. Calcolate la varianza di $X$, esprimendola in funzione di $a$."
   ]
  },
  {
   "cell_type": "markdown",
   "id": "f08132ec-7466-4ddf-8622-be2b30bba4cb",
   "metadata": {},
   "source": [
    "## Esercizio 2\n",
    "\n",
    "In questo esercizio considereremo una popolazione $X$ la cui distribuzione è la stessa dell'omonima variabile aleatoria introdotta nell'esercizio precedente, dove $a$ rappresenterà un parametro ignoto. Per $n \\in \\mathbb{N}$ fissato, $X_1, \\ldots, X_n$ indicheranno delle variabili aleatorie che descrivono un campione estratto da $X$.\n",
    "\n",
    "1. Dimostrate che la media campionaria è uno stimatore **distorto** per il parametro $a$."
   ]
  },
  {
   "cell_type": "markdown",
   "id": "fd920db7-c044-4feb-8cab-3aab7967e3f8",
   "metadata": {},
   "source": [
    "2. Calcolate il bias e lo scarto quadratico medio di $\\overline{X}$ rispetto ad $a$, esprimendoli **solo** in funzione di $n$ e $a$."
   ]
  },
  {
   "cell_type": "markdown",
   "id": "d5c65c19-9ca4-469e-8522-e690388db17e",
   "metadata": {},
   "source": [
    "3. La media campionaria gode della proprietà di consistenza in media quadratica se la utilizziamo per stimare $a$? Motivate la vostra risposta."
   ]
  },
  {
   "cell_type": "markdown",
   "id": "9e6a47f0-8529-4875-9489-439bd38eb740",
   "metadata": {},
   "source": [
    "4. Supponete, **solo in questo punto**, che $a = 10$. Scrivete ed eseguite del codice che mostri l'andamento dello scarto quadratico medio ottenuto al punto precedente al variare di $n$."
   ]
  },
  {
   "cell_type": "markdown",
   "id": "bd3b40d0-62f3-41cc-bade-4979bb384bcc",
   "metadata": {},
   "source": [
    "5. Applicando il metodo plug-in, determinate uno stimatore $T$ che sia non distorto per $a$."
   ]
  },
  {
   "cell_type": "markdown",
   "id": "6a477de0-b5b0-44d6-9118-b452e539201e",
   "metadata": {},
   "source": [
    "6. Utilizzando il teorema centrale del limite, determinate la distribuzione approssimata dello stimatore $T$ che avete ottenuto al punto 5."
   ]
  },
  {
   "cell_type": "markdown",
   "id": "801dbc30-105c-4c68-8208-29278f25a3d5",
   "metadata": {},
   "source": [
    "7. Calcolate la probabilità dell'evento che si verifica quando l'errore (in valore assoluto) che si compie usando $T$ per stimare $a$ sia minore o uguale di 1, esprimendola in funzione di $a$, $n$ e della funzione di ripartizione della distribuzione normale standard, giustificando i vostri passaggi e indicando eventuali approssimazioni che è necessario introdurre."
   ]
  },
  {
   "cell_type": "markdown",
   "id": "79f25d3b-40c8-4562-8037-4369fba2f2cf",
   "metadata": {},
   "source": [
    "## Esercizio 3\n",
    "\n",
    "Collegatevi al sito [upload.di.unimi.it](upload.di.unimi.it), selezionate l'esame di Statistica e analisi dei dati per l'appello odierno e scaricate il file `risultati.csv`. Questo file contiene le seguenti informazioni raccolte da un ipotetico centro di formazione relativamente ai risultati che i propri studenti e le proprie studentesse hanno ottenuto nella tornata annuale di un test di idoneità organizzato a livello nazionale da un Ministero.\n",
    "\n",
    "- `matricola`: numero di matricola;\n",
    "- `genere`: genere (codificato come `F` oppure `M`);\n",
    "- `eta`: età;\n",
    "- `punteggio`: punteggio conseguito al test;\n",
    "- `tempo`: tempo necessario per terminare il test, espresso in minuti.\n",
    "\n",
    "In questo file il carattere `,` separa le colonne.\n",
    "\n",
    "1. Scrivete ed eseguite del codice che visualizzi su righe differenti il nome di ogni attributo unitamente al corrispondente numero di valori mancanti."
   ]
  },
  {
   "cell_type": "markdown",
   "id": "c2740c06-14ba-45fd-8bad-f3ee547604b3",
   "metadata": {},
   "source": [
    "2. Di che tipo è l'attributo `tempo`? Sulla base della risposta data, visualizzate la distribuzione di questo attributo, motivando la scelta dello strumento grafico utilizzato."
   ]
  },
  {
   "cell_type": "markdown",
   "id": "4bdf3746-4cfa-4975-b48d-4fec28605cd2",
   "metadata": {},
   "source": [
    "\n",
    "3. Considerate l'attributo `punteggio`, e ripetete l'analisi svolta al punto precedente, valutando se debba essere fatta nello stesso modo oppure se debba essere utilizzato uno strumento diverso."
   ]
  },
  {
   "cell_type": "markdown",
   "id": "63c64afc-08ed-4f25-ab92-84541741ecf7",
   "metadata": {},
   "source": [
    "4. Valutate l'ipotesi che vi sia una relazione tra gli attributi `punteggio` ed `eta`, specificando eventualmente il tipo e la forza della relazione determinata. Quali strumenti avete utilizzato per valutare questa ipotesi? Perché?"
   ]
  },
  {
   "cell_type": "markdown",
   "id": "e7bfdc30-b596-4173-8077-cb45959ef82d",
   "metadata": {},
   "source": [
    "5. Gli esperti del centro di formazione sospettano che l'attributo `punteggio` dovrebbe sia ben descritto da una distribuzione analoga a quella studiata nell'Esercizio 1. Scegliete uno strumento che ha senso utilizzare per validare questa ipotesi ed applicatelo, commentando i risultati ottenuti.\n"
   ]
  },
  {
   "cell_type": "markdown",
   "id": "27018902-9972-4558-ad09-c6b60b9b54df",
   "metadata": {},
   "source": [
    "## Esercizio 4\n",
    "\n",
    "I valori dell'attributo `punteggio` nel dataset considerato al punto precedente sono espressi in una scala il cui valore massimo $a$ non è stato reso noto, e il centro di formazione vuole stimare questo valore.\n",
    "\n",
    "1. Sulla base della soluzione che avete proposto per l'Esercizio 2, calcolate una stima per $a$."
   ]
  },
  {
   "cell_type": "markdown",
   "id": "e0197c0a-640a-4d5a-a3a3-3827ad45c4c8",
   "metadata": {},
   "source": [
    "2. Utilizzare il risultato dell'Esercizio 2.7 per stimare la probabilità che la stima ottenuta al punto precedente comporti un errore (in valore assoluto) minore o uguale di 1."
   ]
  },
  {
   "cell_type": "markdown",
   "id": "fb0a1070-9a25-4cfa-9568-e7cb3b02d169",
   "metadata": {},
   "source": [
    "3. Indichiamo con $X$ la variabile aleatoria che descrive il punteggio ottenuto. Il test si considera sostenuto con successo se si ottiene un punteggio superiore a 35. Calcolate la frequenza di questo evento nel dataset considerato e confrontatela con la probabilità $p = P(X > 35)$, calcolata sostituendo al parametro $a$ la corrispondente stima ottenuta nel punto 1 di questo esercizio, commentando i risultati ottenuti."
   ]
  },
  {
   "cell_type": "markdown",
   "id": "b26b54cd-2830-48d6-b011-604df2d8fc59",
   "metadata": {},
   "source": [
    "4. Ipotizzando che sussista indipendenza tra i punteggi ottenuti nel test da persone diverse che lo sostengono, supponiamo che cinque studenti o studentesse del centro svolgano il test in una stessa tornata, e indichiamo con $Y$ la variabile aleatoria che indica il numero di test superati. Dite quale distribuzione segue questa variabile aleatoria. Considerate poi gli eventi seguenti, esprimendo ognuno di essi in termini di $Y$ e calcolate la corrispondente probabilità, sostituendo al parametro $a$ la stima che avete precedentemente ottenuto:\n",
    "   1. nessuna persona supera il test;\n",
    "   2. esattamente due persone superano il test;\n",
    "   3. almeno una persona supera il test."
   ]
  },
  {
   "cell_type": "markdown",
   "id": "7ab7fba5-7205-4892-b490-7a26c03c98cb",
   "metadata": {},
   "source": [
    "\n",
    "5. Nelle stesse ipotesi del punto precedente, supponiamo che a livello nazionale vi siano 3000 persone che hanno svolto il test in una stessa giornata, e indichiamo con $Z$ la variabile aleatoria che indica il numero di test superati. Dite quale distribuzione segue $Z$. Considerate poi gli eventi seguenti, esprimete ognuno di essi in termini di $Z$ e calcolate la corrispondente probabilità, sostituendo al parametro $a$ la stima che avete precedentemente ottenuto:\n",
    "\n",
    "   1. tra il 50% e il 60% dei partecipanti superano il test;\n",
    "   2. al più il 50% dei partecipanti supera il test."
   ]
  }
 ],
 "metadata": {
  "kernelspec": {
   "display_name": "Python 3 (ipykernel)",
   "language": "python",
   "name": "python3"
  },
  "language_info": {
   "codemirror_mode": {
    "name": "ipython",
    "version": 3
   },
   "file_extension": ".py",
   "mimetype": "text/x-python",
   "name": "python",
   "nbconvert_exporter": "python",
   "pygments_lexer": "ipython3",
   "version": "3.11.4"
  }
 },
 "nbformat": 4,
 "nbformat_minor": 5
}
