{
 "cells": [
  {
   "cell_type": "code",
   "execution_count": 2,
   "id": "e8ab77af-9953-4bd0-b637-f9497813669e",
   "metadata": {},
   "outputs": [],
   "source": [
    "import numpy as np\n",
    "import pandas as pd\n",
    "import scipy.stats as st\n",
    "import statsmodels.api as sm\n",
    "import matplotlib.pyplot as plt"
   ]
  },
  {
   "cell_type": "markdown",
   "id": "0257f3e5-2454-4e17-8b11-ce10b0503d67",
   "metadata": {},
   "source": [
    "# ESERCIZIO 0"
   ]
  },
  {
   "cell_type": "markdown",
   "id": "a96889c4-133d-499a-b177-202dee6ed125",
   "metadata": {},
   "source": [
    "Il grafico della VA Y ha valore atteso maggiore dal momento che l'area della sua FDR con il piano Y è maggiore di quella generata da X"
   ]
  },
  {
   "cell_type": "markdown",
   "id": "ecbd446b-9c3f-40cd-9ae6-ba5e2d1ba89c",
   "metadata": {},
   "source": [
    "2 equivale al percentile 70% 80% di X (non si capisce bene) ed equivale al 20% circa"
   ]
  },
  {
   "cell_type": "markdown",
   "id": "3d07513a-2641-49f7-b58c-eb8fe6d4ab23",
   "metadata": {},
   "source": [
    "il cinquantesimo percentile per X è 1\n",
    "il cinqauntesimo percentile per Y è 3.qualcosa"
   ]
  },
  {
   "cell_type": "markdown",
   "id": "29040023-94e3-4318-855c-efd574849c61",
   "metadata": {},
   "source": [
    "$$F_X(5) - F_X(2) - p_X(2) = 1 - 0.7 - 0.2 = 0.1 = 10 \\%$$\n",
    "$$F_Y(5) - F_Y(2) - p_Y(2) = 0.7 - 0.2 - 0.2 = 30 \\%$$"
   ]
  },
  {
   "cell_type": "markdown",
   "id": "68bdd4ad-f041-4b55-9636-ae2845755a41",
   "metadata": {},
   "source": [
    "Mediana di Y è il valore al cinquantesimo percentile quindi circa 3\n",
    "la media invece "
   ]
  },
  {
   "cell_type": "markdown",
   "id": "853c6019-97dc-4f43-98e8-f00617e060dd",
   "metadata": {},
   "source": [
    "# ESERCIZIO 1"
   ]
  },
  {
   "cell_type": "markdown",
   "id": "e9db2035-2012-4027-9035-c0c60c803c73",
   "metadata": {},
   "source": [
    "sia $X \\sim E(\\nu)$\n",
    "1) $p_X(x) = \\nu * e ^ {-\\nu *x}$\n",
    "2) $\\sigma = \\frac{1}{\\nu}$"
   ]
  },
  {
   "cell_type": "markdown",
   "id": "827d6da4-49c8-4e57-87f9-6ba883b88a1c",
   "metadata": {},
   "source": [
    "posso stimare il valore atteso del campione $X1,...,X_n$ utilizzando la media campionaria. Tale stimatore è non distorto"
   ]
  },
  {
   "cell_type": "markdown",
   "id": "c66c9c5a-fe89-482f-9540-95ad14dc4169",
   "metadata": {},
   "source": [
    "# ESERCIZIO 2"
   ]
  },
  {
   "cell_type": "markdown",
   "id": "9b50d253-eba5-472b-80a0-06bd27d4e37c",
   "metadata": {},
   "source": [
    "# ESERCIZIO 3"
   ]
  },
  {
   "cell_type": "code",
   "execution_count": null,
   "id": "92bddfdd-d628-4ff9-bf65-626256c829db",
   "metadata": {},
   "outputs": [],
   "source": []
  }
 ],
 "metadata": {
  "kernelspec": {
   "display_name": "Python 3 (ipykernel)",
   "language": "python",
   "name": "python3"
  },
  "language_info": {
   "codemirror_mode": {
    "name": "ipython",
    "version": 3
   },
   "file_extension": ".py",
   "mimetype": "text/x-python",
   "name": "python",
   "nbconvert_exporter": "python",
   "pygments_lexer": "ipython3",
   "version": "3.11.4"
  }
 },
 "nbformat": 4,
 "nbformat_minor": 5
}
