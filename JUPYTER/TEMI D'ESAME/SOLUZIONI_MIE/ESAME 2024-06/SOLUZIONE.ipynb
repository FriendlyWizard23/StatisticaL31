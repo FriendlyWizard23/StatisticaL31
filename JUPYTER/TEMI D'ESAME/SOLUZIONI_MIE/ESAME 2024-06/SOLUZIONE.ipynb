{
 "cells": [
  {
   "cell_type": "code",
   "execution_count": 2,
   "id": "caf224bf-6757-4958-9753-29a443b64e25",
   "metadata": {},
   "outputs": [],
   "source": [
    "import numpy as np\n",
    "import pandas as pa\n",
    "import matplotlib.pyplot as plt\n",
    "import scipy.stats as st\n",
    "import math"
   ]
  },
  {
   "cell_type": "markdown",
   "id": "1286fbad-09f8-47e5-8322-56ff137f6a39",
   "metadata": {},
   "source": [
    "# Esercizio 1"
   ]
  },
  {
   "cell_type": "markdown",
   "id": "62dc2175-c0ac-4bd7-ae2a-d4283bc36063",
   "metadata": {},
   "source": [
    "$$ f(x) = \\frac{6}{a^3}(ax-x^2)\\cdot I_{[0,a]}(x)$$"
   ]
  },
  {
   "cell_type": "markdown",
   "id": "2b7b55e6-a13a-4bc7-bb9a-1342cd81fd94",
   "metadata": {},
   "source": [
    "#### Punto 1\n",
    "_Dimostrate che è una funzione di densità di probabilità per ogni valore reale $a>0$_"
   ]
  },
  {
   "cell_type": "markdown",
   "id": "a4a78e1f-750d-4fca-ae15-2d452693c9d2",
   "metadata": {},
   "source": [
    "Per dimostrare che è una funzione di densità di probabilità dobbiamo verificare che integri ad uno sul suo dominio e che sia positiva sul suo dominio."
   ]
  },
  {
   "cell_type": "markdown",
   "id": "2924241f-aac0-49d8-af75-b69027c591bf",
   "metadata": {},
   "source": [
    "Verifichiamo che integri ad uno:"
   ]
  },
  {
   "cell_type": "markdown",
   "id": "8ccfadef-a82b-425a-b4ea-941944e9cf50",
   "metadata": {},
   "source": [
    "$$ \\int_{-\\infty}^{\\infty} f(x) \\,dx $$"
   ]
  },
  {
   "cell_type": "markdown",
   "id": "127186d4-7c69-409e-8f5b-4807654c84ef",
   "metadata": {},
   "source": [
    "$$ \\int_{0}^{a} \\frac{6}{a^3}(ax-x^2)\\,dx $$"
   ]
  },
  {
   "cell_type": "markdown",
   "id": "16175c29-c281-48c0-8dbc-bd16848d51ab",
   "metadata": {},
   "source": [
    "$$ \\frac{6}{a^3}\\cdot\\int_{0}^{a} (ax-x^2)\\,dx $$"
   ]
  },
  {
   "cell_type": "markdown",
   "id": "9c324a7f-181c-48b9-989b-237ad991a323",
   "metadata": {},
   "source": [
    "$$ \\frac{6}{a^2}\\cdot\\int_{0}^{a} (x)\\,dx - \\frac{6}{a^3}\\cdot\\int_{0}^{a} (x^2)\\,dx $$"
   ]
  },
  {
   "cell_type": "markdown",
   "id": "1d521c7f-5406-4039-a2c3-9fd3e2b03c5b",
   "metadata": {},
   "source": [
    "$$ \\frac{6}{a^2}\\cdot \\left[ \\frac{x^2}{2} \\right]_{0}^a  - \\frac{6}{a^3}\\cdot \\left[ \\frac{x^3}{3} \\right]_{0}^a $$"
   ]
  },
  {
   "cell_type": "markdown",
   "id": "6cb6c2e9-9659-49b5-a4be-75243cf31286",
   "metadata": {},
   "source": [
    "$$ 3-2 = 1$$"
   ]
  },
  {
   "cell_type": "markdown",
   "id": "77066583-65cb-455e-9072-934530c17a38",
   "metadata": {},
   "source": [
    "Verifichiamo ora $f(x)>0  \\forall x \\in D_x$"
   ]
  },
  {
   "cell_type": "markdown",
   "id": "f24381ff-9fe8-4ec8-b846-6c7ede37dfb4",
   "metadata": {},
   "source": [
    "Sappiamo per certo che $\\frac{6}{a^3}$ è positivo perchè $a>0$ per vincolo.\\\n",
    "ora $ax-x^2 = x(a-x)$ ha come soluzioni $x \\geq 0$ che è sempre vera (il dominio va da zero ad a) e $x \\leq a$ che è sempre vera perchè x non può andare oltre a (sempre per il dominio) \n",
    "\n",
    "Verrificato che $f(x)$ è sempre positiva\n",
    "\n",
    "\n"
   ]
  },
  {
   "cell_type": "markdown",
   "id": "cdb78e63-6be9-4b66-8cdc-93a1d633082f",
   "metadata": {},
   "source": [
    "#### Punto 2\n",
    " _Calcolate il valore atteso di $X$ esprimendola in funzione di $a$(suggerimento: ragionando su alcune proprietà\n",
    "geometriche, potete giustificare il risultato senza fare conti)._\n"
   ]
  },
  {
   "cell_type": "markdown",
   "id": "2ebacc92-734d-41ab-9d41-6a2cf5577496",
   "metadata": {},
   "source": [
    "$$\n",
    "\\int_0^a x f(x) \\, dx\n",
    "$$\n",
    "\n",
    "$$\n",
    "\\int_0^a x \\left( \\frac{6}{a^3} (ax - x^2) \\right) \\, dx\n",
    "$$\n",
    "\n",
    "$$\n",
    "\\int_0^a \\frac{6}{a^3} x (ax - x^2) \\, dx\n",
    "$$\n",
    "\n",
    "$$\n",
    "\\int_0^a \\frac{6}{a^3} (a x^2 - x^3) \\, dx\n",
    "$$\n",
    "\n",
    "$$\n",
    "\\frac{6}{a^3} \\int_0^a (a x^2 - x^3) \\, dx\n",
    "$$\n",
    "\n",
    "$$\n",
    "\\frac{6}{a^3} \\left( a \\int_0^a x^2 \\, dx - \\int_0^a x^3 \\, dx \\right)\n",
    "$$\n",
    "\n",
    "$$\n",
    "\\int_0^a x^2 \\, dx = \\left[ \\frac{x^3}{3} \\right]_0^a = \\frac{a^3}{3}\n",
    "$$\n",
    "\n",
    "$$\n",
    "\\int_0^a x^3 \\, dx = \\left[ \\frac{x^4}{4} \\right]_0^a = \\frac{a^4}{4}\n",
    "$$\n",
    "\n",
    "$$\n",
    "\\frac{6}{a^3} \\left( a \\cdot \\frac{a^3}{3} - \\frac{a^4}{4} \\right)\n",
    "$$\n",
    "\n",
    "$$\n",
    "\\frac{6}{a^3} \\left( \\frac{a^4}{3} - \\frac{a^4}{4} \\right)\n",
    "$$\n",
    "\n",
    "$$\n",
    "\\frac{6}{a^3} \\cdot \\frac{a^4}{12}\n",
    "$$\n",
    "\n",
    "$$\n",
    "\\frac{6 a}{12} = \\frac{a}{2}\n",
    "$$\n"
   ]
  },
  {
   "cell_type": "markdown",
   "id": "cf522254-3842-41ae-9533-d1290495dc6b",
   "metadata": {},
   "source": [
    "#### Punto 3\n",
    "_Indichiamo con $F$ la funzione di ripartizione di $X$ . Ricavate la forma analitica di $F(X)$, esprimendola in\n",
    "funzione di $x$ e $a$._\n",
    "\n"
   ]
  },
  {
   "cell_type": "markdown",
   "id": "2dd3dc2d-7793-4f8b-a77a-b8ef392edc36",
   "metadata": {},
   "source": [
    "$$ F_X(x)=\\frac{6}{a^2}\\cdot\\int_{0}^{a} (x)\\,dx - \\frac{6}{a^3}\\cdot\\int_{0}^{a} (x^2)\\,dx $$"
   ]
  },
  {
   "cell_type": "markdown",
   "id": "5bf1b52d-ab1a-486c-b0e3-ea0d03d7397c",
   "metadata": {},
   "source": [
    "$$ F_X(x)\\frac{3x^2}{a^2} - \\frac{2x^3}{a^3} $$"
   ]
  },
  {
   "cell_type": "markdown",
   "id": "6550116b-2bd4-4db7-bc7f-099f8b1e7479",
   "metadata": {},
   "source": [
    "#### Punto 4\n",
    " _Supponete, solo in questo punto, che $a=\\frac{1}{2}$. Scrivete ed eseguite del codice che disegni il grafico della\n",
    "funzione $F$ definita al punto precedente._\n",
    "\n"
   ]
  },
  {
   "cell_type": "code",
   "execution_count": 5,
   "id": "2a22b6ee-761e-4708-a882-22e1c2e37378",
   "metadata": {},
   "outputs": [
    {
     "data": {
      "image/png": "[encoded data removed]",
      "text/plain": [
       "<Figure size 640x480 with 1 Axes>"
      ]
     },
     "metadata": {},
     "output_type": "display_data"
    }
   ],
   "source": [
    "def cdf(x, a):\n",
    "    if x < 0:\n",
    "        return 0\n",
    "    elif x <= a:\n",
    "        return (3 * x**2) / a**2 - (2 * x**3) / a**3\n",
    "    else:\n",
    "        return 1\n",
    "\n",
    "a = 1/2\n",
    "x_values = np.linspace(-0.1, 0.7, 30000)\n",
    "y_values = [cdf(x, a) for x in x_values]\n",
    "\n",
    "plt.plot(x_values, y_values, color='red')\n",
    "plt.xlabel('x')\n",
    "plt.ylabel('CDF')\n",
    "plt.grid(True)\n",
    "plt.show()\n"
   ]
  },
  {
   "cell_type": "markdown",
   "id": "52451e69-2ec1-4736-a2aa-186f8b44904d",
   "metadata": {},
   "source": [
    "#### Punto 5\n",
    "A primo acchito potrebbe sembrare una distribuzione normale ma non lo è. Basti pensare al fatto che la PDF è una parabola che tocca i punti 0 e a.\n",
    "In questo caso la CDF non assume la forma corretta di quella normale \n",
    "\n"
   ]
  },
  {
   "cell_type": "markdown",
   "id": "efea7bb4-cba5-469e-88ab-31ca8edef7b1",
   "metadata": {},
   "source": [
    "#### Punto 6\n",
    "_Calcolate fa varianza di $X$ esprimendola in funzione di $a$._\n",
    "\n"
   ]
  },
  {
   "cell_type": "markdown",
   "id": "61bdb802-d12e-4bb0-a1e8-5863382ee310",
   "metadata": {},
   "source": [
    "$$Var(X) = E(X^2)-E(X)^2$$\n",
    "$$\n",
    "E(X^2) = \\int_{0}^{a} x^2 f(x) \\, dx\n",
    "$$\n",
    "\n",
    "$$\n",
    "f(x) = \\frac{6}{a^3}(ax - x^2) \\cdot I_{[0,a]}(x)\n",
    "$$\n",
    "\n",
    "$$\n",
    "E(X^2) = \\int_{0}^{a} x^2 \\cdot \\frac{6}{a^3}(ax - x^2) \\, dx\n",
    "$$\n",
    "\n",
    "$$\n",
    "E(X^2) = \\frac{6}{a^3} \\int_{0}^{a} x^2 (ax - x^2) \\, dx\n",
    "$$\n",
    "\n",
    "$$\n",
    "E(X^2) = \\frac{6}{a^3} \\int_{0}^{a} (ax^3 - x^4) \\, dx\n",
    "$$\n",
    "\n",
    "$$\n",
    "E(X^2) = \\frac{6}{a^3} \\left( \\int_{0}^{a} ax^3 \\, dx - \\int_{0}^{a} x^4 \\, dx \\right)\n",
    "$$\n",
    "\n",
    "$$\n",
    "\\int_{0}^{a} ax^3 \\, dx = a \\int_{0}^{a} x^3 \\, dx = a \\left[ \\frac{x^4}{4} \\right]_{0}^{a} = a \\cdot \\frac{a^4}{4} = \\frac{a^5}{4}\n",
    "$$\n",
    "\n",
    "$$\n",
    "\\int_{0}^{a} x^4 \\, dx = \\left[ \\frac{x^5}{5} \\right]_{0}^{a} = \\frac{a^5}{5}\n",
    "$$\n",
    "\n",
    "$$\n",
    "E(X^2) = \\frac{6}{a^3} \\left( \\frac{a^5}{4} - \\frac{a^5}{5} \\right)\n",
    "$$\n",
    "\n",
    "$$\n",
    "E(X^2) = \\frac{6}{a^3} \\cdot \\frac{a^5}{20}\n",
    "$$\n",
    "\n",
    "$$\n",
    "E(X^2) = \\frac{6a^5}{20a^3}\n",
    "$$\n",
    "\n",
    "$$\n",
    "E(X^2) = \\frac{3a^2}{10}\n",
    "$$\n",
    "$$Var(X) = \\frac{3a^2}{10}-\\frac{a^2}{4} = \\frac{a^2}{20}$$"
   ]
  },
  {
   "cell_type": "markdown",
   "id": "52ea53b3-6dc5-484e-b792-6119c30bf333",
   "metadata": {},
   "source": [
    "# Esercizio 2\n",
    "_In questo esercizio considereremo una popolazione $X$ la cui distribuzione è la stessa dell'omonima variabile\n",
    "aleatoria introdotta nell'esercizio precedente, dove $a$ rappresenterà un parametro incognito. Per $n$ fissato,\n",
    "$X_1,X_n$ indicheranno delle variabili aleatorie che descrivono un campione estratto da $X$_\n"
   ]
  },
  {
   "cell_type": "code",
   "execution_count": null,
   "id": "6876ceae-efce-4873-b8a9-9ce4cea67960",
   "metadata": {},
   "outputs": [],
   "source": []
  }
 ],
 "metadata": {
  "kernelspec": {
   "display_name": "Python 3 (ipykernel)",
   "language": "python",
   "name": "python3"
  },
  "language_info": {
   "codemirror_mode": {
    "name": "ipython",
    "version": 3
   },
   "file_extension": ".py",
   "mimetype": "text/x-python",
   "name": "python",
   "nbconvert_exporter": "python",
   "pygments_lexer": "ipython3",
   "version": "3.11.4"
  }
 },
 "nbformat": 4,
 "nbformat_minor": 5
}
