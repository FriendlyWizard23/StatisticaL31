{
 "cells": [
  {
   "cell_type": "code",
   "execution_count": 170,
   "id": "f0f5fe3d-44fd-4106-a398-33231926b52f",
   "metadata": {},
   "outputs": [],
   "source": [
    "import scipy.stats as st\n",
    "import numpy as np\n",
    "import matplotlib.pyplot as plt\n",
    "import pandas as pd\n",
    "import statsmodels.api as sm"
   ]
  },
  {
   "cell_type": "markdown",
   "id": "9d1f00a3-e75f-4092-8f82-18c40a2b32e6",
   "metadata": {},
   "source": [
    "# ESERCIZIO 0"
   ]
  },
  {
   "cell_type": "markdown",
   "id": "17232bbe-99aa-4e0b-9236-b039685743aa",
   "metadata": {},
   "source": [
    "### Domanda 1"
   ]
  },
  {
   "cell_type": "markdown",
   "id": "b0cd9800-6fab-4735-afc6-0f0dcd009136",
   "metadata": {},
   "source": [
    "V.A $X$ che assume valori {-1,1}. Indichiamo con $p = \\mathbb{P}(X=1)$ "
   ]
  },
  {
   "cell_type": "markdown",
   "id": "ce1a90cf-8862-4be0-868d-420fc32c2d90",
   "metadata": {},
   "source": [
    "$\\mathbb{P}(X=-1) = 1 - \\mathbb{P}(X=1) = 1-p $"
   ]
  },
  {
   "cell_type": "markdown",
   "id": "5ece8d72-4558-459f-8a86-4853fd1a404b",
   "metadata": {},
   "source": [
    "### Domanda 2 - 3"
   ]
  },
  {
   "cell_type": "markdown",
   "id": "43cd6920-57ff-4aad-b931-b952646d46bc",
   "metadata": {},
   "source": [
    "Calcolare in funzione di $p$ il valore atteso di X1"
   ]
  },
  {
   "cell_type": "markdown",
   "id": "b13910ee-8a1b-4b17-942d-b0b78ca78a78",
   "metadata": {},
   "source": [
    "$\\mathbb{E}(X) = 1*p + -1 * (1-p)$\n",
    "\n",
    "$\\mathbb{E}(X) = p + -1 * (1-p)$\n",
    "\n",
    "$\\mathbb{E}(X) = p + -1 + p$\n",
    "\n",
    "$\\mathbb{E}(X) = 2p -1$\n",
    "\n",
    "$\\mathbb{E}(X) + 1 = 2p$\n",
    "\n",
    "$p = \\frac{\\mathbb{E}(X) + 1}{2} $"
   ]
  },
  {
   "cell_type": "markdown",
   "id": "921a1a20-25fe-48ba-a6df-a604d144ff12",
   "metadata": {},
   "source": [
    "### Domanda 4"
   ]
  },
  {
   "cell_type": "markdown",
   "id": "f41ebab8-6f5f-46ee-a934-e3eb1ce53e3e",
   "metadata": {},
   "source": [
    "Quali valori può assumere $Y=g(x)=X^2 $"
   ]
  },
  {
   "cell_type": "markdown",
   "id": "49b2df29-c2a1-45c7-a5ca-634612ec7fc4",
   "metadata": {},
   "source": [
    "$Y$ può assumere il valore 1"
   ]
  },
  {
   "cell_type": "markdown",
   "id": "3e7976c1-5734-43e6-8c61-1654ba9c0cdf",
   "metadata": {},
   "source": [
    "### Domanda 5"
   ]
  },
  {
   "cell_type": "markdown",
   "id": "3da31b07-800f-467b-bcd0-adff679ce6d4",
   "metadata": {},
   "source": [
    "$$\\mathbb{E}(Y) = 1$$\n",
    "$$\\mathbb{E}(Y) = \\mathbb{E}(X^2) = p + (1-p) = 1$$"
   ]
  },
  {
   "cell_type": "markdown",
   "id": "f32fc5dc-b542-4cdb-a095-ecaa25d4a07a",
   "metadata": {},
   "source": [
    "### Domanda 6"
   ]
  },
  {
   "cell_type": "markdown",
   "id": "75232f4f-aabc-4e91-8cc4-174f613b29fd",
   "metadata": {},
   "source": [
    "calcolare la varianza di X in funzione di P"
   ]
  },
  {
   "cell_type": "markdown",
   "id": "c9b54c72-4a84-4b4e-b6ef-444efee3fb95",
   "metadata": {},
   "source": [
    "$$Var(X) = E(X^2)-E(X)^2$$\n",
    "$$Var(X) = 1-(2p-1)^2$$\n",
    "$$Var(X) = 1-4p^2-1+4p$$\n",
    "$$Var(X) = -4p^2+4p$$"
   ]
  },
  {
   "cell_type": "markdown",
   "id": "c131e147-599b-4071-9eff-9e8aacb83f10",
   "metadata": {},
   "source": [
    "### Domanda 7"
   ]
  },
  {
   "cell_type": "markdown",
   "id": "52057b63-098b-4e68-9d13-5a53e33fbc1e",
   "metadata": {},
   "source": [
    "trasformazione di h che permetta di portare la variabile X in una bernoulliana"
   ]
  },
  {
   "cell_type": "markdown",
   "id": "4fd2f4ec-a4e9-4980-8f1f-a282f12728b9",
   "metadata": {},
   "source": [
    "$f(X) = \\frac{X+1}{2}$"
   ]
  },
  {
   "cell_type": "markdown",
   "id": "032d633a-b5e0-4b77-a4d9-a10e74637f8a",
   "metadata": {},
   "source": [
    "### Domanda 8"
   ]
  },
  {
   "cell_type": "markdown",
   "id": "83ad71e2-98bd-4846-9e15-def75d0be40b",
   "metadata": {},
   "source": [
    "fissiamo $p=0.7$"
   ]
  },
  {
   "cell_type": "markdown",
   "id": "fcb1793c-9f6a-4342-9371-3230f5a49e78",
   "metadata": {},
   "source": [
    "Z = bernoulliana\n",
    "\n",
    "X = Generica {-1,1} tale che P(X=1) = 0.7 e P(X=-1)=0.3"
   ]
  },
  {
   "cell_type": "markdown",
   "id": "36d83441-348e-466b-9972-65888397075c",
   "metadata": {},
   "source": [
    "Grafico fatto su carta, basta fare due considerazioni e si costruisce"
   ]
  },
  {
   "cell_type": "markdown",
   "id": "fdae2993-5351-4521-bd84-011b75325604",
   "metadata": {},
   "source": [
    "# ESERCIZIO 1"
   ]
  },
  {
   "cell_type": "markdown",
   "id": "0ff12b34-6bb5-46f4-aa2f-7f4baf17cc4c",
   "metadata": {},
   "source": [
    "### Domanda 1"
   ]
  },
  {
   "cell_type": "markdown",
   "id": "24392bee-20aa-4130-9df4-43fa17396967",
   "metadata": {},
   "source": [
    "Definiamo $\\overline{X}_n$ la media campionaria di $X$"
   ]
  },
  {
   "cell_type": "markdown",
   "id": "2339ab05-eb83-4aff-88ea-c847ecd419b0",
   "metadata": {},
   "source": [
    "$$\\mathbb{E}(\\overline{X}_n) = \\mathbb{E}(X) = 2p-1$$\n",
    "$$Var(\\overline{X}_n) = \\frac{1}{n}\\cdot Var(X) = \\frac{-4p^2+4p}{n}$$"
   ]
  },
  {
   "cell_type": "markdown",
   "id": "eed5c0b8-7ab7-4ef6-a54d-6f88c1946ec0",
   "metadata": {},
   "source": [
    "### Domanda 2"
   ]
  },
  {
   "attachments": {},
   "cell_type": "markdown",
   "id": "ef62d081-eaa3-4ba8-aa9c-73453d25e52c",
   "metadata": {},
   "source": [
    "$T_n = \\frac{1+\\overline{X_n}}{2}$\n",
    "\n",
    "$E(T_n) = E(\\frac{1}{2}+\\frac{\\overline{X}}{2})=$\n",
    "\n",
    "$\\frac{1}{2}E(\\overline{X})+\\frac{1}{2}= \\frac{1}{2}(2p-1)+\\frac{1}{2} = p$"
   ]
  },
  {
   "cell_type": "markdown",
   "id": "d288fe0e-b594-4c18-86a3-739a704733b8",
   "metadata": {},
   "source": [
    "Non è distorto per p. Altro modo possibile sarebbe calcolando il bias e vedere se restituisce zero"
   ]
  },
  {
   "cell_type": "markdown",
   "id": "ec9e30d0-1257-40ef-b806-6991b68e20a6",
   "metadata": {},
   "source": [
    "### Domanda 3"
   ]
  },
  {
   "cell_type": "markdown",
   "id": "91aff04d-43c1-44f7-85dc-4f288e71ba65",
   "metadata": {},
   "source": [
    "Fatto pure questo su carta, di base basta verificare calcolando a sinistra se viene uguale a destra."
   ]
  },
  {
   "cell_type": "markdown",
   "id": "be219e09-c22b-4f75-9178-040edec0750d",
   "metadata": {},
   "source": [
    "# Esercizio 4"
   ]
  },
  {
   "cell_type": "markdown",
   "id": "b4bebfff-d757-49c4-bf7d-9a94e9c2204a",
   "metadata": {},
   "source": [
    "Sia $G$ una V.A Esponenziale di parametro $\\lambda$"
   ]
  },
  {
   "cell_type": "markdown",
   "id": "f6020c4d-080e-47b9-976b-ca3eb54ba8b6",
   "metadata": {},
   "source": [
    "### Domanda 1"
   ]
  },
  {
   "cell_type": "markdown",
   "id": "cf2a0b17-79b8-4126-8a11-826e691e4800",
   "metadata": {},
   "source": [
    "$G$ può assumere valori da 0 ad infinito"
   ]
  },
  {
   "cell_type": "markdown",
   "id": "8fd306b4-b914-4e62-b63c-b6460b68c29b",
   "metadata": {},
   "source": [
    "### Domanda 2"
   ]
  },
  {
   "cell_type": "markdown",
   "id": "3fa739ce-06c9-4008-aecf-5acf77ce850b",
   "metadata": {},
   "source": [
    "$f_X(x) = \\lambda * e ^{-\\lambda*x}$"
   ]
  },
  {
   "cell_type": "markdown",
   "id": "80567131-0166-4508-8da9-09eae41a7936",
   "metadata": {},
   "source": [
    "### Domanda 3"
   ]
  },
  {
   "cell_type": "markdown",
   "id": "0f1b91ae-1e96-41f4-a2c1-574cbc7143db",
   "metadata": {},
   "source": [
    "Per $\\lambda = 0.1$ tracciare il grafico"
   ]
  },
  {
   "cell_type": "code",
   "execution_count": 144,
   "id": "9d433eb7-575c-4044-8bdb-01c1c8b9b5db",
   "metadata": {},
   "outputs": [
    {
     "data": {
      "image/png": "[encoded data removed]",
      "text/plain": [
       "<Figure size 640x480 with 1 Axes>"
      ]
     },
     "metadata": {},
     "output_type": "display_data"
    }
   ],
   "source": [
    "lamb=2\n",
    "dist=st.expon(scale=10)\n",
    "x = np.arange(0,200,0.01)\n",
    "y = np.arange(0,0.1,0.01)\n",
    "plt.plot(x,dist.pdf(x))\n",
    "plt.show()"
   ]
  },
  {
   "cell_type": "markdown",
   "id": "4bf51231-e0d9-44bd-a6b8-291e0d97018f",
   "metadata": {},
   "source": [
    "### Domanda 4"
   ]
  },
  {
   "cell_type": "markdown",
   "id": "cf90d151-df58-4376-b901-4a2d4f343a5f",
   "metadata": {},
   "source": [
    "$$  Var(X) = \\frac{1}{\\lambda}*\\frac{1}{\\lambda} = \\mathbb{E}(X)^2$$\n",
    "$$  Std(X) =  \\sqrt{\\mathbb{E}(X)^2} = \\mathbb{E}(X)$$"
   ]
  },
  {
   "cell_type": "markdown",
   "id": "2d7cfe78-ad73-4d95-b3f8-53ef08923d0b",
   "metadata": {},
   "source": [
    "### Domanda 5"
   ]
  },
  {
   "cell_type": "markdown",
   "id": "ad639bc5-f7af-4c94-8027-db2a933b5e4d",
   "metadata": {},
   "source": [
    "Grafico A ha un valore atteso maggiore poichè l'area tra Y e il grafico è maggiore."
   ]
  },
  {
   "cell_type": "markdown",
   "id": "a7b947cd-e274-48e4-862e-583b9d696aeb",
   "metadata": {},
   "source": [
    "# Esercizio 3"
   ]
  },
  {
   "cell_type": "code",
   "execution_count": 145,
   "id": "a70d3bbd-a4ed-4fd3-a60e-7229b1d183c6",
   "metadata": {},
   "outputs": [
    {
     "data": {
      "text/html": [
       "<div>\n",
       "<style scoped>\n",
       "    .dataframe tbody tr th:only-of-type {\n",
       "        vertical-align: middle;\n",
       "    }\n",
       "\n",
       "    .dataframe tbody tr th {\n",
       "        vertical-align: top;\n",
       "    }\n",
       "\n",
       "    .dataframe thead th {\n",
       "        text-align: right;\n",
       "    }\n",
       "</style>\n",
       "<table border=\"1\" class=\"dataframe\">\n",
       "  <thead>\n",
       "    <tr style=\"text-align: right;\">\n",
       "      <th></th>\n",
       "      <th>CarIdentifier</th>\n",
       "      <th>TimeFrame</th>\n",
       "      <th>RushHour</th>\n",
       "      <th>PremiumCustomer</th>\n",
       "      <th>Distance</th>\n",
       "      <th>Time</th>\n",
       "    </tr>\n",
       "  </thead>\n",
       "  <tbody>\n",
       "    <tr>\n",
       "      <th>0</th>\n",
       "      <td>102</td>\n",
       "      <td>FRAME D</td>\n",
       "      <td>1</td>\n",
       "      <td>1</td>\n",
       "      <td>3.0</td>\n",
       "      <td>7.9</td>\n",
       "    </tr>\n",
       "    <tr>\n",
       "      <th>1</th>\n",
       "      <td>103</td>\n",
       "      <td>FRAME D</td>\n",
       "      <td>1</td>\n",
       "      <td>1</td>\n",
       "      <td>5.3</td>\n",
       "      <td>13.9</td>\n",
       "    </tr>\n",
       "    <tr>\n",
       "      <th>2</th>\n",
       "      <td>105</td>\n",
       "      <td>FRAME D</td>\n",
       "      <td>1</td>\n",
       "      <td>-1</td>\n",
       "      <td>0.4</td>\n",
       "      <td>4.1</td>\n",
       "    </tr>\n",
       "    <tr>\n",
       "      <th>3</th>\n",
       "      <td>110</td>\n",
       "      <td>FRAME D</td>\n",
       "      <td>1</td>\n",
       "      <td>1</td>\n",
       "      <td>2.8</td>\n",
       "      <td>5.0</td>\n",
       "    </tr>\n",
       "    <tr>\n",
       "      <th>4</th>\n",
       "      <td>110</td>\n",
       "      <td>FRAME B</td>\n",
       "      <td>1</td>\n",
       "      <td>-1</td>\n",
       "      <td>2.7</td>\n",
       "      <td>5.6</td>\n",
       "    </tr>\n",
       "    <tr>\n",
       "      <th>...</th>\n",
       "      <td>...</td>\n",
       "      <td>...</td>\n",
       "      <td>...</td>\n",
       "      <td>...</td>\n",
       "      <td>...</td>\n",
       "      <td>...</td>\n",
       "    </tr>\n",
       "    <tr>\n",
       "      <th>387</th>\n",
       "      <td>996</td>\n",
       "      <td>FRAME C</td>\n",
       "      <td>0</td>\n",
       "      <td>-1</td>\n",
       "      <td>12.5</td>\n",
       "      <td>13.1</td>\n",
       "    </tr>\n",
       "    <tr>\n",
       "      <th>388</th>\n",
       "      <td>996</td>\n",
       "      <td>FRAME A</td>\n",
       "      <td>0</td>\n",
       "      <td>1</td>\n",
       "      <td>14.5</td>\n",
       "      <td>17.0</td>\n",
       "    </tr>\n",
       "    <tr>\n",
       "      <th>389</th>\n",
       "      <td>996</td>\n",
       "      <td>FRAME C</td>\n",
       "      <td>0</td>\n",
       "      <td>-1</td>\n",
       "      <td>9.8</td>\n",
       "      <td>17.8</td>\n",
       "    </tr>\n",
       "    <tr>\n",
       "      <th>390</th>\n",
       "      <td>997</td>\n",
       "      <td>FRAME B</td>\n",
       "      <td>1</td>\n",
       "      <td>-1</td>\n",
       "      <td>1.8</td>\n",
       "      <td>4.0</td>\n",
       "    </tr>\n",
       "    <tr>\n",
       "      <th>391</th>\n",
       "      <td>997</td>\n",
       "      <td>FRAME C</td>\n",
       "      <td>0</td>\n",
       "      <td>1</td>\n",
       "      <td>18.6</td>\n",
       "      <td>17.5</td>\n",
       "    </tr>\n",
       "  </tbody>\n",
       "</table>\n",
       "<p>392 rows × 6 columns</p>\n",
       "</div>"
      ],
      "text/plain": [
       "     CarIdentifier TimeFrame  RushHour  PremiumCustomer  Distance  Time\n",
       "0              102   FRAME D         1                1       3.0   7.9\n",
       "1              103   FRAME D         1                1       5.3  13.9\n",
       "2              105   FRAME D         1               -1       0.4   4.1\n",
       "3              110   FRAME D         1                1       2.8   5.0\n",
       "4              110   FRAME B         1               -1       2.7   5.6\n",
       "..             ...       ...       ...              ...       ...   ...\n",
       "387            996   FRAME C         0               -1      12.5  13.1\n",
       "388            996   FRAME A         0                1      14.5  17.0\n",
       "389            996   FRAME C         0               -1       9.8  17.8\n",
       "390            997   FRAME B         1               -1       1.8   4.0\n",
       "391            997   FRAME C         0                1      18.6  17.5\n",
       "\n",
       "[392 rows x 6 columns]"
      ]
     },
     "execution_count": 145,
     "metadata": {},
     "output_type": "execute_result"
    }
   ],
   "source": [
    "df = pd.read_csv(\"carsharing.csv\",sep=';',decimal=',')\n",
    "df"
   ]
  },
  {
   "cell_type": "markdown",
   "id": "c94b9217-8aff-4ce6-b9f9-892e551bcabd",
   "metadata": {},
   "source": [
    "## Gruppo 1"
   ]
  },
  {
   "cell_type": "code",
   "execution_count": 146,
   "id": "cbead11c-20b4-4f61-917e-19a324a9652e",
   "metadata": {},
   "outputs": [
    {
     "data": {
      "text/plain": [
       "392"
      ]
     },
     "execution_count": 146,
     "metadata": {},
     "output_type": "execute_result"
    }
   ],
   "source": [
    "len(df)"
   ]
  },
  {
   "cell_type": "code",
   "execution_count": 147,
   "id": "969b212a-88b9-41e4-8c60-56f646e07ae6",
   "metadata": {},
   "outputs": [
    {
     "data": {
      "text/plain": [
       "count         392\n",
       "unique          5\n",
       "top       FRAME B\n",
       "freq          123\n",
       "Name: TimeFrame, dtype: object"
      ]
     },
     "execution_count": 147,
     "metadata": {},
     "output_type": "execute_result"
    }
   ],
   "source": [
    "df['TimeFrame'].describe()"
   ]
  },
  {
   "cell_type": "markdown",
   "id": "3447ca88-7880-4b3e-851b-0e47675b3d99",
   "metadata": {},
   "source": [
    "## Gruppo 2"
   ]
  },
  {
   "cell_type": "code",
   "execution_count": 148,
   "id": "70b5687f-b273-4d67-8afa-463f7e77ec1c",
   "metadata": {},
   "outputs": [
    {
     "data": {
      "text/plain": [
       "5"
      ]
     },
     "execution_count": 148,
     "metadata": {},
     "output_type": "execute_result"
    }
   ],
   "source": [
    "len(df['TimeFrame'].unique())"
   ]
  },
  {
   "cell_type": "markdown",
   "id": "3d763bc5-ef0d-4fa3-8c94-72bf050688ba",
   "metadata": {},
   "source": [
    "Facendo il describe posso vedere che la fascia oraria con maggiori visite è la B"
   ]
  },
  {
   "cell_type": "code",
   "execution_count": 149,
   "id": "e58a5573-4862-4107-841f-823a92a8241f",
   "metadata": {},
   "outputs": [
    {
     "data": {
      "text/html": [
       "<div>\n",
       "<style scoped>\n",
       "    .dataframe tbody tr th:only-of-type {\n",
       "        vertical-align: middle;\n",
       "    }\n",
       "\n",
       "    .dataframe tbody tr th {\n",
       "        vertical-align: top;\n",
       "    }\n",
       "\n",
       "    .dataframe thead th {\n",
       "        text-align: right;\n",
       "    }\n",
       "</style>\n",
       "<table border=\"1\" class=\"dataframe\">\n",
       "  <thead>\n",
       "    <tr style=\"text-align: right;\">\n",
       "      <th>RushHour</th>\n",
       "      <th>0</th>\n",
       "      <th>1</th>\n",
       "    </tr>\n",
       "    <tr>\n",
       "      <th>TimeFrame</th>\n",
       "      <th></th>\n",
       "      <th></th>\n",
       "    </tr>\n",
       "  </thead>\n",
       "  <tbody>\n",
       "    <tr>\n",
       "      <th>FRAME A</th>\n",
       "      <td>0.119898</td>\n",
       "      <td>0.000000</td>\n",
       "    </tr>\n",
       "    <tr>\n",
       "      <th>FRAME B</th>\n",
       "      <td>0.000000</td>\n",
       "      <td>0.313776</td>\n",
       "    </tr>\n",
       "    <tr>\n",
       "      <th>FRAME C</th>\n",
       "      <td>0.272959</td>\n",
       "      <td>0.000000</td>\n",
       "    </tr>\n",
       "    <tr>\n",
       "      <th>FRAME D</th>\n",
       "      <td>0.000000</td>\n",
       "      <td>0.239796</td>\n",
       "    </tr>\n",
       "    <tr>\n",
       "      <th>FRAME E</th>\n",
       "      <td>0.053571</td>\n",
       "      <td>0.000000</td>\n",
       "    </tr>\n",
       "  </tbody>\n",
       "</table>\n",
       "</div>"
      ],
      "text/plain": [
       "RushHour          0         1\n",
       "TimeFrame                    \n",
       "FRAME A    0.119898  0.000000\n",
       "FRAME B    0.000000  0.313776\n",
       "FRAME C    0.272959  0.000000\n",
       "FRAME D    0.000000  0.239796\n",
       "FRAME E    0.053571  0.000000"
      ]
     },
     "execution_count": 149,
     "metadata": {},
     "output_type": "execute_result"
    }
   ],
   "source": [
    "abs_rel=pd.crosstab(index=df['TimeFrame'],columns=df['RushHour'], normalize=True)\n",
    "abs_rel"
   ]
  },
  {
   "cell_type": "markdown",
   "id": "e2924a15-3550-4586-900d-2a06859e2bf3",
   "metadata": {},
   "source": [
    "Frame B\n",
    "Frame D"
   ]
  },
  {
   "cell_type": "code",
   "execution_count": 150,
   "id": "a77a3985-4e2c-4abc-96ce-2bc4b57e1ca3",
   "metadata": {},
   "outputs": [
    {
     "data": {
      "text/html": [
       "<div>\n",
       "<style scoped>\n",
       "    .dataframe tbody tr th:only-of-type {\n",
       "        vertical-align: middle;\n",
       "    }\n",
       "\n",
       "    .dataframe tbody tr th {\n",
       "        vertical-align: top;\n",
       "    }\n",
       "\n",
       "    .dataframe thead th {\n",
       "        text-align: right;\n",
       "    }\n",
       "</style>\n",
       "<table border=\"1\" class=\"dataframe\">\n",
       "  <thead>\n",
       "    <tr style=\"text-align: right;\">\n",
       "      <th></th>\n",
       "      <th>CarIdentifier</th>\n",
       "      <th>TimeFrame</th>\n",
       "      <th>RushHour</th>\n",
       "      <th>PremiumCustomer</th>\n",
       "      <th>Distance</th>\n",
       "      <th>Time</th>\n",
       "    </tr>\n",
       "  </thead>\n",
       "  <tbody>\n",
       "    <tr>\n",
       "      <th>0</th>\n",
       "      <td>102</td>\n",
       "      <td>FRAME D</td>\n",
       "      <td>1</td>\n",
       "      <td>1</td>\n",
       "      <td>3.0</td>\n",
       "      <td>7.9</td>\n",
       "    </tr>\n",
       "    <tr>\n",
       "      <th>1</th>\n",
       "      <td>103</td>\n",
       "      <td>FRAME D</td>\n",
       "      <td>1</td>\n",
       "      <td>1</td>\n",
       "      <td>5.3</td>\n",
       "      <td>13.9</td>\n",
       "    </tr>\n",
       "    <tr>\n",
       "      <th>3</th>\n",
       "      <td>110</td>\n",
       "      <td>FRAME D</td>\n",
       "      <td>1</td>\n",
       "      <td>1</td>\n",
       "      <td>2.8</td>\n",
       "      <td>5.0</td>\n",
       "    </tr>\n",
       "    <tr>\n",
       "      <th>6</th>\n",
       "      <td>111</td>\n",
       "      <td>FRAME B</td>\n",
       "      <td>1</td>\n",
       "      <td>1</td>\n",
       "      <td>9.3</td>\n",
       "      <td>30.6</td>\n",
       "    </tr>\n",
       "    <tr>\n",
       "      <th>10</th>\n",
       "      <td>121</td>\n",
       "      <td>FRAME B</td>\n",
       "      <td>1</td>\n",
       "      <td>1</td>\n",
       "      <td>0.8</td>\n",
       "      <td>4.4</td>\n",
       "    </tr>\n",
       "    <tr>\n",
       "      <th>...</th>\n",
       "      <td>...</td>\n",
       "      <td>...</td>\n",
       "      <td>...</td>\n",
       "      <td>...</td>\n",
       "      <td>...</td>\n",
       "      <td>...</td>\n",
       "    </tr>\n",
       "    <tr>\n",
       "      <th>382</th>\n",
       "      <td>987</td>\n",
       "      <td>FRAME A</td>\n",
       "      <td>0</td>\n",
       "      <td>1</td>\n",
       "      <td>18.7</td>\n",
       "      <td>25.2</td>\n",
       "    </tr>\n",
       "    <tr>\n",
       "      <th>383</th>\n",
       "      <td>989</td>\n",
       "      <td>FRAME A</td>\n",
       "      <td>0</td>\n",
       "      <td>1</td>\n",
       "      <td>7.7</td>\n",
       "      <td>13.1</td>\n",
       "    </tr>\n",
       "    <tr>\n",
       "      <th>386</th>\n",
       "      <td>995</td>\n",
       "      <td>FRAME B</td>\n",
       "      <td>1</td>\n",
       "      <td>1</td>\n",
       "      <td>2.1</td>\n",
       "      <td>4.4</td>\n",
       "    </tr>\n",
       "    <tr>\n",
       "      <th>388</th>\n",
       "      <td>996</td>\n",
       "      <td>FRAME A</td>\n",
       "      <td>0</td>\n",
       "      <td>1</td>\n",
       "      <td>14.5</td>\n",
       "      <td>17.0</td>\n",
       "    </tr>\n",
       "    <tr>\n",
       "      <th>391</th>\n",
       "      <td>997</td>\n",
       "      <td>FRAME C</td>\n",
       "      <td>0</td>\n",
       "      <td>1</td>\n",
       "      <td>18.6</td>\n",
       "      <td>17.5</td>\n",
       "    </tr>\n",
       "  </tbody>\n",
       "</table>\n",
       "<p>227 rows × 6 columns</p>\n",
       "</div>"
      ],
      "text/plain": [
       "     CarIdentifier TimeFrame  RushHour  PremiumCustomer  Distance  Time\n",
       "0              102   FRAME D         1                1       3.0   7.9\n",
       "1              103   FRAME D         1                1       5.3  13.9\n",
       "3              110   FRAME D         1                1       2.8   5.0\n",
       "6              111   FRAME B         1                1       9.3  30.6\n",
       "10             121   FRAME B         1                1       0.8   4.4\n",
       "..             ...       ...       ...              ...       ...   ...\n",
       "382            987   FRAME A         0                1      18.7  25.2\n",
       "383            989   FRAME A         0                1       7.7  13.1\n",
       "386            995   FRAME B         1                1       2.1   4.4\n",
       "388            996   FRAME A         0                1      14.5  17.0\n",
       "391            997   FRAME C         0                1      18.6  17.5\n",
       "\n",
       "[227 rows x 6 columns]"
      ]
     },
     "execution_count": 150,
     "metadata": {},
     "output_type": "execute_result"
    }
   ],
   "source": [
    "premium=(df[df['PremiumCustomer']==1])\n",
    "premium"
   ]
  },
  {
   "cell_type": "markdown",
   "id": "f7f9f18c-1ba5-4f0c-b043-16c4a70d4ea8",
   "metadata": {},
   "source": [
    "## Gruppo 3"
   ]
  },
  {
   "cell_type": "code",
   "execution_count": 151,
   "id": "5a63e6a1-6ca1-4406-b77c-0140b19eddd3",
   "metadata": {},
   "outputs": [
    {
     "name": "stdout",
     "output_type": "stream",
     "text": [
      "Numero utenti premium: 227\n"
     ]
    }
   ],
   "source": [
    "print(\"Numero utenti premium: \"+str(len(premium)))"
   ]
  },
  {
   "cell_type": "code",
   "execution_count": 152,
   "id": "4c2c3613-37ac-4de1-a22d-63293290f89b",
   "metadata": {},
   "outputs": [
    {
     "name": "stdout",
     "output_type": "stream",
     "text": [
      "Distanza media utenti premium: 8.0 km \n"
     ]
    }
   ],
   "source": [
    "print(\"Distanza media utenti premium: \"+str(premium['Distance'].mean().round()) +\" km \")"
   ]
  },
  {
   "cell_type": "code",
   "execution_count": 153,
   "id": "44dcccfb-846b-48ad-8bde-310df44583f0",
   "metadata": {},
   "outputs": [
    {
     "name": "stdout",
     "output_type": "stream",
     "text": [
      "Prob Premium: 58 %\n"
     ]
    }
   ],
   "source": [
    "prob_premium =round((len(premium)/len(df))*100)\n",
    "print(\"Prob Premium: \"+str(prob_premium)+\" %\")"
   ]
  },
  {
   "cell_type": "markdown",
   "id": "d87912cf-1400-457f-9f68-6c8fb13c1a92",
   "metadata": {},
   "source": [
    "## Gruppo 4"
   ]
  },
  {
   "cell_type": "code",
   "execution_count": 154,
   "id": "4d6f22a1-697f-4b6b-a19e-7df2212ca5a6",
   "metadata": {},
   "outputs": [],
   "source": [
    "distance=df['Distance']"
   ]
  },
  {
   "cell_type": "markdown",
   "id": "b18cb3e7-bf9b-41b3-a75a-52a3d4406033",
   "metadata": {},
   "source": [
    "Distance è un carattere scalare poichè identifica una velocità sotto forma di numeri che rappresentano i km"
   ]
  },
  {
   "cell_type": "code",
   "execution_count": 155,
   "id": "3e11d836-3a86-4253-a7e1-38f4c27f12a9",
   "metadata": {},
   "outputs": [
    {
     "data": {
      "image/png": "[encoded data removed]",
      "text/plain": [
       "<Figure size 640x480 with 1 Axes>"
      ]
     },
     "metadata": {},
     "output_type": "display_data"
    }
   ],
   "source": [
    "distance.plot.box(vert=False)\n",
    "x = np.arange(0,26,2)\n",
    "plt.xticks(x)\n",
    "plt.show()"
   ]
  },
  {
   "cell_type": "markdown",
   "id": "bf44f344-4b18-4b5b-8014-43560e669086",
   "metadata": {},
   "source": [
    "Come indici di centralità penso che Moda, Mediana e media siano i piu utili per darci una idea di come sono i dati genericamente"
   ]
  },
  {
   "cell_type": "code",
   "execution_count": 156,
   "id": "b57f3534-b32a-4f4f-9440-9c31398a0324",
   "metadata": {},
   "outputs": [
    {
     "data": {
      "text/plain": [
       "5.75"
      ]
     },
     "execution_count": 156,
     "metadata": {},
     "output_type": "execute_result"
    }
   ],
   "source": [
    "distance.median()"
   ]
  },
  {
   "cell_type": "code",
   "execution_count": 157,
   "id": "ff16351c-93ad-4de3-9016-6a504ea393ed",
   "metadata": {},
   "outputs": [
    {
     "data": {
      "text/plain": [
       "7.858673469387755"
      ]
     },
     "execution_count": 157,
     "metadata": {},
     "output_type": "execute_result"
    }
   ],
   "source": [
    "distance.mean()"
   ]
  },
  {
   "cell_type": "code",
   "execution_count": 158,
   "id": "d89b52e0-cfa2-4a8f-9e46-08fbcefaebf4",
   "metadata": {},
   "outputs": [
    {
     "data": {
      "text/plain": [
       "0    0.3\n",
       "Name: Distance, dtype: float64"
      ]
     },
     "execution_count": 158,
     "metadata": {},
     "output_type": "execute_result"
    }
   ],
   "source": [
    "distance.mode()"
   ]
  },
  {
   "cell_type": "markdown",
   "id": "56e04692-5ab6-4d6c-801c-a68e99ef5677",
   "metadata": {},
   "source": [
    "Come indici di dispersione ha senso analizzare la deviazione standard"
   ]
  },
  {
   "cell_type": "code",
   "execution_count": 159,
   "id": "57a342cf-81df-4389-9e71-4976108796d3",
   "metadata": {},
   "outputs": [
    {
     "data": {
      "text/plain": [
       "6.8051226586667"
      ]
     },
     "execution_count": 159,
     "metadata": {},
     "output_type": "execute_result"
    }
   ],
   "source": [
    "distance.std()"
   ]
  },
  {
   "cell_type": "markdown",
   "id": "ff10d24e-0b22-4bec-8666-c755442cbb96",
   "metadata": {},
   "source": [
    "Per verificare se vi è relazione tra la distanza percorsa ed il tempo trascorso dobbiamo utilizzare uno scatter plot."
   ]
  },
  {
   "cell_type": "code",
   "execution_count": 160,
   "id": "8aa50e98-85dd-42c6-93f0-16f352ec2dfd",
   "metadata": {},
   "outputs": [
    {
     "data": {
      "image/png": "[encoded data removed]",
      "text/plain": [
       "<Figure size 640x480 with 1 Axes>"
      ]
     },
     "metadata": {},
     "output_type": "display_data"
    }
   ],
   "source": [
    "tempo=df['Time']\n",
    "plt.scatter(distance,tempo)\n",
    "plt.xlabel(\"Distanza\")\n",
    "plt.ylabel(\"Tempo\")\n",
    "plt.show()"
   ]
  },
  {
   "cell_type": "markdown",
   "id": "1ab11177-d84b-438f-84bd-657a7bad1854",
   "metadata": {},
   "source": [
    "La relazione che pare essere presente è una lineare diretta nonostante la strana biforcazione. Sicuramente quindi vi è qualcosa che influisce maggiormente nel tempo impiegato. Probabilmente il fattore che influisce maggiormente è la velocità. Macchine a velocità diverse impiegano tempi diversi a percorrere le stesse distanze."
   ]
  },
  {
   "cell_type": "code",
   "execution_count": 161,
   "id": "ac5e9a9d-aafb-46c7-972a-df38bddf826f",
   "metadata": {},
   "outputs": [
    {
     "data": {
      "text/plain": [
       "0.6273992247694645"
      ]
     },
     "execution_count": 161,
     "metadata": {},
     "output_type": "execute_result"
    }
   ],
   "source": [
    "distance.corr(tempo)"
   ]
  },
  {
   "cell_type": "markdown",
   "id": "a9ae148a-6b9e-4af7-952a-effd523a34e0",
   "metadata": {},
   "source": [
    "una valore della correlazione di Pearson pari a 62 ci indica che è ben probabile che vi sia una correlazione diretta tra i due caratteri proposti."
   ]
  },
  {
   "cell_type": "code",
   "execution_count": 168,
   "id": "b208be34-0f4a-4e0d-aa7d-4c6e412b80bb",
   "metadata": {},
   "outputs": [
    {
     "data": {
      "image/png": "[encoded data removed]",
      "text/plain": [
       "<Figure size 600x600 with 2 Axes>"
      ]
     },
     "metadata": {},
     "output_type": "display_data"
    }
   ],
   "source": [
    "distance_rush=df[df['RushHour']==1]['Distance']\n",
    "distance_non_rush=df[df['RushHour']==0]['Distance']\n",
    "\n",
    "# Creazione della figura con due subplot verticali\n",
    "# figsize è una tupla che determina le dimensioni della figura: (larghezza, altezza)\n",
    "fig, (ax1, ax2) = plt.subplots(2, 1, figsize=(6, 6))\n",
    "\n",
    "# Disegna il boxplot per la serie 'distance_non_rush' nel primo subplot\n",
    "distance_non_rush.plot.box(vert=False, whis=[0, 100], ax=ax1, widths=0.4)\n",
    "# Imposta un titolo per il primo subplot\n",
    "ax1.set_title('Primo Subplot')\n",
    "\n",
    "# Disegna il boxplot per la serie 'distance_rush' nel secondo subplot\n",
    "distance_rush.plot.box(vert=False, whis=[0, 100], ax=ax2, widths=0.4)\n",
    "# Imposta un titolo per il secondo subplot\n",
    "ax2.set_title('Secondo Subplot')\n",
    "\n",
    "# Nascondi l'etichetta dell'asse y per il primo subplot\n",
    "ax1.yaxis.label.set_visible(False)\n",
    "\n",
    "# Mostra il grafico\n",
    "plt.show()"
   ]
  },
  {
   "cell_type": "markdown",
   "id": "121ea5d3-fe32-4f8a-856f-24a7cb68c8e4",
   "metadata": {},
   "source": [
    "# Esercizio 5"
   ]
  },
  {
   "cell_type": "code",
   "execution_count": 176,
   "id": "b690d26e-b7e7-4e1b-a06e-a2e521ec9399",
   "metadata": {},
   "outputs": [
    {
     "data": {
      "image/png": "[encoded data removed]",
      "text/plain": [
       "<Figure size 640x480 with 1 Axes>"
      ]
     },
     "metadata": {},
     "output_type": "display_data"
    }
   ],
   "source": [
    "sm.qqplot(distance_rush,fit=True,line='45', dist=st.norm)\n",
    "plt.show()"
   ]
  },
  {
   "cell_type": "code",
   "execution_count": 178,
   "id": "8b341fa7-c5c1-40a3-b183-e8e472dcb23f",
   "metadata": {},
   "outputs": [
    {
     "data": {
      "text/plain": [
       "<Axes: ylabel='Frequency'>"
      ]
     },
     "execution_count": 178,
     "metadata": {},
     "output_type": "execute_result"
    },
    {
     "data": {
      "image/png": "[encoded data removed]",
      "text/plain": [
       "<Figure size 640x480 with 1 Axes>"
      ]
     },
     "metadata": {},
     "output_type": "display_data"
    }
   ],
   "source": [
    "distance_rush.plot.hist()"
   ]
  }
 ],
 "metadata": {
  "kernelspec": {
   "display_name": "Python 3 (ipykernel)",
   "language": "python",
   "name": "python3"
  },
  "language_info": {
   "codemirror_mode": {
    "name": "ipython",
    "version": 3
   },
   "file_extension": ".py",
   "mimetype": "text/x-python",
   "name": "python",
   "nbconvert_exporter": "python",
   "pygments_lexer": "ipython3",
   "version": "3.11.4"
  }
 },
 "nbformat": 4,
 "nbformat_minor": 5
}
