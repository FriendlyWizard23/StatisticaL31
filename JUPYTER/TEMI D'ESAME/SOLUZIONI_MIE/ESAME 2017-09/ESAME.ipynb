{
 "cells": [
  {
   "cell_type": "code",
   "execution_count": 56,
   "id": "99fc1000-e774-441d-9864-96c1958111d1",
   "metadata": {},
   "outputs": [],
   "source": [
    "import pandas as pd\n",
    "import numpy as np\n",
    "import matplotlib.pyplot as plt\n",
    "import scipy.stats as st\n",
    "import statsmodels.api as sm"
   ]
  },
  {
   "cell_type": "markdown",
   "id": "f25103c8-dd35-46cb-8b2f-2a81e1278d20",
   "metadata": {},
   "source": [
    "# ESERCIZIO 1"
   ]
  },
  {
   "cell_type": "code",
   "execution_count": 6,
   "id": "334644c3-25e7-4516-930f-26b3ba1decb2",
   "metadata": {},
   "outputs": [
    {
     "data": {
      "text/html": [
       "<div>\n",
       "<style scoped>\n",
       "    .dataframe tbody tr th:only-of-type {\n",
       "        vertical-align: middle;\n",
       "    }\n",
       "\n",
       "    .dataframe tbody tr th {\n",
       "        vertical-align: top;\n",
       "    }\n",
       "\n",
       "    .dataframe thead th {\n",
       "        text-align: right;\n",
       "    }\n",
       "</style>\n",
       "<table border=\"1\" class=\"dataframe\">\n",
       "  <thead>\n",
       "    <tr style=\"text-align: right;\">\n",
       "      <th></th>\n",
       "      <th>ParkID</th>\n",
       "      <th>PSA</th>\n",
       "      <th>Park</th>\n",
       "      <th>FQ</th>\n",
       "      <th>Score</th>\n",
       "      <th>Facility Type</th>\n",
       "      <th>Facility Name</th>\n",
       "      <th>Address</th>\n",
       "      <th>State</th>\n",
       "      <th>Zipcode</th>\n",
       "      <th>Floor Count</th>\n",
       "      <th>Square Feet</th>\n",
       "      <th>Perimeter Length</th>\n",
       "      <th>Acres</th>\n",
       "      <th>Longitude</th>\n",
       "      <th>Latitude</th>\n",
       "    </tr>\n",
       "  </thead>\n",
       "  <tbody>\n",
       "    <tr>\n",
       "      <th>0</th>\n",
       "      <td>86</td>\n",
       "      <td>PSA4</td>\n",
       "      <td>Carl Larsen Park</td>\n",
       "      <td>FY05Q3</td>\n",
       "      <td>0.795</td>\n",
       "      <td>Basketball Court</td>\n",
       "      <td>Ocean View Basketball Courts</td>\n",
       "      <td>Capitol &amp; Montana St</td>\n",
       "      <td>CA</td>\n",
       "      <td>94112.0</td>\n",
       "      <td>NaN</td>\n",
       "      <td>5572.020314</td>\n",
       "      <td>311.982228</td>\n",
       "      <td>0.127916</td>\n",
       "      <td>-122.456708</td>\n",
       "      <td>37.716335</td>\n",
       "    </tr>\n",
       "    <tr>\n",
       "      <th>1</th>\n",
       "      <td>13</td>\n",
       "      <td>PSA4</td>\n",
       "      <td>Junipero Serra Playground</td>\n",
       "      <td>FY05Q3</td>\n",
       "      <td>0.957</td>\n",
       "      <td>Ball Field</td>\n",
       "      <td>Glen ball fields</td>\n",
       "      <td>Diamond &amp; Farnum Street</td>\n",
       "      <td>CA</td>\n",
       "      <td>94131.0</td>\n",
       "      <td>NaN</td>\n",
       "      <td>124520.486259</td>\n",
       "      <td>1891.675445</td>\n",
       "      <td>2.858608</td>\n",
       "      <td>-122.440592</td>\n",
       "      <td>37.736008</td>\n",
       "    </tr>\n",
       "    <tr>\n",
       "      <th>2</th>\n",
       "      <td>9</td>\n",
       "      <td>PSA4</td>\n",
       "      <td>Rolph Nicol Playground</td>\n",
       "      <td>FY05Q3</td>\n",
       "      <td>0.864</td>\n",
       "      <td>Dog Play Area</td>\n",
       "      <td>Douglass dog play area</td>\n",
       "      <td>26th &amp; Douglass Street</td>\n",
       "      <td>CA</td>\n",
       "      <td>94114.0</td>\n",
       "      <td>NaN</td>\n",
       "      <td>70655.337234</td>\n",
       "      <td>1153.019646</td>\n",
       "      <td>1.622030</td>\n",
       "      <td>-122.438895</td>\n",
       "      <td>37.746741</td>\n",
       "    </tr>\n",
       "    <tr>\n",
       "      <th>3</th>\n",
       "      <td>117</td>\n",
       "      <td>PSA2</td>\n",
       "      <td>Alamo Square</td>\n",
       "      <td>FY05Q4</td>\n",
       "      <td>0.857</td>\n",
       "      <td>Restroom</td>\n",
       "      <td>Gilman Bathrooms</td>\n",
       "      <td>Gilman Ave &amp; Griffith</td>\n",
       "      <td>CA</td>\n",
       "      <td>94124.0</td>\n",
       "      <td>NaN</td>\n",
       "      <td>378.668603</td>\n",
       "      <td>94.257319</td>\n",
       "      <td>0.008693</td>\n",
       "      <td>-122.388772</td>\n",
       "      <td>37.717179</td>\n",
       "    </tr>\n",
       "    <tr>\n",
       "      <th>4</th>\n",
       "      <td>60</td>\n",
       "      <td>PSA6</td>\n",
       "      <td>Jose Coronado Playground</td>\n",
       "      <td>FY05Q4</td>\n",
       "      <td>0.859</td>\n",
       "      <td>Basketball Court</td>\n",
       "      <td>GGP1 Panhandle Basketball Courts</td>\n",
       "      <td>Stanyan &amp; Great Hwy</td>\n",
       "      <td>CA</td>\n",
       "      <td>94117.0</td>\n",
       "      <td>NaN</td>\n",
       "      <td>4645.553645</td>\n",
       "      <td>279.465313</td>\n",
       "      <td>0.106648</td>\n",
       "      <td>-122.448380</td>\n",
       "      <td>37.772304</td>\n",
       "    </tr>\n",
       "    <tr>\n",
       "      <th>...</th>\n",
       "      <td>...</td>\n",
       "      <td>...</td>\n",
       "      <td>...</td>\n",
       "      <td>...</td>\n",
       "      <td>...</td>\n",
       "      <td>...</td>\n",
       "      <td>...</td>\n",
       "      <td>...</td>\n",
       "      <td>...</td>\n",
       "      <td>...</td>\n",
       "      <td>...</td>\n",
       "      <td>...</td>\n",
       "      <td>...</td>\n",
       "      <td>...</td>\n",
       "      <td>...</td>\n",
       "      <td>...</td>\n",
       "    </tr>\n",
       "    <tr>\n",
       "      <th>5489</th>\n",
       "      <td>151</td>\n",
       "      <td>PSA1</td>\n",
       "      <td>Alice Marble Tennis Courts</td>\n",
       "      <td>FY14Q4</td>\n",
       "      <td>0.985</td>\n",
       "      <td>Restroom</td>\n",
       "      <td>Marina Green Bathrooms East</td>\n",
       "      <td>Marina Blvd</td>\n",
       "      <td>CA</td>\n",
       "      <td>94123.0</td>\n",
       "      <td>1.0</td>\n",
       "      <td>494.310709</td>\n",
       "      <td>93.513952</td>\n",
       "      <td>0.011348</td>\n",
       "      <td>-122.434531</td>\n",
       "      <td>37.806461</td>\n",
       "    </tr>\n",
       "    <tr>\n",
       "      <th>5490</th>\n",
       "      <td>28</td>\n",
       "      <td>PSA3</td>\n",
       "      <td>John McLaren Park</td>\n",
       "      <td>FY14Q4</td>\n",
       "      <td>0.769</td>\n",
       "      <td>Ball Field</td>\n",
       "      <td>Parkside ball fields</td>\n",
       "      <td>28th Ave &amp; Vicente</td>\n",
       "      <td>CA</td>\n",
       "      <td>94116.0</td>\n",
       "      <td>NaN</td>\n",
       "      <td>104340.628735</td>\n",
       "      <td>1513.141710</td>\n",
       "      <td>2.395341</td>\n",
       "      <td>-122.484301</td>\n",
       "      <td>37.738385</td>\n",
       "    </tr>\n",
       "    <tr>\n",
       "      <th>5491</th>\n",
       "      <td>170</td>\n",
       "      <td>PSA1</td>\n",
       "      <td>Woh Hei Yuen Park</td>\n",
       "      <td>FY14Q4</td>\n",
       "      <td>0.900</td>\n",
       "      <td>Activity Center</td>\n",
       "      <td>GGP3 County Fair Bldg</td>\n",
       "      <td>Stanyan &amp; Great Hwy</td>\n",
       "      <td>CA</td>\n",
       "      <td>94117.0</td>\n",
       "      <td>1.0</td>\n",
       "      <td>28191.724791</td>\n",
       "      <td>1359.813257</td>\n",
       "      <td>0.647196</td>\n",
       "      <td>-122.467165</td>\n",
       "      <td>37.766564</td>\n",
       "    </tr>\n",
       "    <tr>\n",
       "      <th>5492</th>\n",
       "      <td>145</td>\n",
       "      <td>PSA1</td>\n",
       "      <td>Ina Coolbrith Mini Park</td>\n",
       "      <td>FY14Q4</td>\n",
       "      <td>0.840</td>\n",
       "      <td>Restroom</td>\n",
       "      <td>Noe Valley Courts Bathrooms</td>\n",
       "      <td>24th &amp; Douglass St</td>\n",
       "      <td>CA</td>\n",
       "      <td>94114.0</td>\n",
       "      <td>1.0</td>\n",
       "      <td>391.332099</td>\n",
       "      <td>98.012448</td>\n",
       "      <td>0.008984</td>\n",
       "      <td>-122.439218</td>\n",
       "      <td>37.751485</td>\n",
       "    </tr>\n",
       "    <tr>\n",
       "      <th>5493</th>\n",
       "      <td>4</td>\n",
       "      <td>PSA5</td>\n",
       "      <td>Walter Haas Playground</td>\n",
       "      <td>FY14Q4</td>\n",
       "      <td>0.767</td>\n",
       "      <td>Ball Field</td>\n",
       "      <td>Balboa ball fields</td>\n",
       "      <td>Ocean &amp; San Jose</td>\n",
       "      <td>CA</td>\n",
       "      <td>94112.0</td>\n",
       "      <td>NaN</td>\n",
       "      <td>223812.895502</td>\n",
       "      <td>5432.156001</td>\n",
       "      <td>5.138058</td>\n",
       "      <td>-122.445324</td>\n",
       "      <td>37.724026</td>\n",
       "    </tr>\n",
       "  </tbody>\n",
       "</table>\n",
       "<p>5494 rows × 16 columns</p>\n",
       "</div>"
      ],
      "text/plain": [
       "      ParkID   PSA                        Park      FQ  Score  \\\n",
       "0         86  PSA4            Carl Larsen Park  FY05Q3  0.795   \n",
       "1         13  PSA4   Junipero Serra Playground  FY05Q3  0.957   \n",
       "2          9  PSA4      Rolph Nicol Playground  FY05Q3  0.864   \n",
       "3        117  PSA2                Alamo Square  FY05Q4  0.857   \n",
       "4         60  PSA6    Jose Coronado Playground  FY05Q4  0.859   \n",
       "...      ...   ...                         ...     ...    ...   \n",
       "5489     151  PSA1  Alice Marble Tennis Courts  FY14Q4  0.985   \n",
       "5490      28  PSA3           John McLaren Park  FY14Q4  0.769   \n",
       "5491     170  PSA1           Woh Hei Yuen Park  FY14Q4  0.900   \n",
       "5492     145  PSA1     Ina Coolbrith Mini Park  FY14Q4  0.840   \n",
       "5493       4  PSA5      Walter Haas Playground  FY14Q4  0.767   \n",
       "\n",
       "         Facility Type                     Facility Name  \\\n",
       "0     Basketball Court      Ocean View Basketball Courts   \n",
       "1           Ball Field                  Glen ball fields   \n",
       "2        Dog Play Area            Douglass dog play area   \n",
       "3             Restroom                  Gilman Bathrooms   \n",
       "4     Basketball Court  GGP1 Panhandle Basketball Courts   \n",
       "...                ...                               ...   \n",
       "5489          Restroom       Marina Green Bathrooms East   \n",
       "5490        Ball Field              Parkside ball fields   \n",
       "5491   Activity Center             GGP3 County Fair Bldg   \n",
       "5492          Restroom       Noe Valley Courts Bathrooms   \n",
       "5493        Ball Field                Balboa ball fields   \n",
       "\n",
       "                      Address State  Zipcode  Floor Count    Square Feet  \\\n",
       "0        Capitol & Montana St    CA  94112.0          NaN    5572.020314   \n",
       "1     Diamond & Farnum Street    CA  94131.0          NaN  124520.486259   \n",
       "2      26th & Douglass Street    CA  94114.0          NaN   70655.337234   \n",
       "3       Gilman Ave & Griffith    CA  94124.0          NaN     378.668603   \n",
       "4         Stanyan & Great Hwy    CA  94117.0          NaN    4645.553645   \n",
       "...                       ...   ...      ...          ...            ...   \n",
       "5489              Marina Blvd    CA  94123.0          1.0     494.310709   \n",
       "5490       28th Ave & Vicente    CA  94116.0          NaN  104340.628735   \n",
       "5491      Stanyan & Great Hwy    CA  94117.0          1.0   28191.724791   \n",
       "5492       24th & Douglass St    CA  94114.0          1.0     391.332099   \n",
       "5493         Ocean & San Jose    CA  94112.0          NaN  223812.895502   \n",
       "\n",
       "      Perimeter Length     Acres   Longitude   Latitude  \n",
       "0           311.982228  0.127916 -122.456708  37.716335  \n",
       "1          1891.675445  2.858608 -122.440592  37.736008  \n",
       "2          1153.019646  1.622030 -122.438895  37.746741  \n",
       "3            94.257319  0.008693 -122.388772  37.717179  \n",
       "4           279.465313  0.106648 -122.448380  37.772304  \n",
       "...                ...       ...         ...        ...  \n",
       "5489         93.513952  0.011348 -122.434531  37.806461  \n",
       "5490       1513.141710  2.395341 -122.484301  37.738385  \n",
       "5491       1359.813257  0.647196 -122.467165  37.766564  \n",
       "5492         98.012448  0.008984 -122.439218  37.751485  \n",
       "5493       5432.156001  5.138058 -122.445324  37.724026  \n",
       "\n",
       "[5494 rows x 16 columns]"
      ]
     },
     "execution_count": 6,
     "metadata": {},
     "output_type": "execute_result"
    }
   ],
   "source": [
    "df=pd.read_csv('SF_Park_Scores.csv',sep=',',decimal='.')\n",
    "df"
   ]
  },
  {
   "cell_type": "markdown",
   "id": "9e14be0f-59d1-4b67-acf0-19759a2d9d37",
   "metadata": {
    "jp-MarkdownHeadingCollapsed": true
   },
   "source": [
    "#### Punto 2"
   ]
  },
  {
   "cell_type": "markdown",
   "id": "9f89e254-fb4c-4871-82d9-37c5dc01323c",
   "metadata": {},
   "source": [
    "9 attributi numerici"
   ]
  },
  {
   "cell_type": "markdown",
   "id": "8e6e5c26-9698-4997-ac8a-de111d7eb46d",
   "metadata": {},
   "source": [
    "#### Punto 3"
   ]
  },
  {
   "cell_type": "code",
   "execution_count": 8,
   "id": "6c085611-d3b9-4b21-960c-8cd904d0570e",
   "metadata": {},
   "outputs": [
    {
     "data": {
      "text/plain": [
       "184"
      ]
     },
     "execution_count": 8,
     "metadata": {},
     "output_type": "execute_result"
    }
   ],
   "source": [
    "len(df['Park'].unique())"
   ]
  },
  {
   "cell_type": "markdown",
   "id": "d49579d0-995e-40bb-a8c9-6481dd22f73d",
   "metadata": {},
   "source": [
    "#### Punto 4"
   ]
  },
  {
   "cell_type": "code",
   "execution_count": 9,
   "id": "4bec4647-d11a-4e95-94c7-4c78060a63a1",
   "metadata": {},
   "outputs": [
    {
     "data": {
      "text/plain": [
       "array(['PSA4', 'PSA2', 'PSA6', 'PSA3', 'GGP', 'PSA1', 'PSA5'],\n",
       "      dtype=object)"
      ]
     },
     "execution_count": 9,
     "metadata": {},
     "output_type": "execute_result"
    }
   ],
   "source": [
    "df['PSA'].unique()"
   ]
  },
  {
   "cell_type": "code",
   "execution_count": 10,
   "id": "97153e0e-194f-43ca-8466-fea589725b86",
   "metadata": {},
   "outputs": [
    {
     "data": {
      "text/plain": [
       "7"
      ]
     },
     "execution_count": 10,
     "metadata": {},
     "output_type": "execute_result"
    }
   ],
   "source": [
    "len(df['PSA'].unique())"
   ]
  },
  {
   "cell_type": "markdown",
   "id": "f1869220-0102-4732-87bf-595217775671",
   "metadata": {},
   "source": [
    "#### Punto 5"
   ]
  },
  {
   "cell_type": "code",
   "execution_count": 57,
   "id": "feff844d-4b32-4301-9631-5b3feb54f2ea",
   "metadata": {},
   "outputs": [
    {
     "data": {
      "image/png": "[encoded data removed]",
      "text/plain": [
       "<Figure size 640x480 with 1 Axes>"
      ]
     },
     "metadata": {},
     "output_type": "display_data"
    }
   ],
   "source": [
    "dist = sm.distributions.ECDF(df.Acres.dropna())\n",
    "plt.plot(dist.x, dist.y)\n",
    "plt.show()"
   ]
  },
  {
   "cell_type": "markdown",
   "id": "92ee354f-8dc7-49f7-8b5f-debfe84c3c14",
   "metadata": {},
   "source": [
    "#### Punto 6"
   ]
  },
  {
   "cell_type": "code",
   "execution_count": 29,
   "id": "07beb0df-2be2-4b4c-a14b-b93ecda66557",
   "metadata": {},
   "outputs": [
    {
     "data": {
      "text/plain": [
       "0.09736824"
      ]
     },
     "execution_count": 29,
     "metadata": {},
     "output_type": "execute_result"
    }
   ],
   "source": [
    "df['Acres'].median()"
   ]
  },
  {
   "cell_type": "markdown",
   "id": "f1791e5a-3479-434c-b419-ea9ea33be88b",
   "metadata": {},
   "source": [
    "#### Punto 7"
   ]
  },
  {
   "cell_type": "code",
   "execution_count": 28,
   "id": "07551201-ac2a-4261-8014-643519674a91",
   "metadata": {},
   "outputs": [
    {
     "data": {
      "text/plain": [
       "0.6113715709175672"
      ]
     },
     "execution_count": 28,
     "metadata": {},
     "output_type": "execute_result"
    }
   ],
   "source": [
    "acres=df['Acres'].dropna().mean()\n",
    "acres"
   ]
  },
  {
   "cell_type": "markdown",
   "id": "ba910f3e-a6c7-47ed-a21a-09ce456aa226",
   "metadata": {},
   "source": [
    "#### Punto 8"
   ]
  },
  {
   "cell_type": "code",
   "execution_count": 33,
   "id": "626c4d99-e6d4-4dd4-90cb-20605cafdeea",
   "metadata": {},
   "outputs": [
    {
     "data": {
      "text/plain": [
       "count    4719.000000\n",
       "mean        0.611372\n",
       "std         1.449155\n",
       "min         0.004893\n",
       "25%         0.031670\n",
       "50%         0.097368\n",
       "75%         0.233998\n",
       "max        11.833001\n",
       "Name: Acres, dtype: float64"
      ]
     },
     "execution_count": 33,
     "metadata": {},
     "output_type": "execute_result"
    }
   ],
   "source": [
    "df['Acres'].describe()"
   ]
  },
  {
   "cell_type": "markdown",
   "id": "65f41806-b704-4f72-a443-5c0c5fbe9b20",
   "metadata": {},
   "source": [
    "Considerando che la media equivale a 0.61 e che la mediana equivale a 0.09 possiamo dire che vi sono alcuni parchi con una estensione notevolemnte superiore alla media (outlier) che causano questa notevole differenza tra media e mediana"
   ]
  },
  {
   "cell_type": "markdown",
   "id": "7f19b073-fa90-40a0-8185-70f647238dcd",
   "metadata": {},
   "source": [
    "#### Punto 9"
   ]
  },
  {
   "cell_type": "markdown",
   "id": "05c42c57-aab2-41b1-86a3-6fb722acf122",
   "metadata": {},
   "source": [
    "Tutti i parchi di san francisco hanno una dimensione ineriore a 50 acri"
   ]
  },
  {
   "cell_type": "markdown",
   "id": "2d363bce-6375-4f8d-874f-085cc97b0d2c",
   "metadata": {},
   "source": [
    "#### Esercizio 2"
   ]
  },
  {
   "cell_type": "markdown",
   "id": "5e853442-790d-45a6-b67c-c5c56f12e2df",
   "metadata": {},
   "source": [
    "#### Punto 1"
   ]
  },
  {
   "cell_type": "code",
   "execution_count": 45,
   "id": "0c9c02c5-7c4f-4ee3-ab92-3f69c1686bb4",
   "metadata": {},
   "outputs": [
    {
     "name": "stdout",
     "output_type": "stream",
     "text": [
      "37.75544933147065\n",
      "0.000637141392718039\n",
      "-122.44201432891077\n",
      "0.0010345732005446172\n"
     ]
    }
   ],
   "source": [
    "lat=df['Latitude']\n",
    "long=df['Longitude']\n",
    "print(lat.mean())\n",
    "print(lat.var())\n",
    "print(long.mean())\n",
    "print(long.var())"
   ]
  },
  {
   "cell_type": "markdown",
   "id": "c8da0015-94fb-4c34-bb81-4a26de0b3dcf",
   "metadata": {},
   "source": [
    "#### Punto 2"
   ]
  },
  {
   "cell_type": "markdown",
   "id": "e7df8381-370c-4f32-b986-11f5395f90a1",
   "metadata": {},
   "source": [
    "Possiamo considerare le latitudini dei parchi come delle variabili aleatorie identicamente distribuite poichè hanno stessa varianza e stesso valore atteso. \n",
    "Fatta questa considerazione, se chiamiamo queste due V.A iid A e B possiamo calcolare\n",
    "$$Var(A-B) = 2*`sigma^2$$\n",
    "e quindi dire che la Varianza stimata è 2*0.0006 ~ 0\n",
    "Stesso ragionamento possiamo applicarlo per la longitudine"
   ]
  },
  {
   "cell_type": "markdown",
   "id": "a45914b9-6b9e-4e98-9cc0-b9abf3835dcb",
   "metadata": {},
   "source": [
    "#### Punto 3"
   ]
  },
  {
   "cell_type": "code",
   "execution_count": 74,
   "id": "e67acff6-8a25-4ab6-8038-9ed6728e89e6",
   "metadata": {},
   "outputs": [
    {
     "data": {
      "image/png": "[encoded data removed]",
      "text/plain": [
       "<Figure size 640x480 with 1 Axes>"
      ]
     },
     "metadata": {},
     "output_type": "display_data"
    }
   ],
   "source": [
    "sm.qqplot(lat.dropna(), fit=True, line='45')\n",
    "plt.show()"
   ]
  },
  {
   "cell_type": "code",
   "execution_count": 71,
   "id": "f458c6a2-7fbb-4f27-94f1-a24f4849404d",
   "metadata": {},
   "outputs": [
    {
     "data": {
      "image/png": "[encoded data removed]",
      "text/plain": [
       "<Figure size 640x480 with 1 Axes>"
      ]
     },
     "metadata": {},
     "output_type": "display_data"
    }
   ],
   "source": [
    "sm.qqplot(long.dropna(),fit=True, line='45')\n",
    "plt.show()"
   ]
  },
  {
   "cell_type": "markdown",
   "id": "d2c7a4f8-7eb7-4ea6-9e2f-0a43a2ad0cdd",
   "metadata": {},
   "source": [
    "Si, segue una distribuzione normale come mostrato nei grafici"
   ]
  },
  {
   "cell_type": "markdown",
   "id": "06c8edca-53ff-4cfb-b00a-fa9dbfc689b5",
   "metadata": {},
   "source": [
    "#### Punto 4"
   ]
  },
  {
   "cell_type": "markdown",
   "id": "d8795c00-9a05-47d7-9331-8c2b3418cd3d",
   "metadata": {},
   "source": [
    "Come da esercizio 0, abbiamo che due variabili aleatorie A - B seguono un modello normale di paraemtr $(0,2\\sigma^2)$ e quindi in questo caso $(0,0)$ "
   ]
  },
  {
   "cell_type": "markdown",
   "id": "b992b0ac-5e89-4b4c-b9be-fc9953bbd906",
   "metadata": {},
   "source": [
    "#### Punto 5"
   ]
  },
  {
   "cell_type": "code",
   "execution_count": 75,
   "id": "db15b39e-6baa-40ec-b77d-6cb793935e2f",
   "metadata": {},
   "outputs": [
    {
     "data": {
      "image/png": "[encoded data removed]",
      "text/plain": [
       "<Figure size 640x480 with 1 Axes>"
      ]
     },
     "metadata": {},
     "output_type": "display_data"
    }
   ],
   "source": [
    "plt.scatter(lat,long)\n",
    "plt.show()"
   ]
  },
  {
   "cell_type": "code",
   "execution_count": 76,
   "id": "56529d8f-edd3-4b19-a99c-01ff79c9da9d",
   "metadata": {},
   "outputs": [
    {
     "data": {
      "text/plain": [
       "-0.07568466249044066"
      ]
     },
     "execution_count": 76,
     "metadata": {},
     "output_type": "execute_result"
    }
   ],
   "source": [
    "lat.corr(long)"
   ]
  },
  {
   "cell_type": "markdown",
   "id": "5d910a0b-f936-4ec9-b6f6-b810e942bc75",
   "metadata": {},
   "source": [
    "#### Punto 6"
   ]
  },
  {
   "cell_type": "markdown",
   "id": "70c26de5-ed6e-45e8-b06f-59e17d65dfae",
   "metadata": {},
   "source": [
    "il coeff. di pearson calcoalto restituisce -0.07 che è un valore molto vicino allo zero. Quando questo coefficiente assume tali valori significa che non vi è correlazione tra i due campioni analizzati."
   ]
  },
  {
   "cell_type": "markdown",
   "id": "8a8bd81a-1139-4872-94d3-6592f3654783",
   "metadata": {},
   "source": [
    "# Esercizio 3"
   ]
  },
  {
   "cell_type": "markdown",
   "id": "9ffe62ab-a8e2-4f31-a3f8-418a96a88645",
   "metadata": {},
   "source": [
    "possiamo vedere A-B come una variabile aleatoria nuova chiamata Z di paramero (0,0). Detto questo possiamo riscrivere la probabilita come $$ P(Z<0.1)$$"
   ]
  },
  {
   "cell_type": "markdown",
   "id": "6cc7db3b-94fd-4594-abaf-6f8de7d22af8",
   "metadata": {},
   "source": [
    "Sarebbe come calcolare una cdf su un valore come 0.09 dal momento che in questa disequazione non vi è il minore uguale"
   ]
  },
  {
   "cell_type": "code",
   "execution_count": 81,
   "id": "7f03540a-09b0-4282-b232-c6287fd5fced",
   "metadata": {},
   "outputs": [
    {
     "data": {
      "text/plain": [
       "nan"
      ]
     },
     "execution_count": 81,
     "metadata": {},
     "output_type": "execute_result"
    }
   ],
   "source": [
    "dist=st.norm(0,0)\n",
    "dist.cdf(0.1)"
   ]
  }
 ],
 "metadata": {
  "kernelspec": {
   "display_name": "Python 3 (ipykernel)",
   "language": "python",
   "name": "python3"
  },
  "language_info": {
   "codemirror_mode": {
    "name": "ipython",
    "version": 3
   },
   "file_extension": ".py",
   "mimetype": "text/x-python",
   "name": "python",
   "nbconvert_exporter": "python",
   "pygments_lexer": "ipython3",
   "version": "3.11.4"
  }
 },
 "nbformat": 4,
 "nbformat_minor": 5
}
