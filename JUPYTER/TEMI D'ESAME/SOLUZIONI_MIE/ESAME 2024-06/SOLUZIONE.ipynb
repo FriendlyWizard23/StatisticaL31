{
 "cells": [
  {
   "cell_type": "markdown",
   "id": "1286fbad-09f8-47e5-8322-56ff137f6a39",
   "metadata": {},
   "source": [
    "# Esercizio 1"
   ]
  },
  {
   "cell_type": "markdown",
   "id": "62dc2175-c0ac-4bd7-ae2a-d4283bc36063",
   "metadata": {},
   "source": [
    "$$ f(x) = \\frac{6}{a^3}(ax-x^2)\\cdot I_{[0,a]}(x)$$"
   ]
  },
  {
   "cell_type": "markdown",
   "id": "2b7b55e6-a13a-4bc7-bb9a-1342cd81fd94",
   "metadata": {},
   "source": [
    "#### Punto 1\n",
    "Dimostrate che è una funzione di densità di probabilità per ogni valore reale $a>0$"
   ]
  },
  {
   "cell_type": "markdown",
   "id": "a4a78e1f-750d-4fca-ae15-2d452693c9d2",
   "metadata": {},
   "source": [
    "Per dimostrare che è una funzione di densità di probabilità dobbiamo verificare che integri ad uno su $-\\inf$ e $+\\inf$"
   ]
  },
  {
   "cell_type": "markdown",
   "id": "8ccfadef-a82b-425a-b4ea-941944e9cf50",
   "metadata": {},
   "source": [
    "$$ \\int_{-\\infty}^{\\infty} f(x) \\,dx $$"
   ]
  },
  {
   "cell_type": "markdown",
   "id": "127186d4-7c69-409e-8f5b-4807654c84ef",
   "metadata": {},
   "source": [
    "$$ \\int_{0}^{a} \\frac{6}{a^3}(ax-x^2)\\,dx $$"
   ]
  },
  {
   "cell_type": "markdown",
   "id": "16175c29-c281-48c0-8dbc-bd16848d51ab",
   "metadata": {},
   "source": [
    "$$ \\frac{6}{a^3}\\cdot\\int_{0}^{a} (ax-x^2)\\,dx $$"
   ]
  },
  {
   "cell_type": "markdown",
   "id": "9c324a7f-181c-48b9-989b-237ad991a323",
   "metadata": {},
   "source": [
    "$$ \\frac{6}{a^2}\\cdot\\int_{0}^{a} (x)\\,dx - \\frac{6}{a^3}\\cdot\\int_{0}^{a} (x^2)\\,dx $$"
   ]
  },
  {
   "cell_type": "markdown",
   "id": "1d521c7f-5406-4039-a2c3-9fd3e2b03c5b",
   "metadata": {},
   "source": [
    "$$ \\frac{6}{a^2}\\cdot \\left[ \\frac{x^2}{2} \\right]_{0}^a  - \\frac{6}{a^3}\\cdot \\left[ \\frac{x^3}{3} \\right]_{0}^a $$"
   ]
  },
  {
   "cell_type": "markdown",
   "id": "6cb6c2e9-9659-49b5-a4be-75243cf31286",
   "metadata": {},
   "source": [
    "$$ 3-2 = 1$$"
   ]
  },
  {
   "cell_type": "markdown",
   "id": "cdb78e63-6be9-4b66-8cdc-93a1d633082f",
   "metadata": {},
   "source": [
    "#### Punto 2\n",
    " Calcolate il valore atteso di $X$ esprimendola in funzione di $a$(suggerimento: ragionando su alcune proprietà\n",
    "geometriche, potete giustificare il risultato senza fare conti).\n"
   ]
  },
  {
   "cell_type": "markdown",
   "id": "2ebacc92-734d-41ab-9d41-6a2cf5577496",
   "metadata": {},
   "source": [
    "$$\n",
    "\\int_0^a x f(x) \\, dx\n",
    "$$\n",
    "\n",
    "$$\n",
    "\\int_0^a x \\left( \\frac{6}{a^3} (ax - x^2) \\right) \\, dx\n",
    "$$\n",
    "\n",
    "$$\n",
    "\\int_0^a \\frac{6}{a^3} x (ax - x^2) \\, dx\n",
    "$$\n",
    "\n",
    "$$\n",
    "\\int_0^a \\frac{6}{a^3} (a x^2 - x^3) \\, dx\n",
    "$$\n",
    "\n",
    "$$\n",
    "\\frac{6}{a^3} \\int_0^a (a x^2 - x^3) \\, dx\n",
    "$$\n",
    "\n",
    "$$\n",
    "\\frac{6}{a^3} \\left( a \\int_0^a x^2 \\, dx - \\int_0^a x^3 \\, dx \\right)\n",
    "$$\n",
    "\n",
    "$$\n",
    "\\int_0^a x^2 \\, dx = \\left[ \\frac{x^3}{3} \\right]_0^a = \\frac{a^3}{3}\n",
    "$$\n",
    "\n",
    "$$\n",
    "\\int_0^a x^3 \\, dx = \\left[ \\frac{x^4}{4} \\right]_0^a = \\frac{a^4}{4}\n",
    "$$\n",
    "\n",
    "$$\n",
    "\\frac{6}{a^3} \\left( a \\cdot \\frac{a^3}{3} - \\frac{a^4}{4} \\right)\n",
    "$$\n",
    "\n",
    "$$\n",
    "\\frac{6}{a^3} \\left( \\frac{a^4}{3} - \\frac{a^4}{4} \\right)\n",
    "$$\n",
    "\n",
    "$$\n",
    "\\frac{6}{a^3} \\cdot \\frac{a^4}{12}\n",
    "$$\n",
    "\n",
    "$$\n",
    "\\frac{6 a}{12} = \\frac{a}{2}\n",
    "$$\n"
   ]
  },
  {
   "cell_type": "markdown",
   "id": "cf522254-3842-41ae-9533-d1290495dc6b",
   "metadata": {},
   "source": [
    "#### Punto 3\n",
    "Indichiamo con $F$ la funzione di ripartizione di $X$ . Ricavate la forma analitica di $F(X)$, esprimendola in\n",
    "funzione di $x$ e $a$.\n",
    "\n"
   ]
  },
  {
   "cell_type": "code",
   "execution_count": null,
   "id": "0585f0d7-7940-4883-810d-a0f95166bf60",
   "metadata": {},
   "outputs": [],
   "source": []
  },
  {
   "cell_type": "code",
   "execution_count": null,
   "id": "a85bf9f8-c017-475d-969b-4d61332d2a6a",
   "metadata": {},
   "outputs": [],
   "source": []
  }
 ],
 "metadata": {
  "kernelspec": {
   "display_name": "Python 3 (ipykernel)",
   "language": "python",
   "name": "python3"
  },
  "language_info": {
   "codemirror_mode": {
    "name": "ipython",
    "version": 3
   },
   "file_extension": ".py",
   "mimetype": "text/x-python",
   "name": "python",
   "nbconvert_exporter": "python",
   "pygments_lexer": "ipython3",
   "version": "3.11.4"
  }
 },
 "nbformat": 4,
 "nbformat_minor": 5
}
